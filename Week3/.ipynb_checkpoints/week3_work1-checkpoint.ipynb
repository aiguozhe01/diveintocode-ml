{
 "cells": [
  {
   "cell_type": "markdown",
   "metadata": {},
   "source": [
    "## 【問題1】コンペティション内容の把握\n",
    "\n",
    "コンペティションのOverviewページ読み、「Home Credit Default Risk」はどのようなコンペティションか、以下の観点からレポートしてください。\n",
    "\n",
    "1. Home Creditはどのような企業？\n",
    "2. このコンペティションでは何を予測する？\n",
    "3. それを予測することで企業が得られるメリットは何？"
   ]
  },
  {
   "cell_type": "markdown",
   "metadata": {},
   "source": [
    "## 【解答】\n",
    "\n",
    "1. Home Creditはどのような企業？\n",
    "    低所得者（高リスク）向けの貸金業者\n",
    "\n",
    "2. このコンペティションでは何を予測する？\n",
    "    "
   ]
  }
 ],
 "metadata": {
  "kernelspec": {
   "display_name": "Python 3",
   "language": "python",
   "name": "python3"
  },
  "language_info": {
   "codemirror_mode": {
    "name": "ipython",
    "version": 3
   },
   "file_extension": ".py",
   "mimetype": "text/x-python",
   "name": "python",
   "nbconvert_exporter": "python",
   "pygments_lexer": "ipython3",
   "version": "3.7.7"
  }
 },
 "nbformat": 4,
 "nbformat_minor": 4
}
