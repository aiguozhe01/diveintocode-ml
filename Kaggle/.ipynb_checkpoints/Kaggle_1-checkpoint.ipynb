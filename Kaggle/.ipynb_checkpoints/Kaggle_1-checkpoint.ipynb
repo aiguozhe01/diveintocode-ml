{
 "cells": [
  {
   "cell_type": "markdown",
   "metadata": {},
   "source": [
    "# Kaggle - CareerCon 2019\n",
    "url: https://www.kaggle.com/c/career-con-2019\n",
    "\n",
    "### ロボットの走行を支援せよ！\n",
    "\n",
    "## 【主旨】\n",
    "ロボットの安全な走行のため、現在地の床を予測し、あらゆる地形上で、適正な走行制御を行えるようにしたい。\n",
    "\n",
    "コンペ開始日：March 13, 2019\n",
    "コンペ最終日：April 11, 2019\n",
    "スポンサー：Kaggle\n",
    "賞品：Kaggle社からの何かイイ品（注；当コンペでは優勝経歴には反映しない）\n",
    "\n",
    "### 目的変数：\n",
    "* series_id：計測回数\n",
    "    * 説明変数と関連\n",
    "* group_id：学習用の計測集\n",
    "    * 交差検証用\n",
    "* 9種類の床\n",
    "    * コンクリート\n",
    "    * 舗装コンクリート\n",
    "    * タイル\n",
    "    * 柔らかいタイル\n",
    "    * 堅いタイル\n",
    "    * 堅いタイル（大）\n",
    "    * 柔らかいpvc\n",
    "    * 木製\n",
    "    * カーペット\n",
    "\n",
    "### 説明変数：センサーで計測した速度や加速度（合計14カラム）\n",
    "\n",
    "* row_id：行番号\n",
    "* measurement_number：計測番号\n",
    "* series_id：計測回数\n",
    "    * 目的変数と関連\n",
    "    * 0, 1, 2\n",
    "    * 1回の計測に128個の特徴量（3ラベル毎）\n",
    "    * test: 3815回\n",
    "    * train: 3809回\n",
    "* 10種類の特徴量\n",
    "    * 四元数（3次元空間においての回転）\n",
    "        1. X方向\n",
    "        2. Y方向\n",
    "        3. Z方向\n",
    "        4. W方向\n",
    "    * 3次元方向による速度\n",
    "        5. X方向\n",
    "        6. Y方向\n",
    "        7. Z方向\n",
    "    * 3次元方向による加速度\n",
    "        8. X方向\n",
    "        9. Y方向\n",
    "        10. Z方向            "
   ]
  },
  {
   "cell_type": "markdown",
   "metadata": {},
   "source": [
    "# 1. データ確認\n",
    "# 2. "
   ]
  },
  {
   "cell_type": "code",
   "execution_count": 6,
   "metadata": {},
   "outputs": [],
   "source": [
    "import pandas as pd\n",
    "import matplotlib.pyplot as plt"
   ]
  },
  {
   "cell_type": "code",
   "execution_count": null,
   "metadata": {},
   "outputs": [],
   "source": [
    "fig, ax = plt.subplots(1,1,figsize=(26,8))\n",
    "tmp = pd.DataFrame(target.groupby(['group_id', 'surface'])['series_id'].count().reset_index())\n",
    "m = tmp.pivot(index='surface', columns='group_id', values='series_id')\n",
    "s = sns.heatmap(m, linewidths=.1, linecolor='black', annot=True, cmap=\"YlGnBu\")\n",
    "s.set_title('Number of surface category per group_id', size=16)\n",
    "plt.show()"
   ]
  },
  {
   "cell_type": "code",
   "execution_count": null,
   "metadata": {},
   "outputs": [],
   "source": []
  }
 ],
 "metadata": {
  "kernelspec": {
   "display_name": "Python 3",
   "language": "python",
   "name": "python3"
  },
  "language_info": {
   "codemirror_mode": {
    "name": "ipython",
    "version": 3
   },
   "file_extension": ".py",
   "mimetype": "text/x-python",
   "name": "python",
   "nbconvert_exporter": "python",
   "pygments_lexer": "ipython3",
   "version": "3.7.7"
  }
 },
 "nbformat": 4,
 "nbformat_minor": 4
}
