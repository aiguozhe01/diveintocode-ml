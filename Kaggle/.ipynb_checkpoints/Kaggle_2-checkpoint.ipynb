{
 "cells": [
  {
   "cell_type": "markdown",
   "metadata": {},
   "source": [
    "# Sign Language digits data set\n",
    "\n",
    "* 2062 images\n",
    "* digits are from 0 to 9, therefore 10 unique sign.\n",
    "    * At the beginning, we will use only sign 0 and 1 for simplicity.\n",
    "        * sign zero: indexes 204-408, Number of zero sign is 205\n",
    "        * sign one: indexes 822-1027, Number of one sign is 206\n",
    "            * We will use 205 samples from each classes(labels)\n",
    "            * for deep learning, 205 samples are very very little.\n",
    "            "
   ]
  },
  {
   "cell_type": "markdown",
   "metadata": {},
   "source": [
    "## EDA\n",
    "* X-array: image array (zero and one signs)\n",
    "* Y-array: label array (0 and 1)\n",
    "\n",
    "\n",
    "1. concatenate zero sign and one sign arrays\n",
    "2. labeling array 0 for zero sign, 1 for one sign images\n",
    "\n",
    "X_shape: 410 images, 64 * 64 pixels\n",
    "Y_shape: 410 labels of 0 and 1\n",
    "\n",
    "3. split X and Y into train and test sets.\n",
    "    * test_size: 15%\n",
    "    * train_size: 75%\n",
    "    * random_state: 42\n",
    "4. Flatten (3D -> 2D) X_array (images) for the deep learning input.\n",
    "5. label array (Y) is already 2D.\n",
    "6. Transpose both X and Y"
   ]
  },
  {
   "cell_type": "markdown",
   "metadata": {},
   "source": [
    "## Logistic Regression\n",
    "\n",
    "* For binary classification, logistic regression (simple deep learning)\n",
    "* Computation Graph（計算グラフ）: visualization mathmatical expressions \n",
    "    * for logistic regression\n",
    "        * Parameters: weight, bias\n",
    "            * Weights: coefficients of each pixels\n",
    "            * Bias: intercept\n",
    "        * z = b + px1w1...\n",
    "        * y_head = sigmoid(z)\n",
    "            * Sigmoid function makes z between zero and one in probability.\n",
    "                * Why using sigmoid?\n",
    "                    * To get a probabilistic result.\n",
    "                    * It is derivative and needed for gradient descent algorithm.\n",
    "                    "
   ]
  },
  {
   "cell_type": "markdown",
   "metadata": {},
   "source": [
    "### Initializing parameters\n",
    "\n",
    "* input: images (4096 pixels)\n",
    "    * Each pixels have own weights.\n",
    "\n",
    "1. Multiplying each pixels with their own weights.\n",
    "2. Initial weight: 0.01 (for now)\n",
    "    * weight.shape: (4096, 1)\n",
    "    * Because weight is given for each pixels.\n",
    "3. Initial bias: 0"
   ]
  },
  {
   "cell_type": "code",
   "execution_count": 3,
   "metadata": {},
   "outputs": [],
   "source": [
    "import numpy as np"
   ]
  },
  {
   "cell_type": "code",
   "execution_count": 1,
   "metadata": {},
   "outputs": [],
   "source": [
    "# lets initialize parameters\n",
    "# So what we need is dimension 4096 that is number of pixels as a parameter for our initialize method(def)\n",
    "def initialize_weights_and_bias(dimension):\n",
    "    w = np.full((dimension,1),0.01)\n",
    "    b = 0.0\n",
    "    return w, b"
   ]
  },
  {
   "cell_type": "code",
   "execution_count": 4,
   "metadata": {},
   "outputs": [],
   "source": [
    "w, b = initialize_weights_and_bias(4096)"
   ]
  },
  {
   "cell_type": "markdown",
   "metadata": {},
   "source": [
    "### Foward Propagation\n",
    "\n",
    "1. z = (w.T)x + b\n",
    "    * x: pixel array\n",
    "    * w: weights\n",
    "    * b: bias\n",
    "2. Put z in sigmoid function\n",
    "    * Returns y_head(probability)\n",
    "3. Calculate loss(error) function.\n",
    "4. \"Cost function is summation of all loss(error)\" <-- !!!"
   ]
  },
  {
   "cell_type": "code",
   "execution_count": 5,
   "metadata": {},
   "outputs": [],
   "source": [
    "# calculation of z\n",
    "#z = np.dot(w.T,x_train)+b\n",
    "def sigmoid(z):\n",
    "    y_head = 1/(1+np.exp(-z))\n",
    "    return y_head"
   ]
  },
  {
   "cell_type": "code",
   "execution_count": 6,
   "metadata": {},
   "outputs": [
    {
     "data": {
      "text/plain": [
       "0.5"
      ]
     },
     "execution_count": 6,
     "metadata": {},
     "output_type": "execute_result"
    }
   ],
   "source": [
    "y_head = sigmoid(0)\n",
    "y_head"
   ]
  },
  {
   "cell_type": "markdown",
   "metadata": {},
   "source": [
    "### Foward Propagation (What is loss(error) function)\n",
    "\n",
    "* "
   ]
  },
  {
   "cell_type": "code",
   "execution_count": null,
   "metadata": {},
   "outputs": [],
   "source": []
  }
 ],
 "metadata": {
  "kernelspec": {
   "display_name": "Python 3",
   "language": "python",
   "name": "python3"
  },
  "language_info": {
   "codemirror_mode": {
    "name": "ipython",
    "version": 3
   },
   "file_extension": ".py",
   "mimetype": "text/x-python",
   "name": "python",
   "nbconvert_exporter": "python",
   "pygments_lexer": "ipython3",
   "version": "3.7.7"
  },
  "toc": {
   "base_numbering": 1,
   "nav_menu": {},
   "number_sections": true,
   "sideBar": true,
   "skip_h1_title": false,
   "title_cell": "Table of Contents",
   "title_sidebar": "Contents",
   "toc_cell": false,
   "toc_position": {},
   "toc_section_display": true,
   "toc_window_display": false
  }
 },
 "nbformat": 4,
 "nbformat_minor": 4
}
