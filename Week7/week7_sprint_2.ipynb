{
 "cells": [
  {
   "cell_type": "markdown",
   "metadata": {},
   "source": [
    "# Sprint 機械学習スクラッチ 決定木"
   ]
  },
  {
   "cell_type": "markdown",
   "metadata": {},
   "source": [
    "## 【考察】\n",
    "\n",
    "* どう決定木は作られていくか。\n",
    "* 以下の条件次第で、木の構成は変わる。\n",
    "    * 学習方法\n",
    "    * ハイパーパラメータ\n",
    "    * 訓練データ\n",
    "\n",
    "* 今回の決定木は量的変数のみに特化する。\n",
    "    * カテゴリ変数には「0と1」で代用する。\n",
    "    \n"
   ]
  },
  {
   "cell_type": "code",
   "execution_count": 2,
   "metadata": {},
   "outputs": [],
   "source": [
    "import numpy as np\n"
   ]
  },
  {
   "cell_type": "code",
   "execution_count": 1,
   "metadata": {},
   "outputs": [],
   "source": [
    "class ScratchDecesionTreeClassifierDepth1():\n",
    "    \"\"\"\n",
    "    深さ1の決定木分類器のスクラッチ実装\n",
    "\n",
    "    Parameters\n",
    "    ----------\n",
    "    verbose : bool\n",
    "      学習過程を出力する場合はTrue\n",
    "    \"\"\"\n",
    "    def __init__(self, verbose=False):\n",
    "        # ハイパーパラメータを属性として記録\n",
    "        self.verbose = verbose\n",
    "    def fit(self, X, y):\n",
    "        \"\"\"\n",
    "        決定木分類器を学習する\n",
    "        Parameters\n",
    "        ----------\n",
    "        X : 次の形のndarray, shape (n_samples, n_features)\n",
    "            訓練データの特徴量\n",
    "        y : 次の形のndarray, shape (n_samples, )\n",
    "            訓練データの正解値\n",
    "        \"\"\"\n",
    "        if self.verbose:\n",
    "            #verboseをTrueにした際は学習過程を出力\n",
    "            print()\n",
    "        pass\n",
    "    def predict(self, X):\n",
    "        \"\"\"\n",
    "        決定木分類器を使いラベルを推定する\n",
    "        \"\"\"\n",
    "        pass\n",
    "        return"
   ]
  },
  {
   "cell_type": "markdown",
   "metadata": {},
   "source": [
    "## 【問題1】不純度を求める関数（CART式）\n",
    "\n",
    "### ノードのジニ不純度を計算する関数を作成してください\n",
    "\n",
    "* ジニ不純度とは、そのノードでのサンプルのクラスの異なりが同程度存在する確率。\n",
    "    * 確率が高いとノード内のサンプルが全て、異なるクラスに属している。\n",
    "        * データが半々なのは悪い分類\n",
    "    * 確率が低いとノード内のサンプルが全て、同じクラスに属している。\n",
    "    * ベルヌーイ分布における、全てのクラスの分散の和に相当する。\n",
    "* ノード内の不純度を最大限減らす（ジニ不純度が低い）素性と閾値の組を選ぶために、ジニ不純度を用いる。\n",
    "* 不純度が最も低ければジニ不純度の値は0、不純度が高くなればなるほどジニ不純度の値が1に漸近する。（[参照先url](https://qiita.com/3000manJPY/items/ef7495960f472ec14377)）\n",
    "* 最終的に情報利得Δgainで算出する。\n",
    "    * 利得が高い特徴と閾値ほど、不純度を最大限減らせる。\n",
    "    \n",
    "\n",
    "\n",
    "1. ジニ係数を算出する関数を構築する。\n",
    "2. ジニ係数を用い、情報利得を算出する関数を構築する。\n"
   ]
  },
  {
   "cell_type": "code",
   "execution_count": 86,
   "metadata": {},
   "outputs": [],
   "source": [
    "def gini_coef(*args):\n",
    "    \"\"\"\"\"\n",
    "    \n",
    "    \"\"\"\"\"\n",
    "    sample_all = sum(args)\n",
    "    gini_coef_answer = 0\n",
    "    for i in range(len(args)):\n",
    "        gini_coef_answer += np.power(args[i]/sample_all, 2)\n",
    "    return 1 - gini_coef_answer"
   ]
  },
  {
   "cell_type": "code",
   "execution_count": 88,
   "metadata": {},
   "outputs": [
    {
     "name": "stdout",
     "output_type": "stream",
     "text": [
      "例題1のジニ不純度: 0.5\n",
      "\n",
      "例題2のジニ不純度: 0.67\n",
      "\n",
      "例題3のジニ不純度: 0.48\n",
      "\n",
      "例題4のジニ不純度: 0.0\n"
     ]
    }
   ],
   "source": [
    "# クラス1:サンプル数15, クラス2:サンプル数15 → ジニ不純度0.500\n",
    "print(f'例題1のジニ不純度: {gini_coef(15, 15)}')\n",
    "print()\n",
    "# クラス1:サンプル数15, クラス2:サンプル数15, クラス3:サンプル数15 → ジニ不純度0.667\n",
    "print(f'例題2のジニ不純度: {gini_coef(15, 15, 15) :.2f}')\n",
    "print()\n",
    "# クラス1:サンプル数18, クラス2:サンプル数12 → ジニ不純度0.480\n",
    "print(f'例題3のジニ不純度: {gini_coef(18, 12)}')\n",
    "print()\n",
    "# クラス1:サンプル数30, クラス2:サンプル数0 → ジニ不純度0.000\n",
    "print(f'例題4のジニ不純度: {gini_coef(30, 0)}')"
   ]
  },
  {
   "cell_type": "markdown",
   "metadata": {},
   "source": [
    "## 【問題2】情報利得を求める関数\n",
    "\n",
    "* 問題1で算出した確率はジニ不純度（ジニ係数）$I(t)$をroot_node $I(p)$として用いる。\n",
    "* 左右各ノードのサンプル数を引数として情報利得を算出する。"
   ]
  },
  {
   "cell_type": "code",
   "execution_count": 109,
   "metadata": {},
   "outputs": [],
   "source": [
    "def info_gain(left_node_1, left_node_2, right_node_1, right_node_2):\n",
    "    sample_all_list = [left_node_1, left_node_2, right_node_1, right_node_2]\n",
    "    sample_all = sum(sample_all_list)\n",
    "    left_all = np.add(left_node_1, left_node_2)\n",
    "    right_all = np.add(right_node_1, right_node_2)\n",
    "    root_node = [left_all, right_all]\n",
    "    \n",
    "    gini_coef_answer = 0\n",
    "    for i in range(1):\n",
    "        gini_coef_answer += np.power(root_node[i]/sample_all, 2)\n",
    "    gini_coef = 1 - gini_coef_answer\n",
    "    \n",
    "    left_node = 1 - ((np.power(left_node_1/left_all), 2) + (np.power(left_node_2/left_all), 2))\n",
    "    right_node = 1 - ((np.power(right_node_1/left_all), 2) + (np.power(right_node_2/left_all), 2))\n",
    "    gain = gini_coef - left_node - right_node\n",
    "    return gain"
   ]
  },
  {
   "cell_type": "code",
   "execution_count": 110,
   "metadata": {},
   "outputs": [
    {
     "ename": "ValueError",
     "evalue": "invalid number of arguments",
     "output_type": "error",
     "traceback": [
      "\u001b[1;31m---------------------------------------------------------------------------\u001b[0m",
      "\u001b[1;31mValueError\u001b[0m                                Traceback (most recent call last)",
      "\u001b[1;32m<ipython-input-110-d50ba9f50164>\u001b[0m in \u001b[0;36m<module>\u001b[1;34m\u001b[0m\n\u001b[1;32m----> 1\u001b[1;33m \u001b[0minfo_gain\u001b[0m\u001b[1;33m(\u001b[0m\u001b[1;36m10\u001b[0m\u001b[1;33m,\u001b[0m \u001b[1;36m30\u001b[0m\u001b[1;33m,\u001b[0m \u001b[1;36m20\u001b[0m\u001b[1;33m,\u001b[0m \u001b[1;36m5\u001b[0m\u001b[1;33m)\u001b[0m\u001b[1;33m\u001b[0m\u001b[1;33m\u001b[0m\u001b[0m\n\u001b[0m",
      "\u001b[1;32m<ipython-input-109-57984e20a6bd>\u001b[0m in \u001b[0;36minfo_gain\u001b[1;34m(left_node_1, left_node_2, right_node_1, right_node_2)\u001b[0m\n\u001b[0;32m     11\u001b[0m     \u001b[0mgini_coef\u001b[0m \u001b[1;33m=\u001b[0m \u001b[1;36m1\u001b[0m \u001b[1;33m-\u001b[0m \u001b[0mgini_coef_answer\u001b[0m\u001b[1;33m\u001b[0m\u001b[1;33m\u001b[0m\u001b[0m\n\u001b[0;32m     12\u001b[0m \u001b[1;33m\u001b[0m\u001b[0m\n\u001b[1;32m---> 13\u001b[1;33m     \u001b[0mleft_node\u001b[0m \u001b[1;33m=\u001b[0m \u001b[1;36m1\u001b[0m \u001b[1;33m-\u001b[0m \u001b[1;33m(\u001b[0m\u001b[1;33m(\u001b[0m\u001b[0mnp\u001b[0m\u001b[1;33m.\u001b[0m\u001b[0mpower\u001b[0m\u001b[1;33m(\u001b[0m\u001b[0mleft_node_1\u001b[0m\u001b[1;33m/\u001b[0m\u001b[0mleft_all\u001b[0m\u001b[1;33m)\u001b[0m\u001b[1;33m,\u001b[0m \u001b[1;36m2\u001b[0m\u001b[1;33m)\u001b[0m \u001b[1;33m+\u001b[0m \u001b[1;33m(\u001b[0m\u001b[0mnp\u001b[0m\u001b[1;33m.\u001b[0m\u001b[0mpower\u001b[0m\u001b[1;33m(\u001b[0m\u001b[0mleft_node_2\u001b[0m\u001b[1;33m/\u001b[0m\u001b[0mleft_all\u001b[0m\u001b[1;33m)\u001b[0m\u001b[1;33m,\u001b[0m \u001b[1;36m2\u001b[0m\u001b[1;33m)\u001b[0m\u001b[1;33m)\u001b[0m\u001b[1;33m\u001b[0m\u001b[1;33m\u001b[0m\u001b[0m\n\u001b[0m\u001b[0;32m     14\u001b[0m     \u001b[0mright_node\u001b[0m \u001b[1;33m=\u001b[0m \u001b[1;36m1\u001b[0m \u001b[1;33m-\u001b[0m \u001b[1;33m(\u001b[0m\u001b[1;33m(\u001b[0m\u001b[0mnp\u001b[0m\u001b[1;33m.\u001b[0m\u001b[0mpower\u001b[0m\u001b[1;33m(\u001b[0m\u001b[0mright_node_1\u001b[0m\u001b[1;33m/\u001b[0m\u001b[0mleft_all\u001b[0m\u001b[1;33m)\u001b[0m\u001b[1;33m,\u001b[0m \u001b[1;36m2\u001b[0m\u001b[1;33m)\u001b[0m \u001b[1;33m+\u001b[0m \u001b[1;33m(\u001b[0m\u001b[0mnp\u001b[0m\u001b[1;33m.\u001b[0m\u001b[0mpower\u001b[0m\u001b[1;33m(\u001b[0m\u001b[0mright_node_2\u001b[0m\u001b[1;33m/\u001b[0m\u001b[0mleft_all\u001b[0m\u001b[1;33m)\u001b[0m\u001b[1;33m,\u001b[0m \u001b[1;36m2\u001b[0m\u001b[1;33m)\u001b[0m\u001b[1;33m)\u001b[0m\u001b[1;33m\u001b[0m\u001b[1;33m\u001b[0m\u001b[0m\n\u001b[0;32m     15\u001b[0m     \u001b[0mgain\u001b[0m \u001b[1;33m=\u001b[0m \u001b[0mgini_coef\u001b[0m \u001b[1;33m-\u001b[0m \u001b[0mleft_node\u001b[0m \u001b[1;33m-\u001b[0m \u001b[0mright_node\u001b[0m\u001b[1;33m\u001b[0m\u001b[1;33m\u001b[0m\u001b[0m\n",
      "\u001b[1;31mValueError\u001b[0m: invalid number of arguments"
     ]
    }
   ],
   "source": [
    "info_gain(10, 30, 20, 5)"
   ]
  },
  {
   "cell_type": "code",
   "execution_count": null,
   "metadata": {},
   "outputs": [],
   "source": [
    "left_node_1 = \n",
    "left_all = \n",
    "\n",
    "np.power(left_node_1/left_all), 2\n"
   ]
  }
 ],
 "metadata": {
  "kernelspec": {
   "display_name": "Python 3",
   "language": "python",
   "name": "python3"
  },
  "language_info": {
   "codemirror_mode": {
    "name": "ipython",
    "version": 3
   },
   "file_extension": ".py",
   "mimetype": "text/x-python",
   "name": "python",
   "nbconvert_exporter": "python",
   "pygments_lexer": "ipython3",
   "version": "3.7.7"
  }
 },
 "nbformat": 4,
 "nbformat_minor": 4
}
