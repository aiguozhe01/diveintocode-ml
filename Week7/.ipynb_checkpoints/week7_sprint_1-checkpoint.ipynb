{
 "cells": [
  {
   "cell_type": "markdown",
   "metadata": {},
   "source": [
    "# Sprint_5 SVM\n",
    "\n",
    "ハードマージン（分類の間違いを認めない）SVMをスクラッチする。"
   ]
  },
  {
   "cell_type": "code",
   "execution_count": 5,
   "metadata": {},
   "outputs": [],
   "source": [
    "import numpy as np\n"
   ]
  },
  {
   "cell_type": "code",
   "execution_count": 1,
   "metadata": {},
   "outputs": [],
   "source": [
    "class ScratchSVMClassifier():\n",
    "    \"\"\"\n",
    "    SVM分類器のスクラッチ実装\n",
    "\n",
    "    Parameters\n",
    "    ----------\n",
    "    num_iter : int\n",
    "      イテレーション数\n",
    "    lr : float\n",
    "      学習率\n",
    "    kernel : str\n",
    "      カーネルの種類。線形カーネル（linear）か多項式カーネル（polly）\n",
    "    threshold : float\n",
    "      サポートベクターを選ぶための閾値\n",
    "    verbose : bool\n",
    "      学習過程を出力する場合はTrue\n",
    "\n",
    "    Attributes\n",
    "    ----------\n",
    "    self.n_support_vectors : int\n",
    "      サポートベクターの数\n",
    "    self.index_support_vectors : 次の形のndarray, shape (n_support_vectors,)\n",
    "      サポートベクターのインデックス\n",
    "    self.X_sv :  次の形のndarray, shape(n_support_vectors, n_features)\n",
    "      サポートベクターの特徴量\n",
    "    self.lam_sv :  次の形のndarray, shape(n_support_vectors, 1)\n",
    "      サポートベクターの未定乗数\n",
    "    self.y_sv :  次の形のndarray, shape(n_support_vectors, 1)\n",
    "      サポートベクターのラベル\n",
    "\n",
    "    \"\"\"\n",
    "    def __init__(self, num_iter, lr, kernel='linear', threshold=1e-5, verbose=False):\n",
    "        # ハイパーパラメータを属性として記録\n",
    "        self.iter = num_iter\n",
    "        self.lr = lr\n",
    "        self.kernel = kernel\n",
    "        self.threshold = threshold\n",
    "        self.verbose = verbose\n",
    "        \n",
    "        \n",
    "    ############################################################################################\n",
    "    #追加部分#    \n",
    "\n",
    "    def kernel_fai(self, X):\n",
    "        \"\"\"\n",
    "        Xの総当たり、独立させたカーネル関数\n",
    "        Returns\n",
    "        -------\n",
    "        answer : 次の形のndarray, shape (n_samples, 1) \n",
    "        \"\"\"\n",
    "        answer = np.dot(X, X.T)\n",
    "        return answer\n",
    "        \n",
    "    def lagrange_gradient(self, weight, lam, X, y, kernel_function):\n",
    "        \"\"\"\n",
    "        【問題1】ラグランジュの未定乗数法による最急降下\n",
    "        \n",
    "         Parameters\n",
    "        ----------\n",
    "        weight : 学習率（int or float）\n",
    "        lam : ラグランジュ乗数λ（int or float）\n",
    "        kernel_function : カーネル関数 (function)\n",
    "        \n",
    "        Returns\n",
    "        -------\n",
    "        lam_new : 次の形のndarray, shape (n_samples, 1)\n",
    "            更新されたラグランジュ乗数\n",
    "            \n",
    "        \"\"\"\n",
    "        lam_new = np.empty(0)\n",
    "\n",
    "        if np.all(lam >= 0):\n",
    "            lam_new = np.append(lam_new, lam + weight * (1 - np.sum(np.dot(lam.T, (np.dot(y, y.T) * kernel_function)))))\n",
    "\n",
    "        else:\n",
    "            lam_new = np.append(lam_new, weight * (1 - np.sum(np.dot(lam.T, (np.dot(y, y.T) * kernel_function)))))\n",
    "\n",
    "        return lam_new\n",
    "    \n",
    "    def support_vector(lam_new, threshold):\n",
    "        \"\"\"\n",
    "        【問題2】サポートベクターの決定\n",
    "        \n",
    "        Parameters\n",
    "        ----------\n",
    "        threshold : 閾値 (float or int)\n",
    "        \n",
    "        \"\"\"\n",
    "        lam_sv = np.where(lam_new>threshold) \n",
    "        return lam_sv\n",
    "    \n",
    "    \n",
    "    ############################################################################################\n",
    "\n",
    "    def fit(self, X, y, X_val=None, y_val=None):\n",
    "        \"\"\"\n",
    "        SVM分類器を学習する。検証データが入力された場合はそれに対する精度もイテレーションごとに計算する。\n",
    "\n",
    "        Parameters\n",
    "        ----------\n",
    "        X : 次の形のndarray, shape (n_samples, n_features)\n",
    "            訓練データの特徴量\n",
    "        y : 次の形のndarray, shape (n_samples, )\n",
    "            訓練データの正解値\n",
    "        X_val : 次の形のndarray, shape (n_samples, n_features)\n",
    "            検証データの特徴量\n",
    "        y_val : 次の形のndarray, shape (n_samples, )\n",
    "            検証データの正解値\n",
    "        \"\"\"\n",
    "        if self.verbose:\n",
    "            #verboseをTrueにした際は学習過程を出力\n",
    "            print()\n",
    "        pass\n",
    "    \n",
    "    def predict(self, X):\n",
    "        \"\"\"\n",
    "        SVM分類器を使いラベルを推定する。\n",
    "\n",
    "        Parameters\n",
    "        ----------\n",
    "        X : 次の形のndarray, shape (n_samples, n_features)\n",
    "            サンプル\n",
    "\n",
    "        Returns\n",
    "        -------\n",
    "            次の形のndarray, shape (n_samples, 1)\n",
    "            SVM分類器による推定結果\n",
    "        \"\"\"\n",
    "        pass\n",
    "        return"
   ]
  },
  {
   "cell_type": "markdown",
   "metadata": {},
   "source": [
    "## 【考察】\n",
    "\n",
    "* SVMは未知のデータを識別するためにある。\n",
    "* 識別境界線を引いて、1と-1のクラス領域に分ける。\n",
    "    * 境界線に最も近いサンプルとの距離（マージン）が最大となるようにする。\n",
    "    \n",
    "* ラグランジュ未定乗数法を用いる。\n",
    "    * サンプル数分のラグランジュ乗数 $\\lambda$ を用意する。\n",
    "    * 以下の式で$\\lambda$を更新していく。\n",
    "    * $ \\lambda_i^{new} = \\lambda_i + \\alpha(1 - \\sum_{j=1}^{n}{\\lambda_j y_i y_j k(x_i, x_j)})\\ $\n",
    "    * $k(x_i, x_j)$ はカーネル関数\n",
    "        * 多項式カーネル\n",
    "        * この部分は独立したメソッド\n",
    "        \n",
    "    * $ k(x_i, x_j) = x_{i}^{T} x_j\\ $\n",
    "        * 更新毎に $\\lambda_i >= 0$を満たす必要がある。\n",
    "        * 満たさない場合は $\\lambda_i = 0$とする。\n"
   ]
  },
  {
   "cell_type": "markdown",
   "metadata": {},
   "source": [
    "## 【問題1】ラグランジュの未定乗数法による最急降下\n",
    "\n",
    "* ScratchSVMClassifierに実装する。\n",
    "* g(x, y) = 0 が制約条件\n",
    "* 目的関数 f(x, y) を最大化（最小化）にする x, y を求める手法\n",
    "\n",
    "【復習】\n",
    "* np.dot: ベクトルの内積の結果、行列の積の結果を返す。\n"
   ]
  },
  {
   "cell_type": "code",
   "execution_count": 179,
   "metadata": {},
   "outputs": [],
   "source": [
    "\"\"\"\"\"\n",
    "ramda = samples in axis=0\n",
    "i, j = number of samples\n",
    "w = weight\n",
    "\n",
    "\"\"\"\"\"\n",
    "\n",
    "\n",
    "# for i, j in range(len(ramda)):\n",
    "    \n",
    "# Xの総当たり、独立させたカーネル関数\n",
    "def kernel_fai(a, b):\n",
    "    answer = np.dot(a, b.T)\n",
    "    return answer\n",
    "\n",
    "def lagrange_gradient(weight, lam, X, y, kernel_function):\n",
    "    lam_new = np.empty(0)\n",
    "    \n",
    "    if np.all(lam >= 0):\n",
    "        lam_new = np.append(lam_new, lam + weight * (1 - np.sum(np.dot(lam.T, (np.dot(y, y.T) * kernel_function)))))\n",
    "\n",
    "    else:\n",
    "        lam_new = np.append(lam_new, weight * (1 - np.sum(np.dot(lam.T, (np.dot(y, y.T) * kernel_function)))))\n",
    "    \n",
    "    return lam_new\n",
    "\n"
   ]
  },
  {
   "cell_type": "code",
   "execution_count": 147,
   "metadata": {},
   "outputs": [
    {
     "name": "stdout",
     "output_type": "stream",
     "text": [
      "lam.shape:(5,)\n",
      "X.shape:(5, 2)\n",
      "X:[[ 1  2]\n",
      " [ 3  4]\n",
      " [ 5  6]\n",
      " [ 7  8]\n",
      " [ 9 10]]\n",
      "y.shape:(5, 1)\n",
      "y:[[ 1]\n",
      " [-1]\n",
      " [ 1]\n",
      " [-1]\n",
      " [ 1]]\n"
     ]
    }
   ],
   "source": [
    "# test_data\n",
    "weight = 0.01\n",
    "lam = np.array([8, 3, 5, 9, 1])\n",
    "\n",
    "print(f'lam.shape:{lam.shape}')\n",
    "\n",
    "X = np.array([[1, 2], [3, 4], [5, 6], [7, 8], [9, 10]])\n",
    "print(f'X.shape:{X.shape}')\n",
    "print(f'X:{X}')\n",
    "\n",
    "y = np.array([1, -1, 1, -1, 1])\n",
    "y = y.reshape(-1, 1)\n",
    "print(f'y.shape:{y.shape}')\n",
    "print(f'y:{y}')"
   ]
  },
  {
   "cell_type": "code",
   "execution_count": 180,
   "metadata": {},
   "outputs": [
    {
     "data": {
      "text/plain": [
       "array([[  5,  11,  17,  23,  29],\n",
       "       [ 11,  25,  39,  53,  67],\n",
       "       [ 17,  39,  61,  83, 105],\n",
       "       [ 23,  53,  83, 113, 143],\n",
       "       [ 29,  67, 105, 143, 181]])"
      ]
     },
     "execution_count": 180,
     "metadata": {},
     "output_type": "execute_result"
    }
   ],
   "source": [
    "kernel_fai(X, X)"
   ]
  },
  {
   "cell_type": "code",
   "execution_count": 109,
   "metadata": {},
   "outputs": [
    {
     "data": {
      "text/plain": [
       "array([[ 1, -1,  1, -1,  1],\n",
       "       [-1,  1, -1,  1, -1],\n",
       "       [ 1, -1,  1, -1,  1],\n",
       "       [-1,  1, -1,  1, -1],\n",
       "       [ 1, -1,  1, -1,  1]])"
      ]
     },
     "execution_count": 109,
     "metadata": {},
     "output_type": "execute_result"
    }
   ],
   "source": [
    "np.dot(y, y.T)"
   ]
  },
  {
   "cell_type": "code",
   "execution_count": 110,
   "metadata": {},
   "outputs": [
    {
     "data": {
      "text/plain": [
       "array([[   5,  -11,   17,  -23,   29],\n",
       "       [ -11,   25,  -39,   53,  -67],\n",
       "       [  17,  -39,   61,  -83,  105],\n",
       "       [ -23,   53,  -83,  113, -143],\n",
       "       [  29,  -67,  105, -143,  181]])"
      ]
     },
     "execution_count": 110,
     "metadata": {},
     "output_type": "execute_result"
    }
   ],
   "source": [
    "np.dot(y, y.T) * kernel_fai(X)"
   ]
  },
  {
   "cell_type": "code",
   "execution_count": 118,
   "metadata": {},
   "outputs": [
    {
     "data": {
      "text/plain": [
       "-318"
      ]
     },
     "execution_count": 118,
     "metadata": {},
     "output_type": "execute_result"
    }
   ],
   "source": [
    "n = np.dot(lam, (np.dot(y, y.T) * kernel_fai(X)))\n",
    "np.sum(n)"
   ]
  },
  {
   "cell_type": "code",
   "execution_count": 125,
   "metadata": {},
   "outputs": [
    {
     "data": {
      "text/plain": [
       "3.19"
      ]
     },
     "execution_count": 125,
     "metadata": {},
     "output_type": "execute_result"
    }
   ],
   "source": [
    "0.01 * (1 - np.sum(n))"
   ]
  },
  {
   "cell_type": "code",
   "execution_count": 121,
   "metadata": {},
   "outputs": [
    {
     "data": {
      "text/plain": [
       "array([11.19,  6.19,  8.19, 12.19,  4.19])"
      ]
     },
     "execution_count": 121,
     "metadata": {},
     "output_type": "execute_result"
    }
   ],
   "source": [
    "lam + 0.01 * (1 - np.sum(n))"
   ]
  },
  {
   "cell_type": "code",
   "execution_count": 167,
   "metadata": {
    "scrolled": true
   },
   "outputs": [
    {
     "data": {
      "text/plain": [
       "array([11.19,  6.19,  8.19, 12.19,  4.19])"
      ]
     },
     "execution_count": 167,
     "metadata": {},
     "output_type": "execute_result"
    }
   ],
   "source": [
    "lam_new = lagrange_gradient(weight, lam, X, y, kernel_fai(X))\n",
    "lam_new"
   ]
  },
  {
   "cell_type": "markdown",
   "metadata": {},
   "source": [
    "## 【問題2】サポートベクターの決定\n",
    "\n",
    "サポートベクターを決定し、インスタンス変数として保持しておくコードを書いてください。\n",
    "\n",
    "* 計算したラグランジュ乗数 λ が設定した閾値より大きいサンプルをサポートベクターとして扱う。\n",
    "* 推定時にサポートベクターが必要になる。\n",
    "* (ヒント)閾値はハイパーパラメータだが、1e-5程度からはじめると良い。\n",
    "* (ヒント)サポートベクターの数を出力させられるようにしておくと学習がうまく行えているかを確認できる。"
   ]
  },
  {
   "cell_type": "code",
   "execution_count": 189,
   "metadata": {},
   "outputs": [],
   "source": [
    "\"\"\"\n",
    "Parameters\n",
    "----------\n",
    "threshold : 閾値 (float or int)\n",
    "\n",
    "\"\"\"\n",
    "\n",
    "def support_vector(lam_new, threshold):\n",
    "    lam_sv_index = np.where(lam_new>threshold)\n",
    "    \n",
    "    return lam_sv_index"
   ]
  },
  {
   "cell_type": "markdown",
   "metadata": {},
   "source": [
    "## 【問題3】推定\n",
    "\n",
    "* 推定したいデータの特徴量とサポートベクターの特徴量をカーネル関数によって計算する。\n",
    "* 求めた符号（正か負）が分類結果。"
   ]
  },
  {
   "cell_type": "code",
   "execution_count": 220,
   "metadata": {},
   "outputs": [
    {
     "data": {
      "text/plain": [
       "array([11.19,  8.19, 12.19])"
      ]
     },
     "execution_count": 220,
     "metadata": {},
     "output_type": "execute_result"
    }
   ],
   "source": [
    "lam_sv_index = support_vector(lam_new, 7)\n",
    "lam_new[lam_sv_index]"
   ]
  },
  {
   "cell_type": "code",
   "execution_count": 202,
   "metadata": {},
   "outputs": [
    {
     "data": {
      "text/plain": [
       "array([[ 1],\n",
       "       [ 1],\n",
       "       [-1]])"
      ]
     },
     "execution_count": 202,
     "metadata": {},
     "output_type": "execute_result"
    }
   ],
   "source": [
    "y[lam_sv_index]"
   ]
  },
  {
   "cell_type": "code",
   "execution_count": 218,
   "metadata": {},
   "outputs": [
    {
     "data": {
      "text/plain": [
       "array([[ 11.19,  11.19, -11.19],\n",
       "       [  8.19,   8.19,  -8.19],\n",
       "       [ 12.19,  12.19, -12.19]])"
      ]
     },
     "execution_count": 218,
     "metadata": {},
     "output_type": "execute_result"
    }
   ],
   "source": [
    "np.dot(lam_new[lam_sv_index].reshape(3, 1), y[lam_sv_index].T)"
   ]
  },
  {
   "cell_type": "code",
   "execution_count": 219,
   "metadata": {},
   "outputs": [
    {
     "ename": "ValueError",
     "evalue": "shapes (5,2) and (3,) not aligned: 2 (dim 1) != 3 (dim 0)",
     "output_type": "error",
     "traceback": [
      "\u001b[1;31m---------------------------------------------------------------------------\u001b[0m",
      "\u001b[1;31mValueError\u001b[0m                                Traceback (most recent call last)",
      "\u001b[1;32m<ipython-input-219-3428e4a6be11>\u001b[0m in \u001b[0;36m<module>\u001b[1;34m\u001b[0m\n\u001b[1;32m----> 1\u001b[1;33m \u001b[0mkernel_fai\u001b[0m\u001b[1;33m(\u001b[0m\u001b[0mX\u001b[0m\u001b[1;33m,\u001b[0m \u001b[0mlam_new\u001b[0m\u001b[1;33m[\u001b[0m\u001b[0mlam_sv_index\u001b[0m\u001b[1;33m]\u001b[0m\u001b[1;33m)\u001b[0m\u001b[1;33m\u001b[0m\u001b[1;33m\u001b[0m\u001b[0m\n\u001b[0m",
      "\u001b[1;32m<ipython-input-179-c7b30e48c48e>\u001b[0m in \u001b[0;36mkernel_fai\u001b[1;34m(a, b)\u001b[0m\n\u001b[0;32m     11\u001b[0m \u001b[1;31m# Xの総当たり、独立させたカーネル関数\u001b[0m\u001b[1;33m\u001b[0m\u001b[1;33m\u001b[0m\u001b[1;33m\u001b[0m\u001b[0m\n\u001b[0;32m     12\u001b[0m \u001b[1;32mdef\u001b[0m \u001b[0mkernel_fai\u001b[0m\u001b[1;33m(\u001b[0m\u001b[0ma\u001b[0m\u001b[1;33m,\u001b[0m \u001b[0mb\u001b[0m\u001b[1;33m)\u001b[0m\u001b[1;33m:\u001b[0m\u001b[1;33m\u001b[0m\u001b[1;33m\u001b[0m\u001b[0m\n\u001b[1;32m---> 13\u001b[1;33m     \u001b[0manswer\u001b[0m \u001b[1;33m=\u001b[0m \u001b[0mnp\u001b[0m\u001b[1;33m.\u001b[0m\u001b[0mdot\u001b[0m\u001b[1;33m(\u001b[0m\u001b[0ma\u001b[0m\u001b[1;33m,\u001b[0m \u001b[0mb\u001b[0m\u001b[1;33m.\u001b[0m\u001b[0mT\u001b[0m\u001b[1;33m)\u001b[0m\u001b[1;33m\u001b[0m\u001b[1;33m\u001b[0m\u001b[0m\n\u001b[0m\u001b[0;32m     14\u001b[0m     \u001b[1;32mreturn\u001b[0m \u001b[0manswer\u001b[0m\u001b[1;33m\u001b[0m\u001b[1;33m\u001b[0m\u001b[0m\n\u001b[0;32m     15\u001b[0m \u001b[1;33m\u001b[0m\u001b[0m\n",
      "\u001b[1;32m<__array_function__ internals>\u001b[0m in \u001b[0;36mdot\u001b[1;34m(*args, **kwargs)\u001b[0m\n",
      "\u001b[1;31mValueError\u001b[0m: shapes (5,2) and (3,) not aligned: 2 (dim 1) != 3 (dim 0)"
     ]
    }
   ],
   "source": [
    "kernel_fai(X, lam_new[lam_sv_index])"
   ]
  },
  {
   "cell_type": "code",
   "execution_count": 185,
   "metadata": {},
   "outputs": [
    {
     "data": {
      "text/plain": [
       "array([[ 11.19,  22.38],\n",
       "       [ 33.57,  44.76],\n",
       "       [ 55.95,  67.14],\n",
       "       [ 78.33,  89.52],\n",
       "       [100.71, 111.9 ]])"
      ]
     },
     "execution_count": 185,
     "metadata": {},
     "output_type": "execute_result"
    }
   ],
   "source": [
    "y[0] * kernel_fai(X, lam_new[0])"
   ]
  },
  {
   "cell_type": "code",
   "execution_count": 186,
   "metadata": {},
   "outputs": [
    {
     "data": {
      "text/plain": [
       "array([1])"
      ]
     },
     "execution_count": 186,
     "metadata": {},
     "output_type": "execute_result"
    }
   ],
   "source": [
    "np.dot()"
   ]
  },
  {
   "cell_type": "code",
   "execution_count": null,
   "metadata": {},
   "outputs": [],
   "source": []
  }
 ],
 "metadata": {
  "kernelspec": {
   "display_name": "Python 3",
   "language": "python",
   "name": "python3"
  },
  "language_info": {
   "codemirror_mode": {
    "name": "ipython",
    "version": 3
   },
   "file_extension": ".py",
   "mimetype": "text/x-python",
   "name": "python",
   "nbconvert_exporter": "python",
   "pygments_lexer": "ipython3",
   "version": "3.7.7"
  }
 },
 "nbformat": 4,
 "nbformat_minor": 4
}
