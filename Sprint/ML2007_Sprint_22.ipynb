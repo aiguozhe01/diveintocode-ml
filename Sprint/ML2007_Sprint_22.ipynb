{
  "nbformat": 4,
  "nbformat_minor": 0,
  "metadata": {
    "colab": {
      "name": "Sprint_22.ipynb",
      "provenance": [],
      "collapsed_sections": []
    },
    "kernelspec": {
      "name": "python3",
      "display_name": "Python 3"
    }
  },
  "cells": [
    {
      "cell_type": "markdown",
      "metadata": {
        "id": "WZzFrYLF6_WK"
      },
      "source": [
        "# Sprint 深層学習スクラッチ リカレントニューラルネットワーク"
      ]
    },
    {
      "cell_type": "markdown",
      "metadata": {
        "id": "gY6jFbsi7Ux2"
      },
      "source": [
        "## 【問題1】SimpleRNNのフォワードプロパゲーション実装\n",
        "* SimpleRNNを作成せよ。"
      ]
    },
    {
      "cell_type": "code",
      "metadata": {
        "id": "aDnSJdXsPLd9"
      },
      "source": [
        "import numpy as np  # import numpy as np (or import cupy as np)\n",
        "\n",
        "class RNN:\n",
        "    \"\"\"\n",
        "    RNNのforward propagationのみ。\n",
        "\n",
        "    Parameters\n",
        "    ----------\n",
        "    Wx : ndarray (n_features, n_nodes)\n",
        "      入力に対する重み\n",
        "    Wh : ndarray (n_nodes, n_nodes)\n",
        "      状態に対する重み\n",
        "    b : int (n_nodes, )\n",
        "      バイアス項\n",
        "    h_prev : (batch_size, n_nodes)\n",
        "      時刻t-1の状態（前の時刻から伝わる順伝搬）\n",
        "\n",
        "    Returns\n",
        "    ---------- \n",
        "    h_next : (batch_size, n_nodes)\n",
        "      最後のtの出力\n",
        "    \"\"\"\n",
        "    def __init__(self, Wx, Wh, b):\n",
        "        self.params = [Wx, Wh, b]\n",
        "        # self.grads = [np.zeros_like(Wx), np.zeros_like(Wh), np.zeros_like(b)]\n",
        "        self.cache = None\n",
        "\n",
        "    def forward(self, x, h_prev):\n",
        "        Wx, Wh, b = self.params\n",
        "        h_array = np.zeros(x.shape)\n",
        "\n",
        "        # batch_size毎のfor文\n",
        "        for i in range(0, x.shape[0]):\n",
        "\n",
        "          # n_sequences毎のfor文\n",
        "          for j in range(0, x.shape[1]):\n",
        "            t = np.dot(h_prev, Wh) + np.dot(x[i][j], Wx) + b\n",
        "            h_next = np.tanh(t)\n",
        "            # self.cache = (x, h_prev, h_next)\n",
        "            h_prev = h_next\n",
        "\n",
        "\n",
        "        return h_next"
      ],
      "execution_count": 99,
      "outputs": []
    },
    {
      "cell_type": "markdown",
      "metadata": {
        "id": "9vhI7kJT7YuO"
      },
      "source": [
        "## 【問題2】小さな配列でのフォワードプロパゲーションの実験"
      ]
    },
    {
      "cell_type": "code",
      "metadata": {
        "id": "owmvaf6kV9zW"
      },
      "source": [
        "# 小さな配列\n",
        "\n",
        "x = np.array([[[1, 2], [2, 3], [3, 4]]])/100 # (batch_size, n_sequences, n_features)\n",
        "w_x = np.array([[1, 3, 5, 7], [3, 5, 7, 8]])/100 # (n_features, n_nodes)\n",
        "w_h = np.array([[1, 3, 5, 7], [2, 4, 6, 8], [3, 5, 7, 8], [4, 6, 8, 10]])/100 # (n_nodes, n_nodes)\n",
        "batch_size = x.shape[0] # 1\n",
        "n_sequences = x.shape[1] # 3\n",
        "n_features = x.shape[2] # 2\n",
        "n_nodes = w_x.shape[1] # 4\n",
        "h = np.zeros((batch_size, n_nodes)) # (batch_size, n_nodes)\n",
        "b = np.array([1, 1, 1, 1]) # (n_nodes,)\n",
        "\n",
        "\"\"\"\n",
        "1. batch_size\n",
        "2. n_sequences\n",
        "3. \n",
        "\"\"\""
      ],
      "execution_count": 29,
      "outputs": []
    },
    {
      "cell_type": "code",
      "metadata": {
        "id": "cKKk5Ke3Swde"
      },
      "source": [
        "testing_rnn = RNN(w_x, w_h, b)"
      ],
      "execution_count": 100,
      "outputs": []
    },
    {
      "cell_type": "code",
      "metadata": {
        "id": "DEaJv9OZW8Vt",
        "outputId": "b6de40d5-6b18-419f-beb1-78a97dd13799",
        "colab": {
          "base_uri": "https://localhost:8080/"
        }
      },
      "source": [
        "testing_rnn.forward(x, h)"
      ],
      "execution_count": 101,
      "outputs": [
        {
          "output_type": "execute_result",
          "data": {
            "text/plain": [
              "array([[0.79494228, 0.81839002, 0.83939649, 0.85584174]])"
            ]
          },
          "metadata": {
            "tags": []
          },
          "execution_count": 101
        }
      ]
    },
    {
      "cell_type": "code",
      "metadata": {
        "id": "8-vwK465Y1jG"
      },
      "source": [
        "# 模範出力\n",
        "h = np.array([[0.79494228, 0.81839002, 0.83939649, 0.85584174]]) # (batch_size, n_nodes) 問2の場合は(1, 4)"
      ],
      "execution_count": 26,
      "outputs": []
    },
    {
      "cell_type": "markdown",
      "metadata": {
        "id": "54GOYs797bUN"
      },
      "source": [
        ""
      ]
    }
  ]
}