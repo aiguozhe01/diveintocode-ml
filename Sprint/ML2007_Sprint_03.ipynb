{
 "cells": [
  {
   "cell_type": "markdown",
   "metadata": {},
   "source": [
    "# Sprint_03 機械学習スクラッチ　線形回帰"
   ]
  },
  {
   "cell_type": "code",
   "execution_count": 1,
   "metadata": {
    "ExecuteTime": {
     "end_time": "2020-11-17T00:37:58.563874Z",
     "start_time": "2020-11-17T00:37:58.062202Z"
    }
   },
   "outputs": [],
   "source": [
    "# Importing library\n",
    "import numpy as np"
   ]
  },
  {
   "cell_type": "code",
   "execution_count": 2,
   "metadata": {
    "ExecuteTime": {
     "end_time": "2020-11-17T00:37:58.841143Z",
     "start_time": "2020-11-17T00:37:58.829175Z"
    }
   },
   "outputs": [],
   "source": [
    "class ScratchLinearRegression():\n",
    "    \"\"\"\n",
    "    線形回帰のスクラッチ実装\n",
    "\n",
    "    Parameters\n",
    "    ----------\n",
    "    num_iter : int\n",
    "      イテレーション数\n",
    "    lr : float\n",
    "      学習率\n",
    "    no_bias : bool\n",
    "      バイアス項を入れない場合はTrue\n",
    "    verbose : bool\n",
    "      学習過程を出力する場合はTrue\n",
    "\n",
    "    Attributes\n",
    "    ----------\n",
    "    self.coef_ : 次の形のndarray, shape (n_features,)\n",
    "      パラメータ\n",
    "    self.loss : 次の形のndarray, shape (self.iter,)\n",
    "      訓練データに対する損失の記録\n",
    "    self.val_loss : 次の形のndarray, shape (self.iter,)\n",
    "      検証データに対する損失の記録\n",
    "\n",
    "    \"\"\"\n",
    "    def __init__(self, num_iter, lr, no_bias, verbose):\n",
    "        # ハイパーパラメータを属性として記録\n",
    "        self.iter = num_iter\n",
    "        self.lr = lr\n",
    "        self.no_bias = no_bias\n",
    "        self.verbose = verbose\n",
    "        \n",
    "        self.coef_ = None\n",
    "        \n",
    "        # 損失を記録する空の配列を用意\n",
    "        self.loss = np.zeros(self.iter)\n",
    "        self.val_loss = np.zeros(self.iter)\n",
    "        \n",
    "    def fit(self, X, y, X_val=None, y_val=None):\n",
    "        \"\"\"\n",
    "        線形回帰を学習する。検証データが入力された場合はそれに対する損失と精度もイテレーションごとに計算する。\n",
    "\n",
    "        Parameters\n",
    "        ----------\n",
    "        X : 次の形のndarray, shape (n_samples, n_features)\n",
    "            訓練データの特徴量\n",
    "        y : 次の形のndarray, shape (n_samples, )\n",
    "            訓練データの正解値\n",
    "        X_val : 次の形のndarray, shape (n_samples, n_features)\n",
    "            検証データの特徴量\n",
    "        y_val : 次の形のndarray, shape (n_samples, )\n",
    "            検証データの正解値\n",
    "        loss : numpy.float\n",
    "            訓練用データから算出した損失関数\n",
    "        val_loss : numpy.float\n",
    "            検証用データから算出した損失関数\n",
    "        \"\"\"\n",
    "\n",
    "        \n",
    "        # バイアス項の有無を設定。False（バイアス有り）の場合、X_0 = 1をXにconcatする。\n",
    "        if self.no_bias:\n",
    "            self.coef_ = np.random.rand(len(X[0])) \n",
    "            # 特徴量は2種（2列:'GrLivArea', 'YearBuilt'）のため、ランダムの係数を2値を初期値として用意する。\n",
    "        else:\n",
    "            bias = np.ones(len(X)).reshape(-1, 1)\n",
    "            # bias_val = np.ones(len(X_val)).reshape(-1, 1)\n",
    "            X = np.concatenate((bias, X), axis=1)\n",
    "            # X_val = np.concatenate((bias_val, X_val), axis=1)\n",
    "            self.coef_ = np.random.rand(len(X[0])) \n",
    "\n",
    "            if self.verbose:\n",
    "                # print(f'bias:{bias}')\n",
    "                print(f'bias.ndim:{bias.ndim}')\n",
    "                print(f'bias.shape:{bias.shape}')\n",
    "                print(f'X.shape:{X.shape}')\n",
    "                print(f'X_val.shape:{X_val.shape}')\n",
    "\n",
    "        \n",
    "        # self.coef_ = np.random.rand(len(X[0])) # 特徴量は2種（2列:'GrLivArea', 'YearBuilt'）のため、ランダムの係数を2値を初期値として用意する。\n",
    "        \n",
    "        if self.verbose:\n",
    "            print(f'初期係数:{self.coef_}')\n",
    "            #print(f'X:{X}')\n",
    "            #print(f'X.shape:{X.shape}')\n",
    "            #print(f'len(X[0]):{len(X[0])}')\n",
    "            #print(f'X_val:{X_val.shape}')\n",
    "        \n",
    "        # X_val, y_val両方とも有している場合\n",
    "        for i in range(self.iter):\n",
    "            y_pred = self._linear_hypothesis(X) # i番目の訓練データX_trainから係数self.coef_を用いて仮定関数y_predを推測\n",
    "            y_pred_val = self.predict(X_val) # i番目の検証用データX_valから係数self.coef_を用いて仮定関数y_pred_valを推測\n",
    "            \n",
    "            # y_pred_val = self._linear_hypothesis(X_val) \n",
    "            # バイアス項が無い場合は、この計算も可能であるが、\n",
    "            # バイアス項が有る場合は、X_valとXの列数とが等しくないので、_linear_hypothesis内の係数とも計算ができない。\n",
    "\n",
    "            self.coef_ = self._gradient_descent(X, y) # 勾配降下法で新しい係数を算出\n",
    "            # 仮定関数y_predと正解値yの偏差とXの乗算を基に学習率を掛けた平均値で新しい係数を算出\n",
    "            # print(f'新しい係数:{self.coef_}')\n",
    "\n",
    "            self.loss[i] = self._cost_function(y_pred, y) # 新しい係数から算出したy_predと正解の値yとで損失関数を算出\n",
    "            self.val_loss[i] = self._cost_function(y_pred_val, y_val)\n",
    "            # print(f'self.loss:{self.loss}')\n",
    "            # print(f'self.val_loss:{self.val_loss}')\n",
    "        \n",
    "        if self.verbose:\n",
    "            #verboseをTrueにした際は学習過程を出力\n",
    "            print(f'loss.shape:{self.loss.shape}') # (100, ) # self.iter分の数字\n",
    "            print(f'y_pred: {y_pred.shape}') # (1022, )\n",
    "            print(f'y_pred_val: {y_pred_val.shape}') # (438, )\n",
    "            print(f'self.coef_.shape: {self.coef_.shape}') # (2, )\n",
    "\n",
    "    def _gradient_descent(self, X, y):\n",
    "        \"\"\"\n",
    "        fitメソッドで呼び出された際に最急降下法による学習を行う。\n",
    "\n",
    "        Parameters\n",
    "        ----------\n",
    "        self: class関数を引用する。\n",
    "\n",
    "        X : 次の形のndarray, shape (n_samples, n_features)\n",
    "\n",
    "        error : \n",
    "\n",
    "        Returns\n",
    "        -------\n",
    "          次の形のndarray, shape (n_samples, 1)\n",
    "          線形の仮定関数による推定結果    \n",
    "\n",
    "\n",
    "        \"\"\"\n",
    "\n",
    "        # h_thetaとyはnumpy.ndarrayであること\n",
    "        # inside_sigma = np.multiply((h_theta - y_train), X_train)\n",
    "\n",
    "        self.coef_ = self.coef_ - (self.lr/len(X)) * np.matmul((self._linear_hypothesis(X)-y), X)\n",
    "\n",
    "        return self.coef_\n",
    "    def _linear_hypothesis(self, X):\n",
    "        \"\"\"\n",
    "        線形の仮定関数を計算する\n",
    "\n",
    "        Parameters\n",
    "        ----------\n",
    "        X : 次の形のndarray, shape (n_samples, n_features)\n",
    "          訓練データ\n",
    "\n",
    "        theta : 次の形のndarray, shape (n_samples, )\n",
    "         パラメータ\n",
    "\n",
    "        Returns\n",
    "        -------\n",
    "          次の形のndarray, shape (n_samples, 1)\n",
    "          線形の仮定関数による推定結果\n",
    "\n",
    "        Process\n",
    "        -------    \n",
    "          1. theta[0]はそのままにして、残りの行数分Xと配列数分y（ここではtheta）の積の和を求める。\n",
    "          2. Xとthetaの行列の積はnp.matmulを使う。\n",
    "          3. np.sumで積の総和を求める。\n",
    "\n",
    "        \"\"\"\n",
    "\n",
    "        # solution = self.coef_[0] + np.sum(np.matmul(self.coef_[1: ], X))\n",
    "        # solution = theta[0] + np.prod(theta[1: ], X)\n",
    "\n",
    "        solution = np.dot(X, self.coef_.T)\n",
    "        return solution\n",
    "    \n",
    "    def _cost_function(self, y_pred, y): # okay\n",
    "        \"\"\"\n",
    "        目的関数（損失関数）\n",
    "\n",
    "        Parameters\n",
    "        ----------\n",
    "        y_pred : 次の形のndarray, shape (n_samples,)\n",
    "          推定した値\n",
    "        y : 次の形のndarray, shape (n_samples,)\n",
    "          正解値\n",
    "\n",
    "        Returns\n",
    "        ----------\n",
    "        loss : numpy.float\n",
    "          訓練用データと検証用データから算出した損失関数に用いられる。\n",
    "        \"\"\"\n",
    "\n",
    "        loss = np.sum(np.square(np.subtract(y_pred, y))) / (2 * len(y))\n",
    "        return loss\n",
    "    \n",
    "    def predict(self, X): # okay\n",
    "        \"\"\"\n",
    "        線形回帰を使い推定する。\n",
    "\n",
    "        Parameters\n",
    "        ----------\n",
    "        X : 次の形のndarray, shape (n_samples, n_features)\n",
    "            サンプル\n",
    "\n",
    "        Returns\n",
    "        -------\n",
    "            次の形のndarray, shape (n_samples, 1)\n",
    "            線形回帰による推定結果\n",
    "        \"\"\"\n",
    "        if self.no_bias:\n",
    "            pass\n",
    "        else:\n",
    "            bias = np.ones(len(X)).reshape(-1, 1)\n",
    "            X = np.concatenate((bias, X), axis=1)\n",
    "        # h_theta = np.matmul(X, self.coef_.T) \n",
    "        return np.matmul(X, self.coef_.T) \n",
    "        "
   ]
  },
  {
   "cell_type": "markdown",
   "metadata": {
    "heading_collapsed": true
   },
   "source": [
    "### Example"
   ]
  },
  {
   "cell_type": "code",
   "execution_count": 137,
   "metadata": {
    "ExecuteTime": {
     "end_time": "2020-11-15T05:14:22.746249Z",
     "start_time": "2020-11-15T05:14:22.737272Z"
    },
    "hidden": true
   },
   "outputs": [],
   "source": [
    "class ScratchLinearRegression_example():\n",
    "    \"\"\"\n",
    "    線形回帰のスクラッチ実装\n",
    "\n",
    "    Parameters\n",
    "    ----------\n",
    "    num_iter : int\n",
    "      イテレーション数\n",
    "    lr : float\n",
    "      学習率\n",
    "    no_bias : bool\n",
    "      バイアス項を入れない場合はTrue\n",
    "    verbose : bool\n",
    "      学習過程を出力する場合はTrue\n",
    "\n",
    "    Attributes\n",
    "    ----------\n",
    "    self.coef_ : 次の形のndarray, shape (n_features,)\n",
    "      パラメータ\n",
    "    self.loss : 次の形のndarray, shape (self.iter,)\n",
    "      訓練データに対する損失の記録\n",
    "    self.val_loss : 次の形のndarray, shape (self.iter,)\n",
    "      検証データに対する損失の記録\n",
    "\n",
    "    \"\"\"\n",
    "    def __init__(self, num_iter=100, lr=0.1, no_bias=True, verbose=False):\n",
    "        # ハイパーパラメータを属性として記録\n",
    "        self.num_iter = num_iter\n",
    "        self.lr = lr\n",
    "        self.no_bias = no_bias\n",
    "        self.verbose = verbose\n",
    "        # 損失を記録する配列を用意\n",
    "        self.loss = np.zeros(self.num_iter)\n",
    "        self.val_loss = np.zeros(self.num_iter)\n",
    "        self.coef_ = None\n",
    "        \n",
    "    def fit(self, X, y, X_val=None, y_val=None):\n",
    "        \"\"\"\n",
    "        線形回帰を学習する。検証データが入力された場合はそれに対する損失と精度もイテレーションごとに計算する。\n",
    "\n",
    "        Parameters\n",
    "        ----------\n",
    "        X : 次の形のndarray, shape (n_samples, n_features)\n",
    "            訓練データの特徴量\n",
    "        y : 次の形のndarray, shape (n_samples, )\n",
    "            訓練データの正解値\n",
    "        X_val : 次の形のndarray, shape (n_samples, n_features)\n",
    "            検証データの特徴量\n",
    "        y_val : 次の形のndarray, shape (n_samples, )\n",
    "            検証データの正解値\n",
    "        \"\"\"\n",
    "\n",
    "        # bias無しの場合はX_0を追加せずパラメータを作成\n",
    "        if self.no_bias:\n",
    "            self.coef_ = np.random.rand(len(X[0]))\n",
    "        # bias有りの場合はX_0 = 1をXにconcatし、パラメータを作成\n",
    "        else:\n",
    "            bias = np.ones(len(X)).reshape(-1, 1)\n",
    "            X = np.concatenate((bias, X), axis=1)\n",
    "            self.coef_ = np.random.rand(len(X[0]))\n",
    "            print(f'bias:{bias}')\n",
    "            print(f'bias.shape:{bias.shape}')\n",
    "            print(f'X.shape:{X.shape}')\n",
    "        print(f'初期係数:{self.coef_}')\n",
    "        # 検証データに対する学習の有無はX_valとy_valが提示された場合のみに指定\n",
    "        # hasattr関数を使用し、X_val, y_valが__array__attributeを所持するかで判断\n",
    "        if hasattr(X_val, '__array__') and hasattr(y_val, '__array__'):\n",
    "            for i in range(self.num_iter):\n",
    "                \n",
    "                h_x_array = self._linear_hypothesis(X)\n",
    "                pred = self.predict(X_val)\n",
    "                \n",
    "                self.coef_ = self._gradient_descent(X, y, h_x_array)\n",
    "                # print(f'新しい係数:{self.coef_}')\n",
    "                self.loss[i] = self._cost_function(h_x_array, y)\n",
    "                self.val_loss[i] = self._cost_function(pred, y_val)\n",
    "        \n",
    "        else:\n",
    "            for i in range(self.num_iter):\n",
    "\n",
    "                h_array = self._linear_hypothesis(X)\n",
    "                \n",
    "                self.coef_ = self._gradient_descent(X, y, h_x_array)\n",
    "\n",
    "                self.loss[i] = self._cost_function(h_x_array, y)\n",
    "\n",
    "        if self.verbose:\n",
    "            #verboseをTrueにした際は学習過程を出力\n",
    "            print(f'loss.shape:{self.loss.shape}') # (100, )\n",
    "            print(f'y_pred: {h_x_array.shape}') # (1022, )\n",
    "            print(f'y_pred_val: {pred.shape}') # (438, )\n",
    "            print(f'self.coef_.shape: {self.coef_.shape}') # (2, )\n",
    "    def _linear_hypothesis(self, X):\n",
    "        \"\"\"\n",
    "        線形の仮定関数を計算する\n",
    "\n",
    "        Parameters\n",
    "        ----------\n",
    "        X : 次の形のndarray, shape (n_samples, n_features)\n",
    "          訓練データ\n",
    "        \n",
    "        theta : 次の形のndarray, shape (n_samples, )\n",
    "        　パラメータ\n",
    "        \n",
    "        Returns\n",
    "        -------\n",
    "          次の形のndarray, shape (n_samples, 1)\n",
    "          線形の仮定関数による推定結果\n",
    "        \n",
    "        \"\"\"\n",
    "        # solution = np.matmul(X, self.coef_.T)\n",
    "        \n",
    "        return np.matmul(X, self.coef_.T)\n",
    "\n",
    "    def _gradient_descent(self, X, y, h_x_array):\n",
    "        \"\"\"\n",
    "        fitメソッドで呼び出された際に最急降下法による学習を行う。\n",
    "\n",
    "        Parameters\n",
    "        ----------\n",
    "        self: class関数を引用する。\n",
    "\n",
    "        X : 次の形のndarray, shape (n_samples, n_features)\n",
    "\n",
    "        error :\n",
    "\n",
    "        \"\"\"\n",
    "        self.coef_ -= (self.lr/len(X)) * np.matmul((h_x_array - y), X)\n",
    "\n",
    "        return self.coef_\n",
    "      \n",
    "    def _cost_function(self, pred, y):\n",
    "        return np.sum((pred - y) ** 2) / (2 * len(y))\n",
    "\n",
    "    def predict(self, X):\n",
    "        \"\"\"\n",
    "        線形回帰を使い推定する。\n",
    "\n",
    "        Parameters\n",
    "        ----------\n",
    "        X : 次の形のndarray, shape (n_samples, n_features)\n",
    "            サンプル\n",
    "\n",
    "        Returns\n",
    "        -------\n",
    "            次の形のndarray, shape (n_samples, 1)\n",
    "            線形回帰による推定結果\n",
    "        \"\"\"\n",
    "        h_theta = np.matmul(X, self.coef_.T)\n",
    "\n",
    "        return h_theta"
   ]
  },
  {
   "cell_type": "markdown",
   "metadata": {
    "heading_collapsed": true
   },
   "source": [
    "## 【問題1】仮定関数"
   ]
  },
  {
   "cell_type": "markdown",
   "metadata": {
    "hidden": true
   },
   "source": [
    "以下の数式で表される線形回帰の仮定関数を実装せよ。\n",
    "\n",
    "$\\begin{align}\n",
    "h_\\theta(x) = \\theta_0x_0 + \\theta_1x_1+...+\\theta_jx_j+...+\\theta_nx_n (x_0=1)\n",
    "\\end{align}$\n",
    "\n",
    "$\\begin{align}(x_0=1)\\end{align}$のため、実際の式はこうなる。\n",
    "\n",
    "$\\begin{align}\n",
    "h_\\theta(x) = \\theta_0 + \\theta_1x_1+...+\\theta_jx_j+...+\\theta_nx_n (x_0=1)\n",
    "\\end{align}$\n",
    "### 【目的】\n",
    "\n",
    "* 上記の重回帰式を仮定する関数を作成する。\n",
    "\n",
    "### 【考察】\n",
    "\n",
    "* $\\begin{align}\\theta\\end{align}$ は直線の傾き（coefficients）を制御している。\n",
    "* $\\begin{align}x_0 = 1\\end{align}$ のため、切片は1である。\n",
    "* $\\begin{align}\\theta_0\\end{align}$ はバイアス項となる。（よって$\\begin{align}\\theta_0 = 1\\end{align}$）\n",
    "* 行列 $\\begin{align}\\theta\\end{align}$ と行列 $\\begin{align}x_n\\end{align}$ の内積（np.dot or np.matmul）を算出する関数を作成する。\n",
    "* 内積を算出するため、引数xの行数分の配列数thetaをnp.randomを用いて算出する。\n",
    "\n",
    "### 【工程順序】\n",
    "1. np.random（0-10の範囲）を用いて、xの行数分の配列数thetaのarrayを構築\n",
    "2. x_train（ここでは引数x）を用いて$\\begin{align}h_\\theta\\end{align}$(x)を求める。\n"
   ]
  },
  {
   "cell_type": "code",
   "execution_count": null,
   "metadata": {
    "ExecuteTime": {
     "end_time": "2020-11-15T02:39:59.142660Z",
     "start_time": "2020-11-15T02:39:59.138671Z"
    },
    "hidden": true
   },
   "outputs": [],
   "source": [
    "def _linear_hypothesis(self, X):\n",
    "    \"\"\"\n",
    "    線形の仮定関数を計算する\n",
    "\n",
    "    Parameters\n",
    "    ----------\n",
    "    X : 次の形のndarray, shape (n_samples, n_features)\n",
    "      訓練データ\n",
    "\n",
    "    theta : 次の形のndarray, shape (n_samples, )\n",
    "     パラメータ\n",
    "\n",
    "    Returns\n",
    "    -------\n",
    "      次の形のndarray, shape (n_samples, 1)\n",
    "      線形の仮定関数による推定結果\n",
    "\n",
    "    Process\n",
    "    -------    \n",
    "      1. theta[0]はそのままにして、残りの行数分Xと配列数分y（ここではtheta）の積の和を求める。\n",
    "      2. Xとthetaの行列の積はnp.matmulを使う。\n",
    "      3. np.sumで積の総和を求める。\n",
    "\n",
    "    \"\"\"\n",
    "\n",
    "    # solution = self.coef_[0] + np.sum(np.matmul(self.coef_[1: ], X))\n",
    "    # solution = theta[0] + np.prod(theta[1: ], X)\n",
    "\n",
    "    solution = np.dot(X, self.coef_.T)\n",
    "    return solution"
   ]
  },
  {
   "cell_type": "markdown",
   "metadata": {
    "heading_collapsed": true
   },
   "source": [
    "## 【問題2】最急降下法"
   ]
  },
  {
   "cell_type": "markdown",
   "metadata": {
    "hidden": true
   },
   "source": [
    "最急降下法により学習させる実装を行なう。\n",
    "\n",
    "以下の式で表されるパラメータの更新式のメソッド_gradient_descentを追加し、fitメソッドから呼び出すようにする。\n",
    "\n",
    "$\\begin{align}\n",
    "\\theta_j := \\theta_j-\\alpha\\frac{1}{m}\\sum_{i=1}^{m}[(h_\\theta(x^{(i)})-y^{(i)})x_j^{(i)}]\n",
    "\\end{align}$\n",
    "\n",
    "ベクトル形式で表すとこうなる。\n",
    "\n",
    "$\\begin{align}\n",
    "\\theta := \\theta-\\alpha\\frac{1}{m}[(h_\\theta(x^{(i)})-y^{(i)})x^{(i)}]\n",
    "\\end{align}$\n",
    "\n",
    "偏差を求める式がこの部分\n",
    "\n",
    "仮定した傾きから得た値yを実際のyとの差を求める部分である。\n",
    "\n",
    "$\\begin{align}\n",
    "(h_\\theta(x^{(i)})-y^{(i)})\n",
    "\\end{align}$\n",
    "\n",
    "-----\n",
    "\n",
    "$\\begin{align}:=\\end{align}$：左辺を右辺によって定義する。\n",
    "\n",
    "$\\begin{align}\\theta_j\\end{align}$：傾き \n",
    "```python \n",
    "_coef\n",
    "```\n",
    "$\\begin{align}\\alpha\\end{align}$：学習率\n",
    "```python \n",
    "self.lr\n",
    "```\n",
    "$\\begin{align}i\\end{align}$：サンプル（要素）のインデックス位置\n",
    "\n",
    "$\\begin{align}j\\end{align}$：特徴量のインデックス位置\n",
    "\n",
    "$\\begin{align}m\\end{align}$：サンプル（要素）の最大インデックス値（繰り返し回数の最大値）\n",
    "```python \n",
    "len(X)\n",
    "```\n",
    "$h_\\theta(x^{(i)})$：_linear_hypothesis\n",
    "\n",
    "$\\begin{align}y^{(i)}\\end{align}$：y_train\n",
    "\n",
    "$\\begin{align}x_j^{(i)}\\end{align}$：X_train"
   ]
  },
  {
   "cell_type": "markdown",
   "metadata": {
    "hidden": true
   },
   "source": [
    "### 【目的】\n",
    "\n",
    "* ひな形_gradient_descent（勾配降下）を用いて、最急降下法による機械学習が行えるように関数を完成させる。\n",
    "\n",
    "### 【考察】\n",
    "\n",
    "* 最急降下法とは、接線の傾き（$\\theta$）をゼロに近づくようにxの値を更新していき最適解に収束させる方法。\n",
    "* := の意味は「左辺を右辺で定義（代入）する」\n",
    "* 偏微分：特定の文字以外を定数とみなして微分したものを偏微分（偏導関数）と言います。\n",
    "    * 微分：ある関数の任意の点における傾き（$\\theta$）を導く式「導関数」を求めること。\n",
    "    * 傾き（$\\theta$）を求めるには2点間の変化の割合を求めること。\n",
    "        * $変化の割合=\\frac{yの増加量}{xの増加量}$\n",
    "\n",
    "最急降下法のアルゴリズム\n",
    "1. 対象とする関数を$(h_\\theta(x^{(i)})$とし、関数$(h_\\theta(x^{(i)})$の引数となるのがベクトルX\n",
    "2. $h_\\theta(x^{(i)})-y^{(i)}$が偏差となる。\n"
   ]
  },
  {
   "cell_type": "code",
   "execution_count": null,
   "metadata": {
    "ExecuteTime": {
     "end_time": "2020-11-15T02:39:59.148645Z",
     "start_time": "2020-11-15T02:39:59.143658Z"
    },
    "hidden": true
   },
   "outputs": [],
   "source": [
    "def _gradient_descent(self, X, y):\n",
    "    \"\"\"\n",
    "    fitメソッドで呼び出された際に最急降下法による学習を行う。\n",
    "\n",
    "    Parameters\n",
    "    ----------\n",
    "    self: class関数を引用する。\n",
    "\n",
    "    X : 次の形のndarray, shape (n_samples, n_features)\n",
    "\n",
    "    error : \n",
    "\n",
    "    Returns\n",
    "    -------\n",
    "      次の形のndarray, shape (n_samples, 1)\n",
    "      線形の仮定関数による推定結果    \n",
    "\n",
    "\n",
    "    \"\"\"\n",
    "\n",
    "    # h_thetaとyはnumpy.ndarrayであること\n",
    "    # inside_sigma = np.multiply((h_theta - y_train), X_train)\n",
    "\n",
    "    self.coef_ -= (self.lr/len(X)) * np.matmul((self._linear_hypothesis(X)-y), X)\n",
    "\n",
    "    return self.coef_"
   ]
  },
  {
   "cell_type": "markdown",
   "metadata": {
    "heading_collapsed": true
   },
   "source": [
    "## 【問題3】推定"
   ]
  },
  {
   "cell_type": "markdown",
   "metadata": {
    "hidden": true
   },
   "source": [
    "* 推定する仕組みを実装せよ。\n",
    "* ScratchLinearRegressionクラスの雛形に含まれるpredictメソッドに書き加えること。\n",
    "* 仮定関数 $h_\\theta(x)$ (_linear_hypothesis)の出力が推定結果とする。"
   ]
  },
  {
   "cell_type": "code",
   "execution_count": 127,
   "metadata": {
    "ExecuteTime": {
     "end_time": "2020-11-15T05:10:04.362048Z",
     "start_time": "2020-11-15T05:10:04.358059Z"
    },
    "hidden": true
   },
   "outputs": [],
   "source": [
    "def predict(self, X): # okay\n",
    "    \"\"\"\n",
    "    線形回帰を使い推定する。\n",
    "\n",
    "    Parameters\n",
    "    ----------\n",
    "    X : 次の形のndarray, shape (n_samples, n_features)\n",
    "        サンプル\n",
    "\n",
    "    Returns\n",
    "    -------\n",
    "        次の形のndarray, shape (n_samples, 1)\n",
    "        線形回帰による推定結果\n",
    "    \"\"\"\n",
    "    # h_theta = np.matmul(X, self.coef_.T) \n",
    "\n",
    "    return self._linear_hypothesis(X)"
   ]
  },
  {
   "cell_type": "markdown",
   "metadata": {
    "heading_collapsed": true
   },
   "source": [
    "## 【問題4】平均二乗誤差"
   ]
  },
  {
   "cell_type": "markdown",
   "metadata": {
    "hidden": true
   },
   "source": [
    "* 線形回帰の指標値として用いられる平均二乗誤差（mean square error, MSE）の関数を作成せよ。\n",
    "* 平均二乗誤差は以下の数式で表される。\n",
    "\n",
    "$\\begin{align}\n",
    "L(\\theta) = \\frac{1}{m}\\sum_{i=1}^{m}(h_\\theta(x^{(i)})-y^{(i)})^2\n",
    "\\end{align}$\n",
    "\n",
    "$m$ : 入力されるデータの数 \n",
    "```python\n",
    "len(y)\n",
    "```\n",
    "$h_\\theta(x)$ : 仮定関数\n",
    "```pythonn\n",
    "y_pred\n",
    "```\n",
    "$x^{(i)}$ : i番目のサンプルの特徴量ベクトル\n",
    "\n",
    "$y^{(i)}$ : i番目のサンプルの正解値\n",
    "```python\n",
    "y\n",
    "```"
   ]
  },
  {
   "cell_type": "code",
   "execution_count": 3,
   "metadata": {
    "ExecuteTime": {
     "end_time": "2020-11-17T00:38:05.198237Z",
     "start_time": "2020-11-17T00:38:05.194248Z"
    },
    "hidden": true
   },
   "outputs": [],
   "source": [
    "def MSE(y_pred, y):\n",
    "    \"\"\"\n",
    "    平均二乗誤差の計算\n",
    "\n",
    "    Parameters\n",
    "    ----------\n",
    "    y_pred : 次の形のndarray, shape (n_samples,)\n",
    "      推定した値\n",
    "    y : 次の形のndarray, shape (n_samples,)\n",
    "      正解値\n",
    "\n",
    "    Returns\n",
    "    ----------\n",
    "    mse : numpy.float\n",
    "      平均二乗誤差\n",
    "    \"\"\"\n",
    "    \n",
    "    mse = np.square(np.subtract(y_pred, y)).mean()\n",
    "    \n",
    "    return mse"
   ]
  },
  {
   "cell_type": "markdown",
   "metadata": {
    "heading_collapsed": true
   },
   "source": [
    "## 【問題5】目的関数"
   ]
  },
  {
   "cell_type": "markdown",
   "metadata": {
    "hidden": true
   },
   "source": [
    "* 以下の数式で表される線形回帰の**目的関数（損失関数）**を実装せよ。\n",
    "* そして、これをself.loss, self.val_lossに記録すること。\n",
    "\n",
    "$\\begin{align}\n",
    "J(\\theta) = \\frac{1}{2m}\\sum_{i=1}^{m}(h_\\theta(x^{(i)})-y^{(i)})^2\n",
    "\\end{align}$\n",
    "\n",
    "$m$ : 入力されるデータの数\n",
    "```python\n",
    "len(y)\n",
    "```\n",
    "$h_\\theta(X)$ : 仮定関数\n",
    "```python\n",
    "y_pred\n",
    "```\n",
    "$x^{(i)}$ : i番目のサンプルの特徴量ベクトル\n",
    "\n",
    "$y^{(i)}$ : i番目のサンプルの正解値"
   ]
  },
  {
   "cell_type": "code",
   "execution_count": null,
   "metadata": {
    "ExecuteTime": {
     "end_time": "2020-11-15T02:39:59.168591Z",
     "start_time": "2020-11-15T02:39:59.164603Z"
    },
    "hidden": true
   },
   "outputs": [],
   "source": [
    "def _cost_function(self, y_pred, y): # okay\n",
    "    \"\"\"\n",
    "    目的関数（損失関数）\n",
    "\n",
    "    Parameters\n",
    "    ----------\n",
    "    y_pred : 次の形のndarray, shape (n_samples,)\n",
    "      推定した値\n",
    "    y : 次の形のndarray, shape (n_samples,)\n",
    "      正解値\n",
    "\n",
    "    Returns\n",
    "    ----------\n",
    "    loss : numpy.float\n",
    "      訓練用データと検証用データから算出した損失関数に用いられる。\n",
    "    \"\"\"\n",
    "\n",
    "    loss = np.sum(np.square(np.subtract(y_pred, y))) / (2 * len(y))\n",
    "    return loss"
   ]
  },
  {
   "cell_type": "markdown",
   "metadata": {
    "heading_collapsed": true
   },
   "source": [
    "## 【問題6】学習と推定"
   ]
  },
  {
   "cell_type": "markdown",
   "metadata": {
    "hidden": true
   },
   "source": [
    "* House Pricesコンペティションのデータに対してスクラッチ実装の学習と推定を行なうこと。\n",
    "* scikit-learnによる実装と比べ、正しく動いているかを確認せよ。"
   ]
  },
  {
   "cell_type": "code",
   "execution_count": 4,
   "metadata": {
    "ExecuteTime": {
     "end_time": "2020-11-17T00:38:16.705094Z",
     "start_time": "2020-11-17T00:38:16.074781Z"
    },
    "hidden": true
   },
   "outputs": [
    {
     "name": "stdout",
     "output_type": "stream",
     "text": [
      "(1460, 2)\n",
      "(1460,)\n"
     ]
    }
   ],
   "source": [
    "# File system manangement\n",
    "import os\n",
    "import pandas as pd\n",
    "\n",
    "house_df = pd.read_csv('../Data/house_prices_train.csv')\n",
    "\n",
    "# 目的変数\n",
    "y_house = np.array(house_df.loc[:, ['SalePrice']])\n",
    "y_house = np.reshape(y_house,(-1))\n",
    "\n",
    "# 説明変数 GrLivArea, YearBuiltのみを抽出\n",
    "X_house = np.array(house_df.loc[:, ['GrLivArea', 'YearBuilt']])\n",
    "\n",
    "print(X_house.shape)\n",
    "print(y_house.shape)"
   ]
  },
  {
   "cell_type": "code",
   "execution_count": 5,
   "metadata": {
    "ExecuteTime": {
     "end_time": "2020-11-16T02:38:20.741442Z",
     "start_time": "2020-11-16T02:38:20.736455Z"
    },
    "code_folding": [
     0
    ],
    "hidden": true,
    "run_control": {
     "marked": false
    }
   },
   "outputs": [],
   "source": [
    "# 自作のtrain_test_splitを構築\n",
    "def scratch_train_test_split(X, y, train_size=0.7):\n",
    "    \"\"\"\n",
    "    検証データを分割する。\n",
    "\n",
    "    Parameters\n",
    "    ----------\n",
    "    X : 次の形のndarray, shape (n_samples, n_features)\n",
    "      訓練データ\n",
    "    y : 次の形のndarray, shape (n_samples, )\n",
    "      正解値\n",
    "    train_size : float (0<train_size<1)\n",
    "      何割をtrainとするか指定\n",
    "\n",
    "    Returns\n",
    "    ----------\n",
    "    X_train : 次の形のndarray, shape (n_samples, n_features)\n",
    "      訓練データ\n",
    "    X_test : 次の形のndarray, shape (n_samples, n_features)\n",
    "      検証データ\n",
    "    y_train : 次の形のndarray, shape (n_samples, )\n",
    "      訓練データの正解値\n",
    "    y_test : 次の形のndarray, shape (n_samples, )\n",
    "      検証データの正解値\n",
    "    \n",
    "    Process\n",
    "    ----------\n",
    "    1. Randomizing\n",
    "        1. Using np.random.shuffle(), shuffle the two arrays.\n",
    "        2. Make pre_shuffle_x, pre_shuffle_y, post_shuffle_x, post_shuffle_y.\n",
    "\n",
    "    2. Dividing (Default: test_size 0.25, train_size 0.75)\n",
    "        1. Using this [tactics](https://stackoverflow.com/questions/58374049/split-a-list-with-a-adjustable-ratio) to split a list.\n",
    "        2. Make 2 splitted lists for train and test from each X and y\n",
    "    3. Return\n",
    "        1. Return value.\n",
    "    \n",
    "    \"\"\"\n",
    "    \n",
    "    # Intake parameter X, y and shuffle them.\n",
    "    np.random.shuffle(X)\n",
    "    np.random.shuffle(y)\n",
    "    \n",
    "    # Split X and y into given ratio using len() function.\n",
    "    elements_x = len(X)\n",
    "    \n",
    "    # print(f\"elements_x:{elements_x}\") # Return number of items\n",
    "    middle_x = int(elements_x * train_size) # The number of items is divided.\n",
    "    X_train, X_test = X[:middle_x], X[middle_x:] # \"middle_x\" becomes the mid point to seperate.\n",
    "    \n",
    "    # print(f\"x_train:{X_train}, x_test{X_test}\") # Sanity check.\n",
    "\n",
    "    elements_y = len(y) # Same logic as X.\n",
    "    middle_y = int(elements_y * train_size)\n",
    "    y_train, y_test = y[:middle_y], y[middle_y:]\n",
    "    \n",
    "    return X_train, X_test, y_train, y_test"
   ]
  },
  {
   "cell_type": "code",
   "execution_count": 18,
   "metadata": {
    "ExecuteTime": {
     "end_time": "2020-11-16T02:40:52.126273Z",
     "start_time": "2020-11-16T02:40:52.120296Z"
    },
    "code_folding": [
     0
    ],
    "hidden": true
   },
   "outputs": [
    {
     "name": "stdout",
     "output_type": "stream",
     "text": [
      "[[1844 2005]\n",
      " [ 902 1983]\n",
      " [1441 1999]\n",
      " ...\n",
      " [1442 1990]\n",
      " [1394 1963]\n",
      " [2554 1890]]\n",
      "[256300 157000 142500 ... 239686 101000 325624]\n"
     ]
    }
   ],
   "source": [
    "# 自作のscratch_train_test_splitを実行\n",
    "\n",
    "X_train, X_test, y_train, y_test = scratch_train_test_split(X_house, y_house)\n",
    "\n",
    "y_train = np.reshape(y_train,(-1))\n",
    "y_test = np.reshape(y_test,(-1))\n",
    "\n",
    "print(X_train)\n",
    "\n",
    "print(y_train)"
   ]
  },
  {
   "cell_type": "code",
   "execution_count": 5,
   "metadata": {
    "ExecuteTime": {
     "end_time": "2020-11-17T00:38:43.466379Z",
     "start_time": "2020-11-17T00:38:42.463039Z"
    },
    "code_folding": [],
    "hidden": true,
    "run_control": {
     "marked": false
    }
   },
   "outputs": [
    {
     "name": "stdout",
     "output_type": "stream",
     "text": [
      "[[1352 1969]\n",
      " [1188 1962]\n",
      " [1501 1999]\n",
      " ...\n",
      " [1500 2005]\n",
      " [1940 2009]\n",
      " [1660 1934]]\n",
      "[158000 157900 204000 ... 173900 395192 188700]\n"
     ]
    }
   ],
   "source": [
    "# scikit-learnのtrain_test_splitを実行\n",
    "from sklearn.model_selection import train_test_split\n",
    "\n",
    "X_train, X_test, y_train, y_test = train_test_split(X_house, y_house, test_size=0.3)\n",
    "\n",
    "y_train = np.reshape(y_train,(-1))\n",
    "y_test = np.reshape(y_test,(-1))\n",
    "\n",
    "print(X_train)\n",
    "print(y_train)"
   ]
  },
  {
   "cell_type": "code",
   "execution_count": 6,
   "metadata": {
    "ExecuteTime": {
     "end_time": "2020-11-17T00:38:43.741643Z",
     "start_time": "2020-11-17T00:38:43.736656Z"
    },
    "code_folding": [],
    "hidden": true
   },
   "outputs": [],
   "source": [
    "# 線形回帰のため、標準化を行う\n",
    "from sklearn.preprocessing import StandardScaler\n",
    "\n",
    "scaler = StandardScaler()\n",
    "X_train_std = scaler.fit_transform(X_train)\n",
    "X_test_std = scaler.transform(X_test) # X_testは未知のデータなので、fitするとX_train_stdにX_testの要素が混入するため、X_testはfitさせない。"
   ]
  },
  {
   "cell_type": "code",
   "execution_count": 7,
   "metadata": {
    "ExecuteTime": {
     "end_time": "2020-11-17T00:38:47.916046Z",
     "start_time": "2020-11-17T00:38:47.798360Z"
    },
    "code_folding": [
     0
    ],
    "hidden": true,
    "run_control": {
     "marked": false
    }
   },
   "outputs": [
    {
     "name": "stdout",
     "output_type": "stream",
     "text": [
      "scikit-learnモデルのMSE：2.25e+09\n",
      "バイアス = 183234.44618395308\n"
     ]
    }
   ],
   "source": [
    "# Scikit-learnの線形回帰を実装\n",
    "from sklearn.linear_model import LinearRegression\n",
    "from sklearn.metrics import mean_squared_error\n",
    "\n",
    "sk_lr = LinearRegression()\n",
    "\n",
    "sk_lr.fit(X_train_std, y_train)\n",
    "\n",
    "sk_pred = sk_lr.predict(X_test_std)\n",
    "\n",
    "sk_mse = mean_squared_error(y_test, sk_pred)\n",
    "\n",
    "print(f'scikit-learnモデルのMSE：{sk_mse:.3g}')\n",
    "print(\"バイアス =\", sk_lr.intercept_)"
   ]
  },
  {
   "cell_type": "code",
   "execution_count": 8,
   "metadata": {
    "ExecuteTime": {
     "end_time": "2020-11-17T00:38:51.439659Z",
     "start_time": "2020-11-17T00:38:51.424699Z"
    },
    "hidden": true
   },
   "outputs": [
    {
     "name": "stdout",
     "output_type": "stream",
     "text": [
      "bias.ndim:2\n",
      "bias.shape:(1022, 1)\n",
      "X.shape:(1022, 3)\n",
      "X_val.shape:(438, 2)\n",
      "初期係数:[0.98306958 0.09167766 0.42425593]\n",
      "loss.shape:(100,)\n",
      "y_pred: (1022,)\n",
      "y_pred_val: (438,)\n",
      "self.coef_.shape: (3,)\n",
      "scratchモデルのMSE: 2.25e+09\n"
     ]
    }
   ],
   "source": [
    "# 自作の線形回帰を実装\n",
    "scratch_lr = ScratchLinearRegression(num_iter=100, lr=0.1, no_bias=False, verbose=True)\n",
    "\n",
    "scratch_lr.fit(X_train_std, y_train, X_val=X_test_std, y_val=y_test)\n",
    "\n",
    "scratch_pred = scratch_lr.predict(X_test_std)\n",
    "\n",
    "scratch_mse = MSE(y_test, scratch_pred)\n",
    "\n",
    "print(f'scratchモデルのMSE: {scratch_mse:.3g}')"
   ]
  },
  {
   "cell_type": "code",
   "execution_count": 139,
   "metadata": {
    "ExecuteTime": {
     "end_time": "2020-11-15T05:14:36.657249Z",
     "start_time": "2020-11-15T05:14:36.645281Z"
    },
    "code_folding": [],
    "hidden": true
   },
   "outputs": [
    {
     "name": "stdout",
     "output_type": "stream",
     "text": [
      "初期係数:[0.49150291 0.76841405]\n",
      "loss.shape:(100,)\n",
      "y_pred: (1022,)\n",
      "y_pred_val: (438,)\n",
      "self.coef_.shape: (2,)\n",
      "scratchモデルのMSE: 3.56e+10\n"
     ]
    }
   ],
   "source": [
    "# Example\n",
    "sc_lr = ScratchLinearRegression_example(num_iter=100, lr=0.1, no_bias=True, verbose=True)\n",
    "\n",
    "sc_lr.fit(X_train_std, y_train, X_val=X_test_std, y_val=y_test)\n",
    "\n",
    "sc_lr_pred = sc_lr.predict(X_test_std)\n",
    "\n",
    "sc_mse = MSE(sc_lr_pred, y_test)\n",
    "\n",
    "print(f'scratchモデルのMSE: {sc_mse:.3g}')"
   ]
  },
  {
   "cell_type": "markdown",
   "metadata": {
    "heading_collapsed": true
   },
   "source": [
    "## 【問題7】学習曲線のプロット"
   ]
  },
  {
   "cell_type": "markdown",
   "metadata": {
    "hidden": true
   },
   "source": [
    "* 学習曲線を表示する関数を作成し実行せよ。\n",
    "* グラフを見て、損失が適切に下がっているかどうか確認せよ。\n",
    "* 線形回帰クラスの雛形内のself.lossとself.val_lossに損失の記録がされているので、それらを入力値とせよ。"
   ]
  },
  {
   "cell_type": "code",
   "execution_count": 9,
   "metadata": {
    "ExecuteTime": {
     "end_time": "2020-11-17T00:38:58.989037Z",
     "start_time": "2020-11-17T00:38:58.291903Z"
    },
    "hidden": true
   },
   "outputs": [
    {
     "data": {
      "image/png": "[encoded data removed]",
      "text/plain": [
       "<Figure size 432x288 with 1 Axes>"
      ]
     },
     "metadata": {
      "needs_background": "light"
     },
     "output_type": "display_data"
    }
   ],
   "source": [
    "import matplotlib.pyplot as plt\n",
    "%matplotlib inline\n",
    "\n",
    "plt.figure\n",
    "\n",
    "plt.plot(np.arange(len(scratch_lr.loss)), scratch_lr.loss, label='train loss')\n",
    "plt.plot(np.arange(len(scratch_lr.val_loss)), scratch_lr.val_loss, label='val loss')\n",
    "\n",
    "plt.title(\"Scratch Model Loss\")\n",
    "plt.xlabel(\"Iteration\")\n",
    "plt.ylabel(\"Loss\")\n",
    "plt.legend()\n",
    "\n",
    "plt.show()"
   ]
  },
  {
   "cell_type": "code",
   "execution_count": 141,
   "metadata": {
    "ExecuteTime": {
     "end_time": "2020-11-15T05:14:41.589137Z",
     "start_time": "2020-11-15T05:14:41.494391Z"
    },
    "hidden": true
   },
   "outputs": [
    {
     "data": {
      "image/png": "[encoded data removed]",
      "text/plain": [
       "<Figure size 432x288 with 1 Axes>"
      ]
     },
     "metadata": {
      "needs_background": "light"
     },
     "output_type": "display_data"
    }
   ],
   "source": [
    "import matplotlib.pyplot as plt\n",
    "%matplotlib inline\n",
    "\n",
    "plt.figure\n",
    "\n",
    "plt.plot(np.arange(len(sc_lr.loss)), sc_lr.loss, label='train loss')\n",
    "plt.plot(np.arange(len(sc_lr.val_loss)), sc_lr.val_loss, label='val loss')\n",
    "\n",
    "plt.title(\"Scratch Model Loss\")\n",
    "plt.xlabel(\"Iteration\")\n",
    "plt.ylabel(\"Loss\")\n",
    "plt.legend()\n",
    "\n",
    "plt.show()"
   ]
  },
  {
   "cell_type": "markdown",
   "metadata": {
    "heading_collapsed": true
   },
   "source": [
    "## 【問題8】（アドバンス課題）バイアス項の除去"
   ]
  },
  {
   "cell_type": "markdown",
   "metadata": {
    "hidden": true
   },
   "source": [
    "* バイアス項$\\begin{align}\\theta_0\\end{align}$を抜くと学習がどう変化するか検証せよ。\n",
    "* また、線形回帰モデルにおけるバイアス項の役割の考察・調査せよ。"
   ]
  },
  {
   "cell_type": "markdown",
   "metadata": {
    "hidden": true
   },
   "source": [
    "1. 自作モデル、ScratchLinearRegression()にバイアス項のon/off機能を追加。\n",
    "    * 現状、バイアス項が無いので、バイアス項を追加させる。\n",
    "2. 結果を比較検証する。\n",
    "3. バイアス項について、調べる。"
   ]
  },
  {
   "cell_type": "code",
   "execution_count": 12,
   "metadata": {
    "ExecuteTime": {
     "end_time": "2020-11-17T00:44:08.033039Z",
     "start_time": "2020-11-17T00:44:08.021071Z"
    },
    "hidden": true
   },
   "outputs": [
    {
     "name": "stdout",
     "output_type": "stream",
     "text": [
      "バイアス有りのscratchモデルのMSE: 2.25e+09\n"
     ]
    }
   ],
   "source": [
    "# バイアス項が有る場合\n",
    "\n",
    "scratch_lr = ScratchLinearRegression(num_iter=100, lr=0.1, no_bias=False, verbose=False)\n",
    "\n",
    "scratch_lr.fit(X_train_std, y_train, X_val=X_test_std, y_val=y_test)\n",
    "\n",
    "scratch_pred = scratch_lr.predict(X_test_std)\n",
    "\n",
    "scratch_mse = MSE(y_test, scratch_pred)\n",
    "\n",
    "print(f'バイアス有りのscratchモデルのMSE: {scratch_mse:.3g}')"
   ]
  },
  {
   "cell_type": "code",
   "execution_count": 91,
   "metadata": {
    "ExecuteTime": {
     "end_time": "2020-11-16T04:58:39.329006Z",
     "start_time": "2020-11-16T04:58:39.219299Z"
    },
    "hidden": true
   },
   "outputs": [
    {
     "data": {
      "image/png": "[encoded data removed]",
      "text/plain": [
       "<Figure size 432x288 with 1 Axes>"
      ]
     },
     "metadata": {
      "needs_background": "light"
     },
     "output_type": "display_data"
    }
   ],
   "source": [
    "import matplotlib.pyplot as plt\n",
    "%matplotlib inline\n",
    "\n",
    "plt.figure\n",
    "\n",
    "plt.plot(np.arange(len(scratch_lr.loss)), scratch_lr.loss, label='train loss')\n",
    "plt.plot(np.arange(len(scratch_lr.val_loss)), scratch_lr.val_loss, label='val loss')\n",
    "\n",
    "plt.title(\"Scratch Model Loss with bias\")\n",
    "plt.xlabel(\"Iteration\")\n",
    "plt.ylabel(\"Loss\")\n",
    "plt.legend()\n",
    "\n",
    "plt.show()"
   ]
  },
  {
   "cell_type": "code",
   "execution_count": 13,
   "metadata": {
    "ExecuteTime": {
     "end_time": "2020-11-17T00:44:17.730737Z",
     "start_time": "2020-11-17T00:44:17.719766Z"
    },
    "hidden": true,
    "scrolled": true
   },
   "outputs": [
    {
     "name": "stdout",
     "output_type": "stream",
     "text": [
      "バイアス無しのscratchモデルのMSE: 3.4e+10\n"
     ]
    }
   ],
   "source": [
    "# バイアス項が無い場合\n",
    "\n",
    "scratch_lr = ScratchLinearRegression(num_iter=100, lr=0.1, no_bias=True, verbose=False)\n",
    "\n",
    "scratch_lr.fit(X_train_std, y_train, X_val=X_test_std, y_val=y_test)\n",
    "\n",
    "scratch_pred = scratch_lr.predict(X_test_std)\n",
    "\n",
    "scratch_mse = MSE(y_test, scratch_pred)\n",
    "\n",
    "print(f'バイアス無しのscratchモデルのMSE: {scratch_mse:.3g}')"
   ]
  },
  {
   "cell_type": "code",
   "execution_count": 89,
   "metadata": {
    "ExecuteTime": {
     "end_time": "2020-11-16T04:58:26.951392Z",
     "start_time": "2020-11-16T04:58:26.843174Z"
    },
    "hidden": true
   },
   "outputs": [
    {
     "data": {
      "image/png": "[encoded data removed]",
      "text/plain": [
       "<Figure size 432x288 with 1 Axes>"
      ]
     },
     "metadata": {
      "needs_background": "light"
     },
     "output_type": "display_data"
    }
   ],
   "source": [
    "import matplotlib.pyplot as plt\n",
    "%matplotlib inline\n",
    "\n",
    "plt.figure\n",
    "\n",
    "plt.plot(np.arange(len(scratch_lr.loss)), scratch_lr.loss, label='train loss')\n",
    "plt.plot(np.arange(len(scratch_lr.val_loss)), scratch_lr.val_loss, label='val loss')\n",
    "\n",
    "plt.title(\"Scratch Model Loss with no_bias\")\n",
    "plt.xlabel(\"Iteration\")\n",
    "plt.ylabel(\"Loss\")\n",
    "plt.legend()\n",
    "\n",
    "plt.show()"
   ]
  },
  {
   "cell_type": "markdown",
   "metadata": {
    "hidden": true
   },
   "source": [
    "### 【考察】\n",
    "\n",
    "* バイアス項が有ることによって、平均二乗誤差がバイアス項有りと比較して大きく減少した。\n",
    "* そもそもバイアスとは推定結果と実測値との差のため、差異が小さい程、予測精度が高くなるが、過学習に陥る可能性がある。\n",
    "* バイアスが無い状態とは$\\begin{align}\\theta_0 = 0\\end{align}$と同じ意味のため、正確にはバイアス項が無いとは言い難い。\n",
    "    * ただし、$\\begin{align}\\theta_0 = 0\\end{align}$という事は、必ず原点を通ることになるので、強引なfit（過学習）になる。\n",
    "* 結果的にバイアス項の有無によって、MSEが変化する直接的な理由は上記と思われる。"
   ]
  },
  {
   "cell_type": "markdown",
   "metadata": {
    "heading_collapsed": true
   },
   "source": [
    "## 【問題9】（アドバンス課題）特徴量の多次元化"
   ]
  },
  {
   "cell_type": "markdown",
   "metadata": {
    "hidden": true
   },
   "source": [
    "* 特徴量の二乗や三乗を入力に利用すると学習結果がどう変化するか検証せよ。"
   ]
  },
  {
   "cell_type": "code",
   "execution_count": 38,
   "metadata": {
    "ExecuteTime": {
     "end_time": "2020-11-17T01:18:10.997708Z",
     "start_time": "2020-11-17T01:18:10.990727Z"
    },
    "hidden": true
   },
   "outputs": [
    {
     "name": "stdout",
     "output_type": "stream",
     "text": [
      "X_train_square.shape: (1022, 2)\n",
      "X_train_cube.shape: (1022, 2)\n"
     ]
    }
   ],
   "source": [
    "# 入力サンプルをダ次元化（二乗、三乗）させる。\n",
    "\n",
    "from sklearn.model_selection import train_test_split\n",
    "\n",
    "X_train, X_test, y_train, y_test = train_test_split(X_house, y_house, test_size=0.3)\n",
    "\n",
    "y_train = np.reshape(y_train,(-1))\n",
    "y_test = np.reshape(y_test,(-1))\n",
    "\n",
    "X_train_square = X_train ** 2\n",
    "X_test_square = X_test ** 3\n",
    "print(f'X_train_square.shape: {X_train_square.shape}')\n",
    "\n",
    "X_train_cube = X_train ** 3\n",
    "X_test_cube = X_test ** 3\n",
    "print(f'X_train_cube.shape: {X_train_cube.shape}')"
   ]
  },
  {
   "cell_type": "code",
   "execution_count": 19,
   "metadata": {
    "ExecuteTime": {
     "end_time": "2020-11-17T00:54:43.079526Z",
     "start_time": "2020-11-17T00:54:43.073542Z"
    },
    "hidden": true
   },
   "outputs": [],
   "source": [
    "# 線形回帰のため、標準化を行う\n",
    "from sklearn.preprocessing import StandardScaler\n",
    "\n",
    "scaler = StandardScaler()\n",
    "X_train_square_std = scaler.fit_transform(X_train_square)\n",
    "X_test_square_std = scaler.transform(X_test_square)\n",
    "\n",
    "X_train_cube_std = scaler.fit_transform(X_train_cube)\n",
    "X_test_cube_std = scaler.transform(X_test_cube)"
   ]
  },
  {
   "cell_type": "code",
   "execution_count": 36,
   "metadata": {
    "ExecuteTime": {
     "end_time": "2020-11-17T01:18:10.825663Z",
     "start_time": "2020-11-17T01:09:00.714414Z"
    },
    "hidden": true
   },
   "outputs": [
    {
     "name": "stderr",
     "output_type": "stream",
     "text": [
      "C:\\Users\\Nacho\\Anaconda3\\envs\\jupyter_tensorflow\\lib\\site-packages\\ipykernel_launcher.py:187: RuntimeWarning: overflow encountered in square\n",
      "C:\\Users\\Nacho\\Anaconda3\\envs\\jupyter_tensorflow\\lib\\site-packages\\numpy\\core\\fromnumeric.py:87: RuntimeWarning: overflow encountered in reduce\n",
      "  return ufunc.reduce(obj, axis, dtype, out, **passkwargs)\n",
      "C:\\Users\\Nacho\\Anaconda3\\envs\\jupyter_tensorflow\\lib\\site-packages\\ipykernel_launcher.py:136: RuntimeWarning: overflow encountered in matmul\n",
      "C:\\Users\\Nacho\\Anaconda3\\envs\\jupyter_tensorflow\\lib\\site-packages\\ipykernel_launcher.py:136: RuntimeWarning: invalid value encountered in matmul\n",
      "C:\\Users\\Nacho\\Anaconda3\\envs\\jupyter_tensorflow\\lib\\site-packages\\ipykernel_launcher.py:136: RuntimeWarning: invalid value encountered in subtract\n"
     ]
    },
    {
     "name": "stdout",
     "output_type": "stream",
     "text": [
      "バイアス有りのscratchモデルのMSE: nan\n"
     ]
    },
    {
     "data": {
      "image/png": "[encoded data removed]",
      "text/plain": [
       "<Figure size 432x288 with 1 Axes>"
      ]
     },
     "metadata": {
      "needs_background": "light"
     },
     "output_type": "display_data"
    }
   ],
   "source": [
    "# 入力値が二乗の場合（非標準化）\n",
    "\n",
    "scratch_lr = ScratchLinearRegression(num_iter=10000000, lr=0.000001, no_bias=False, verbose=False)\n",
    "\n",
    "scratch_lr.fit(X_train_square, y_train, X_val=X_test_square, y_val=y_test)\n",
    "\n",
    "scratch_pred = scratch_lr.predict(X_test_square)\n",
    "\n",
    "scratch_mse = MSE(y_test, scratch_pred)\n",
    "\n",
    "print(f'バイアス有りのscratchモデルのMSE: {scratch_mse:.3g}')\n",
    "\n",
    "import matplotlib.pyplot as plt\n",
    "%matplotlib inline\n",
    "\n",
    "plt.figure\n",
    "\n",
    "plt.plot(np.arange(len(scratch_lr.loss)), scratch_lr.loss, label='train loss')\n",
    "plt.plot(np.arange(len(scratch_lr.val_loss)), scratch_lr.val_loss, label='val loss')\n",
    "\n",
    "plt.title(\"Scratch Model Loss with squared input\")\n",
    "plt.xlabel(\"Iteration\")\n",
    "plt.ylabel(\"Loss\")\n",
    "plt.legend()\n",
    "\n",
    "plt.show()"
   ]
  },
  {
   "cell_type": "code",
   "execution_count": 32,
   "metadata": {
    "ExecuteTime": {
     "end_time": "2020-11-17T01:01:06.240897Z",
     "start_time": "2020-11-17T01:01:06.227932Z"
    },
    "hidden": true
   },
   "outputs": [
    {
     "name": "stdout",
     "output_type": "stream",
     "text": [
      "バイアス有りのscratchモデルのMSE: 4.98e+18\n"
     ]
    }
   ],
   "source": [
    "# 入力値が二乗の場合（標準化）\n",
    "\n",
    "scratch_lr = ScratchLinearRegression(num_iter=100, lr=0.1, no_bias=False, verbose=False)\n",
    "\n",
    "scratch_lr.fit(X_train_square_std, y_train, X_val=X_test_square_std, y_val=y_test)\n",
    "\n",
    "scratch_pred = scratch_lr.predict(X_test_square_std)\n",
    "\n",
    "scratch_mse = MSE(y_test, scratch_pred)\n",
    "\n",
    "print(f'バイアス有りのscratchモデルのMSE: {scratch_mse:.3g}')"
   ]
  },
  {
   "cell_type": "code",
   "execution_count": 37,
   "metadata": {
    "ExecuteTime": {
     "end_time": "2020-11-17T01:18:10.988733Z",
     "start_time": "2020-11-17T01:18:10.826660Z"
    },
    "hidden": true
   },
   "outputs": [
    {
     "name": "stdout",
     "output_type": "stream",
     "text": [
      "バイアス有りのscratchモデルのMSE: nan\n"
     ]
    },
    {
     "name": "stderr",
     "output_type": "stream",
     "text": [
      "C:\\Users\\Nacho\\Anaconda3\\envs\\jupyter_tensorflow\\lib\\site-packages\\ipykernel_launcher.py:187: RuntimeWarning: overflow encountered in square\n",
      "C:\\Users\\Nacho\\Anaconda3\\envs\\jupyter_tensorflow\\lib\\site-packages\\ipykernel_launcher.py:136: RuntimeWarning: overflow encountered in matmul\n",
      "C:\\Users\\Nacho\\Anaconda3\\envs\\jupyter_tensorflow\\lib\\site-packages\\ipykernel_launcher.py:136: RuntimeWarning: invalid value encountered in matmul\n",
      "C:\\Users\\Nacho\\Anaconda3\\envs\\jupyter_tensorflow\\lib\\site-packages\\ipykernel_launcher.py:136: RuntimeWarning: invalid value encountered in subtract\n"
     ]
    },
    {
     "data": {
      "image/png": "[encoded data removed]",
      "text/plain": [
       "<Figure size 432x288 with 1 Axes>"
      ]
     },
     "metadata": {
      "needs_background": "light"
     },
     "output_type": "display_data"
    }
   ],
   "source": [
    "# 入力値が三乗の場合（非標準化）\n",
    "\n",
    "scratch_lr = ScratchLinearRegression(num_iter=100, lr=0.1, no_bias=False, verbose=False)\n",
    "\n",
    "scratch_lr.fit(X_train_cube, y_train, X_val=X_test_cube, y_val=y_test)\n",
    "\n",
    "scratch_pred = scratch_lr.predict(X_test_cube)\n",
    "\n",
    "scratch_mse = MSE(y_test, scratch_pred)\n",
    "\n",
    "print(f'バイアス有りのscratchモデルのMSE: {scratch_mse:.3g}')\n",
    "\n",
    "import matplotlib.pyplot as plt\n",
    "%matplotlib inline\n",
    "\n",
    "plt.figure\n",
    "\n",
    "plt.plot(np.arange(len(scratch_lr.loss)), scratch_lr.loss, label='train loss')\n",
    "plt.plot(np.arange(len(scratch_lr.val_loss)), scratch_lr.val_loss, label='val loss')\n",
    "\n",
    "plt.title(\"Scratch Model Loss with squared input\")\n",
    "plt.xlabel(\"Iteration\")\n",
    "plt.ylabel(\"Loss\")\n",
    "plt.legend()\n",
    "\n",
    "plt.show()"
   ]
  },
  {
   "cell_type": "code",
   "execution_count": 22,
   "metadata": {
    "ExecuteTime": {
     "end_time": "2020-11-17T00:54:49.050614Z",
     "start_time": "2020-11-17T00:54:49.040641Z"
    },
    "hidden": true
   },
   "outputs": [
    {
     "name": "stdout",
     "output_type": "stream",
     "text": [
      "バイアス有りのscratchモデルのMSE: 3.3e+09\n"
     ]
    }
   ],
   "source": [
    "# 入力値が三乗の場合（標準化）\n",
    "\n",
    "scratch_lr = ScratchLinearRegression(num_iter=100, lr=0.1, no_bias=False, verbose=False)\n",
    "\n",
    "scratch_lr.fit(X_train_cube_std, y_train, X_val=X_test_std, y_val=y_test)\n",
    "\n",
    "scratch_pred = scratch_lr.predict(X_test_cube_std)\n",
    "\n",
    "scratch_mse = MSE(y_test, scratch_pred)\n",
    "\n",
    "print(f'バイアス有りのscratchモデルのMSE: {scratch_mse:.3g}')"
   ]
  },
  {
   "cell_type": "markdown",
   "metadata": {
    "hidden": true
   },
   "source": [
    "【考察】\n",
    "\n",
    "* 標準化せずして入力値を二乗、三乗を行うことによって、学習が収束しないことを確認した。\n",
    "* また、標準化することによって、上記の問題を回避する事ができると判明したため、やはり標準化の重要性を理解できた。"
   ]
  },
  {
   "cell_type": "markdown",
   "metadata": {},
   "source": [
    "## 【問題10】（アドバンス課題）更新式の導出"
   ]
  },
  {
   "cell_type": "markdown",
   "metadata": {},
   "source": [
    "* 最急降下法の更新式が導出される過程を説明せよ。\n",
    "    * $\\begin{align}\n",
    "\\theta_j := \\theta_j-\\alpha\\frac{1}{m}\\sum_{i=1}^{m}[(h_\\theta(x^{(i)})-y^{(i)})x_j^{(i)}]\n",
    "\\end{align}$\n",
    "\n",
    "* 次の式から説明せよ。\n",
    "    * $\\begin{align}\\theta_j:= \\theta_j - \\frac{\\partial}{\\partial\\theta_j}J(\\theta)\\end{align}$\n",
    "\n",
    "    * $\\begin{align}J(\\theta) = \\frac{1}{2m}\\sum_{i=1}^{m}(h_\\theta(x^{(i)}) - y^{(i)})^2\\end{align}$"
   ]
  },
  {
   "cell_type": "markdown",
   "metadata": {},
   "source": [
    "### 【解説】\n",
    "\n",
    "1. 最急降下法とは目的関数（評価関数又は損失関数）$\\begin{align}J(\\theta) = \\frac{1}{2m}\\sum_{i=1}^{m}(h_\\theta(x^{(i)}) - y^{(i)})^2\\end{align}$の最小値を求めるためのベクトルのパラメータ$\\begin{align}\\theta_j\\end{align}$を求める事である。\n",
    "    * つまり、今いる位置における最急降下`方向`（関数の値が最も小さくなる方向）を計算する。\n",
    "\n",
    "2. $\\begin{align}\\theta_j:= \\theta_j - \\frac{\\partial}{\\partial\\theta_j}J(\\theta)\\end{align}$は、$\\begin{align}\\theta_j\\end{align}$の偏微分の項（勾配）であり、斜面の方向を示す式である。\n",
    "    * つまり、今いる位置における傾き（微分）を求める。\n",
    "        * 斜面の方向（最急降下方向）は各変数での微分係数を並べたベクトル（勾配ベクトル）の反対向きである。\n",
    "        * 傾きが正なら左が小さい。\n",
    "        * 傾きが負なら右が小さい。\n",
    "   \n",
    "    * $\\begin{align}\\partial \\end{align}$ はパーシャル、又は偏微分のことである。\n",
    "        * 多変数関数に対して、一つの変数のみの微分（ある量の変化の感度）の事である。\n",
    "\n",
    "3. 斜面の方向を示した後、学習率である$\\begin{align}\\alpha\\end{align}$が、斜面方向へ移動する大きさを示す。\n",
    "    * 傾きに比例した距離だけ動くことになる。\n",
    "        * 傾きが大きい程、局所解までの距離が遠い傾向がある。\n",
    "        * よって、局所解までの距離が近づくと、傾きも小さくなり、移動距離も小さくなり、最小点を飛び越えるリスクが少なく済む。\n",
    "        * 以上を則って収束する。\n",
    "\n",
    "4. 上記2と3を反復し、収束したら終了となる。\n",
    "\n",
    "-----\n"
   ]
  },
  {
   "cell_type": "markdown",
   "metadata": {},
   "source": [
    "#### 1. 目的関数の式の$h_\\theta(x^{(i)})$は$\\theta x^{(i)}$なので、これを代入\n",
    "\n",
    "\n",
    "\n",
    "$\\begin{align}J(\\theta) = \\frac{1}{2m}\\sum_{i=1}^{m}(\\theta x^{(i)} - y^{(i)})^2\\end{align}$\n"
   ]
  },
  {
   "cell_type": "markdown",
   "metadata": {},
   "source": [
    "#### 2. $J(\\theta)$の$\\theta_j$に対する偏微分を計算\n",
    "\n",
    "\n",
    "\n",
    "$\\begin{align}\\frac{\\partial}{\\partial\\theta_j}J(\\theta) = \\frac{2}{2m}\\frac{\\partial}{\\partial\\theta_j}\\sum_{i=1}^{m}(\\theta x_j^{(i)} - y^{(i)}) = \\frac{1}{m} \\sum_{i=1}^{m} (\\theta x_j^{(i)} - y^{(i)})x_j^{(i)} \\end{align}$"
   ]
  },
  {
   "cell_type": "markdown",
   "metadata": {},
   "source": [
    "#### 3. 2の偏微分を最急降下法の式に代入\n",
    "\n",
    "\n",
    "\n",
    "$\\begin{align}\\theta_j := \\theta_j - \\frac{1}{m} \\sum_{i=1}^{m} (\\theta x_j^{(i)} - y^{(i)})x_j^{(i)}\\end{align}$\n",
    "\n",
    "\n",
    "\n"
   ]
  },
  {
   "cell_type": "markdown",
   "metadata": {},
   "source": [
    "#### 4. 最後に$h_\\theta(x^{(i)})$を戻し、更新式の完成\n",
    "\n",
    "\n",
    "\n",
    "$\\begin{align}\\theta_j := \\theta_j - \\frac{1}{m} \\sum_{i=1}^{m} (h_\\theta (x_j^{(i)}) - y^{(i)})x_j^{(i)}\\end{align}$\n",
    "\n",
    "\n"
   ]
  },
  {
   "cell_type": "code",
   "execution_count": null,
   "metadata": {},
   "outputs": [],
   "source": []
  }
 ],
 "metadata": {
  "kernelspec": {
   "display_name": "Python 3.7 (tensorflow)",
   "language": "python",
   "name": "jupyter_tensorflow"
  },
  "language_info": {
   "codemirror_mode": {
    "name": "ipython",
    "version": 3
   },
   "file_extension": ".py",
   "mimetype": "text/x-python",
   "name": "python",
   "nbconvert_exporter": "python",
   "pygments_lexer": "ipython3",
   "version": "3.7.9"
  },
  "toc": {
   "base_numbering": 1,
   "nav_menu": {},
   "number_sections": true,
   "sideBar": true,
   "skip_h1_title": false,
   "title_cell": "Table of Contents",
   "title_sidebar": "Contents",
   "toc_cell": false,
   "toc_position": {},
   "toc_section_display": true,
   "toc_window_display": false
  }
 },
 "nbformat": 4,
 "nbformat_minor": 4
}
