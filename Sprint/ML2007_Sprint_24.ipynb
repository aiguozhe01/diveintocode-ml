{
  "nbformat": 4,
  "nbformat_minor": 0,
  "metadata": {
    "colab": {
      "name": "Sprint_24.ipynb",
      "provenance": []
    },
    "kernelspec": {
      "name": "python3",
      "display_name": "Python 3"
    }
  },
  "cells": [
    {
      "cell_type": "markdown",
      "metadata": {
        "id": "mGSrvC4vGL-T"
      },
      "source": [
        "# Sprint Seq2Seq"
      ]
    },
    {
      "cell_type": "markdown",
      "metadata": {
        "id": "FQTQDqROGNrm"
      },
      "source": [
        "## 【問題1】機械翻訳の実行とコードリーディング"
      ]
    },
    {
      "cell_type": "code",
      "metadata": {
        "id": "-eCDPjgoGBKf"
      },
      "source": [
        "from __future__ import print_function\n",
        "\n",
        "from keras.models import Model\n",
        "from keras.layers import Input, LSTM, Dense\n",
        "import numpy as np"
      ],
      "execution_count": 2,
      "outputs": []
    },
    {
      "cell_type": "code",
      "metadata": {
        "id": "7pppgMOFGyTK",
        "outputId": "66e47b4f-3de8-4aaa-ee7a-42aa0558299c",
        "colab": {
          "base_uri": "https://localhost:8080/",
          "height": 34
        }
      },
      "source": [
        "cd /content/drive/My Drive/DIC/dataset"
      ],
      "execution_count": 6,
      "outputs": [
        {
          "output_type": "stream",
          "text": [
            "/content/drive/My Drive/DIC/dataset\n"
          ],
          "name": "stdout"
        }
      ]
    },
    {
      "cell_type": "code",
      "metadata": {
        "id": "9jFhyUC3Gl5G",
        "outputId": "5613ef2a-53aa-48b6-9a89-7035d075e618",
        "colab": {
          "base_uri": "https://localhost:8080/",
          "height": 255
        }
      },
      "source": [
        "# 英仏文のデータをgoogleドライブにダウンロード\n",
        "!wget http://www.manythings.org/anki/fra-eng.zip\n",
        "# 解凍\n",
        "!unzip fra-eng.zip"
      ],
      "execution_count": 7,
      "outputs": [
        {
          "output_type": "stream",
          "text": [
            "--2020-10-09 02:23:35--  http://www.manythings.org/anki/fra-eng.zip\n",
            "Resolving www.manythings.org (www.manythings.org)... 104.24.108.196, 104.24.109.196, 172.67.173.198, ...\n",
            "Connecting to www.manythings.org (www.manythings.org)|104.24.108.196|:80... connected.\n",
            "HTTP request sent, awaiting response... 200 OK\n",
            "Length: 6073837 (5.8M) [application/zip]\n",
            "Saving to: ‘fra-eng.zip’\n",
            "\n",
            "fra-eng.zip         100%[===================>]   5.79M  1.78MB/s    in 3.3s    \n",
            "\n",
            "2020-10-09 02:23:38 (1.78 MB/s) - ‘fra-eng.zip’ saved [6073837/6073837]\n",
            "\n",
            "Archive:  fra-eng.zip\n",
            "  inflating: _about.txt              \n",
            "  inflating: fra.txt                 \n"
          ],
          "name": "stdout"
        }
      ]
    },
    {
      "cell_type": "markdown",
      "metadata": {
        "id": "P-agWtPWOiW1"
      },
      "source": [
        "* 短い英文から短い仏文への機械翻訳を行う\n",
        "* LSTMが入力値を2通りのベクターに変換する。\n",
        "* LSTMデコーダーは目的シーケンスを同じにするため、１ステップ先で相殺させる訓練を行う。\n",
        "  * これを「強制訓練」と述べている。\n",
        "  * よって、目的変数の時系列tを入力値として、t+1を出力する。\n",
        "* 未知のシーケンスを入力した場合。\n",
        "  1. 入力値をstate_vectorsに符号化する。\n",
        "  2. size_1のtaget_sequenceを実行\n",
        "  3. state_vectorsとtarget_sequenceを複合化に放り込んで、次の語の推測に用いる。\n",
        "  4. argmaxを用いて次の語のサンプルを推測\n",
        "  5. 推測したサンプルをtarget_sequenceに追加\n",
        "  6. 以上を繰り返す。"
      ]
    },
    {
      "cell_type": "code",
      "metadata": {
        "id": "bmI2WjGPGKXs"
      },
      "source": [
        "batch_size = 64  # Batch size for training.\n",
        "epochs = 100  # Number of epochs to train for.\n",
        "latent_dim = 256  # Latent dimensionality of the encoding space.\n",
        "num_samples = 10000  # Number of samples to train on.\n",
        "# Path to the data txt file on disk.\n",
        "data_path = 'fra-eng/fra.txt'"
      ],
      "execution_count": 17,
      "outputs": []
    },
    {
      "cell_type": "markdown",
      "metadata": {
        "id": "3naLv6lLC5Cw"
      },
      "source": [
        "* 入力データをベクター化\n",
        "  * fra.txtを読み込む。\n",
        "  * txt内の各行を行毎に正規表現\n",
        "    * input_texts, target_textsに代入する。\n",
        "    * input_texts, target_textsから各語をinput_characters, target_charactersに追記する。\n",
        "    * input_characterの要素数がnum_encoder_tokens\n",
        "    * taget_characterの要素数がnum_decoder_tokens\n",
        "    "
      ]
    },
    {
      "cell_type": "code",
      "metadata": {
        "id": "qGqNU3RxGbTH",
        "outputId": "23c2f62f-6f79-4d86-e317-3428b16fe0e8",
        "colab": {
          "base_uri": "https://localhost:8080/",
          "height": 102
        }
      },
      "source": [
        "# Vectorize the data.\n",
        "input_texts = []\n",
        "target_texts = []\n",
        "input_characters = set()\n",
        "target_characters = set()\n",
        "with open(data_path, 'r', encoding='utf-8') as f:\n",
        "    lines = f.read().split('\\n')\n",
        "for line in lines[: min(num_samples, len(lines) - 1)]:\n",
        "    input_text, target_text, _ = line.split('\\t')\n",
        "    # We use \"tab\" as the \"start sequence\" character\n",
        "    # for the targets, and \"\\n\" as \"end sequence\" character.\n",
        "    target_text = '\\t' + target_text + '\\n'\n",
        "    input_texts.append(input_text)\n",
        "    target_texts.append(target_text)\n",
        "    for char in input_text:\n",
        "        if char not in input_characters:\n",
        "            input_characters.add(char)\n",
        "    for char in target_text:\n",
        "        if char not in target_characters:\n",
        "            target_characters.add(char)\n",
        "\n",
        "input_characters = sorted(list(input_characters))\n",
        "target_characters = sorted(list(target_characters))\n",
        "num_encoder_tokens = len(input_characters)\n",
        "num_decoder_tokens = len(target_characters)\n",
        "max_encoder_seq_length = max([len(txt) for txt in input_texts])\n",
        "max_decoder_seq_length = max([len(txt) for txt in target_texts])\n",
        "\n",
        "print('Number of samples:', len(input_texts))\n",
        "print('Number of unique input tokens:', num_encoder_tokens)\n",
        "print('Number of unique output tokens:', num_decoder_tokens)\n",
        "print('Max sequence length for inputs:', max_encoder_seq_length)\n",
        "print('Max sequence length for outputs:', max_decoder_seq_length)\n",
        "\n",
        "input_token_index = dict(\n",
        "    [(char, i) for i, char in enumerate(input_characters)])\n",
        "target_token_index = dict(\n",
        "    [(char, i) for i, char in enumerate(target_characters)])\n",
        "\n",
        "encoder_input_data = np.zeros(\n",
        "    (len(input_texts), max_encoder_seq_length, num_encoder_tokens),\n",
        "    dtype='float32')\n",
        "decoder_input_data = np.zeros(\n",
        "    (len(input_texts), max_decoder_seq_length, num_decoder_tokens),\n",
        "    dtype='float32')\n",
        "decoder_target_data = np.zeros(\n",
        "    (len(input_texts), max_decoder_seq_length, num_decoder_tokens),\n",
        "    dtype='float32')\n",
        "\n",
        "for i, (input_text, target_text) in enumerate(zip(input_texts, target_texts)):\n",
        "    for t, char in enumerate(input_text):\n",
        "        encoder_input_data[i, t, input_token_index[char]] = 1.\n",
        "    encoder_input_data[i, t + 1:, input_token_index[' ']] = 1.\n",
        "    for t, char in enumerate(target_text):\n",
        "        # decoder_target_data is ahead of decoder_input_data by one timestep\n",
        "        decoder_input_data[i, t, target_token_index[char]] = 1.\n",
        "        if t > 0:\n",
        "            # decoder_target_data will be ahead by one timestep\n",
        "            # and will not include the start character.\n",
        "            decoder_target_data[i, t - 1, target_token_index[char]] = 1.\n",
        "    decoder_input_data[i, t + 1:, target_token_index[' ']] = 1.\n",
        "    decoder_target_data[i, t:, target_token_index[' ']] = 1."
      ],
      "execution_count": 18,
      "outputs": [
        {
          "output_type": "stream",
          "text": [
            "Number of samples: 10000\n",
            "Number of unique input tokens: 71\n",
            "Number of unique output tokens: 93\n",
            "Max sequence length for inputs: 15\n",
            "Max sequence length for outputs: 59\n"
          ],
          "name": "stdout"
        }
      ]
    },
    {
      "cell_type": "markdown",
      "metadata": {
        "id": "RNmo-fNTGyP_"
      },
      "source": [
        "* encoder_inputsをLSTMで処理する。\n",
        "  * state_h, state_cのみを残す。\n",
        "\n",
        "* decoder_inputsをnum_decoder_tokensの要素数を列数として形成する。"
      ]
    },
    {
      "cell_type": "code",
      "metadata": {
        "id": "8j-wSkFVMLMc"
      },
      "source": [
        "# Define an input sequence and process it.\n",
        "encoder_inputs = Input(shape=(None, num_encoder_tokens))\n",
        "encoder = LSTM(latent_dim, return_state=True)\n",
        "encoder_outputs, state_h, state_c = encoder(encoder_inputs)\n",
        "# We discard `encoder_outputs` and only keep the states.\n",
        "encoder_states = [state_h, state_c]\n",
        "\n",
        "# Set up the decoder, using `encoder_states` as initial state.\n",
        "decoder_inputs = Input(shape=(None, num_decoder_tokens))\n",
        "# We set up our decoder to return full output sequences,\n",
        "# and to return internal states as well. We don't use the\n",
        "# return states in the training model, but we will use them in inference.\n",
        "decoder_lstm = LSTM(latent_dim, return_sequences=True, return_state=True)\n",
        "decoder_outputs, _, _ = decoder_lstm(decoder_inputs,\n",
        "                                     initial_state=encoder_states)\n",
        "decoder_dense = Dense(num_decoder_tokens, activation='softmax')\n",
        "decoder_outputs = decoder_dense(decoder_outputs)"
      ],
      "execution_count": null,
      "outputs": []
    },
    {
      "cell_type": "markdown",
      "metadata": {
        "id": "pyFOTWyFMO6I"
      },
      "source": [
        "* encoder_input_dataとdecoder_input_dataをdecoder_target_dataとしてmodel化する。\n",
        "* モデルの訓練を行い、保存する。"
      ]
    },
    {
      "cell_type": "code",
      "metadata": {
        "id": "ucGNXQ_BMlkf"
      },
      "source": [
        "# Define the model that will turn\n",
        "# `encoder_input_data` & `decoder_input_data` into `decoder_target_data`\n",
        "model = Model([encoder_inputs, decoder_inputs], decoder_outputs)\n",
        "\n",
        "# Run training\n",
        "model.compile(optimizer='rmsprop', loss='categorical_crossentropy',\n",
        "              metrics=['accuracy'])\n",
        "model.fit([encoder_input_data, decoder_input_data], decoder_target_data,\n",
        "          batch_size=batch_size,\n",
        "          epochs=epochs,\n",
        "          validation_split=0.2)\n",
        "# Save model\n",
        "model.save('s2s.h5')"
      ],
      "execution_count": null,
      "outputs": []
    },
    {
      "cell_type": "markdown",
      "metadata": {
        "id": "LTPnqu1RM097"
      },
      "source": [
        "* サンプリング\n",
        "  1. 入力値を符号化、複合用の初期値とする。\n",
        "  2. その初期値を用いて、複合化を一度実施する。\n",
        "    * start_of_sequenceのtokenを目的変数とする。\n",
        "    * 出力値が次のtokenとなる。\n",
        "  3. 以上を繰り返す。"
      ]
    },
    {
      "cell_type": "code",
      "metadata": {
        "id": "yzKpWzxWGh_Y",
        "outputId": "dc8e61d7-bbe4-490f-da4f-9feb5345f5af",
        "colab": {
          "base_uri": "https://localhost:8080/",
          "height": 1000
        }
      },
      "source": [
        "# Next: inference mode (sampling).\n",
        "# Here's the drill:\n",
        "# 1) encode input and retrieve initial decoder state\n",
        "# 2) run one step of decoder with this initial state\n",
        "# and a \"start of sequence\" token as target.\n",
        "# Output will be the next target token\n",
        "# 3) Repeat with the current target token and current states\n",
        "\n",
        "# Define sampling models\n",
        "encoder_model = Model(encoder_inputs, encoder_states)\n",
        "\n",
        "decoder_state_input_h = Input(shape=(latent_dim,))\n",
        "decoder_state_input_c = Input(shape=(latent_dim,))\n",
        "decoder_states_inputs = [decoder_state_input_h, decoder_state_input_c]\n",
        "decoder_outputs, state_h, state_c = decoder_lstm(\n",
        "    decoder_inputs, initial_state=decoder_states_inputs)\n",
        "decoder_states = [state_h, state_c]\n",
        "decoder_outputs = decoder_dense(decoder_outputs)\n",
        "decoder_model = Model(\n",
        "    [decoder_inputs] + decoder_states_inputs,\n",
        "    [decoder_outputs] + decoder_states)\n",
        "\n",
        "# Reverse-lookup token index to decode sequences back to\n",
        "# something readable.\n",
        "reverse_input_char_index = dict(\n",
        "    (i, char) for char, i in input_token_index.items())\n",
        "reverse_target_char_index = dict(\n",
        "    (i, char) for char, i in target_token_index.items())\n",
        "\n",
        "\n",
        "def decode_sequence(input_seq):\n",
        "    # Encode the input as state vectors.\n",
        "    states_value = encoder_model.predict(input_seq)\n",
        "\n",
        "    # Generate empty target sequence of length 1.\n",
        "    target_seq = np.zeros((1, 1, num_decoder_tokens))\n",
        "    # Populate the first character of target sequence with the start character.\n",
        "    target_seq[0, 0, target_token_index['\\t']] = 1.\n",
        "\n",
        "    # Sampling loop for a batch of sequences\n",
        "    # (to simplify, here we assume a batch of size 1).\n",
        "    stop_condition = False\n",
        "    decoded_sentence = ''\n",
        "    while not stop_condition:\n",
        "        output_tokens, h, c = decoder_model.predict(\n",
        "            [target_seq] + states_value)\n",
        "\n",
        "        # Sample a token\n",
        "        sampled_token_index = np.argmax(output_tokens[0, -1, :])\n",
        "        sampled_char = reverse_target_char_index[sampled_token_index]\n",
        "        decoded_sentence += sampled_char\n",
        "\n",
        "        # Exit condition: either hit max length\n",
        "        # or find stop character.\n",
        "        if (sampled_char == '\\n' or\n",
        "           len(decoded_sentence) > max_decoder_seq_length):\n",
        "            stop_condition = True\n",
        "\n",
        "        # Update the target sequence (of length 1).\n",
        "        target_seq = np.zeros((1, 1, num_decoder_tokens))\n",
        "        target_seq[0, 0, sampled_token_index] = 1.\n",
        "\n",
        "        # Update states\n",
        "        states_value = [h, c]\n",
        "\n",
        "    return decoded_sentence\n",
        "\n",
        "\n",
        "for seq_index in range(100):\n",
        "    # Take one sequence (part of the training set)\n",
        "    # for trying out decoding.\n",
        "    input_seq = encoder_input_data[seq_index: seq_index + 1]\n",
        "    decoded_sentence = decode_sequence(input_seq)\n",
        "    print('-')\n",
        "    print('Input sentence:', input_texts[seq_index])\n",
        "    print('Decoded sentence:', decoded_sentence)"
      ],
      "execution_count": 21,
      "outputs": [
        {
          "output_type": "stream",
          "text": [
            "Epoch 1/100\n",
            "125/125 [==============================] - 54s 432ms/step - loss: 1.1765 - accuracy: 0.7251 - val_loss: 1.0373 - val_accuracy: 0.7118\n",
            "Epoch 2/100\n",
            "125/125 [==============================] - 53s 427ms/step - loss: 0.8524 - accuracy: 0.7695 - val_loss: 0.8353 - val_accuracy: 0.7684\n",
            "Epoch 3/100\n",
            "125/125 [==============================] - 52s 417ms/step - loss: 0.6789 - accuracy: 0.8078 - val_loss: 0.7219 - val_accuracy: 0.7880\n",
            "Epoch 4/100\n",
            "125/125 [==============================] - 52s 417ms/step - loss: 0.5931 - accuracy: 0.8276 - val_loss: 0.6494 - val_accuracy: 0.8099\n",
            "Epoch 5/100\n",
            "125/125 [==============================] - 52s 415ms/step - loss: 0.5431 - accuracy: 0.8418 - val_loss: 0.6058 - val_accuracy: 0.8210\n",
            "Epoch 6/100\n",
            "125/125 [==============================] - 53s 423ms/step - loss: 0.5057 - accuracy: 0.8516 - val_loss: 0.5839 - val_accuracy: 0.8282\n",
            "Epoch 7/100\n",
            "125/125 [==============================] - 52s 416ms/step - loss: 0.4774 - accuracy: 0.8593 - val_loss: 0.5529 - val_accuracy: 0.8377\n",
            "Epoch 8/100\n",
            "125/125 [==============================] - 54s 432ms/step - loss: 0.4533 - accuracy: 0.8658 - val_loss: 0.5413 - val_accuracy: 0.8395\n",
            "Epoch 9/100\n",
            "125/125 [==============================] - 55s 439ms/step - loss: 0.4326 - accuracy: 0.8712 - val_loss: 0.5232 - val_accuracy: 0.8447\n",
            "Epoch 10/100\n",
            "125/125 [==============================] - 53s 422ms/step - loss: 0.4137 - accuracy: 0.8766 - val_loss: 0.5020 - val_accuracy: 0.8510\n",
            "Epoch 11/100\n",
            "125/125 [==============================] - 52s 414ms/step - loss: 0.3971 - accuracy: 0.8812 - val_loss: 0.4976 - val_accuracy: 0.8531\n",
            "Epoch 12/100\n",
            "125/125 [==============================] - 52s 417ms/step - loss: 0.3812 - accuracy: 0.8854 - val_loss: 0.4826 - val_accuracy: 0.8567\n",
            "Epoch 13/100\n",
            "125/125 [==============================] - 53s 422ms/step - loss: 0.3664 - accuracy: 0.8899 - val_loss: 0.4717 - val_accuracy: 0.8597\n",
            "Epoch 14/100\n",
            "125/125 [==============================] - 53s 424ms/step - loss: 0.3524 - accuracy: 0.8940 - val_loss: 0.4637 - val_accuracy: 0.8625\n",
            "Epoch 15/100\n",
            "125/125 [==============================] - 53s 426ms/step - loss: 0.3396 - accuracy: 0.8976 - val_loss: 0.4584 - val_accuracy: 0.8651\n",
            "Epoch 16/100\n",
            "125/125 [==============================] - 54s 431ms/step - loss: 0.3278 - accuracy: 0.9015 - val_loss: 0.4525 - val_accuracy: 0.8661\n",
            "Epoch 17/100\n",
            "125/125 [==============================] - 55s 443ms/step - loss: 0.3155 - accuracy: 0.9048 - val_loss: 0.4493 - val_accuracy: 0.8681\n",
            "Epoch 18/100\n",
            "125/125 [==============================] - 54s 434ms/step - loss: 0.3050 - accuracy: 0.9078 - val_loss: 0.4477 - val_accuracy: 0.8686\n",
            "Epoch 19/100\n",
            "125/125 [==============================] - 53s 423ms/step - loss: 0.2948 - accuracy: 0.9108 - val_loss: 0.4442 - val_accuracy: 0.8697\n",
            "Epoch 20/100\n",
            "125/125 [==============================] - 53s 420ms/step - loss: 0.2846 - accuracy: 0.9140 - val_loss: 0.4414 - val_accuracy: 0.8716\n",
            "Epoch 21/100\n",
            "125/125 [==============================] - 52s 419ms/step - loss: 0.2750 - accuracy: 0.9165 - val_loss: 0.4396 - val_accuracy: 0.8731\n",
            "Epoch 22/100\n",
            "125/125 [==============================] - 53s 422ms/step - loss: 0.2661 - accuracy: 0.9195 - val_loss: 0.4394 - val_accuracy: 0.8731\n",
            "Epoch 23/100\n",
            "125/125 [==============================] - 54s 430ms/step - loss: 0.2570 - accuracy: 0.9220 - val_loss: 0.4394 - val_accuracy: 0.8733\n",
            "Epoch 24/100\n",
            "125/125 [==============================] - 58s 460ms/step - loss: 0.2488 - accuracy: 0.9242 - val_loss: 0.4424 - val_accuracy: 0.8733\n",
            "Epoch 25/100\n",
            "125/125 [==============================] - 57s 455ms/step - loss: 0.2406 - accuracy: 0.9267 - val_loss: 0.4435 - val_accuracy: 0.8743\n",
            "Epoch 26/100\n",
            "125/125 [==============================] - 53s 423ms/step - loss: 0.2331 - accuracy: 0.9292 - val_loss: 0.4427 - val_accuracy: 0.8752\n",
            "Epoch 27/100\n",
            "125/125 [==============================] - 52s 418ms/step - loss: 0.2258 - accuracy: 0.9311 - val_loss: 0.4436 - val_accuracy: 0.8761\n",
            "Epoch 28/100\n",
            "125/125 [==============================] - 52s 416ms/step - loss: 0.2188 - accuracy: 0.9333 - val_loss: 0.4494 - val_accuracy: 0.8752\n",
            "Epoch 29/100\n",
            "125/125 [==============================] - 53s 424ms/step - loss: 0.2122 - accuracy: 0.9350 - val_loss: 0.4504 - val_accuracy: 0.8754\n",
            "Epoch 30/100\n",
            "125/125 [==============================] - 52s 415ms/step - loss: 0.2058 - accuracy: 0.9369 - val_loss: 0.4496 - val_accuracy: 0.8768\n",
            "Epoch 31/100\n",
            "125/125 [==============================] - 52s 420ms/step - loss: 0.1992 - accuracy: 0.9391 - val_loss: 0.4524 - val_accuracy: 0.8766\n",
            "Epoch 32/100\n",
            "125/125 [==============================] - 53s 425ms/step - loss: 0.1936 - accuracy: 0.9408 - val_loss: 0.4559 - val_accuracy: 0.8768\n",
            "Epoch 33/100\n",
            "125/125 [==============================] - 52s 415ms/step - loss: 0.1877 - accuracy: 0.9425 - val_loss: 0.4589 - val_accuracy: 0.8767\n",
            "Epoch 34/100\n",
            "125/125 [==============================] - 52s 415ms/step - loss: 0.1822 - accuracy: 0.9440 - val_loss: 0.4647 - val_accuracy: 0.8767\n",
            "Epoch 35/100\n",
            "125/125 [==============================] - 52s 416ms/step - loss: 0.1770 - accuracy: 0.9456 - val_loss: 0.4669 - val_accuracy: 0.8763\n",
            "Epoch 36/100\n",
            "125/125 [==============================] - 52s 418ms/step - loss: 0.1717 - accuracy: 0.9472 - val_loss: 0.4721 - val_accuracy: 0.8761\n",
            "Epoch 37/100\n",
            "125/125 [==============================] - 53s 422ms/step - loss: 0.1672 - accuracy: 0.9485 - val_loss: 0.4776 - val_accuracy: 0.8759\n",
            "Epoch 38/100\n",
            "125/125 [==============================] - 52s 417ms/step - loss: 0.1623 - accuracy: 0.9502 - val_loss: 0.4806 - val_accuracy: 0.8758\n",
            "Epoch 39/100\n",
            "125/125 [==============================] - 53s 422ms/step - loss: 0.1578 - accuracy: 0.9515 - val_loss: 0.4848 - val_accuracy: 0.8751\n",
            "Epoch 40/100\n",
            "125/125 [==============================] - 53s 425ms/step - loss: 0.1532 - accuracy: 0.9528 - val_loss: 0.4872 - val_accuracy: 0.8764\n",
            "Epoch 41/100\n",
            "125/125 [==============================] - 53s 425ms/step - loss: 0.1495 - accuracy: 0.9541 - val_loss: 0.4903 - val_accuracy: 0.8774\n",
            "Epoch 42/100\n",
            "125/125 [==============================] - 52s 419ms/step - loss: 0.1450 - accuracy: 0.9553 - val_loss: 0.4958 - val_accuracy: 0.8756\n",
            "Epoch 43/100\n",
            "125/125 [==============================] - 52s 418ms/step - loss: 0.1414 - accuracy: 0.9564 - val_loss: 0.5004 - val_accuracy: 0.8760\n",
            "Epoch 44/100\n",
            "125/125 [==============================] - 52s 416ms/step - loss: 0.1374 - accuracy: 0.9576 - val_loss: 0.5041 - val_accuracy: 0.8763\n",
            "Epoch 45/100\n",
            "125/125 [==============================] - 52s 417ms/step - loss: 0.1338 - accuracy: 0.9587 - val_loss: 0.5103 - val_accuracy: 0.8755\n",
            "Epoch 46/100\n",
            "125/125 [==============================] - 52s 416ms/step - loss: 0.1302 - accuracy: 0.9597 - val_loss: 0.5119 - val_accuracy: 0.8752\n",
            "Epoch 47/100\n",
            "125/125 [==============================] - 53s 421ms/step - loss: 0.1268 - accuracy: 0.9608 - val_loss: 0.5159 - val_accuracy: 0.8754\n",
            "Epoch 48/100\n",
            "125/125 [==============================] - 53s 422ms/step - loss: 0.1238 - accuracy: 0.9615 - val_loss: 0.5204 - val_accuracy: 0.8755\n",
            "Epoch 49/100\n",
            "125/125 [==============================] - 54s 432ms/step - loss: 0.1210 - accuracy: 0.9623 - val_loss: 0.5222 - val_accuracy: 0.8764\n",
            "Epoch 50/100\n",
            "125/125 [==============================] - 51s 412ms/step - loss: 0.1174 - accuracy: 0.9637 - val_loss: 0.5328 - val_accuracy: 0.8747\n",
            "Epoch 51/100\n",
            "125/125 [==============================] - 52s 413ms/step - loss: 0.1148 - accuracy: 0.9644 - val_loss: 0.5354 - val_accuracy: 0.8764\n",
            "Epoch 52/100\n",
            "125/125 [==============================] - 52s 415ms/step - loss: 0.1118 - accuracy: 0.9652 - val_loss: 0.5375 - val_accuracy: 0.8759\n",
            "Epoch 53/100\n",
            "125/125 [==============================] - 53s 420ms/step - loss: 0.1091 - accuracy: 0.9661 - val_loss: 0.5422 - val_accuracy: 0.8759\n",
            "Epoch 54/100\n",
            "125/125 [==============================] - 51s 411ms/step - loss: 0.1062 - accuracy: 0.9671 - val_loss: 0.5500 - val_accuracy: 0.8742\n",
            "Epoch 55/100\n",
            "125/125 [==============================] - 52s 418ms/step - loss: 0.1035 - accuracy: 0.9679 - val_loss: 0.5524 - val_accuracy: 0.8752\n",
            "Epoch 56/100\n",
            "125/125 [==============================] - 57s 458ms/step - loss: 0.1014 - accuracy: 0.9683 - val_loss: 0.5554 - val_accuracy: 0.8748\n",
            "Epoch 57/100\n",
            "125/125 [==============================] - 56s 449ms/step - loss: 0.0989 - accuracy: 0.9689 - val_loss: 0.5615 - val_accuracy: 0.8752\n",
            "Epoch 58/100\n",
            "125/125 [==============================] - 53s 426ms/step - loss: 0.0966 - accuracy: 0.9699 - val_loss: 0.5666 - val_accuracy: 0.8749\n",
            "Epoch 59/100\n",
            "125/125 [==============================] - 52s 416ms/step - loss: 0.0943 - accuracy: 0.9703 - val_loss: 0.5680 - val_accuracy: 0.8754\n",
            "Epoch 60/100\n",
            "125/125 [==============================] - 52s 414ms/step - loss: 0.0923 - accuracy: 0.9710 - val_loss: 0.5750 - val_accuracy: 0.8750\n",
            "Epoch 61/100\n",
            "125/125 [==============================] - 52s 416ms/step - loss: 0.0901 - accuracy: 0.9715 - val_loss: 0.5815 - val_accuracy: 0.8749\n",
            "Epoch 62/100\n",
            "125/125 [==============================] - 52s 416ms/step - loss: 0.0884 - accuracy: 0.9720 - val_loss: 0.5825 - val_accuracy: 0.8751\n",
            "Epoch 63/100\n",
            "125/125 [==============================] - 53s 422ms/step - loss: 0.0861 - accuracy: 0.9727 - val_loss: 0.5911 - val_accuracy: 0.8754\n",
            "Epoch 64/100\n",
            "125/125 [==============================] - 53s 424ms/step - loss: 0.0845 - accuracy: 0.9731 - val_loss: 0.5914 - val_accuracy: 0.8748\n",
            "Epoch 65/100\n",
            "125/125 [==============================] - 53s 420ms/step - loss: 0.0823 - accuracy: 0.9737 - val_loss: 0.5957 - val_accuracy: 0.8747\n",
            "Epoch 66/100\n",
            "125/125 [==============================] - 53s 424ms/step - loss: 0.0813 - accuracy: 0.9741 - val_loss: 0.6004 - val_accuracy: 0.8752\n",
            "Epoch 67/100\n",
            "125/125 [==============================] - 52s 415ms/step - loss: 0.0791 - accuracy: 0.9748 - val_loss: 0.6064 - val_accuracy: 0.8747\n",
            "Epoch 68/100\n",
            "125/125 [==============================] - 52s 419ms/step - loss: 0.0774 - accuracy: 0.9755 - val_loss: 0.6097 - val_accuracy: 0.8742\n",
            "Epoch 69/100\n",
            "125/125 [==============================] - 53s 424ms/step - loss: 0.0761 - accuracy: 0.9754 - val_loss: 0.6160 - val_accuracy: 0.8746\n",
            "Epoch 70/100\n",
            "125/125 [==============================] - 53s 424ms/step - loss: 0.0746 - accuracy: 0.9760 - val_loss: 0.6177 - val_accuracy: 0.8737\n",
            "Epoch 71/100\n",
            "125/125 [==============================] - 52s 416ms/step - loss: 0.0730 - accuracy: 0.9766 - val_loss: 0.6215 - val_accuracy: 0.8740\n",
            "Epoch 72/100\n",
            "125/125 [==============================] - 53s 424ms/step - loss: 0.0717 - accuracy: 0.9768 - val_loss: 0.6264 - val_accuracy: 0.8746\n",
            "Epoch 73/100\n",
            "125/125 [==============================] - 53s 428ms/step - loss: 0.0701 - accuracy: 0.9774 - val_loss: 0.6306 - val_accuracy: 0.8748\n",
            "Epoch 74/100\n",
            "125/125 [==============================] - 54s 435ms/step - loss: 0.0690 - accuracy: 0.9776 - val_loss: 0.6316 - val_accuracy: 0.8745\n",
            "Epoch 75/100\n",
            "125/125 [==============================] - 53s 425ms/step - loss: 0.0678 - accuracy: 0.9779 - val_loss: 0.6349 - val_accuracy: 0.8741\n",
            "Epoch 76/100\n",
            "125/125 [==============================] - 52s 419ms/step - loss: 0.0663 - accuracy: 0.9784 - val_loss: 0.6417 - val_accuracy: 0.8733\n",
            "Epoch 77/100\n",
            "125/125 [==============================] - 51s 412ms/step - loss: 0.0651 - accuracy: 0.9786 - val_loss: 0.6455 - val_accuracy: 0.8740\n",
            "Epoch 78/100\n",
            "125/125 [==============================] - 51s 410ms/step - loss: 0.0642 - accuracy: 0.9788 - val_loss: 0.6539 - val_accuracy: 0.8737\n",
            "Epoch 79/100\n",
            "125/125 [==============================] - 53s 421ms/step - loss: 0.0630 - accuracy: 0.9791 - val_loss: 0.6543 - val_accuracy: 0.8737\n",
            "Epoch 80/100\n",
            "125/125 [==============================] - 53s 423ms/step - loss: 0.0614 - accuracy: 0.9798 - val_loss: 0.6591 - val_accuracy: 0.8738\n",
            "Epoch 81/100\n",
            "125/125 [==============================] - 54s 434ms/step - loss: 0.0606 - accuracy: 0.9798 - val_loss: 0.6604 - val_accuracy: 0.8744\n",
            "Epoch 82/100\n",
            "125/125 [==============================] - 55s 439ms/step - loss: 0.0596 - accuracy: 0.9803 - val_loss: 0.6601 - val_accuracy: 0.8734\n",
            "Epoch 83/100\n",
            "125/125 [==============================] - 54s 433ms/step - loss: 0.0581 - accuracy: 0.9807 - val_loss: 0.6647 - val_accuracy: 0.8736\n",
            "Epoch 84/100\n",
            "125/125 [==============================] - 52s 420ms/step - loss: 0.0575 - accuracy: 0.9808 - val_loss: 0.6751 - val_accuracy: 0.8733\n",
            "Epoch 85/100\n",
            "125/125 [==============================] - 52s 419ms/step - loss: 0.0564 - accuracy: 0.9811 - val_loss: 0.6729 - val_accuracy: 0.8736\n",
            "Epoch 86/100\n",
            "125/125 [==============================] - 53s 427ms/step - loss: 0.0557 - accuracy: 0.9812 - val_loss: 0.6816 - val_accuracy: 0.8728\n",
            "Epoch 87/100\n",
            "125/125 [==============================] - 52s 417ms/step - loss: 0.0548 - accuracy: 0.9815 - val_loss: 0.6841 - val_accuracy: 0.8734\n",
            "Epoch 88/100\n",
            "125/125 [==============================] - 52s 417ms/step - loss: 0.0538 - accuracy: 0.9820 - val_loss: 0.6848 - val_accuracy: 0.8731\n",
            "Epoch 89/100\n",
            "125/125 [==============================] - 57s 455ms/step - loss: 0.0529 - accuracy: 0.9821 - val_loss: 0.6886 - val_accuracy: 0.8736\n",
            "Epoch 90/100\n",
            "125/125 [==============================] - 57s 455ms/step - loss: 0.0521 - accuracy: 0.9823 - val_loss: 0.6956 - val_accuracy: 0.8727\n",
            "Epoch 91/100\n",
            "125/125 [==============================] - 55s 438ms/step - loss: 0.0514 - accuracy: 0.9825 - val_loss: 0.6989 - val_accuracy: 0.8726\n",
            "Epoch 92/100\n",
            "125/125 [==============================] - 52s 414ms/step - loss: 0.0504 - accuracy: 0.9829 - val_loss: 0.7037 - val_accuracy: 0.8728\n",
            "Epoch 93/100\n",
            "125/125 [==============================] - 52s 416ms/step - loss: 0.0499 - accuracy: 0.9828 - val_loss: 0.7004 - val_accuracy: 0.8738\n",
            "Epoch 94/100\n",
            "125/125 [==============================] - 52s 413ms/step - loss: 0.0492 - accuracy: 0.9831 - val_loss: 0.7059 - val_accuracy: 0.8735\n",
            "Epoch 95/100\n",
            "125/125 [==============================] - 51s 409ms/step - loss: 0.0485 - accuracy: 0.9832 - val_loss: 0.7191 - val_accuracy: 0.8728\n",
            "Epoch 96/100\n",
            "125/125 [==============================] - 50s 404ms/step - loss: 0.0476 - accuracy: 0.9837 - val_loss: 0.7086 - val_accuracy: 0.8728\n",
            "Epoch 97/100\n",
            "125/125 [==============================] - 52s 417ms/step - loss: 0.0469 - accuracy: 0.9837 - val_loss: 0.7147 - val_accuracy: 0.8728\n",
            "Epoch 98/100\n",
            "125/125 [==============================] - 54s 434ms/step - loss: 0.0467 - accuracy: 0.9838 - val_loss: 0.7196 - val_accuracy: 0.8726\n",
            "Epoch 99/100\n",
            "125/125 [==============================] - 55s 442ms/step - loss: 0.0456 - accuracy: 0.9843 - val_loss: 0.7263 - val_accuracy: 0.8716\n",
            "Epoch 100/100\n",
            "125/125 [==============================] - 53s 425ms/step - loss: 0.0454 - accuracy: 0.9842 - val_loss: 0.7203 - val_accuracy: 0.8726\n",
            "-\n",
            "Input sentence: Go.\n",
            "Decoded sentence: Ad-tu Manil !\n",
            "\n",
            "-\n",
            "Input sentence: Hi.\n",
            "Decoded sentence: Salut.\n",
            "\n",
            "-\n",
            "Input sentence: Hi.\n",
            "Decoded sentence: Salut.\n",
            "\n",
            "-\n",
            "Input sentence: Run!\n",
            "Decoded sentence: Cours !\n",
            "\n",
            "-\n",
            "Input sentence: Run!\n",
            "Decoded sentence: Cours !\n",
            "\n",
            "-\n",
            "Input sentence: Who?\n",
            "Decoded sentence: Qui ?\n",
            "\n",
            "-\n",
            "Input sentence: Wow!\n",
            "Decoded sentence: Ça alors !\n",
            "\n",
            "-\n",
            "Input sentence: Fire!\n",
            "Decoded sentence: Au feu !\n",
            "\n",
            "-\n",
            "Input sentence: Help!\n",
            "Decoded sentence: À l'aide !\n",
            "\n",
            "-\n",
            "Input sentence: Jump.\n",
            "Decoded sentence: Saute.\n",
            "\n",
            "-\n",
            "Input sentence: Stop!\n",
            "Decoded sentence: Arrête-toi !\n",
            "\n",
            "-\n",
            "Input sentence: Stop!\n",
            "Decoded sentence: Arrête-toi !\n",
            "\n",
            "-\n",
            "Input sentence: Stop!\n",
            "Decoded sentence: Arrête-toi !\n",
            "\n",
            "-\n",
            "Input sentence: Wait!\n",
            "Decoded sentence: Attendez !\n",
            "\n",
            "-\n",
            "Input sentence: Wait!\n",
            "Decoded sentence: Attendez !\n",
            "\n",
            "-\n",
            "Input sentence: Go on.\n",
            "Decoded sentence: Poursuivez.\n",
            "\n",
            "-\n",
            "Input sentence: Go on.\n",
            "Decoded sentence: Poursuivez.\n",
            "\n",
            "-\n",
            "Input sentence: Go on.\n",
            "Decoded sentence: Poursuivez.\n",
            "\n",
            "-\n",
            "Input sentence: Hello!\n",
            "Decoded sentence: Bonjour !\n",
            "\n",
            "-\n",
            "Input sentence: Hello!\n",
            "Decoded sentence: Bonjour !\n",
            "\n",
            "-\n",
            "Input sentence: I see.\n",
            "Decoded sentence: Je lis suvell.\n",
            "\n",
            "-\n",
            "Input sentence: I try.\n",
            "Decoded sentence: J'essaye.\n",
            "\n",
            "-\n",
            "Input sentence: I won!\n",
            "Decoded sentence: Je l'ai emporté !\n",
            "\n",
            "-\n",
            "Input sentence: I won!\n",
            "Decoded sentence: Je l'ai emporté !\n",
            "\n",
            "-\n",
            "Input sentence: I won.\n",
            "Decoded sentence: J'ai gagné.\n",
            "\n",
            "-\n",
            "Input sentence: Oh no!\n",
            "Decoded sentence: Oh non !\n",
            "\n",
            "-\n",
            "Input sentence: Attack!\n",
            "Decoded sentence: Attaquez !\n",
            "\n",
            "-\n",
            "Input sentence: Attack!\n",
            "Decoded sentence: Attaquez !\n",
            "\n",
            "-\n",
            "Input sentence: Cheers!\n",
            "Decoded sentence: Tchin-tchin !\n",
            "\n",
            "-\n",
            "Input sentence: Cheers!\n",
            "Decoded sentence: Tchin-tchin !\n",
            "\n",
            "-\n",
            "Input sentence: Cheers!\n",
            "Decoded sentence: Tchin-tchin !\n",
            "\n",
            "-\n",
            "Input sentence: Cheers!\n",
            "Decoded sentence: Tchin-tchin !\n",
            "\n",
            "-\n",
            "Input sentence: Get up.\n",
            "Decoded sentence: Vanez-moi.\n",
            "\n",
            "-\n",
            "Input sentence: Go now.\n",
            "Decoded sentence: Vas-y maintenant.\n",
            "\n",
            "-\n",
            "Input sentence: Go now.\n",
            "Decoded sentence: Vas-y maintenant.\n",
            "\n",
            "-\n",
            "Input sentence: Go now.\n",
            "Decoded sentence: Vas-y maintenant.\n",
            "\n",
            "-\n",
            "Input sentence: Got it!\n",
            "Decoded sentence: J'ai pigé !\n",
            "\n",
            "-\n",
            "Input sentence: Got it!\n",
            "Decoded sentence: J'ai pigé !\n",
            "\n",
            "-\n",
            "Input sentence: Got it?\n",
            "Decoded sentence: Pigé ?\n",
            "\n",
            "-\n",
            "Input sentence: Got it?\n",
            "Decoded sentence: Pigé ?\n",
            "\n",
            "-\n",
            "Input sentence: Got it?\n",
            "Decoded sentence: Pigé ?\n",
            "\n",
            "-\n",
            "Input sentence: Hop in.\n",
            "Decoded sentence: Montez.\n",
            "\n",
            "-\n",
            "Input sentence: Hop in.\n",
            "Decoded sentence: Montez.\n",
            "\n",
            "-\n",
            "Input sentence: Hug me.\n",
            "Decoded sentence: Serre-moi dans tes bras !\n",
            "\n",
            "-\n",
            "Input sentence: Hug me.\n",
            "Decoded sentence: Serre-moi dans tes bras !\n",
            "\n",
            "-\n",
            "Input sentence: I fell.\n",
            "Decoded sentence: Je suis tombée.\n",
            "\n",
            "-\n",
            "Input sentence: I fell.\n",
            "Decoded sentence: Je suis tombée.\n",
            "\n",
            "-\n",
            "Input sentence: I fled.\n",
            "Decoded sentence: Je le ferai.\n",
            "\n",
            "-\n",
            "Input sentence: I know.\n",
            "Decoded sentence: Je sais.\n",
            "\n",
            "-\n",
            "Input sentence: I left.\n",
            "Decoded sentence: Je suis parti.\n",
            "\n",
            "-\n",
            "Input sentence: I left.\n",
            "Decoded sentence: Je suis parti.\n",
            "\n",
            "-\n",
            "Input sentence: I lied.\n",
            "Decoded sentence: J'ai mangé.\n",
            "\n",
            "-\n",
            "Input sentence: I lost.\n",
            "Decoded sentence: J'ai perdu.\n",
            "\n",
            "-\n",
            "Input sentence: I paid.\n",
            "Decoded sentence: J’ai payé.\n",
            "\n",
            "-\n",
            "Input sentence: I'm 19.\n",
            "Decoded sentence: J'ai un partique.\n",
            "\n",
            "-\n",
            "Input sentence: I'm OK.\n",
            "Decoded sentence: Je suis grande.\n",
            "\n",
            "-\n",
            "Input sentence: I'm OK.\n",
            "Decoded sentence: Je suis grande.\n",
            "\n",
            "-\n",
            "Input sentence: Listen.\n",
            "Decoded sentence: Écoutez !\n",
            "\n",
            "-\n",
            "Input sentence: No way!\n",
            "Decoded sentence: C'est hors de question !\n",
            "\n",
            "-\n",
            "Input sentence: No way!\n",
            "Decoded sentence: C'est hors de question !\n",
            "\n",
            "-\n",
            "Input sentence: No way!\n",
            "Decoded sentence: C'est hors de question !\n",
            "\n",
            "-\n",
            "Input sentence: No way!\n",
            "Decoded sentence: C'est hors de question !\n",
            "\n",
            "-\n",
            "Input sentence: No way!\n",
            "Decoded sentence: C'est hors de question !\n",
            "\n",
            "-\n",
            "Input sentence: No way!\n",
            "Decoded sentence: C'est hors de question !\n",
            "\n",
            "-\n",
            "Input sentence: No way!\n",
            "Decoded sentence: C'est hors de question !\n",
            "\n",
            "-\n",
            "Input sentence: No way!\n",
            "Decoded sentence: C'est hors de question !\n",
            "\n",
            "-\n",
            "Input sentence: No way!\n",
            "Decoded sentence: C'est hors de question !\n",
            "\n",
            "-\n",
            "Input sentence: Really?\n",
            "Decoded sentence: Vraiment ?\n",
            "\n",
            "-\n",
            "Input sentence: Really?\n",
            "Decoded sentence: Vraiment ?\n",
            "\n",
            "-\n",
            "Input sentence: Really?\n",
            "Decoded sentence: Vraiment ?\n",
            "\n",
            "-\n",
            "Input sentence: Thanks.\n",
            "Decoded sentence: Merci.\n",
            "\n",
            "-\n",
            "Input sentence: Thanks.\n",
            "Decoded sentence: Merci.\n",
            "\n",
            "-\n",
            "Input sentence: We try.\n",
            "Decoded sentence: On essaye.\n",
            "\n",
            "-\n",
            "Input sentence: We won.\n",
            "Decoded sentence: Nous avons gagné.\n",
            "\n",
            "-\n",
            "Input sentence: We won.\n",
            "Decoded sentence: Nous avons gagné.\n",
            "\n",
            "-\n",
            "Input sentence: We won.\n",
            "Decoded sentence: Nous avons gagné.\n",
            "\n",
            "-\n",
            "Input sentence: We won.\n",
            "Decoded sentence: Nous avons gagné.\n",
            "\n",
            "-\n",
            "Input sentence: Ask Tom.\n",
            "Decoded sentence: Demande à Tom.\n",
            "\n",
            "-\n",
            "Input sentence: Awesome!\n",
            "Decoded sentence: Fantastez-vous ?\n",
            "\n",
            "-\n",
            "Input sentence: Be calm.\n",
            "Decoded sentence: Soyez calme !\n",
            "\n",
            "-\n",
            "Input sentence: Be calm.\n",
            "Decoded sentence: Soyez calme !\n",
            "\n",
            "-\n",
            "Input sentence: Be calm.\n",
            "Decoded sentence: Soyez calme !\n",
            "\n",
            "-\n",
            "Input sentence: Be cool.\n",
            "Decoded sentence: Sois détendu !\n",
            "\n",
            "-\n",
            "Input sentence: Be fair.\n",
            "Decoded sentence: Soyez juste !\n",
            "\n",
            "-\n",
            "Input sentence: Be fair.\n",
            "Decoded sentence: Soyez juste !\n",
            "\n",
            "-\n",
            "Input sentence: Be fair.\n",
            "Decoded sentence: Soyez juste !\n",
            "\n",
            "-\n",
            "Input sentence: Be fair.\n",
            "Decoded sentence: Soyez juste !\n",
            "\n",
            "-\n",
            "Input sentence: Be fair.\n",
            "Decoded sentence: Soyez juste !\n",
            "\n",
            "-\n",
            "Input sentence: Be fair.\n",
            "Decoded sentence: Soyez juste !\n",
            "\n",
            "-\n",
            "Input sentence: Be kind.\n",
            "Decoded sentence: Sois gentil.\n",
            "\n",
            "-\n",
            "Input sentence: Be nice.\n",
            "Decoded sentence: Soyez gentil !\n",
            "\n",
            "-\n",
            "Input sentence: Be nice.\n",
            "Decoded sentence: Soyez gentil !\n",
            "\n",
            "-\n",
            "Input sentence: Be nice.\n",
            "Decoded sentence: Soyez gentil !\n",
            "\n",
            "-\n",
            "Input sentence: Be nice.\n",
            "Decoded sentence: Soyez gentil !\n",
            "\n",
            "-\n",
            "Input sentence: Be nice.\n",
            "Decoded sentence: Soyez gentil !\n",
            "\n",
            "-\n",
            "Input sentence: Be nice.\n",
            "Decoded sentence: Soyez gentil !\n",
            "\n",
            "-\n",
            "Input sentence: Beat it.\n",
            "Decoded sentence: Dégage !\n",
            "\n",
            "-\n",
            "Input sentence: Call me.\n",
            "Decoded sentence: Appelez-moi !\n",
            "\n",
            "-\n",
            "Input sentence: Call me.\n",
            "Decoded sentence: Appelez-moi !\n",
            "\n",
            "-\n",
            "Input sentence: Call us.\n",
            "Decoded sentence: Appelez-nous !\n",
            "\n"
          ],
          "name": "stdout"
        }
      ]
    },
    {
      "cell_type": "markdown",
      "metadata": {
        "id": "dDeQBL8EUnrZ"
      },
      "source": [
        "## 【問題2】イメージキャプショニングの学習済みモデルの実行"
      ]
    },
    {
      "cell_type": "code",
      "metadata": {
        "id": "b463Av5sU1x0",
        "outputId": "055dfca5-ebdd-4804-eabe-9d9a05101217",
        "colab": {
          "base_uri": "https://localhost:8080/",
          "height": 34
        }
      },
      "source": [
        "cd /content/drive/My Drive/DIC/Git"
      ],
      "execution_count": 1,
      "outputs": [
        {
          "output_type": "stream",
          "text": [
            "/content/drive/My Drive/DIC/Git\n"
          ],
          "name": "stdout"
        }
      ]
    },
    {
      "cell_type": "code",
      "metadata": {
        "id": "ybucNFw6N3Zv",
        "outputId": "2343c2a1-e68b-410e-c773-6586e2521ffd",
        "colab": {
          "base_uri": "https://localhost:8080/",
          "height": 102
        }
      },
      "source": [
        "!git clone https://github.com/pdollar/coco.git"
      ],
      "execution_count": 2,
      "outputs": [
        {
          "output_type": "stream",
          "text": [
            "Cloning into 'coco'...\n",
            "remote: Enumerating objects: 975, done.\u001b[K\n",
            "remote: Total 975 (delta 0), reused 0 (delta 0), pack-reused 975\u001b[K\n",
            "Receiving objects: 100% (975/975), 11.72 MiB | 5.74 MiB/s, done.\n",
            "Resolving deltas: 100% (576/576), done.\n"
          ],
          "name": "stdout"
        }
      ]
    },
    {
      "cell_type": "code",
      "metadata": {
        "id": "aBEf7pOvVTJU",
        "outputId": "739e996c-bf73-4fa8-985d-f6e877812b91",
        "colab": {
          "base_uri": "https://localhost:8080/",
          "height": 34
        }
      },
      "source": [
        "cd ./coco/PythonAPI/"
      ],
      "execution_count": 3,
      "outputs": [
        {
          "output_type": "stream",
          "text": [
            "/content/drive/My Drive/DIC/Git/coco/PythonAPI\n"
          ],
          "name": "stdout"
        }
      ]
    },
    {
      "cell_type": "code",
      "metadata": {
        "id": "6mLeS9fvVafX",
        "outputId": "b3bf17e3-c253-46d1-92c6-8ef819e78a89",
        "colab": {
          "base_uri": "https://localhost:8080/",
          "height": 1000
        }
      },
      "source": [
        "!make\n",
        "!python setup.py build\n",
        "!python setup.py install"
      ],
      "execution_count": 4,
      "outputs": [
        {
          "output_type": "stream",
          "text": [
            "python setup.py build_ext --inplace\n",
            "running build_ext\n",
            "cythoning pycocotools/_mask.pyx to pycocotools/_mask.c\n",
            "/usr/local/lib/python3.6/dist-packages/Cython/Compiler/Main.py:369: FutureWarning: Cython directive 'language_level' not set, using 2 for now (Py2). This will change in a later release! File: /content/drive/My Drive/DIC/Git/coco/PythonAPI/pycocotools/_mask.pyx\n",
            "  tree = Parsing.p_module(s, pxd, full_module_name)\n",
            "building 'pycocotools._mask' extension\n",
            "creating build\n",
            "creating build/common\n",
            "creating build/temp.linux-x86_64-3.6\n",
            "creating build/temp.linux-x86_64-3.6/pycocotools\n",
            "x86_64-linux-gnu-gcc -pthread -DNDEBUG -g -fwrapv -O2 -Wall -g -fstack-protector-strong -Wformat -Werror=format-security -Wdate-time -D_FORTIFY_SOURCE=2 -fPIC -I/usr/local/lib/python3.6/dist-packages/numpy/core/include -I../common -I/usr/include/python3.6m -c ../common/maskApi.c -o build/temp.linux-x86_64-3.6/../common/maskApi.o -Wno-cpp -Wno-unused-function -std=c99\n",
            "\u001b[01m\u001b[K../common/maskApi.c:\u001b[m\u001b[K In function ‘\u001b[01m\u001b[KrleDecode\u001b[m\u001b[K’:\n",
            "\u001b[01m\u001b[K../common/maskApi.c:46:7:\u001b[m\u001b[K \u001b[01;35m\u001b[Kwarning: \u001b[m\u001b[Kthis ‘\u001b[01m\u001b[Kfor\u001b[m\u001b[K’ clause does not guard... [\u001b[01;35m\u001b[K-Wmisleading-indentation\u001b[m\u001b[K]\n",
            "       \u001b[01;35m\u001b[Kfor\u001b[m\u001b[K( k=0; k<R[i].cnts[j]; k++ ) *(M++)=v; v=!v; }}\n",
            "       \u001b[01;35m\u001b[K^~~\u001b[m\u001b[K\n",
            "\u001b[01m\u001b[K../common/maskApi.c:46:49:\u001b[m\u001b[K \u001b[01;36m\u001b[Knote: \u001b[m\u001b[K...this statement, but the latter is misleadingly indented as if it were guarded by the ‘\u001b[01m\u001b[Kfor\u001b[m\u001b[K’\n",
            "       for( k=0; k<R[i].cnts[j]; k++ ) *(M++)=v; \u001b[01;36m\u001b[Kv\u001b[m\u001b[K=!v; }}\n",
            "                                                 \u001b[01;36m\u001b[K^\u001b[m\u001b[K\n",
            "\u001b[01m\u001b[K../common/maskApi.c:\u001b[m\u001b[K In function ‘\u001b[01m\u001b[KrleFrPoly\u001b[m\u001b[K’:\n",
            "\u001b[01m\u001b[K../common/maskApi.c:166:3:\u001b[m\u001b[K \u001b[01;35m\u001b[Kwarning: \u001b[m\u001b[Kthis ‘\u001b[01m\u001b[Kfor\u001b[m\u001b[K’ clause does not guard... [\u001b[01;35m\u001b[K-Wmisleading-indentation\u001b[m\u001b[K]\n",
            "   \u001b[01;35m\u001b[Kfor\u001b[m\u001b[K(j=0; j<k; j++) x[j]=(int)(scale*xy[j*2+0]+.5); x[k]=x[0];\n",
            "   \u001b[01;35m\u001b[K^~~\u001b[m\u001b[K\n",
            "\u001b[01m\u001b[K../common/maskApi.c:166:54:\u001b[m\u001b[K \u001b[01;36m\u001b[Knote: \u001b[m\u001b[K...this statement, but the latter is misleadingly indented as if it were guarded by the ‘\u001b[01m\u001b[Kfor\u001b[m\u001b[K’\n",
            "   for(j=0; j<k; j++) x[j]=(int)(scale*xy[j*2+0]+.5); \u001b[01;36m\u001b[Kx\u001b[m\u001b[K[k]=x[0];\n",
            "                                                      \u001b[01;36m\u001b[K^\u001b[m\u001b[K\n",
            "\u001b[01m\u001b[K../common/maskApi.c:167:3:\u001b[m\u001b[K \u001b[01;35m\u001b[Kwarning: \u001b[m\u001b[Kthis ‘\u001b[01m\u001b[Kfor\u001b[m\u001b[K’ clause does not guard... [\u001b[01;35m\u001b[K-Wmisleading-indentation\u001b[m\u001b[K]\n",
            "   \u001b[01;35m\u001b[Kfor\u001b[m\u001b[K(j=0; j<k; j++) y[j]=(int)(scale*xy[j*2+1]+.5); y[k]=y[0];\n",
            "   \u001b[01;35m\u001b[K^~~\u001b[m\u001b[K\n",
            "\u001b[01m\u001b[K../common/maskApi.c:167:54:\u001b[m\u001b[K \u001b[01;36m\u001b[Knote: \u001b[m\u001b[K...this statement, but the latter is misleadingly indented as if it were guarded by the ‘\u001b[01m\u001b[Kfor\u001b[m\u001b[K’\n",
            "   for(j=0; j<k; j++) y[j]=(int)(scale*xy[j*2+1]+.5); \u001b[01;36m\u001b[Ky\u001b[m\u001b[K[k]=y[0];\n",
            "                                                      \u001b[01;36m\u001b[K^\u001b[m\u001b[K\n",
            "\u001b[01m\u001b[K../common/maskApi.c:\u001b[m\u001b[K In function ‘\u001b[01m\u001b[KrleToString\u001b[m\u001b[K’:\n",
            "\u001b[01m\u001b[K../common/maskApi.c:212:7:\u001b[m\u001b[K \u001b[01;35m\u001b[Kwarning: \u001b[m\u001b[Kthis ‘\u001b[01m\u001b[Kif\u001b[m\u001b[K’ clause does not guard... [\u001b[01;35m\u001b[K-Wmisleading-indentation\u001b[m\u001b[K]\n",
            "       \u001b[01;35m\u001b[Kif\u001b[m\u001b[K(more) c |= 0x20; c+=48; s[p++]=c;\n",
            "       \u001b[01;35m\u001b[K^~\u001b[m\u001b[K\n",
            "\u001b[01m\u001b[K../common/maskApi.c:212:27:\u001b[m\u001b[K \u001b[01;36m\u001b[Knote: \u001b[m\u001b[K...this statement, but the latter is misleadingly indented as if it were guarded by the ‘\u001b[01m\u001b[Kif\u001b[m\u001b[K’\n",
            "       if(more) c |= 0x20; \u001b[01;36m\u001b[Kc\u001b[m\u001b[K+=48; s[p++]=c;\n",
            "                           \u001b[01;36m\u001b[K^\u001b[m\u001b[K\n",
            "\u001b[01m\u001b[K../common/maskApi.c:\u001b[m\u001b[K In function ‘\u001b[01m\u001b[KrleFrString\u001b[m\u001b[K’:\n",
            "\u001b[01m\u001b[K../common/maskApi.c:220:3:\u001b[m\u001b[K \u001b[01;35m\u001b[Kwarning: \u001b[m\u001b[Kthis ‘\u001b[01m\u001b[Kwhile\u001b[m\u001b[K’ clause does not guard... [\u001b[01;35m\u001b[K-Wmisleading-indentation\u001b[m\u001b[K]\n",
            "   \u001b[01;35m\u001b[Kwhile\u001b[m\u001b[K( s[m] ) m++; cnts=malloc(sizeof(uint)*m); m=0;\n",
            "   \u001b[01;35m\u001b[K^~~~~\u001b[m\u001b[K\n",
            "\u001b[01m\u001b[K../common/maskApi.c:220:22:\u001b[m\u001b[K \u001b[01;36m\u001b[Knote: \u001b[m\u001b[K...this statement, but the latter is misleadingly indented as if it were guarded by the ‘\u001b[01m\u001b[Kwhile\u001b[m\u001b[K’\n",
            "   while( s[m] ) m++; \u001b[01;36m\u001b[Kcnts\u001b[m\u001b[K=malloc(sizeof(uint)*m); m=0;\n",
            "                      \u001b[01;36m\u001b[K^~~~\u001b[m\u001b[K\n",
            "\u001b[01m\u001b[K../common/maskApi.c:228:5:\u001b[m\u001b[K \u001b[01;35m\u001b[Kwarning: \u001b[m\u001b[Kthis ‘\u001b[01m\u001b[Kif\u001b[m\u001b[K’ clause does not guard... [\u001b[01;35m\u001b[K-Wmisleading-indentation\u001b[m\u001b[K]\n",
            "     \u001b[01;35m\u001b[Kif\u001b[m\u001b[K(m>2) x+=(long) cnts[m-2]; cnts[m++]=(uint) x;\n",
            "     \u001b[01;35m\u001b[K^~\u001b[m\u001b[K\n",
            "\u001b[01m\u001b[K../common/maskApi.c:228:34:\u001b[m\u001b[K \u001b[01;36m\u001b[Knote: \u001b[m\u001b[K...this statement, but the latter is misleadingly indented as if it were guarded by the ‘\u001b[01m\u001b[Kif\u001b[m\u001b[K’\n",
            "     if(m>2) x+=(long) cnts[m-2]; \u001b[01;36m\u001b[Kcnts\u001b[m\u001b[K[m++]=(uint) x;\n",
            "                                  \u001b[01;36m\u001b[K^~~~\u001b[m\u001b[K\n",
            "\u001b[01m\u001b[K../common/maskApi.c:\u001b[m\u001b[K In function ‘\u001b[01m\u001b[KrleToBbox\u001b[m\u001b[K’:\n",
            "\u001b[01m\u001b[K../common/maskApi.c:141:31:\u001b[m\u001b[K \u001b[01;35m\u001b[Kwarning: \u001b[m\u001b[K‘\u001b[01m\u001b[Kxp\u001b[m\u001b[K’ may be used uninitialized in this function [\u001b[01;35m\u001b[K-Wmaybe-uninitialized\u001b[m\u001b[K]\n",
            "       if(j%2==0) xp=x; else if\u001b[01;35m\u001b[K(\u001b[m\u001b[Kxp<x) { ys=0; ye=h-1; }\n",
            "                               \u001b[01;35m\u001b[K^\u001b[m\u001b[K\n",
            "x86_64-linux-gnu-gcc -pthread -DNDEBUG -g -fwrapv -O2 -Wall -g -fstack-protector-strong -Wformat -Werror=format-security -Wdate-time -D_FORTIFY_SOURCE=2 -fPIC -I/usr/local/lib/python3.6/dist-packages/numpy/core/include -I../common -I/usr/include/python3.6m -c pycocotools/_mask.c -o build/temp.linux-x86_64-3.6/pycocotools/_mask.o -Wno-cpp -Wno-unused-function -std=c99\n",
            "creating build/lib.linux-x86_64-3.6\n",
            "creating build/lib.linux-x86_64-3.6/pycocotools\n",
            "x86_64-linux-gnu-gcc -pthread -shared -Wl,-O1 -Wl,-Bsymbolic-functions -Wl,-Bsymbolic-functions -Wl,-z,relro -Wl,-Bsymbolic-functions -Wl,-z,relro -g -fstack-protector-strong -Wformat -Werror=format-security -Wdate-time -D_FORTIFY_SOURCE=2 build/temp.linux-x86_64-3.6/../common/maskApi.o build/temp.linux-x86_64-3.6/pycocotools/_mask.o -o build/lib.linux-x86_64-3.6/pycocotools/_mask.cpython-36m-x86_64-linux-gnu.so\n",
            "copying build/lib.linux-x86_64-3.6/pycocotools/_mask.cpython-36m-x86_64-linux-gnu.so -> pycocotools\n",
            "rm -rf build\n",
            "running build\n",
            "running build_py\n",
            "creating build\n",
            "creating build/lib.linux-x86_64-3.6\n",
            "creating build/lib.linux-x86_64-3.6/pycocotools\n",
            "copying pycocotools/__init__.py -> build/lib.linux-x86_64-3.6/pycocotools\n",
            "copying pycocotools/coco.py -> build/lib.linux-x86_64-3.6/pycocotools\n",
            "copying pycocotools/cocoeval.py -> build/lib.linux-x86_64-3.6/pycocotools\n",
            "copying pycocotools/mask.py -> build/lib.linux-x86_64-3.6/pycocotools\n",
            "running build_ext\n",
            "skipping 'pycocotools/_mask.c' Cython extension (up-to-date)\n",
            "building 'pycocotools._mask' extension\n",
            "creating build/common\n",
            "creating build/temp.linux-x86_64-3.6\n",
            "creating build/temp.linux-x86_64-3.6/pycocotools\n",
            "x86_64-linux-gnu-gcc -pthread -DNDEBUG -g -fwrapv -O2 -Wall -g -fstack-protector-strong -Wformat -Werror=format-security -Wdate-time -D_FORTIFY_SOURCE=2 -fPIC -I/usr/local/lib/python3.6/dist-packages/numpy/core/include -I../common -I/usr/include/python3.6m -c ../common/maskApi.c -o build/temp.linux-x86_64-3.6/../common/maskApi.o -Wno-cpp -Wno-unused-function -std=c99\n",
            "\u001b[01m\u001b[K../common/maskApi.c:\u001b[m\u001b[K In function ‘\u001b[01m\u001b[KrleDecode\u001b[m\u001b[K’:\n",
            "\u001b[01m\u001b[K../common/maskApi.c:46:7:\u001b[m\u001b[K \u001b[01;35m\u001b[Kwarning: \u001b[m\u001b[Kthis ‘\u001b[01m\u001b[Kfor\u001b[m\u001b[K’ clause does not guard... [\u001b[01;35m\u001b[K-Wmisleading-indentation\u001b[m\u001b[K]\n",
            "       \u001b[01;35m\u001b[Kfor\u001b[m\u001b[K( k=0; k<R[i].cnts[j]; k++ ) *(M++)=v; v=!v; }}\n",
            "       \u001b[01;35m\u001b[K^~~\u001b[m\u001b[K\n",
            "\u001b[01m\u001b[K../common/maskApi.c:46:49:\u001b[m\u001b[K \u001b[01;36m\u001b[Knote: \u001b[m\u001b[K...this statement, but the latter is misleadingly indented as if it were guarded by the ‘\u001b[01m\u001b[Kfor\u001b[m\u001b[K’\n",
            "       for( k=0; k<R[i].cnts[j]; k++ ) *(M++)=v; \u001b[01;36m\u001b[Kv\u001b[m\u001b[K=!v; }}\n",
            "                                                 \u001b[01;36m\u001b[K^\u001b[m\u001b[K\n",
            "\u001b[01m\u001b[K../common/maskApi.c:\u001b[m\u001b[K In function ‘\u001b[01m\u001b[KrleFrPoly\u001b[m\u001b[K’:\n",
            "\u001b[01m\u001b[K../common/maskApi.c:166:3:\u001b[m\u001b[K \u001b[01;35m\u001b[Kwarning: \u001b[m\u001b[Kthis ‘\u001b[01m\u001b[Kfor\u001b[m\u001b[K’ clause does not guard... [\u001b[01;35m\u001b[K-Wmisleading-indentation\u001b[m\u001b[K]\n",
            "   \u001b[01;35m\u001b[Kfor\u001b[m\u001b[K(j=0; j<k; j++) x[j]=(int)(scale*xy[j*2+0]+.5); x[k]=x[0];\n",
            "   \u001b[01;35m\u001b[K^~~\u001b[m\u001b[K\n",
            "\u001b[01m\u001b[K../common/maskApi.c:166:54:\u001b[m\u001b[K \u001b[01;36m\u001b[Knote: \u001b[m\u001b[K...this statement, but the latter is misleadingly indented as if it were guarded by the ‘\u001b[01m\u001b[Kfor\u001b[m\u001b[K’\n",
            "   for(j=0; j<k; j++) x[j]=(int)(scale*xy[j*2+0]+.5); \u001b[01;36m\u001b[Kx\u001b[m\u001b[K[k]=x[0];\n",
            "                                                      \u001b[01;36m\u001b[K^\u001b[m\u001b[K\n",
            "\u001b[01m\u001b[K../common/maskApi.c:167:3:\u001b[m\u001b[K \u001b[01;35m\u001b[Kwarning: \u001b[m\u001b[Kthis ‘\u001b[01m\u001b[Kfor\u001b[m\u001b[K’ clause does not guard... [\u001b[01;35m\u001b[K-Wmisleading-indentation\u001b[m\u001b[K]\n",
            "   \u001b[01;35m\u001b[Kfor\u001b[m\u001b[K(j=0; j<k; j++) y[j]=(int)(scale*xy[j*2+1]+.5); y[k]=y[0];\n",
            "   \u001b[01;35m\u001b[K^~~\u001b[m\u001b[K\n",
            "\u001b[01m\u001b[K../common/maskApi.c:167:54:\u001b[m\u001b[K \u001b[01;36m\u001b[Knote: \u001b[m\u001b[K...this statement, but the latter is misleadingly indented as if it were guarded by the ‘\u001b[01m\u001b[Kfor\u001b[m\u001b[K’\n",
            "   for(j=0; j<k; j++) y[j]=(int)(scale*xy[j*2+1]+.5); \u001b[01;36m\u001b[Ky\u001b[m\u001b[K[k]=y[0];\n",
            "                                                      \u001b[01;36m\u001b[K^\u001b[m\u001b[K\n",
            "\u001b[01m\u001b[K../common/maskApi.c:\u001b[m\u001b[K In function ‘\u001b[01m\u001b[KrleToString\u001b[m\u001b[K’:\n",
            "\u001b[01m\u001b[K../common/maskApi.c:212:7:\u001b[m\u001b[K \u001b[01;35m\u001b[Kwarning: \u001b[m\u001b[Kthis ‘\u001b[01m\u001b[Kif\u001b[m\u001b[K’ clause does not guard... [\u001b[01;35m\u001b[K-Wmisleading-indentation\u001b[m\u001b[K]\n",
            "       \u001b[01;35m\u001b[Kif\u001b[m\u001b[K(more) c |= 0x20; c+=48; s[p++]=c;\n",
            "       \u001b[01;35m\u001b[K^~\u001b[m\u001b[K\n",
            "\u001b[01m\u001b[K../common/maskApi.c:212:27:\u001b[m\u001b[K \u001b[01;36m\u001b[Knote: \u001b[m\u001b[K...this statement, but the latter is misleadingly indented as if it were guarded by the ‘\u001b[01m\u001b[Kif\u001b[m\u001b[K’\n",
            "       if(more) c |= 0x20; \u001b[01;36m\u001b[Kc\u001b[m\u001b[K+=48; s[p++]=c;\n",
            "                           \u001b[01;36m\u001b[K^\u001b[m\u001b[K\n",
            "\u001b[01m\u001b[K../common/maskApi.c:\u001b[m\u001b[K In function ‘\u001b[01m\u001b[KrleFrString\u001b[m\u001b[K’:\n",
            "\u001b[01m\u001b[K../common/maskApi.c:220:3:\u001b[m\u001b[K \u001b[01;35m\u001b[Kwarning: \u001b[m\u001b[Kthis ‘\u001b[01m\u001b[Kwhile\u001b[m\u001b[K’ clause does not guard... [\u001b[01;35m\u001b[K-Wmisleading-indentation\u001b[m\u001b[K]\n",
            "   \u001b[01;35m\u001b[Kwhile\u001b[m\u001b[K( s[m] ) m++; cnts=malloc(sizeof(uint)*m); m=0;\n",
            "   \u001b[01;35m\u001b[K^~~~~\u001b[m\u001b[K\n",
            "\u001b[01m\u001b[K../common/maskApi.c:220:22:\u001b[m\u001b[K \u001b[01;36m\u001b[Knote: \u001b[m\u001b[K...this statement, but the latter is misleadingly indented as if it were guarded by the ‘\u001b[01m\u001b[Kwhile\u001b[m\u001b[K’\n",
            "   while( s[m] ) m++; \u001b[01;36m\u001b[Kcnts\u001b[m\u001b[K=malloc(sizeof(uint)*m); m=0;\n",
            "                      \u001b[01;36m\u001b[K^~~~\u001b[m\u001b[K\n",
            "\u001b[01m\u001b[K../common/maskApi.c:228:5:\u001b[m\u001b[K \u001b[01;35m\u001b[Kwarning: \u001b[m\u001b[Kthis ‘\u001b[01m\u001b[Kif\u001b[m\u001b[K’ clause does not guard... [\u001b[01;35m\u001b[K-Wmisleading-indentation\u001b[m\u001b[K]\n",
            "     \u001b[01;35m\u001b[Kif\u001b[m\u001b[K(m>2) x+=(long) cnts[m-2]; cnts[m++]=(uint) x;\n",
            "     \u001b[01;35m\u001b[K^~\u001b[m\u001b[K\n",
            "\u001b[01m\u001b[K../common/maskApi.c:228:34:\u001b[m\u001b[K \u001b[01;36m\u001b[Knote: \u001b[m\u001b[K...this statement, but the latter is misleadingly indented as if it were guarded by the ‘\u001b[01m\u001b[Kif\u001b[m\u001b[K’\n",
            "     if(m>2) x+=(long) cnts[m-2]; \u001b[01;36m\u001b[Kcnts\u001b[m\u001b[K[m++]=(uint) x;\n",
            "                                  \u001b[01;36m\u001b[K^~~~\u001b[m\u001b[K\n",
            "\u001b[01m\u001b[K../common/maskApi.c:\u001b[m\u001b[K In function ‘\u001b[01m\u001b[KrleToBbox\u001b[m\u001b[K’:\n",
            "\u001b[01m\u001b[K../common/maskApi.c:141:31:\u001b[m\u001b[K \u001b[01;35m\u001b[Kwarning: \u001b[m\u001b[K‘\u001b[01m\u001b[Kxp\u001b[m\u001b[K’ may be used uninitialized in this function [\u001b[01;35m\u001b[K-Wmaybe-uninitialized\u001b[m\u001b[K]\n",
            "       if(j%2==0) xp=x; else if\u001b[01;35m\u001b[K(\u001b[m\u001b[Kxp<x) { ys=0; ye=h-1; }\n",
            "                               \u001b[01;35m\u001b[K^\u001b[m\u001b[K\n",
            "x86_64-linux-gnu-gcc -pthread -DNDEBUG -g -fwrapv -O2 -Wall -g -fstack-protector-strong -Wformat -Werror=format-security -Wdate-time -D_FORTIFY_SOURCE=2 -fPIC -I/usr/local/lib/python3.6/dist-packages/numpy/core/include -I../common -I/usr/include/python3.6m -c pycocotools/_mask.c -o build/temp.linux-x86_64-3.6/pycocotools/_mask.o -Wno-cpp -Wno-unused-function -std=c99\n",
            "x86_64-linux-gnu-gcc -pthread -shared -Wl,-O1 -Wl,-Bsymbolic-functions -Wl,-Bsymbolic-functions -Wl,-z,relro -Wl,-Bsymbolic-functions -Wl,-z,relro -g -fstack-protector-strong -Wformat -Werror=format-security -Wdate-time -D_FORTIFY_SOURCE=2 build/temp.linux-x86_64-3.6/../common/maskApi.o build/temp.linux-x86_64-3.6/pycocotools/_mask.o -o build/lib.linux-x86_64-3.6/pycocotools/_mask.cpython-36m-x86_64-linux-gnu.so\n",
            "running install\n",
            "running bdist_egg\n",
            "running egg_info\n",
            "creating pycocotools.egg-info\n",
            "writing pycocotools.egg-info/PKG-INFO\n",
            "writing dependency_links to pycocotools.egg-info/dependency_links.txt\n",
            "writing requirements to pycocotools.egg-info/requires.txt\n",
            "writing top-level names to pycocotools.egg-info/top_level.txt\n",
            "writing manifest file 'pycocotools.egg-info/SOURCES.txt'\n",
            "writing manifest file 'pycocotools.egg-info/SOURCES.txt'\n",
            "installing library code to build/bdist.linux-x86_64/egg\n",
            "running install_lib\n",
            "running build_py\n",
            "running build_ext\n",
            "skipping 'pycocotools/_mask.c' Cython extension (up-to-date)\n",
            "creating build/bdist.linux-x86_64\n",
            "creating build/bdist.linux-x86_64/egg\n",
            "creating build/bdist.linux-x86_64/egg/pycocotools\n",
            "copying build/lib.linux-x86_64-3.6/pycocotools/__init__.py -> build/bdist.linux-x86_64/egg/pycocotools\n",
            "copying build/lib.linux-x86_64-3.6/pycocotools/coco.py -> build/bdist.linux-x86_64/egg/pycocotools\n",
            "copying build/lib.linux-x86_64-3.6/pycocotools/cocoeval.py -> build/bdist.linux-x86_64/egg/pycocotools\n",
            "copying build/lib.linux-x86_64-3.6/pycocotools/mask.py -> build/bdist.linux-x86_64/egg/pycocotools\n",
            "copying build/lib.linux-x86_64-3.6/pycocotools/_mask.cpython-36m-x86_64-linux-gnu.so -> build/bdist.linux-x86_64/egg/pycocotools\n",
            "byte-compiling build/bdist.linux-x86_64/egg/pycocotools/__init__.py to __init__.cpython-36.pyc\n",
            "byte-compiling build/bdist.linux-x86_64/egg/pycocotools/coco.py to coco.cpython-36.pyc\n",
            "byte-compiling build/bdist.linux-x86_64/egg/pycocotools/cocoeval.py to cocoeval.cpython-36.pyc\n",
            "byte-compiling build/bdist.linux-x86_64/egg/pycocotools/mask.py to mask.cpython-36.pyc\n",
            "creating stub loader for pycocotools/_mask.cpython-36m-x86_64-linux-gnu.so\n",
            "byte-compiling build/bdist.linux-x86_64/egg/pycocotools/_mask.py to _mask.cpython-36.pyc\n",
            "creating build/bdist.linux-x86_64/egg/EGG-INFO\n",
            "copying pycocotools.egg-info/PKG-INFO -> build/bdist.linux-x86_64/egg/EGG-INFO\n",
            "copying pycocotools.egg-info/SOURCES.txt -> build/bdist.linux-x86_64/egg/EGG-INFO\n",
            "copying pycocotools.egg-info/dependency_links.txt -> build/bdist.linux-x86_64/egg/EGG-INFO\n",
            "copying pycocotools.egg-info/requires.txt -> build/bdist.linux-x86_64/egg/EGG-INFO\n",
            "copying pycocotools.egg-info/top_level.txt -> build/bdist.linux-x86_64/egg/EGG-INFO\n",
            "writing build/bdist.linux-x86_64/egg/EGG-INFO/native_libs.txt\n",
            "zip_safe flag not set; analyzing archive contents...\n",
            "pycocotools.__pycache__._mask.cpython-36: module references __file__\n",
            "creating dist\n",
            "creating 'dist/pycocotools-2.0-py3.6-linux-x86_64.egg' and adding 'build/bdist.linux-x86_64/egg' to it\n",
            "removing 'build/bdist.linux-x86_64/egg' (and everything under it)\n",
            "Processing pycocotools-2.0-py3.6-linux-x86_64.egg\n",
            "removing '/usr/local/lib/python3.6/dist-packages/pycocotools-2.0-py3.6-linux-x86_64.egg' (and everything under it)\n",
            "creating /usr/local/lib/python3.6/dist-packages/pycocotools-2.0-py3.6-linux-x86_64.egg\n",
            "Extracting pycocotools-2.0-py3.6-linux-x86_64.egg to /usr/local/lib/python3.6/dist-packages\n",
            "pycocotools 2.0 is already the active version in easy-install.pth\n",
            "\n",
            "Installed /usr/local/lib/python3.6/dist-packages/pycocotools-2.0-py3.6-linux-x86_64.egg\n",
            "Processing dependencies for pycocotools==2.0\n",
            "Searching for matplotlib==3.2.2\n",
            "Best match: matplotlib 3.2.2\n",
            "Adding matplotlib 3.2.2 to easy-install.pth file\n",
            "\n",
            "Using /usr/local/lib/python3.6/dist-packages\n",
            "Searching for Cython==0.29.21\n",
            "Best match: Cython 0.29.21\n",
            "Adding Cython 0.29.21 to easy-install.pth file\n",
            "Installing cygdb script to /usr/local/bin\n",
            "Installing cython script to /usr/local/bin\n",
            "Installing cythonize script to /usr/local/bin\n",
            "\n",
            "Using /usr/local/lib/python3.6/dist-packages\n",
            "Searching for setuptools==50.3.0\n",
            "Best match: setuptools 50.3.0\n",
            "Adding setuptools 50.3.0 to easy-install.pth file\n",
            "Installing easy_install script to /usr/local/bin\n",
            "Installing easy_install-3.8 script to /usr/local/bin\n",
            "\n",
            "Using /usr/local/lib/python3.6/dist-packages\n",
            "Searching for python-dateutil==2.8.1\n",
            "Best match: python-dateutil 2.8.1\n",
            "Adding python-dateutil 2.8.1 to easy-install.pth file\n",
            "\n",
            "Using /usr/local/lib/python3.6/dist-packages\n",
            "Searching for pyparsing==2.4.7\n",
            "Best match: pyparsing 2.4.7\n",
            "Adding pyparsing 2.4.7 to easy-install.pth file\n",
            "\n",
            "Using /usr/local/lib/python3.6/dist-packages\n",
            "Searching for cycler==0.10.0\n",
            "Best match: cycler 0.10.0\n",
            "Adding cycler 0.10.0 to easy-install.pth file\n",
            "\n",
            "Using /usr/local/lib/python3.6/dist-packages\n",
            "Searching for numpy==1.18.5\n",
            "Best match: numpy 1.18.5\n",
            "Adding numpy 1.18.5 to easy-install.pth file\n",
            "Installing f2py script to /usr/local/bin\n",
            "Installing f2py3 script to /usr/local/bin\n",
            "Installing f2py3.6 script to /usr/local/bin\n",
            "\n",
            "Using /usr/local/lib/python3.6/dist-packages\n",
            "Searching for kiwisolver==1.2.0\n",
            "Best match: kiwisolver 1.2.0\n",
            "Adding kiwisolver 1.2.0 to easy-install.pth file\n",
            "\n",
            "Using /usr/local/lib/python3.6/dist-packages\n",
            "Searching for six==1.15.0\n",
            "Best match: six 1.15.0\n",
            "Adding six 1.15.0 to easy-install.pth file\n",
            "\n",
            "Using /usr/local/lib/python3.6/dist-packages\n",
            "Finished processing dependencies for pycocotools==2.0\n"
          ],
          "name": "stdout"
        }
      ]
    },
    {
      "cell_type": "code",
      "metadata": {
        "id": "Mp0NQd2DVbgO",
        "outputId": "9b2bab4c-73a4-40df-ef82-3f926eea2414",
        "colab": {
          "base_uri": "https://localhost:8080/",
          "height": 34
        }
      },
      "source": [
        "cd ../../"
      ],
      "execution_count": 6,
      "outputs": [
        {
          "output_type": "stream",
          "text": [
            "/content/drive/My Drive/DIC/Git\n"
          ],
          "name": "stdout"
        }
      ]
    },
    {
      "cell_type": "code",
      "metadata": {
        "id": "Ues1B_tzVjHU",
        "outputId": "51087d47-b1fd-43c9-f2ea-d5d17d832e89",
        "colab": {
          "base_uri": "https://localhost:8080/",
          "height": 102
        }
      },
      "source": [
        "!git clone https://github.com/yunjey/pytorch-tutorial.git"
      ],
      "execution_count": 11,
      "outputs": [
        {
          "output_type": "stream",
          "text": [
            "Cloning into 'pytorch-tutorial'...\n",
            "remote: Enumerating objects: 917, done.\u001b[K\n",
            "remote: Total 917 (delta 0), reused 0 (delta 0), pack-reused 917\u001b[K\n",
            "Receiving objects: 100% (917/917), 12.80 MiB | 2.64 MiB/s, done.\n",
            "Resolving deltas: 100% (491/491), done.\n"
          ],
          "name": "stdout"
        }
      ]
    },
    {
      "cell_type": "code",
      "metadata": {
        "id": "wOcb0fkvVky9",
        "outputId": "421deb1b-620c-49fd-f13a-7df0fa52c07d",
        "colab": {
          "base_uri": "https://localhost:8080/",
          "height": 34
        }
      },
      "source": [
        "cd pytorch-tutorial/tutorials/03-advanced/image_captioning/"
      ],
      "execution_count": 7,
      "outputs": [
        {
          "output_type": "stream",
          "text": [
            "/content/drive/My Drive/DIC/Git/pytorch-tutorial/tutorials/03-advanced/image_captioning\n"
          ],
          "name": "stdout"
        }
      ]
    },
    {
      "cell_type": "code",
      "metadata": {
        "id": "ZhRzafcbV9kV",
        "outputId": "34e6f610-a642-4f9d-976f-8ed37f00159b",
        "colab": {
          "base_uri": "https://localhost:8080/",
          "height": 348
        }
      },
      "source": [
        "!pip install -r requirements.txt"
      ],
      "execution_count": 13,
      "outputs": [
        {
          "output_type": "stream",
          "text": [
            "Requirement already satisfied: matplotlib in /usr/local/lib/python3.6/dist-packages (from -r requirements.txt (line 1)) (3.2.2)\n",
            "Requirement already satisfied: nltk in /usr/local/lib/python3.6/dist-packages (from -r requirements.txt (line 2)) (3.2.5)\n",
            "Requirement already satisfied: numpy in /usr/local/lib/python3.6/dist-packages (from -r requirements.txt (line 3)) (1.18.5)\n",
            "Requirement already satisfied: Pillow in /usr/local/lib/python3.6/dist-packages (from -r requirements.txt (line 4)) (7.0.0)\n",
            "Collecting argparse\n",
            "  Downloading https://files.pythonhosted.org/packages/f2/94/3af39d34be01a24a6e65433d19e107099374224905f1e0cc6bbe1fd22a2f/argparse-1.4.0-py2.py3-none-any.whl\n",
            "Requirement already satisfied: python-dateutil>=2.1 in /usr/local/lib/python3.6/dist-packages (from matplotlib->-r requirements.txt (line 1)) (2.8.1)\n",
            "Requirement already satisfied: cycler>=0.10 in /usr/local/lib/python3.6/dist-packages (from matplotlib->-r requirements.txt (line 1)) (0.10.0)\n",
            "Requirement already satisfied: kiwisolver>=1.0.1 in /usr/local/lib/python3.6/dist-packages (from matplotlib->-r requirements.txt (line 1)) (1.2.0)\n",
            "Requirement already satisfied: pyparsing!=2.0.4,!=2.1.2,!=2.1.6,>=2.0.1 in /usr/local/lib/python3.6/dist-packages (from matplotlib->-r requirements.txt (line 1)) (2.4.7)\n",
            "Requirement already satisfied: six in /usr/local/lib/python3.6/dist-packages (from nltk->-r requirements.txt (line 2)) (1.15.0)\n",
            "Installing collected packages: argparse\n",
            "Successfully installed argparse-1.4.0\n"
          ],
          "name": "stdout"
        },
        {
          "output_type": "display_data",
          "data": {
            "application/vnd.colab-display-data+json": {
              "pip_warning": {
                "packages": [
                  "argparse"
                ]
              }
            }
          },
          "metadata": {
            "tags": []
          }
        }
      ]
    },
    {
      "cell_type": "code",
      "metadata": {
        "id": "rc6HprmWtKDX",
        "outputId": "a7f6f037-1d3f-4a20-970a-23bfc3ab64b6",
        "colab": {
          "base_uri": "https://localhost:8080/",
          "height": 34
        }
      },
      "source": [
        "cd /content/drive/My Drive/DIC/Git/pytorch-tutorial/tutorials/03-advanced/image_captioning/models"
      ],
      "execution_count": 45,
      "outputs": [
        {
          "output_type": "stream",
          "text": [
            "/content/drive/My Drive/DIC/Git/pytorch-tutorial/tutorials/03-advanced/image_captioning/models\n"
          ],
          "name": "stdout"
        }
      ]
    },
    {
      "cell_type": "code",
      "metadata": {
        "id": "FasIzsZbqhHQ",
        "outputId": "e6a6ff02-b329-4aa7-95ed-f5c81b3f42ec",
        "colab": {
          "base_uri": "https://localhost:8080/",
          "height": 68
        }
      },
      "source": [
        "!unzip pretrained_model.zip"
      ],
      "execution_count": 46,
      "outputs": [
        {
          "output_type": "stream",
          "text": [
            "Archive:  pretrained_model.zip\n",
            "  inflating: encoder-5-3000.pkl      \n",
            "  inflating: decoder-5-3000.pkl      \n"
          ],
          "name": "stdout"
        }
      ]
    },
    {
      "cell_type": "code",
      "metadata": {
        "id": "jp2H78GZrCnc",
        "outputId": "40a1c02c-38a7-4316-8caa-244513c88798",
        "colab": {
          "base_uri": "https://localhost:8080/",
          "height": 34
        }
      },
      "source": [
        "cd /content/drive/My Drive/DIC/Git/pytorch-tutorial/tutorials/03-advanced/image_captioning/data"
      ],
      "execution_count": 47,
      "outputs": [
        {
          "output_type": "stream",
          "text": [
            "/content/drive/My Drive/DIC/Git/pytorch-tutorial/tutorials/03-advanced/image_captioning/data\n"
          ],
          "name": "stdout"
        }
      ]
    },
    {
      "cell_type": "code",
      "metadata": {
        "id": "qB38eLwXpN_D",
        "outputId": "63b6593e-b5a7-43ac-ce52-8be7280f4458",
        "colab": {
          "base_uri": "https://localhost:8080/",
          "height": 51
        }
      },
      "source": [
        "!unzip vocap.zip"
      ],
      "execution_count": 49,
      "outputs": [
        {
          "output_type": "stream",
          "text": [
            "Archive:  vocap.zip\n",
            "  inflating: vocab.pkl               \n"
          ],
          "name": "stdout"
        }
      ]
    },
    {
      "cell_type": "code",
      "metadata": {
        "id": "F5T23HWsuSsG",
        "outputId": "d2511469-5a17-48d7-9f35-057a94b19a35",
        "colab": {
          "base_uri": "https://localhost:8080/",
          "height": 34
        }
      },
      "source": [
        "cd /content/drive/My Drive/DIC/Git/pytorch-tutorial/tutorials/03-advanced/image_captioning/"
      ],
      "execution_count": 51,
      "outputs": [
        {
          "output_type": "stream",
          "text": [
            "/content/drive/My Drive/DIC/Git/pytorch-tutorial/tutorials/03-advanced/image_captioning\n"
          ],
          "name": "stdout"
        }
      ]
    },
    {
      "cell_type": "code",
      "metadata": {
        "id": "IwpIPKGhW2-3",
        "outputId": "8a985b3f-8634-4f0c-c334-51ee090a4139",
        "colab": {
          "base_uri": "https://localhost:8080/",
          "height": 34
        }
      },
      "source": [
        "!python sample.py --image='png/example.png'"
      ],
      "execution_count": 9,
      "outputs": [
        {
          "output_type": "stream",
          "text": [
            "<start> a group of giraffes standing next to each other . <end>\n"
          ],
          "name": "stdout"
        }
      ]
    },
    {
      "cell_type": "markdown",
      "metadata": {
        "id": "o4ko-D95W_se"
      },
      "source": [
        "## 【問題3】Kerasで動かしたい場合はどうするかを調査"
      ]
    },
    {
      "cell_type": "markdown",
      "metadata": {
        "id": "UPnlFQT8XJV4"
      },
      "source": [
        "PyTorchではなく、Kerasで動かしたい場合。\n",
        "* ONNX (Open Neural Network Exchange)を用いて、簡易的に以下のフォーマット同士の変換が可能である。\n",
        "  * Pytorch, Tensorflow, Keras, Cafee2, CoreML\n",
        "  * [参照元](https://medium.com/@santhoshkolloju/convert-your-pytorch-models-to-tensorflow-with-onnx-84c3bdd8d722)\n",
        "* 今回の場合は、Pytorchモデルを一旦、ONNXフォーマットに変換する。そのコードは以下の通り。"
      ]
    },
    {
      "cell_type": "code",
      "metadata": {
        "id": "1molOut1eIwz"
      },
      "source": [
        "from transformers import (WEIGHTS_NAME, BertConfig, BertForQuestionAnswering, BertTokenizer)\n",
        "model = model_class.from_pretrained(model_name_or_path,\n",
        "                                    from_tf=False,\n",
        "                                    config=config,\n",
        "                                    cache_dir=cache_dir)\n",
        "model.eval()\n",
        "\n",
        "inputs = {\n",
        "    'input_ids':      np.array(inp).reshape(1, 128),                         \n",
        "    'attention_mask': np.array(mask).reshape(1, 128),\n",
        "    'token_type_ids': np.array(typeid).reshape(1, 128)\n",
        "}\n",
        "torch.onnx.export(model,                                            \n",
        "                      (inputs['input_ids'],                             \n",
        "                       inputs['attention_mask'], \n",
        "                inputs['token_type_ids'])#sample input to the model, \n",
        "                      output_model_path=\"BERT.onnx\",                                \n",
        "                      opset_version=11,                                 \n",
        "                      do_constant_folding=True,                         \n",
        "                      input_names=['input_ids',                         \n",
        "                                   'input_mask', \n",
        "                                   'segment_ids'],\n",
        "                      output_names=['start', 'end'],                    \n",
        "                      dynamic_axes={'input_ids': [1], #this means second axis is dynamic       \n",
        "                                    'input_mask' : [1],\n",
        "                                    'segment_ids' : [1],\n",
        "                                    })"
      ],
      "execution_count": null,
      "outputs": []
    },
    {
      "cell_type": "markdown",
      "metadata": {
        "id": "UO6tQcNLeZL7"
      },
      "source": [
        "* 次にONNXフォーマットをTensorflowに変換する。\n",
        "  * [こちら](https://github.com/onnx/onnx-tensorflow)のパッケージをインストールして、以下のコマンドを実行する。\n",
        "  * onnx-tf convert -t bert.onnx -o bert.pb\n",
        "  * 以上である。"
      ]
    }
  ]
}