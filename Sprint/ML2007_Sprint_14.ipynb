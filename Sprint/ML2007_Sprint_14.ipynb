{
  "nbformat": 4,
  "nbformat_minor": 0,
  "metadata": {
    "colab": {
      "name": "ML2007_Sprint_14.ipynb",
      "provenance": []
    },
    "kernelspec": {
      "name": "python3",
      "display_name": "Python 3"
    },
    "accelerator": "GPU"
  },
  "cells": [
    {
      "cell_type": "markdown",
      "metadata": {
        "id": "ugEFb4u35YxG",
        "colab_type": "text"
      },
      "source": [
        "# Sprint ディープラーニングフレームワーク2"
      ]
    },
    {
      "cell_type": "markdown",
      "metadata": {
        "id": "7Fv-UwP2S6gF",
        "colab_type": "text"
      },
      "source": [
        "# 【問題1】公式チュートリアルモデルを分担して実行\n",
        "\n",
        "* 選択課題：畳み込みニューラルネットワーク (Convolutional Neural Networks)\n",
        "* 参照元url： https://colab.research.google.com/drive/1EjCLLDPX9vlTfT6alFIvyetG1OvmmD0Q?hl=ja#scrollTo=7Fv-UwP2S6gF"
      ]
    },
    {
      "cell_type": "markdown",
      "metadata": {
        "id": "qw6eYFd8TOTD",
        "colab_type": "text"
      },
      "source": [
        "## TensorFlowのインポート"
      ]
    },
    {
      "cell_type": "code",
      "metadata": {
        "id": "oPIKSQLASS1N",
        "colab_type": "code",
        "colab": {}
      },
      "source": [
        "# !pip install -q tensorflow-gpu==2.0.0-rc1\n",
        "import tensorflow as tf\n",
        "\n",
        "from tensorflow.keras import datasets, layers, models"
      ],
      "execution_count": 18,
      "outputs": []
    },
    {
      "cell_type": "markdown",
      "metadata": {
        "id": "gxoLK7-LTWN6",
        "colab_type": "text"
      },
      "source": [
        "## MNISTデータセットのダウンロードと準備"
      ]
    },
    {
      "cell_type": "code",
      "metadata": {
        "id": "U6JVEyTaTcMM",
        "colab_type": "code",
        "colab": {}
      },
      "source": [
        "(train_images, train_labels), (test_images, test_labels) = datasets.mnist.load_data()\n",
        "\n",
        "# (枚数、縦pixel、横pixel、カラーチャンネル数)\n",
        "train_images = train_images.reshape((60000, 28, 28, 1))\n",
        "test_images = test_images.reshape((10000, 28, 28, 1))\n",
        "\n",
        "# ピクセルの値を 0~1の間に正規化\n",
        "train_images, test_images = train_images / 255.0, test_images / 255.0"
      ],
      "execution_count": 19,
      "outputs": []
    },
    {
      "cell_type": "code",
      "metadata": {
        "id": "fOBiTcuXkXrR",
        "colab_type": "code",
        "colab": {
          "base_uri": "https://localhost:8080/",
          "height": 34
        },
        "outputId": "883e058f-de85-4fbd-a158-1dd63081445f"
      },
      "source": [
        "test_images.shape"
      ],
      "execution_count": 26,
      "outputs": [
        {
          "output_type": "execute_result",
          "data": {
            "text/plain": [
              "(10000, 28, 28, 1)"
            ]
          },
          "metadata": {
            "tags": []
          },
          "execution_count": 26
        }
      ]
    },
    {
      "cell_type": "markdown",
      "metadata": {
        "id": "mmNDJC2rVBu3",
        "colab_type": "text"
      },
      "source": [
        "## 畳み込みの基礎部分の作成\n",
        "\n",
        "* Conv2DとMaxPooling2Dレイヤーのスタック\n",
        "* CNNはbatchサイズを無視して、shape(image_height, image_width, color_channels)のテンソルをとる。\n",
        "* 今回のMNIST画像はグレースケールのため、color_channels=1、RGBの場合は3\n",
        "* 入力フォーマット(28, 28, 1)を引数input_shapeとして最初のレイヤーに渡す。"
      ]
    },
    {
      "cell_type": "code",
      "metadata": {
        "id": "4roJGDVpUWg-",
        "colab_type": "code",
        "colab": {}
      },
      "source": [
        "model = models.Sequential()\n",
        "# 最初の畳み込みレイヤー\n",
        "# チャンネル数：32、抽出するストライド範囲、活性化関数、最初の層に必要な入力形式\n",
        "model.add(layers.Conv2D(32, (3, 3), activation='relu', input_shape=(28, 28, 1)))\n",
        "\n",
        "# 最初の隠れ層\n",
        "# プーリング演算：(2, 2)はダウンスケールする係数。今回はそれぞれの次元で半分。\n",
        "model.add(layers.MaxPooling2D((2, 2)))\n",
        "\n",
        "# 2層目\n",
        "model.add(layers.Conv2D(64, (3, 3), activation='relu'))\n",
        "\n",
        "# 2番目の隠れ層\n",
        "model.add(layers.MaxPooling2D((2, 2)))\n",
        "\n",
        "# 3層目\n",
        "model.add(layers.Conv2D(64, (3,3), activation='relu'))"
      ],
      "execution_count": 20,
      "outputs": []
    },
    {
      "cell_type": "code",
      "metadata": {
        "id": "LaGW6CeFZa6c",
        "colab_type": "code",
        "colab": {
          "base_uri": "https://localhost:8080/",
          "height": 323
        },
        "outputId": "f39a2f91-0bbf-45ad-e96d-2ab7a6c213f1"
      },
      "source": [
        "# モデルのArchitectureを表示\n",
        "model.summary()"
      ],
      "execution_count": 21,
      "outputs": [
        {
          "output_type": "stream",
          "text": [
            "Model: \"sequential_5\"\n",
            "_________________________________________________________________\n",
            "Layer (type)                 Output Shape              Param #   \n",
            "=================================================================\n",
            "conv2d_9 (Conv2D)            (None, 26, 26, 32)        320       \n",
            "_________________________________________________________________\n",
            "max_pooling2d_4 (MaxPooling2 (None, 13, 13, 32)        0         \n",
            "_________________________________________________________________\n",
            "conv2d_10 (Conv2D)           (None, 11, 11, 64)        18496     \n",
            "_________________________________________________________________\n",
            "max_pooling2d_5 (MaxPooling2 (None, 5, 5, 64)          0         \n",
            "_________________________________________________________________\n",
            "conv2d_11 (Conv2D)           (None, 3, 3, 64)          36928     \n",
            "=================================================================\n",
            "Total params: 55,744\n",
            "Trainable params: 55,744\n",
            "Non-trainable params: 0\n",
            "_________________________________________________________________\n"
          ],
          "name": "stdout"
        }
      ]
    },
    {
      "cell_type": "markdown",
      "metadata": {
        "id": "J1MKLFJidofx",
        "colab_type": "text"
      },
      "source": [
        "## Denseレイヤーを追加\n",
        "\n",
        "* 畳み込み後の出力（3, 3, 64）を、1つ以上のDenseレイヤーに入れて分類を実行する。\n",
        "* Denseレイヤーは入力としてベクトル(1D)を取り入れる。\n",
        "* そのため、畳み込み後の3D出力を1Dに平滑化してから、Denseレイヤーを追加する。\n",
        "* 今回のMNISTは10個の出力クラスを持つため、最後のDenseレイヤーの出力を10にする。\n",
        "* 最後にsoftmax関数を使用する。"
      ]
    },
    {
      "cell_type": "code",
      "metadata": {
        "id": "Z00bc5d6Z6Jh",
        "colab_type": "code",
        "colab": {}
      },
      "source": [
        "model.add(layers.Flatten())\n",
        "model.add(layers.Dense(64, activation='relu'))\n",
        "model.add(layers.Dense(10, activation='softmax'))"
      ],
      "execution_count": 22,
      "outputs": []
    },
    {
      "cell_type": "code",
      "metadata": {
        "id": "CNxyC9XahD8V",
        "colab_type": "code",
        "colab": {
          "base_uri": "https://localhost:8080/",
          "height": 425
        },
        "outputId": "9465737a-1beb-4bb5-a721-24791c026fab"
      },
      "source": [
        "# モデルのArchitectureを再度表示する。\n",
        "model.summary()"
      ],
      "execution_count": 23,
      "outputs": [
        {
          "output_type": "stream",
          "text": [
            "Model: \"sequential_5\"\n",
            "_________________________________________________________________\n",
            "Layer (type)                 Output Shape              Param #   \n",
            "=================================================================\n",
            "conv2d_9 (Conv2D)            (None, 26, 26, 32)        320       \n",
            "_________________________________________________________________\n",
            "max_pooling2d_4 (MaxPooling2 (None, 13, 13, 32)        0         \n",
            "_________________________________________________________________\n",
            "conv2d_10 (Conv2D)           (None, 11, 11, 64)        18496     \n",
            "_________________________________________________________________\n",
            "max_pooling2d_5 (MaxPooling2 (None, 5, 5, 64)          0         \n",
            "_________________________________________________________________\n",
            "conv2d_11 (Conv2D)           (None, 3, 3, 64)          36928     \n",
            "_________________________________________________________________\n",
            "flatten_1 (Flatten)          (None, 576)               0         \n",
            "_________________________________________________________________\n",
            "dense_2 (Dense)              (None, 64)                36928     \n",
            "_________________________________________________________________\n",
            "dense_3 (Dense)              (None, 10)                650       \n",
            "=================================================================\n",
            "Total params: 93,322\n",
            "Trainable params: 93,322\n",
            "Non-trainable params: 0\n",
            "_________________________________________________________________\n"
          ],
          "name": "stdout"
        }
      ]
    },
    {
      "cell_type": "markdown",
      "metadata": {
        "id": "_LYkRQtbhcAR",
        "colab_type": "text"
      },
      "source": [
        "## モデルのコンパイルと学習\n",
        "\n",
        "畳み込みニューラルネットワークの計算グラフが完成したので、それを用いて最適化、損失関数、測定基準をコンパイル化（どのような学習方法をさせるか）する。\n",
        "\n",
        "* 最適化方法：adam\n",
        "* 損失関数：sparse_categorical_crossentropy\n",
        "* 測定基準：accuracy\n",
        "\n",
        "epochs数は5回分で学習させる。"
      ]
    },
    {
      "cell_type": "code",
      "metadata": {
        "id": "0McG3kW4hKlq",
        "colab_type": "code",
        "colab": {
          "base_uri": "https://localhost:8080/",
          "height": 204
        },
        "outputId": "5daccc9e-5a30-42e5-e760-0de1cb27c72c"
      },
      "source": [
        "model.compile(optimizer='adam',\n",
        "              loss='sparse_categorical_crossentropy',\n",
        "              metrics=['accuracy'])\n",
        "\n",
        "model.fit(train_images, train_labels, epochs=5)"
      ],
      "execution_count": 24,
      "outputs": [
        {
          "output_type": "stream",
          "text": [
            "Epoch 1/5\n",
            "1875/1875 [==============================] - 5s 3ms/step - loss: 0.1426 - accuracy: 0.9571\n",
            "Epoch 2/5\n",
            "1875/1875 [==============================] - 5s 3ms/step - loss: 0.0487 - accuracy: 0.9849\n",
            "Epoch 3/5\n",
            "1875/1875 [==============================] - 5s 3ms/step - loss: 0.0331 - accuracy: 0.9895\n",
            "Epoch 4/5\n",
            "1875/1875 [==============================] - 5s 3ms/step - loss: 0.0261 - accuracy: 0.9918\n",
            "Epoch 5/5\n",
            "1875/1875 [==============================] - 5s 3ms/step - loss: 0.0198 - accuracy: 0.9938\n"
          ],
          "name": "stdout"
        },
        {
          "output_type": "execute_result",
          "data": {
            "text/plain": [
              "<tensorflow.python.keras.callbacks.History at 0x7f49cac26d68>"
            ]
          },
          "metadata": {
            "tags": []
          },
          "execution_count": 24
        }
      ]
    },
    {
      "cell_type": "markdown",
      "metadata": {
        "id": "MQ_YgNpwjcfs",
        "colab_type": "text"
      },
      "source": [
        "## 学習済みモデルの評価"
      ]
    },
    {
      "cell_type": "code",
      "metadata": {
        "id": "JWwC6VrdioFM",
        "colab_type": "code",
        "colab": {
          "base_uri": "https://localhost:8080/",
          "height": 34
        },
        "outputId": "def257c2-506b-486b-a73a-6983dc3dff6a"
      },
      "source": [
        "test_loss, test_acc = model.evaluate(test_images, test_labels, verbose=2)"
      ],
      "execution_count": 16,
      "outputs": [
        {
          "output_type": "stream",
          "text": [
            "313/313 - 1s - loss: 0.0329 - accuracy: 0.9901\n"
          ],
          "name": "stdout"
        }
      ]
    },
    {
      "cell_type": "code",
      "metadata": {
        "id": "66lod80bjpLY",
        "colab_type": "code",
        "colab": {
          "base_uri": "https://localhost:8080/",
          "height": 34
        },
        "outputId": "9751c05c-44bf-477c-88a5-e76a20120eef"
      },
      "source": [
        "print(f'精度：{test_acc*100:.2f}%')"
      ],
      "execution_count": 29,
      "outputs": [
        {
          "output_type": "stream",
          "text": [
            "精度：99.01%\n"
          ],
          "name": "stdout"
        }
      ]
    },
    {
      "cell_type": "markdown",
      "metadata": {
        "id": "mkfBkdhjkobP",
        "colab_type": "text"
      },
      "source": [
        "* 結果、99%以上のテスト精度を達成した。"
      ]
    },
    {
      "cell_type": "markdown",
      "metadata": {
        "id": "-CbyF1sR3LdY",
        "colab_type": "text"
      },
      "source": [
        "# 【問題2】（アドバンス課題）様々な手法を実行\n",
        "\n",
        "* 参照元url: https://github.com/tensorflow/models/tree/master/research/slim"
      ]
    },
    {
      "cell_type": "code",
      "metadata": {
        "id": "6WXFe08tj0xM",
        "colab_type": "code",
        "colab": {}
      },
      "source": [
        ""
      ],
      "execution_count": null,
      "outputs": []
    },
    {
      "cell_type": "markdown",
      "metadata": {
        "id": "W3GVQ1sa40Zs",
        "colab_type": "text"
      },
      "source": [
        "# 【問題3】Iris（2値分類）をKerasで学習\n",
        "\n",
        "* 隠れ層2枚、出力層1枚の多層パーセプトロン\n",
        "* Kerasの基本的な流れ\n",
        "  1. モデルを定義\n",
        "  2. ネットワークを構築\n",
        "  3. コンパイル\n",
        "  4. 実行\n",
        "----\n",
        "**モデルを定義**\n",
        "* 層の数：4\n",
        "* 入力層：4変数\n",
        "* 中間層（隠れ層①）：50ノード\n",
        "* 中間層（隠れ層②）：100ノード\n",
        "* 出力層（ラベル）：2変数（0 | 1)\n",
        "* バッチ数：10\n",
        "* epoch数：100（default=20）\n",
        "* 活性化関数：relu\n",
        "* 損失関数：categorical_crossentropy\n",
        "* 最適化関数：Adam\n",
        "* 評価関数：Accuracy（精度）"
      ]
    },
    {
      "cell_type": "code",
      "metadata": {
        "id": "NyVM8kUL4329",
        "colab_type": "code",
        "colab": {}
      },
      "source": [
        "# ライブラリーとデータを読み出す。\n",
        "\n",
        "import numpy as np\n",
        "import pandas as pd\n",
        "import tensorflow as tf\n",
        "from tensorflow import keras\n",
        "from tensorflow.keras.models import Sequential\n",
        "from tensorflow.keras.layers import Dense\n",
        "from sklearn.datasets import load_iris\n",
        "\n",
        "\n",
        "iris = load_iris()\n",
        "df = pd.DataFrame(iris.data, columns=iris.feature_names)\n",
        "df = df.astype(float)\n",
        "df['Species'] = iris.target\n",
        "# 対象となる説明・目的変数（50～150行目）のみをスライスする。\n",
        "df = df[50:150]\n",
        "\n",
        "X = df[['sepal length (cm)', 'sepal width (cm)', 'petal length (cm)', 'petal width (cm)']]\n",
        "y = df[\"Species\"]\n",
        "\n",
        "# 目的変数のラベルを0か1の二値に変換する。\n",
        "y = y.replace(1, 0) # ラベル1を0に変換\n",
        "y = y.replace(2, 1) # ラベル2を1に変換\n",
        "\n",
        "X = np.array(X)\n",
        "y = np.array(y)\n",
        "\n",
        "# X = pd.DataFrame(iris.data[50:150, :], columns=iris.feature_names)\n",
        "# y = pd.DataFrame(iris.target[50:150], columns=[\"Species\"])"
      ],
      "execution_count": 127,
      "outputs": []
    },
    {
      "cell_type": "code",
      "metadata": {
        "id": "GFnxeFZXSsfH",
        "colab_type": "code",
        "colab": {}
      },
      "source": [
        "# 訓練データとテストデータへの分離\n",
        "from sklearn.model_selection import train_test_split\n",
        "\n",
        "X_train, X_test, y_train, y_test = train_test_split(X, y, test_size=0.25, random_state=0)"
      ],
      "execution_count": 128,
      "outputs": []
    },
    {
      "cell_type": "code",
      "metadata": {
        "id": "lv8O3akr1oS6",
        "colab_type": "code",
        "colab": {
          "base_uri": "https://localhost:8080/",
          "height": 85
        },
        "outputId": "1df960c2-3a70-41e2-c95a-ae9f98acd89a"
      },
      "source": [
        ""
      ],
      "execution_count": 143,
      "outputs": [
        {
          "output_type": "execute_result",
          "data": {
            "text/plain": [
              "array([0, 0, 1, 1, 1, 1, 1, 1, 1, 1, 0, 0, 1, 1, 1, 0, 1, 0, 0, 0, 0, 0,\n",
              "       0, 0, 0, 1, 1, 0, 0, 0, 1, 0, 0, 0, 1, 0, 0, 1, 1, 1, 1, 0, 1, 0,\n",
              "       1, 0, 0, 0, 1, 1, 1, 0, 1, 1, 1, 0, 0, 1, 0, 0, 1, 1, 0, 1, 1, 1,\n",
              "       0, 0, 1, 0, 1, 1, 1, 0, 0])"
            ]
          },
          "metadata": {
            "tags": []
          },
          "execution_count": 143
        }
      ]
    },
    {
      "cell_type": "code",
      "metadata": {
        "id": "ugedIUei68gP",
        "colab_type": "code",
        "colab": {
          "base_uri": "https://localhost:8080/",
          "height": 255
        },
        "outputId": "a74bc0a0-7ed4-474e-bb3d-b6de9262c490"
      },
      "source": [
        "# 多層パーセプトロンの構築\n",
        "\n",
        "model = keras.Sequential(name=\"my_sequential\")\n",
        "model.add(layers.Dense(50, activation='relu', input_shape=(4, ), name=\"layer1\"))\n",
        "model.add(layers.Dense(100, activation='relu', name=\"layer2\"))\n",
        "model.add(layers.Dense(1, activation='softmax', name=\"output_layer\"))\n",
        "\n",
        "model.summary()"
      ],
      "execution_count": 129,
      "outputs": [
        {
          "output_type": "stream",
          "text": [
            "Model: \"my_sequential\"\n",
            "_________________________________________________________________\n",
            "Layer (type)                 Output Shape              Param #   \n",
            "=================================================================\n",
            "layer1 (Dense)               (None, 50)                250       \n",
            "_________________________________________________________________\n",
            "layer2 (Dense)               (None, 100)               5100      \n",
            "_________________________________________________________________\n",
            "output_layer (Dense)         (None, 1)                 101       \n",
            "=================================================================\n",
            "Total params: 5,451\n",
            "Trainable params: 5,451\n",
            "Non-trainable params: 0\n",
            "_________________________________________________________________\n"
          ],
          "name": "stdout"
        }
      ]
    },
    {
      "cell_type": "code",
      "metadata": {
        "id": "yVNySxTphr-4",
        "colab_type": "code",
        "colab": {}
      },
      "source": [
        "# 構築したmodelを用いcompile（どのように学習させるか）を設定する。\n",
        "from keras.optimizers import Adam\n",
        "model.compile(\n",
        "    optimizer='rmsprop',\n",
        "    loss='categorical_crossentropy', \n",
        "    metrics=['accuracy']\n",
        ")"
      ],
      "execution_count": 136,
      "outputs": []
    },
    {
      "cell_type": "code",
      "metadata": {
        "id": "yurZ4ZKTtX1V",
        "colab_type": "code",
        "colab": {
          "base_uri": "https://localhost:8080/",
          "height": 697
        },
        "outputId": "5355bfbf-7e76-4667-8a5c-d00cb441eff5"
      },
      "source": [
        "# 学習を実行する。\n",
        "history = model.fit(X_train, y_train,\n",
        "                    batch_size=10,\n",
        "                    epochs=20,\n",
        "                    validation_split=0.2\n",
        "                    )"
      ],
      "execution_count": 137,
      "outputs": [
        {
          "output_type": "stream",
          "text": [
            "Epoch 1/20\n",
            "6/6 [==============================] - 0s 21ms/step - loss: 0.0000e+00 - accuracy: 0.4833 - val_loss: 0.0000e+00 - val_accuracy: 0.6000\n",
            "Epoch 2/20\n",
            "6/6 [==============================] - 0s 4ms/step - loss: 0.0000e+00 - accuracy: 0.4833 - val_loss: 0.0000e+00 - val_accuracy: 0.6000\n",
            "Epoch 3/20\n",
            "6/6 [==============================] - 0s 4ms/step - loss: 0.0000e+00 - accuracy: 0.4833 - val_loss: 0.0000e+00 - val_accuracy: 0.6000\n",
            "Epoch 4/20\n",
            "6/6 [==============================] - 0s 4ms/step - loss: 0.0000e+00 - accuracy: 0.4833 - val_loss: 0.0000e+00 - val_accuracy: 0.6000\n",
            "Epoch 5/20\n",
            "6/6 [==============================] - 0s 4ms/step - loss: 0.0000e+00 - accuracy: 0.4833 - val_loss: 0.0000e+00 - val_accuracy: 0.6000\n",
            "Epoch 6/20\n",
            "6/6 [==============================] - 0s 4ms/step - loss: 0.0000e+00 - accuracy: 0.4833 - val_loss: 0.0000e+00 - val_accuracy: 0.6000\n",
            "Epoch 7/20\n",
            "6/6 [==============================] - 0s 4ms/step - loss: 0.0000e+00 - accuracy: 0.4833 - val_loss: 0.0000e+00 - val_accuracy: 0.6000\n",
            "Epoch 8/20\n",
            "6/6 [==============================] - 0s 4ms/step - loss: 0.0000e+00 - accuracy: 0.4833 - val_loss: 0.0000e+00 - val_accuracy: 0.6000\n",
            "Epoch 9/20\n",
            "6/6 [==============================] - 0s 4ms/step - loss: 0.0000e+00 - accuracy: 0.4833 - val_loss: 0.0000e+00 - val_accuracy: 0.6000\n",
            "Epoch 10/20\n",
            "6/6 [==============================] - 0s 4ms/step - loss: 0.0000e+00 - accuracy: 0.4833 - val_loss: 0.0000e+00 - val_accuracy: 0.6000\n",
            "Epoch 11/20\n",
            "6/6 [==============================] - 0s 6ms/step - loss: 0.0000e+00 - accuracy: 0.4833 - val_loss: 0.0000e+00 - val_accuracy: 0.6000\n",
            "Epoch 12/20\n",
            "6/6 [==============================] - 0s 4ms/step - loss: 0.0000e+00 - accuracy: 0.4833 - val_loss: 0.0000e+00 - val_accuracy: 0.6000\n",
            "Epoch 13/20\n",
            "6/6 [==============================] - 0s 5ms/step - loss: 0.0000e+00 - accuracy: 0.4833 - val_loss: 0.0000e+00 - val_accuracy: 0.6000\n",
            "Epoch 14/20\n",
            "6/6 [==============================] - 0s 4ms/step - loss: 0.0000e+00 - accuracy: 0.4833 - val_loss: 0.0000e+00 - val_accuracy: 0.6000\n",
            "Epoch 15/20\n",
            "6/6 [==============================] - 0s 4ms/step - loss: 0.0000e+00 - accuracy: 0.4833 - val_loss: 0.0000e+00 - val_accuracy: 0.6000\n",
            "Epoch 16/20\n",
            "6/6 [==============================] - 0s 4ms/step - loss: 0.0000e+00 - accuracy: 0.4833 - val_loss: 0.0000e+00 - val_accuracy: 0.6000\n",
            "Epoch 17/20\n",
            "6/6 [==============================] - 0s 4ms/step - loss: 0.0000e+00 - accuracy: 0.4833 - val_loss: 0.0000e+00 - val_accuracy: 0.6000\n",
            "Epoch 18/20\n",
            "6/6 [==============================] - 0s 4ms/step - loss: 0.0000e+00 - accuracy: 0.4833 - val_loss: 0.0000e+00 - val_accuracy: 0.6000\n",
            "Epoch 19/20\n",
            "6/6 [==============================] - 0s 4ms/step - loss: 0.0000e+00 - accuracy: 0.4833 - val_loss: 0.0000e+00 - val_accuracy: 0.6000\n",
            "Epoch 20/20\n",
            "6/6 [==============================] - 0s 5ms/step - loss: 0.0000e+00 - accuracy: 0.4833 - val_loss: 0.0000e+00 - val_accuracy: 0.6000\n"
          ],
          "name": "stdout"
        }
      ]
    },
    {
      "cell_type": "code",
      "metadata": {
        "id": "lHbYIVhJ9c4G",
        "colab_type": "code",
        "colab": {
          "base_uri": "https://localhost:8080/",
          "height": 51
        },
        "outputId": "c3e4712c-8121-4c9f-a9f7-78dd9f62972e"
      },
      "source": [
        "model.evaluate(x = X_test, y = y_test)"
      ],
      "execution_count": 123,
      "outputs": [
        {
          "output_type": "stream",
          "text": [
            "1/1 [==============================] - 0s 1ms/step - loss: 0.0000e+00 - accuracy: 0.4800\n"
          ],
          "name": "stdout"
        },
        {
          "output_type": "execute_result",
          "data": {
            "text/plain": [
              "[0.0, 0.47999998927116394]"
            ]
          },
          "metadata": {
            "tags": []
          },
          "execution_count": 123
        }
      ]
    },
    {
      "cell_type": "code",
      "metadata": {
        "id": "VPKKC1JC1V_4",
        "colab_type": "code",
        "colab": {}
      },
      "source": [
        ""
      ],
      "execution_count": null,
      "outputs": []
    }
  ]
}