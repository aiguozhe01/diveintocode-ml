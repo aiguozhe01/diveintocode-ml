{
 "cells": [
  {
   "cell_type": "code",
   "execution_count": 49,
   "metadata": {},
   "outputs": [
    {
     "ename": "SyntaxError",
     "evalue": "invalid syntax (<ipython-input-49-639145514654>, line 1)",
     "output_type": "error",
     "traceback": [
      "\u001b[1;36m  File \u001b[1;32m\"<ipython-input-49-639145514654>\"\u001b[1;36m, line \u001b[1;32m1\u001b[0m\n\u001b[1;33m    $ conda install -c conda-forge jupyterthemes\u001b[0m\n\u001b[1;37m    ^\u001b[0m\n\u001b[1;31mSyntaxError\u001b[0m\u001b[1;31m:\u001b[0m invalid syntax\n"
     ]
    }
   ],
   "source": [
    "$ conda install -c conda-forge jupyterthemes\n"
   ]
  },
  {
   "cell_type": "code",
   "execution_count": 50,
   "metadata": {},
   "outputs": [
    {
     "name": "stdout",
     "output_type": "stream",
     "text": [
      "26\n"
     ]
    }
   ],
   "source": [
    "\"\"\"\n",
    "問題 1\n",
    "\"\"\"\n",
    "THICKNESS = 0.00008\n",
    "folded_paper = THICKNESS\n",
    "cnt = 0\n",
    "mt_fuji = 3776\n",
    "\n",
    "while folded_paper < mt_fuji:\n",
    "    folded_paper = folded_paper * 2\n",
    "    cnt += 1\n",
    "    \n",
    "print(cnt)"
   ]
  },
  {
   "cell_type": "code",
   "execution_count": 29,
   "metadata": {},
   "outputs": [],
   "source": [
    "\"\"\"\n",
    "問題 2\n",
    "\"\"\"\n",
    "def lets_fold_paper(x, y):\n",
    "    THICKNESS = x\n",
    "    LENGTH = y\n",
    "    folded_paper = THICKNESS\n",
    "    cnt = 0\n",
    "\n",
    "    while folded_paper < LENGTH:\n",
    "        folded_paper = folded_paper * 2\n",
    "        cnt += 1\n",
    "    return cnt"
   ]
  },
  {
   "cell_type": "code",
   "execution_count": 30,
   "metadata": {},
   "outputs": [
    {
     "name": "stdout",
     "output_type": "stream",
     "text": [
      "69回折る必要がある\n"
     ]
    }
   ],
   "source": [
    "answer = lets_fold_paper(0.00008, 4.01 * (10 ** 16))\n",
    "print(\"{}回折る必要がある\".format(answer))"
   ]
  },
  {
   "cell_type": "code",
   "execution_count": 31,
   "metadata": {},
   "outputs": [],
   "source": [
    "\"\"\"\n",
    "問題 3\n",
    "\"\"\"\n",
    "import numpy as np\n",
    "\n",
    "def length_of_paper(thickness, fold_cnt):\n",
    "    L = (np.pi * thickness) * ((2 ** fold_cnt) + 4) * ((2 ** fold_cnt) - 1) / 6\n",
    "    return L"
   ]
  },
  {
   "cell_type": "code",
   "execution_count": 47,
   "metadata": {},
   "outputs": [
    {
     "name": "stdout",
     "output_type": "stream",
     "text": [
      "必要な紙の長さは 3.24e+21メートル\n"
     ]
    }
   ],
   "source": [
    "\"月に届くために必要な紙の長さ\"\n",
    "fold_cnt = lets_fold_paper(0.00008, 384400000)\n",
    "answer = length_of_paper(0.00008, fold_cnt)\n",
    "print(\"必要な紙の長さは {:.2e}メートル\".format(answer))"
   ]
  },
  {
   "cell_type": "code",
   "execution_count": 45,
   "metadata": {},
   "outputs": [
    {
     "name": "stdout",
     "output_type": "stream",
     "text": [
      "必要な紙の長さは 1.89e+11メートル\n"
     ]
    }
   ],
   "source": [
    "\"富士山に届くために必要な紙の長さ\"\n",
    "fold_cnt = lets_fold_paper(0.00008, 3776)\n",
    "answer = length_of_paper(0.00008, fold_cnt)\n",
    "print(\"必要な紙の長さは {:.2e}メートル\".format(answer))"
   ]
  },
  {
   "cell_type": "code",
   "execution_count": 46,
   "metadata": {},
   "outputs": [
    {
     "name": "stdout",
     "output_type": "stream",
     "text": [
      "必要な紙の長さは 1.46e+37メートル\n"
     ]
    }
   ],
   "source": [
    "\"最も近い太陽以外の恒星に届くために必要な紙の長さ\"\n",
    "fold_cnt = lets_fold_paper(0.00008, 4.01 * (10 ** 16))\n",
    "answer = length_of_paper(0.00008, fold_cnt)\n",
    "print(\"必要な紙の長さは {:.2e}メートル\".format(answer))"
   ]
  },
  {
   "cell_type": "code",
   "execution_count": null,
   "metadata": {},
   "outputs": [],
   "source": []
  }
 ],
 "metadata": {
  "kernelspec": {
   "display_name": "Python 3",
   "language": "python",
   "name": "python3"
  },
  "language_info": {
   "codemirror_mode": {
    "name": "ipython",
    "version": 3
   },
   "file_extension": ".py",
   "mimetype": "text/x-python",
   "name": "python",
   "nbconvert_exporter": "python",
   "pygments_lexer": "ipython3",
   "version": "3.7.7"
  }
 },
 "nbformat": 4,
 "nbformat_minor": 4
}
