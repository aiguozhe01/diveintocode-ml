{
 "cells": [
  {
   "cell_type": "code",
   "execution_count": 14,
   "metadata": {},
   "outputs": [
    {
     "name": "stdout",
     "output_type": "stream",
     "text": [
      "[[  130.          35.352505   138.756638  2563.4      41888.      ]\n",
      " [  131.          35.35418    138.753742  2703.1      42210.      ]\n",
      " [  132.          35.355855   138.750846  2825.55     42532.      ]\n",
      " [  133.          35.35753    138.74795   2967.9      42854.      ]\n",
      " [  134.          35.359205   138.745054  3087.81     43177.      ]\n",
      " [  135.          35.36088    138.742157  3266.24     43499.      ]\n",
      " [  136.          35.362555   138.739261  3434.59     43821.      ]\n",
      " [  137.          35.36423    138.736364  3600.08     44143.      ]\n",
      " [  138.          35.365904   138.733468  3679.96     44466.      ]\n",
      " [  139.          35.367579   138.730571  3664.9      44788.      ]]\n"
     ]
    }
   ],
   "source": [
    "import numpy as np\n",
    "csv_path=\"C:/Users/Nacho/Documents/Coding/DIC/Week_2/mtfuji_data.csv\"\n",
    "np.set_printoptions(suppress=True)\n",
    "fuji = np.loadtxt(csv_path, delimiter=\",\", skiprows=1)"
   ]
  },
  {
   "cell_type": "code",
   "execution_count": 6,
   "metadata": {},
   "outputs": [
    {
     "ename": "SyntaxError",
     "evalue": "invalid syntax (<ipython-input-6-db188e8ad827>, line 12)",
     "output_type": "error",
     "traceback": [
      "\u001b[1;36m  File \u001b[1;32m\"<ipython-input-6-db188e8ad827>\"\u001b[1;36m, line \u001b[1;32m12\u001b[0m\n\u001b[1;33m    fuji_reverse.shape\u001b[0m\n\u001b[1;37m               ^\u001b[0m\n\u001b[1;31mSyntaxError\u001b[0m\u001b[1;31m:\u001b[0m invalid syntax\n"
     ]
    }
   ],
   "source": [
    "def slope(value_ndarray):\n",
    "    diff = value_ndarray[1:] - value_ndarray[:-1]\n",
    "    d_y = diff[:, 1] / diff[:, 0]\n",
    "    return d_y\n",
    "\n",
    "# y_change = slope(xy_ndarray)\n",
    "\n",
    "# 今回は１次関数のため、変化量は一定、y_changeは全て同じ値。\n",
    "\n",
    "fuji_reverse = np.array([i for i in fuji[::-1].reshape(fuji.shape[0, 0], fuji.shape[0,1])\n",
    "\n",
    "fuji_reverse.shape\n",
    "                         \n",
    "\n",
    "                         "
   ]
  },
  {
   "cell_type": "code",
   "execution_count": 18,
   "metadata": {},
   "outputs": [
    {
     "name": "stdout",
     "output_type": "stream",
     "text": [
      "[ 35.134141 139.132082   0.         0.      ]\n",
      "[0.9999561 0.9999793      -inf]\n"
     ]
    },
    {
     "name": "stderr",
     "output_type": "stream",
     "text": [
      "C:\\Users\\Nacho\\Anaconda3\\lib\\site-packages\\ipykernel_launcher.py:12: RuntimeWarning: divide by zero encountered in true_divide\n",
      "  if sys.path[0] == '':\n"
     ]
    }
   ],
   "source": [
    "data1 = fuji[0][1:100]\n",
    "data2 = fuji[1][1:100]\n",
    "d_1_a = data1[1:]\n",
    "d_1_b = data1[:-1]\n",
    "d_2_a = data2[1:]\n",
    "d_2_b = data2[:-1]\n",
    "print(data1)\n",
    "\n",
    "x_gradient = d_1_b - d_1_a\n",
    "y_gradient = d_2_b - d_2_a\n",
    "\n",
    "total_gradient = (y_gradient / x_gradient)\n",
    "print(total_gradient)"
   ]
  },
  {
   "cell_type": "code",
   "execution_count": null,
   "metadata": {},
   "outputs": [],
   "source": []
  }
 ],
 "metadata": {
  "kernelspec": {
   "display_name": "Python 3",
   "language": "python",
   "name": "python3"
  },
  "language_info": {
   "codemirror_mode": {
    "name": "ipython",
    "version": 3
   },
   "file_extension": ".py",
   "mimetype": "text/x-python",
   "name": "python",
   "nbconvert_exporter": "python",
   "pygments_lexer": "ipython3",
   "version": "3.7.7"
  }
 },
 "nbformat": 4,
 "nbformat_minor": 4
}
