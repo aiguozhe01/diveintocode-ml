{
 "cells": [
  {
   "cell_type": "code",
   "execution_count": 2,
   "metadata": {},
   "outputs": [
    {
     "name": "stdout",
     "output_type": "stream",
     "text": [
      "4マスの板に小麦を並べる（リスト）：[1, 2, 4, 8]\n"
     ]
    }
   ],
   "source": [
    "n_squares = 4\n",
    "small_board_list = [1]\n",
    "for _ in range (n_squares - 1):\n",
    "    small_board_list.append(2*small_board_list[-1])\n",
    "print(\"4マスの板に小麦を並べる（リスト）：{}\".format(small_board_list))"
   ]
  },
  {
   "cell_type": "code",
   "execution_count": 3,
   "metadata": {},
   "outputs": [
    {
     "name": "stdout",
     "output_type": "stream",
     "text": [
      "4マスの板に小麦を並べる（リスト）：[1 2 4 8]\n"
     ]
    }
   ],
   "source": [
    "import numpy as np\n",
    "small_board_ndarray = np.array(small_board_list)\n",
    "print(\"4マスの板に小麦を並べる（リスト）：{}\".format(small_board_ndarray))"
   ]
  },
  {
   "cell_type": "markdown",
   "metadata": {},
   "source": [
    "## 【問題1】2×2マスのチェス盤の小麦の数\n",
    "\n",
    "2×2マスのチェス盤をndarrayによって表現し、各マスの小麦の数を計算してください。左上のマスに小麦を1つ置いた後、その右が2つ、左下が4つ、右下が8つという風に進みます。\n",
    "\n",
    "サンプルコードで作成したndarrayのshapeの変形を行ってください。"
   ]
  },
  {
   "cell_type": "code",
   "execution_count": 73,
   "metadata": {},
   "outputs": [
    {
     "name": "stdout",
     "output_type": "stream",
     "text": [
      "[[1 2]\n",
      " [4 8]]\n"
     ]
    }
   ],
   "source": [
    "square_board_ndarray = np.reshape(small_board_list, (2, 2))\n",
    "print(square_board_ndarray)"
   ]
  },
  {
   "cell_type": "markdown",
   "metadata": {},
   "source": [
    "## 【問題2】n×mマスへの拡張\n",
    "\n",
    "n×mマスのチェス盤の小麦の数を記したndarrayを返す関数を作成してください。そして、この関数を使い8×8マスのチェス盤の小麦の数を求めてください。"
   ]
  },
  {
   "cell_type": "code",
   "execution_count": 191,
   "metadata": {},
   "outputs": [],
   "source": [
    "def two_dimensional_array(n, m):\n",
    "    \"\"\"\n",
    "    小麦の数の合計、各列の平均値、その平均値を用いた棒グラフを可視化する。\n",
    "\n",
    "    Parameteres\n",
    "    --------------\n",
    "    n: int\n",
    "        マス目の縦の数\n",
    "    m: int\n",
    "        マス目の横の数\n",
    "    Returns\n",
    "    --------------\n",
    "    square_board_ndarray: list\n",
    "        各マス毎の小麦の数を配列リストに返す。\n",
    "    \"\"\"\n",
    "    n_squares = n * m\n",
    "    small_board_list = [1]\n",
    "    for _ in range (n_squares - 1):\n",
    "        small_board_list.append(2 * small_board_list[-1])\n",
    "    # 対応するマス目に構築\n",
    "    square_board_ndarray = np.reshape(small_board_list, (n, m))\n",
    "    # 数値表示の調整\n",
    "    np.set_printoptions(formatter={'float': '{:.2e}'.format})\n",
    "    return square_board_ndarray"
   ]
  },
  {
   "cell_type": "code",
   "execution_count": 192,
   "metadata": {},
   "outputs": [
    {
     "data": {
      "text/plain": [
       "array([[1.00e+00, 2.00e+00, 4.00e+00, 8.00e+00, 1.60e+01, 3.20e+01,\n",
       "        6.40e+01, 1.28e+02],\n",
       "       [2.56e+02, 5.12e+02, 1.02e+03, 2.05e+03, 4.10e+03, 8.19e+03,\n",
       "        1.64e+04, 3.28e+04],\n",
       "       [6.55e+04, 1.31e+05, 2.62e+05, 5.24e+05, 1.05e+06, 2.10e+06,\n",
       "        4.19e+06, 8.39e+06],\n",
       "       [1.68e+07, 3.36e+07, 6.71e+07, 1.34e+08, 2.68e+08, 5.37e+08,\n",
       "        1.07e+09, 2.15e+09],\n",
       "       [4.29e+09, 8.59e+09, 1.72e+10, 3.44e+10, 6.87e+10, 1.37e+11,\n",
       "        2.75e+11, 5.50e+11],\n",
       "       [1.10e+12, 2.20e+12, 4.40e+12, 8.80e+12, 1.76e+13, 3.52e+13,\n",
       "        7.04e+13, 1.41e+14],\n",
       "       [2.81e+14, 5.63e+14, 1.13e+15, 2.25e+15, 4.50e+15, 9.01e+15,\n",
       "        1.80e+16, 3.60e+16],\n",
       "       [7.21e+16, 1.44e+17, 2.88e+17, 5.76e+17, 1.15e+18, 2.31e+18,\n",
       "        4.61e+18, 9.22e+18]])"
      ]
     },
     "execution_count": 192,
     "metadata": {},
     "output_type": "execute_result"
    }
   ],
   "source": [
    "two_dimensional_array(8, 8)"
   ]
  },
  {
   "cell_type": "markdown",
   "metadata": {},
   "source": [
    "## 【問題3】小麦の数の合計\n",
    "\n",
    "8×8マスのチェス盤の小麦の数の合計を求めてください。また、各列の平均を求め、それを棒グラフで可視化してください。\n",
    "\n",
    "棒グラフはサンプルコードを用意しています。"
   ]
  },
  {
   "cell_type": "code",
   "execution_count": 193,
   "metadata": {},
   "outputs": [],
   "source": [
    "def array_for_wheats(n, m):\n",
    "    \"\"\"\n",
    "    小麦の数の合計、各列の平均値、その平均値を用いた棒グラフを可視化する。\n",
    "\n",
    "    Parameteres\n",
    "    --------------\n",
    "    n: int\n",
    "        マス目の縦の数\n",
    "    m: int\n",
    "        マス目の横の数\n",
    "    Returns\n",
    "    --------------\n",
    "    total_wheat: int\n",
    "        小麦の数の合計\n",
    "    row_mean_list: list\n",
    "        各列の平均値\n",
    "    \"\"\"\n",
    "    n_squares = n * m\n",
    "    small_board_list = [1]\n",
    "    total_wheat = 1\n",
    "    for _ in range (n_squares - 1):\n",
    "        small_board_list.append(2 * small_board_list[-1])\n",
    "    # 対応するマス目に構築\n",
    "    square_board_ndarray = np.reshape(small_board_list, (n, m))\n",
    "    # 数値表示の調整\n",
    "    np.set_printoptions(formatter={'float': '{:.2e}'.format})\n",
    "    # 小麦の合計数\n",
    "    total_wheat = np.sum(square_board_ndarray)\n",
    "    # 各列の平均値のリスト化\n",
    "    row_mean_list = np.mean(square_board_ndarray, axis = 0)\n",
    "\n",
    "    # 棒グラフの可視化\n",
    "    import matplotlib.pyplot as plt\n",
    "    %matplotlib inline\n",
    "    x = np.arange(len(row_mean_list))\n",
    "    y = np.array(row_mean_list)\n",
    "    width = 0.35\n",
    "    plt.bar(x, y, width)\n",
    "    plt.title(\"Mean value for each row\")\n",
    "    plt.xlabel(\"Row\")\n",
    "    plt.ylabel(\"Mean value of wheats\")\n",
    "    plt.show()\n",
    "    \n",
    "    return print('小麦の合計数は{:.2e}'.format(total_wheat), '各列の平均値は以下の通り。{:}'.format(row_mean_list))"
   ]
  },
  {
   "cell_type": "code",
   "execution_count": 194,
   "metadata": {},
   "outputs": [
    {
     "data": {
      "image/png": "[encoded data removed]",
      "text/plain": [
       "<Figure size 432x288 with 1 Axes>"
      ]
     },
     "metadata": {
      "needs_background": "light"
     },
     "output_type": "display_data"
    },
    {
     "name": "stdout",
     "output_type": "stream",
     "text": [
      "小麦の合計数は1.84e+19 各列の平均値は以下の通り。[9.04e+15 1.81e+16 3.62e+16 7.23e+16 1.45e+17 2.89e+17 5.79e+17 1.16e+18]\n"
     ]
    }
   ],
   "source": [
    "array_for_wheats(8, 8)"
   ]
  },
  {
   "cell_type": "markdown",
   "metadata": {},
   "source": [
    "## 【問題4】小麦の数のヒートマップ\n",
    "\n",
    "8×8マスのチェス盤の小麦の数をヒートマップとして可視化してください。"
   ]
  },
  {
   "cell_type": "code",
   "execution_count": 156,
   "metadata": {},
   "outputs": [
    {
     "data": {
      "image/png": "[encoded data removed]",
      "text/plain": [
       "<Figure size 432x288 with 1 Axes>"
      ]
     },
     "metadata": {
      "needs_background": "light"
     },
     "output_type": "display_data"
    }
   ],
   "source": [
    "import matplotlib.pyplot as plt\n",
    "\n",
    "small_board_list = [1]\n",
    "n_squares = 64\n",
    "for _ in range (n_squares - 1):\n",
    "    small_board_list.append(2 * small_board_list[-1])\n",
    "square_board_ndarray = np.reshape(small_board_list, (8, 8))\n",
    "\n",
    "\n",
    "plt.xlabel(\"column\")\n",
    "plt.ylabel(\"row\")\n",
    "plt.title(\"heatmap\")\n",
    "plt.pcolor(np.array(square_board_ndarray).reshape(8, 8))\n",
    "plt.show()"
   ]
  },
  {
   "cell_type": "markdown",
   "metadata": {},
   "source": [
    "## 【問題5】後半は前半の何倍か\n",
    "\n",
    "チェス盤の後半にある小麦の数は前半にある小麦の数の何倍かを求めてください。前半とは配列の0から3行目、後半は4から7行目です。"
   ]
  },
  {
   "cell_type": "code",
   "execution_count": 183,
   "metadata": {},
   "outputs": [
    {
     "name": "stdout",
     "output_type": "stream",
     "text": [
      "チェス盤の後半にある小麦の数は前半にある小麦の数の16倍である。\n"
     ]
    }
   ],
   "source": [
    "small_board_list = [1]\n",
    "n_squares = 64\n",
    "for _ in range (n_squares - 1):\n",
    "    small_board_list.append(2 * small_board_list[-1])\n",
    "square_board_ndarray = np.reshape(small_board_list, (8, 8))\n",
    "\n",
    "first_half = square_board_ndarray[0:8, 0:4]\n",
    "second_half = square_board_ndarray[0:8, 4:9]\n",
    "first_half_total = first_half.sum()\n",
    "second_half_total = second_half.sum()\n",
    "answer = second_half_total / first_half_total\n",
    "print(\"チェス盤の後半にある小麦の数は前半にある小麦の数の{:.0f}倍である。\".format(answer))"
   ]
  },
  {
   "cell_type": "markdown",
   "metadata": {},
   "source": [
    "## 【問題6】他の計算方法によるn×mマスへの拡張\n",
    "\n",
    "問題2と同様の「n×mマスのチェス盤の小麦の数を記したndarrayを返す関数」を、np.append()を使ったものと、ブロードキャストを使ったもので新たに作成してください。\n",
    "それらの関数を使い8×8マスのチェス盤の小麦の数を再び求めてください。"
   ]
  },
  {
   "cell_type": "code",
   "execution_count": 210,
   "metadata": {},
   "outputs": [],
   "source": [
    "def np_append_calculation(m, n):\n",
    "    n_squares = m * n\n",
    "    board_ndarray = np.array([1]).astype(np.uint64)\n",
    "    for _ in range(n_squares - 1):\n",
    "        board_ndarray = np.append(board_ndarray, 2*board_ndarray[-1])\n",
    "    # print(\"最後のマスの小麦の数：{:.2e}\".format(board_ndarray[-1]))\n",
    "    \n",
    "def broad_cast_calculation(m, n):\n",
    "    n_squares = m * n\n",
    "    indices_of_squares = np.arange(n_squares).astype(np.uint64)\n",
    "    board_ndarray = 2**indices_of_squares\n",
    "    # print(\"最後のマスの小麦の数：{:.2e}\".format(board_ndarray[-1]))"
   ]
  },
  {
   "cell_type": "code",
   "execution_count": 201,
   "metadata": {},
   "outputs": [
    {
     "name": "stdout",
     "output_type": "stream",
     "text": [
      "最後のマスの小麦の数：9.22e+18\n",
      "最後のマスの小麦の数：9.22e+18\n"
     ]
    }
   ],
   "source": [
    "np_append_calculation(8, 8)\n",
    "broad_cast_calculation(8, 8)"
   ]
  },
  {
   "cell_type": "markdown",
   "metadata": {},
   "source": [
    "## 【問題7】計算時間の比較\n",
    "3種類の方法を見てきました。それぞれの計算時間をJupyter Notebookの%%timeitを用いて計測し、比較と考察を行ってください。\n",
    "%%timeitはセル内のコードを複数回実行し、その平均実行時間を出力する働きをします。"
   ]
  },
  {
   "cell_type": "code",
   "execution_count": 213,
   "metadata": {},
   "outputs": [
    {
     "name": "stdout",
     "output_type": "stream",
     "text": [
      "17.7 µs ± 713 ns per loop (mean ± std. dev. of 7 runs, 100000 loops each)\n"
     ]
    }
   ],
   "source": [
    "%%timeit\n",
    "two_dimensional_array(8, 8)"
   ]
  },
  {
   "cell_type": "code",
   "execution_count": 211,
   "metadata": {},
   "outputs": [
    {
     "name": "stdout",
     "output_type": "stream",
     "text": [
      "301 µs ± 3.08 µs per loop (mean ± std. dev. of 7 runs, 1000 loops each)\n"
     ]
    }
   ],
   "source": [
    "%%timeit\n",
    "np_append_calculation(8, 8)"
   ]
  },
  {
   "cell_type": "code",
   "execution_count": 212,
   "metadata": {},
   "outputs": [
    {
     "name": "stdout",
     "output_type": "stream",
     "text": [
      "2.53 µs ± 22 ns per loop (mean ± std. dev. of 7 runs, 100000 loops each)\n"
     ]
    }
   ],
   "source": [
    "%%timeit\n",
    "broad_cast_calculation(8, 8)"
   ]
  },
  {
   "cell_type": "markdown",
   "metadata": {},
   "source": [
    "## 【考察】\n",
    "\n",
    "two_dimensional_array(m, n): 17 µs ± 507 ns per loop\n",
    "np_append_calculation(m, n): 301 µs ± 3.08 µs per loop\n",
    "broad_cast_calculation(m, n): 2.53 µs ± 22 ns per loop\n",
    "\n",
    "以上からして、ブロードキャストを用いた計算が最も早い結論に至る。\n",
    "理由としてはfor文を用いない事が大きな要因と推察する。"
   ]
  },
  {
   "cell_type": "code",
   "execution_count": null,
   "metadata": {},
   "outputs": [],
   "source": []
  }
 ],
 "metadata": {
  "kernelspec": {
   "display_name": "Python 3",
   "language": "python",
   "name": "python3"
  },
  "language_info": {
   "codemirror_mode": {
    "name": "ipython",
    "version": 3
   },
   "file_extension": ".py",
   "mimetype": "text/x-python",
   "name": "python",
   "nbconvert_exporter": "python",
   "pygments_lexer": "ipython3",
   "version": "3.7.7"
  }
 },
 "nbformat": 4,
 "nbformat_minor": 4
}
