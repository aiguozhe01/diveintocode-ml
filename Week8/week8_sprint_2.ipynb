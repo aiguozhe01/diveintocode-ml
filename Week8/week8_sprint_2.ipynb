{
 "cells": [
  {
   "cell_type": "markdown",
   "metadata": {},
   "source": [
    "# Sprint アンサンブル学習\n",
    "\n",
    "## 【考察】\n",
    "\n",
    "**アンサンブル学習とは・・・**\\\n",
    "複数の学習モデルを組み合わせる手法。\n",
    "* 下階層：ベースモデル（base/weak learner/ genelizer）\n",
    "* 上階層：メタモデル（meta learner/stacker）\n",
    "\n",
    "-----------------------------------------------------------------------\n",
    "\n",
    "* バギング：訓練データを分割して、複数の決定木モデルの推定値を評価する方法。\n",
    "* ブレンディング：複数のモデルの推定値を使って評価する方法\n",
    "* スタッキング：ブレンディングとバギングのハイブリッド手法。複数のモデルを用い、訓練データを分割して評価する方法。\n",
    "\n",
    "(Bagging)\n",
    "        * for 決定木\n",
    "        * 過学習（訓練データに過剰適合しがち）\n",
    "        * so 汎化誤差（generalization error）を減らしたい。\n",
    "        * generalization error = variance（モデルの複雑さ）+ bias（真の関数とモデルのずれ）** 2 + noise\n",
    "        * therefore Baggingが提案される。（単一の決定木だと高くなりがちなvarianceを下げる事ができる。\n",
    "            1. 訓練データから離散一様分布に従い、ランダムな標本再抽出（bootstrap sampling）\n",
    "            2. 分割した各サブセットに対して決定木を当てはめ、複数の決定木の結果を得る。\n",
    "            3. 最後に多数決（回帰ならば平均）を行う。\n",
    "            4. そもそも上記のアルゴリズムに特徴量サンプリングも追加して、RandomForestとなる。\n",
    "            \n",
    "        * for RandomForest\n",
    "        * bootstrap法で作成した各々の決定木同士の相関 > 分岐で異なる特徴量を選ぶ決定木を生成するRandomForest\n",
    "        * 結果、RandomForestだとvariance（分散）が下がり、Baggingより汎化性能（未知のテストデータに対する識別能力）が高くなる。\n",
    "\n",
    "(Blending)\n",
    "        * Bagging/RandomForestと違い、異なる予測モデルを組み合わせる。\n",
    "            * 異なる予測モデル、特徴量、訓練データ、パラメータ（多数決、平均値、最大値、最小値 etc）\n",
    "            \n",
    "(Stacking)\n",
    "        * 予測モデルの積み重ね。"
   ]
  },
  {
   "cell_type": "markdown",
   "metadata": {},
   "source": [
    "疑問点\n",
    "* 説明変数をsplitしたが、目的変数もsplitが必要ではないのか？\n"
   ]
  },
  {
   "cell_type": "code",
   "execution_count": 139,
   "metadata": {},
   "outputs": [],
   "source": [
    "%matplotlib inline\n",
    "import numpy as np\n",
    "import pandas as pd\n",
    "import matplotlib.pyplot as plt\n",
    "\n",
    "# データ分割用\n",
    "from sklearn.model_selection import train_test_split\n",
    "# MSE算出用\n",
    "from sklearn.metrics import mean_squared_error\n",
    "# 線形回帰モデル用\n",
    "from sklearn import datasets, linear_model\n",
    "# 決定木用\n",
    "from sklearn.tree import DecisionTreeRegressor\n",
    "# SVR用\n",
    "from sklearn.svm import SVR\n",
    "# 標準化用\n",
    "from sklearn.preprocessing import StandardScaler\n",
    "# 標準化と学習モデルを一元化するため\n",
    "from sklearn.pipeline import make_pipeline"
   ]
  },
  {
   "cell_type": "markdown",
   "metadata": {},
   "source": [
    "## データセットの用意"
   ]
  },
  {
   "cell_type": "code",
   "execution_count": 178,
   "metadata": {},
   "outputs": [],
   "source": [
    "# csvファイルを読み込む\n",
    "data_set = pd.read_csv('..\\Week4\\house_prices_train.csv')\n",
    "\n",
    "# 目的変数と説明変数とで区分する。\n",
    "input_data = data_set[[\"GrLivArea\", \"YearBuilt\"]]\n",
    "target_data = data_set[[\"SalePrice\"]]\n",
    "\n",
    "# 説明変数を8:2で分割する。\n",
    "input_train, input_test = train_test_split(input_data, test_size=0.2, random_state=0)\n",
    "\n",
    "# 目的変数を8:2で分割する。\n",
    "target_train, target_test = train_test_split(target_data, test_size=0.2, random_state=0)"
   ]
  },
  {
   "cell_type": "markdown",
   "metadata": {},
   "source": [
    "# 【問題1】ブレンディングのスクラッチ実装\n",
    "\n",
    "ブレンディングを3通りスクラッチ実装せよ。\n",
    "\n",
    "* 比較対象として、単一モデルも用意する。\n",
    "* 比較数値は精度の上下\n",
    "    * 例）精度があがるとは、検証用データに対する平均二乗誤差（MSE）が小さいこと。\n",
    "----------    \n",
    "    \n",
    "**比較3通り**\n",
    "\n",
    "1. 線形回帰 vs 線形回帰 & 決定木\n",
    "2. 線形回帰 vs 線形回帰 & 決定木 & SVR（線形カーネル）\n",
    "3. 線形回帰 vs 標準化（線形回帰 & 決定木 & SVR（線形カーネル））\n"
   ]
  },
  {
   "cell_type": "markdown",
   "metadata": {},
   "source": [
    "## 線形回帰モデル"
   ]
  },
  {
   "cell_type": "code",
   "execution_count": 151,
   "metadata": {},
   "outputs": [
    {
     "name": "stdout",
     "output_type": "stream",
     "text": [
      "線形回帰の平均二乗誤差（MSE）は: 2.94e+09\n"
     ]
    },
    {
     "data": {
      "image/png": "[encoded data removed]",
      "text/plain": [
       "<Figure size 432x288 with 1 Axes>"
      ]
     },
     "metadata": {},
     "output_type": "display_data"
    }
   ],
   "source": [
    "# コントロール対照\n",
    "# 線形回帰モデルをインスタンス化\n",
    "linear_regr = linear_model.LinearRegression()\n",
    "\n",
    "# モデルを学習させる。\n",
    "linear_regr.fit(input_train, target_train)\n",
    "\n",
    "# 学習後のモデルを用い、推測を行う。\n",
    "target_predict = linear_regr.predict(input_test)\n",
    "\n",
    "# The mean squared error\n",
    "linear_regr_mse = mean_squared_error(target_test, target_predict)\n",
    "print('線形回帰の平均二乗誤差（MSE）は: %.2e'% linear_regr_mse)\n",
    "\n",
    "# plot outputs\n",
    "\n",
    "plt.scatter(input_test.iloc[:,0], target_test, color='black')\n",
    "plt.plot(input_test.iloc[:,0].sort_values(), np.sort(target_predict, axis=0), color='blue', linewidth=3)\n",
    "\n",
    "plt.xticks(())\n",
    "plt.yticks(())\n",
    "plt.title('GrLivArea vs SalePrice')\n",
    "\n",
    "plt.show()"
   ]
  },
  {
   "cell_type": "markdown",
   "metadata": {},
   "source": [
    "## 決定木モデル"
   ]
  },
  {
   "cell_type": "code",
   "execution_count": 102,
   "metadata": {},
   "outputs": [
    {
     "name": "stdout",
     "output_type": "stream",
     "text": [
      "決定木（回帰）の平均二乗誤差（MSE）は: 3.01e+09\n"
     ]
    },
    {
     "data": {
      "image/png": "[encoded data removed]",
      "text/plain": [
       "<Figure size 432x288 with 1 Axes>"
      ]
     },
     "metadata": {},
     "output_type": "display_data"
    }
   ],
   "source": [
    "# 決定木（回帰）のMSEを算出\n",
    "\n",
    "# 決定木モデルをインスタンス化\n",
    "tree_regr = DecisionTreeRegressor(random_state=0)\n",
    "\n",
    "# モデルを学習させる。\n",
    "tree_regr.fit(input_train, target_train)\n",
    "\n",
    "# 学習後のモデルを用い、推測を行う。\n",
    "target_predict = tree_regr.predict(input_test)\n",
    "\n",
    "# The mean squared error\n",
    "tree_regr_mse = mean_squared_error(target_test, target_predict)\n",
    "print(f'決定木（回帰）の平均二乗誤差（MSE）は:{tree_regr_mse: .2e}')\n",
    "\n",
    "plt.scatter(input_test.iloc[:,0], target_test, color='black')\n",
    "plt.plot(input_test.iloc[:,0].sort_values(), np.sort(target_predict, axis=0), color='blue', linewidth=3)\n",
    "\n",
    "plt.xticks(())\n",
    "plt.yticks(())\n",
    "plt.title('GrLivArea vs SalePrice')\n",
    "\n",
    "plt.show()"
   ]
  },
  {
   "cell_type": "markdown",
   "metadata": {},
   "source": [
    "## SVRモデル"
   ]
  },
  {
   "cell_type": "code",
   "execution_count": 138,
   "metadata": {},
   "outputs": [
    {
     "name": "stdout",
     "output_type": "stream",
     "text": [
      "SVRの平均二乗誤差（MSE）は: 2.94e+09\n"
     ]
    },
    {
     "data": {
      "image/png": "[encoded data removed]",
      "text/plain": [
       "<Figure size 432x288 with 1 Axes>"
      ]
     },
     "metadata": {},
     "output_type": "display_data"
    }
   ],
   "source": [
    "# SVRのMSEを算出\n",
    "\n",
    "# SVRモデルをインスタンス化\n",
    "sv_regr = SVR(C=1.0, kernel='linear', epsilon=0.1)\n",
    "\n",
    "# モデルを学習させる。\n",
    "sv_regr.fit(input_train, target_train.iloc[:, 0]) # SVR的に学習する際の目的変数は1dが望ましいので、pandas.series化する。\n",
    "\n",
    "# 学習後のモデルを用い、推測を行う。\n",
    "target_predict = sv_regr.predict(input_test)\n",
    "\n",
    "# The mean squared error\n",
    "sv_regr_mse = mean_squared_error(target_test, target_predict)\n",
    "print(f'SVRの平均二乗誤差（MSE）は:{sv_regr_mse: .2e}')\n",
    "\n",
    "plt.scatter(input_test.iloc[:,0], target_test, color='black')\n",
    "plt.plot(input_test.iloc[:,0].sort_values(), np.sort(target_predict, axis=0), color='blue', linewidth=3)\n",
    "\n",
    "plt.xticks(())\n",
    "plt.yticks(())\n",
    "plt.title('GrLivArea vs SalePrice')\n",
    "\n",
    "plt.show()"
   ]
  },
  {
   "cell_type": "markdown",
   "metadata": {},
   "source": [
    "## 標準化（線形回帰、決定木、SVR）"
   ]
  },
  {
   "cell_type": "code",
   "execution_count": 171,
   "metadata": {},
   "outputs": [
    {
     "name": "stdout",
     "output_type": "stream",
     "text": [
      "線形回帰の平均二乗誤差（MSE）は: 2.94e+09\n",
      "決定木（回帰）の平均二乗誤差（MSE）は：3.02e+09\n",
      "SVRの平均二乗誤差（MSE）は：7.09e+09\n",
      "標準化済み3モデルの平均したMSEは：4.350e+09\n"
     ]
    }
   ],
   "source": [
    "# 上記の線形回帰、決定木、SVRの学習モデルに標準化の訓練データを適用した後のMSEを算出。\n",
    "\n",
    "# 標準化とモデルを同時処理\n",
    "linear_regr_ss = make_pipeline(StandardScaler(), linear_model.LinearRegression())\n",
    "tree_regr_ss = make_pipeline(StandardScaler(), DecisionTreeRegressor(random_state=0))\n",
    "sv_regr_ss = make_pipeline(StandardScaler(), SVR(C=1.0, kernel='linear', epsilon=0.1))\n",
    "\n",
    "# モデルを学習させる。\n",
    "linear_regr_ss.fit(input_train, target_train)\n",
    "tree_regr_ss.fit(input_train, target_train)\n",
    "sv_regr_ss.fit(input_train, target_train.iloc[:, 0])\n",
    "\n",
    "# 学習後のモデルを用い、推測を行う。\n",
    "target_predict_linear = linear_regr_ss.predict(input_test)\n",
    "target_predict_tree = tree_regr_ss.predict(input_test)\n",
    "target_predict_svr = sv_regr_ss.predict(input_test)\n",
    "\n",
    "# The mean squared error\n",
    "linear_regr_ss_mse = mean_squared_error(target_test, target_predict_linear)\n",
    "tree_regr_ss_mse = mean_squared_error(target_test, target_predict_tree)\n",
    "sv_regr_ss_mse = mean_squared_error(target_test, target_predict_svr)\n",
    "\n",
    "print('線形回帰の平均二乗誤差（MSE）は: %.2e'% linear_regr_ss_mse)\n",
    "print('決定木（回帰）の平均二乗誤差（MSE）は：%.2e'% tree_regr_ss_mse)\n",
    "print('SVRの平均二乗誤差（MSE）は：%.2e'% sv_regr_ss_mse)\n"
   ]
  },
  {
   "cell_type": "markdown",
   "metadata": {},
   "source": [
    "## 結果"
   ]
  },
  {
   "cell_type": "code",
   "execution_count": 177,
   "metadata": {},
   "outputs": [
    {
     "name": "stdout",
     "output_type": "stream",
     "text": [
      "線形回帰の平均二乗誤差（MSE）は: 2.94e+09\n",
      "比較対象①のMSEは2.98e+09\n",
      "標準化済み3モデルの平均したMSEは：4.350e+09\n"
     ]
    }
   ],
   "source": [
    "# control = \n",
    "print('線形回帰の平均二乗誤差（MSE）は: %.2e'% linear_regr_mse)\n",
    "\n",
    "# 線形回帰+決定木\n",
    "set_1 = linear_regr_mse, tree_regr_mse\n",
    "print(f'比較対象①のMSEは{np.mean(set_1):.2e}')\n",
    "\n",
    "# 線形回帰+\n",
    "total_ss_mse = linear_regr_ss_mse, tree_regr_ss_mse, sv_regr_ss_mse\n",
    "print('標準化済み3モデルの平均したMSEは：%.3e'% np.mean(total_mse))"
   ]
  },
  {
   "cell_type": "code",
   "execution_count": null,
   "metadata": {},
   "outputs": [],
   "source": []
  }
 ],
 "metadata": {
  "kernelspec": {
   "display_name": "Python 3",
   "language": "python",
   "name": "python3"
  },
  "language_info": {
   "codemirror_mode": {
    "name": "ipython",
    "version": 3
   },
   "file_extension": ".py",
   "mimetype": "text/x-python",
   "name": "python",
   "nbconvert_exporter": "python",
   "pygments_lexer": "ipython3",
   "version": "3.7.7"
  },
  "toc": {
   "base_numbering": 1,
   "nav_menu": {},
   "number_sections": true,
   "sideBar": true,
   "skip_h1_title": false,
   "title_cell": "Table of Contents",
   "title_sidebar": "Contents",
   "toc_cell": false,
   "toc_position": {},
   "toc_section_display": true,
   "toc_window_display": false
  }
 },
 "nbformat": 4,
 "nbformat_minor": 4
}
