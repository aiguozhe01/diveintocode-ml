{
 "cells": [
  {
   "cell_type": "markdown",
   "metadata": {},
   "source": [
    "# Sprint 深層学習スクラッチ ニューラルネットワーク"
   ]
  },
  {
   "cell_type": "code",
   "execution_count": 46,
   "metadata": {},
   "outputs": [],
   "source": [
    "import numpy as np\n",
    "from fractions import Fraction\n",
    "\n",
    "from sklearn.model_selection import train_test_split\n",
    "from keras.datasets import mnist\n",
    "\n",
    "import tensorflow as tf\n",
    "\n",
    "(X_train, y_train), (X_test, y_test) = mnist.load_data()"
   ]
  },
  {
   "cell_type": "code",
   "execution_count": 15,
   "metadata": {},
   "outputs": [],
   "source": [
    "X_train = X_train.reshape(-1, 784)\n",
    "X_test = X_test.reshape(-1, 784)"
   ]
  },
  {
   "cell_type": "code",
   "execution_count": 28,
   "metadata": {},
   "outputs": [
    {
     "data": {
      "image/png": "[encoded data removed]",
      "text/plain": [
       "<Figure size 432x288 with 1 Axes>"
      ]
     },
     "metadata": {
      "needs_background": "light"
     },
     "output_type": "display_data"
    }
   ],
   "source": [
    "import matplotlib.pyplot as plt\n",
    "%matplotlib inline\n",
    "index = 0\n",
    "image = X_train[index].reshape(28,28)\n",
    "# X_train[index]: (784,)\n",
    "# image: (28, 28)\n",
    "plt.imshow(image, 'gray')\n",
    "plt.title('label : {}'.format(y_train[index]))\n",
    "plt.show()"
   ]
  },
  {
   "cell_type": "code",
   "execution_count": 26,
   "metadata": {},
   "outputs": [
    {
     "data": {
      "image/png": "[encoded data removed]",
      "text/plain": [
       "<Figure size 432x288 with 1 Axes>"
      ]
     },
     "metadata": {
      "needs_background": "light"
     },
     "output_type": "display_data"
    },
    {
     "name": "stdout",
     "output_type": "stream",
     "text": [
      "[[-105.35       -105.35       -105.35       -105.35       -105.35\n",
      "  -105.35       -105.35       -105.35       -105.35       -105.35\n",
      "  -105.35       -105.35       -105.35       -105.35       -105.35\n",
      "  -105.35       -105.35       -105.35       -105.35       -105.35\n",
      "  -105.35       -105.35       -105.35       -105.35       -105.35\n",
      "  -105.35       -105.35       -105.35      ]\n",
      " [-105.35       -105.35       -105.35       -105.35       -105.35\n",
      "  -105.35       -105.35       -105.35       -105.35       -105.35\n",
      "  -105.35       -105.35       -105.35       -105.35       -105.35\n",
      "  -105.35       -105.35       -105.35       -105.35       -105.35\n",
      "  -105.35       -105.35       -105.35       -105.35       -105.35\n",
      "  -105.35       -105.35       -105.35      ]\n",
      " [-105.35       -105.35       -105.35       -105.35       -105.35\n",
      "  -105.35       -105.35       -105.35       -105.35       -105.35\n",
      "  -105.35       -105.35       -105.35       -105.35       -105.35\n",
      "  -105.35       -105.35       -105.35       -105.35       -105.35\n",
      "  -105.35       -105.35       -105.35       -105.35       -105.35\n",
      "  -105.35       -105.35       -105.35      ]\n",
      " [-105.35       -105.35       -105.35       -105.35       -105.35\n",
      "  -105.35       -105.35       -105.35       -105.35       -105.35\n",
      "  -105.35       -105.35       -105.35       -105.35       -105.35\n",
      "  -105.35       -105.35       -105.35       -105.35       -105.35\n",
      "  -105.35       -105.35       -105.35       -105.35       -105.35\n",
      "  -105.35       -105.35       -105.35      ]\n",
      " [-105.35       -105.35       -105.35       -105.35       -105.35\n",
      "  -105.35       -105.35       -105.35       -105.35       -105.35\n",
      "  -105.35       -105.35       -105.35       -105.35       -105.35\n",
      "  -105.35       -105.35       -105.35       -105.35       -105.35\n",
      "  -105.35       -105.35       -105.35       -105.35       -105.35\n",
      "  -105.35       -105.35       -105.35      ]\n",
      " [-105.35       -105.35       -105.35       -105.35       -105.35\n",
      "  -105.35       -105.35       -105.35       -105.35       -105.35\n",
      "  -105.35       -105.35       -105.35       -105.35       -105.35\n",
      "  -105.35       -105.35       -105.35       -105.35       -105.35\n",
      "  -105.35       -105.35       -105.35       -105.35       -105.35\n",
      "  -105.35       -105.35       -105.35      ]\n",
      " [-105.35       -105.35       -105.35       -105.35       -105.35\n",
      "  -105.35       -105.35       -105.35       -105.35       -105.35\n",
      "  -105.35       -105.35       -105.35       -105.35       -105.35\n",
      "  -105.33039216 -105.10294118 -104.78529412 -104.59705882 -105.09509804\n",
      "  -105.35       -105.35       -105.35       -105.35       -105.35\n",
      "  -105.35       -105.35       -105.35      ]\n",
      " [-105.35       -105.35       -105.35       -105.35       -105.35\n",
      "  -105.35       -105.35       -105.35       -105.35       -105.35\n",
      "  -105.35       -105.35       -105.35       -105.35       -105.35\n",
      "  -104.91470588 -104.4245098  -104.61666667 -104.36568627 -104.6872549\n",
      "  -105.35       -105.35       -105.35       -105.35       -105.35\n",
      "  -105.35       -105.35       -105.35      ]\n",
      " [-105.35       -105.35       -105.35       -105.35       -105.35\n",
      "  -105.35       -105.35       -105.35       -105.35       -105.35\n",
      "  -105.35       -105.35       -105.35       -105.22843137 -104.58137255\n",
      "  -104.70686275 -105.2245098  -105.35       -104.39705882 -105.00490196\n",
      "  -105.35       -105.35       -105.35       -105.35       -105.35\n",
      "  -105.35       -105.35       -105.35      ]\n",
      " [-105.35       -105.35       -105.35       -105.35       -105.35\n",
      "  -105.35       -105.35       -105.35       -105.35       -105.35\n",
      "  -105.35       -105.34607843 -105.18529412 -104.49509804 -104.8127451\n",
      "  -105.33039216 -105.32647059 -104.89901961 -104.49509804 -105.33431373\n",
      "  -105.35       -105.35       -105.35       -105.35       -105.35\n",
      "  -105.35       -105.35       -105.35      ]\n",
      " [-105.35       -105.35       -105.35       -105.35       -105.35\n",
      "  -105.35       -105.35       -105.35       -105.35       -105.35\n",
      "  -105.35       -104.92647059 -104.35784314 -104.65196078 -105.30294118\n",
      "  -105.31862745 -104.92647059 -104.35784314 -104.8754902  -105.35\n",
      "  -105.35       -105.35       -105.35       -105.35       -105.35\n",
      "  -105.35       -105.35       -105.35      ]\n",
      " [-105.35       -105.35       -105.35       -105.35       -105.35\n",
      "  -105.35       -105.35       -105.35       -105.35       -105.35\n",
      "  -105.0754902  -104.37352941 -104.56960784 -105.18137255 -105.35\n",
      "  -105.06764706 -104.35784314 -104.35784314 -105.0245098  -105.35\n",
      "  -105.35       -105.35       -105.35       -105.35       -105.35\n",
      "  -105.35       -105.35       -105.35      ]\n",
      " [-105.35       -105.35       -105.35       -105.35       -105.35\n",
      "  -105.35       -105.35       -105.35       -105.35       -105.35\n",
      "  -104.60490196 -104.39313725 -105.27156863 -105.17352941 -104.68333333\n",
      "  -104.38921569 -104.35784314 -104.73431373 -105.34607843 -105.35\n",
      "  -105.35       -105.35       -105.35       -105.35       -105.35\n",
      "  -105.35       -105.35       -105.35      ]\n",
      " [-105.35       -105.35       -105.35       -105.35       -105.35\n",
      "  -105.35       -105.35       -105.35       -105.35       -105.35\n",
      "  -104.56960784 -104.35784314 -104.35784314 -104.35784314 -104.43235294\n",
      "  -104.42843137 -104.35784314 -105.17745098 -105.35       -105.35\n",
      "  -105.35       -105.35       -105.35       -105.35       -105.35\n",
      "  -105.35       -105.35       -105.35      ]\n",
      " [-105.35       -105.35       -105.35       -105.35       -105.35\n",
      "  -105.35       -105.35       -105.35       -105.35       -105.35\n",
      "  -104.70294118 -104.35784314 -104.54215686 -104.79313725 -105.20490196\n",
      "  -104.65196078 -104.55       -105.30294118 -105.35       -105.35\n",
      "  -105.35       -105.35       -105.35       -105.35       -105.35\n",
      "  -105.35       -105.35       -105.35      ]\n",
      " [-105.35       -105.35       -105.35       -105.35       -105.35\n",
      "  -105.35       -105.35       -105.35       -105.35       -105.35\n",
      "  -105.30294118 -105.22058824 -105.29901961 -105.35       -104.96960784\n",
      "  -104.35       -104.80882353 -105.35       -105.35       -105.35\n",
      "  -105.35       -105.35       -105.35       -105.35       -105.35\n",
      "  -105.35       -105.35       -105.35      ]\n",
      " [-105.35       -105.35       -105.35       -105.35       -105.35\n",
      "  -105.35       -105.35       -105.35       -105.35       -105.35\n",
      "  -105.35       -105.35       -105.35       -105.30686275 -104.84019608\n",
      "  -104.36568627 -105.0872549  -105.35       -105.35       -105.35\n",
      "  -105.35       -105.35       -105.35       -105.35       -105.35\n",
      "  -105.35       -105.35       -105.35      ]\n",
      " [-105.35       -105.35       -105.35       -105.35       -105.35\n",
      "  -105.35       -105.35       -105.35       -105.35       -105.35\n",
      "  -105.35       -105.35       -105.35       -104.93039216 -104.35784314\n",
      "  -104.59705882 -105.35       -105.35       -105.35       -105.35\n",
      "  -105.35       -105.35       -105.35       -105.35       -105.35\n",
      "  -105.35       -105.35       -105.35      ]\n",
      " [-105.35       -105.35       -105.35       -105.35       -105.35\n",
      "  -105.35       -105.35       -105.35       -105.35       -105.35\n",
      "  -105.35       -105.35       -105.35       -104.6127451  -104.35784314\n",
      "  -105.2754902  -105.35       -105.35       -105.35       -105.35\n",
      "  -105.35       -105.35       -105.35       -105.35       -105.35\n",
      "  -105.35       -105.35       -105.35      ]\n",
      " [-105.35       -105.35       -105.35       -105.35       -105.35\n",
      "  -105.35       -105.35       -105.35       -105.35       -105.35\n",
      "  -105.35       -105.35       -105.25588235 -104.47941176 -104.77352941\n",
      "  -105.35       -105.35       -105.35       -105.35       -105.35\n",
      "  -105.35       -105.35       -105.35       -105.35       -105.35\n",
      "  -105.35       -105.35       -105.35      ]\n",
      " [-105.35       -105.35       -105.35       -105.35       -105.35\n",
      "  -105.35       -105.35       -105.35       -105.35       -105.35\n",
      "  -105.35       -105.35       -104.89117647 -104.35784314 -105.07156863\n",
      "  -105.35       -105.35       -105.35       -105.35       -105.35\n",
      "  -105.35       -105.35       -105.35       -105.35       -105.35\n",
      "  -105.35       -105.35       -105.35      ]\n",
      " [-105.35       -105.35       -105.35       -105.35       -105.35\n",
      "  -105.35       -105.35       -105.35       -105.35       -105.35\n",
      "  -105.35       -105.31470588 -104.44019608 -104.74607843 -105.32254902\n",
      "  -105.35       -105.35       -105.35       -105.35       -105.35\n",
      "  -105.35       -105.35       -105.35       -105.35       -105.35\n",
      "  -105.35       -105.35       -105.35      ]\n",
      " [-105.35       -105.35       -105.35       -105.35       -105.35\n",
      "  -105.35       -105.35       -105.35       -105.35       -105.35\n",
      "  -105.35       -105.09509804 -104.35784314 -105.09117647 -105.35\n",
      "  -105.35       -105.35       -105.35       -105.35       -105.35\n",
      "  -105.35       -105.35       -105.35       -105.35       -105.35\n",
      "  -105.35       -105.35       -105.35      ]\n",
      " [-105.35       -105.35       -105.35       -105.35       -105.35\n",
      "  -105.35       -105.35       -105.35       -105.35       -105.35\n",
      "  -105.35       -104.87156863 -104.46372549 -105.24803922 -105.35\n",
      "  -105.35       -105.35       -105.35       -105.35       -105.35\n",
      "  -105.35       -105.35       -105.35       -105.35       -105.35\n",
      "  -105.35       -105.35       -105.35      ]\n",
      " [-105.35       -105.35       -105.35       -105.35       -105.35\n",
      "  -105.35       -105.35       -105.35       -105.35       -105.35\n",
      "  -105.35       -104.55       -104.45588235 -105.23627451 -105.35\n",
      "  -105.35       -105.35       -105.35       -105.35       -105.35\n",
      "  -105.35       -105.35       -105.35       -105.35       -105.35\n",
      "  -105.35       -105.35       -105.35      ]\n",
      " [-105.35       -105.35       -105.35       -105.35       -105.35\n",
      "  -105.35       -105.35       -105.35       -105.35       -105.35\n",
      "  -105.35       -104.64803922 -105.0754902  -105.35       -105.35\n",
      "  -105.35       -105.35       -105.35       -105.35       -105.35\n",
      "  -105.35       -105.35       -105.35       -105.35       -105.35\n",
      "  -105.35       -105.35       -105.35      ]\n",
      " [-105.35       -105.35       -105.35       -105.35       -105.35\n",
      "  -105.35       -105.35       -105.35       -105.35       -105.35\n",
      "  -105.35       -105.35       -105.35       -105.35       -105.35\n",
      "  -105.35       -105.35       -105.35       -105.35       -105.35\n",
      "  -105.35       -105.35       -105.35       -105.35       -105.35\n",
      "  -105.35       -105.35       -105.35      ]\n",
      " [-105.35       -105.35       -105.35       -105.35       -105.35\n",
      "  -105.35       -105.35       -105.35       -105.35       -105.35\n",
      "  -105.35       -105.35       -105.35       -105.35       -105.35\n",
      "  -105.35       -105.35       -105.35       -105.35       -105.35\n",
      "  -105.35       -105.35       -105.35       -105.35       -105.35\n",
      "  -105.35       -105.35       -105.35      ]]\n"
     ]
    }
   ],
   "source": [
    "index = 0\n",
    "image = X_train[index].reshape(28,28)\n",
    "\n",
    "image = image.astype(np.float) # float型に変換\n",
    "image -= 105.35 # 意図的に負の小数値を作り出してみる\n",
    "\n",
    "plt.imshow(image, 'gray')\n",
    "plt.title('label : {}'.format(y_train[index]))\n",
    "plt.show()\n",
    "print(image) # 値を確認"
   ]
  },
  {
   "cell_type": "code",
   "execution_count": 27,
   "metadata": {},
   "outputs": [
    {
     "name": "stdout",
     "output_type": "stream",
     "text": [
      "0.00392156862745098\n",
      "0.0\n"
     ]
    }
   ],
   "source": [
    "X_train = X_train.astype(np.float)\n",
    "X_test = X_test.astype(np.float)\n",
    "X_train /= 255\n",
    "X_test /= 255\n",
    "print(X_train.max()) # 1.0\n",
    "print(X_train.min()) # 0.0"
   ]
  },
  {
   "cell_type": "code",
   "execution_count": 20,
   "metadata": {},
   "outputs": [
    {
     "name": "stdout",
     "output_type": "stream",
     "text": [
      "(38400,)\n",
      "(38400, 10)\n",
      "float64\n"
     ]
    }
   ],
   "source": [
    "from sklearn.preprocessing import OneHotEncoder\n",
    "enc = OneHotEncoder(handle_unknown='ignore', sparse=False)\n",
    "y_train_one_hot = enc.fit_transform(y_train[:, np.newaxis])\n",
    "y_test_one_hot = enc.transform(y_test[:, np.newaxis])\n",
    "print(y_train.shape) # (60000,)\n",
    "print(y_train_one_hot.shape) # (60000, 10)\n",
    "print(y_train_one_hot.dtype) # float64"
   ]
  },
  {
   "cell_type": "code",
   "execution_count": 21,
   "metadata": {},
   "outputs": [
    {
     "name": "stdout",
     "output_type": "stream",
     "text": [
      "(30720, 784)\n",
      "(7680, 784)\n"
     ]
    }
   ],
   "source": [
    "X_train, X_val, y_train, y_val = train_test_split(X_train, y_train, test_size=0.2)\n",
    "print(X_train.shape) # (48000, 784)\n",
    "print(X_val.shape) # (12000, 784)"
   ]
  },
  {
   "cell_type": "code",
   "execution_count": 29,
   "metadata": {},
   "outputs": [],
   "source": [
    "class ScratchSimpleNeuralNetrowkClassifier():\n",
    "    \"\"\"\n",
    "    シンプルな三層ニューラルネットワーク分類器\n",
    "\n",
    "    Parameters\n",
    "    ----------\n",
    "\n",
    "    Attributes\n",
    "    ----------\n",
    "    \"\"\"\n",
    "    def __init__(self, verbose = True):\n",
    "        self.verbose = verbose\n",
    "        pass\n",
    "    def fit(self, X, y, X_val=None, y_val=None):\n",
    "        \"\"\"\n",
    "        ニューラルネットワーク分類器を学習する。\n",
    "\n",
    "        Parameters\n",
    "        ----------\n",
    "        X : 次の形のndarray, shape (n_samples, n_features)\n",
    "            訓練データの特徴量\n",
    "        y : 次の形のndarray, shape (n_samples, )\n",
    "            訓練データの正解値\n",
    "        X_val : 次の形のndarray, shape (n_samples, n_features)\n",
    "            検証データの特徴量\n",
    "        y_val : 次の形のndarray, shape (n_samples, )\n",
    "            検証データの正解値\n",
    "        \"\"\"\n",
    "        if self.verbose:\n",
    "            #verboseをTrueにした際は学習過程などを出力する\n",
    "            print()\n",
    "        pass\n",
    "    def predict(self, X):\n",
    "        \"\"\"\n",
    "        ニューラルネットワーク分類器を使い推定する。\n",
    "\n",
    "        Parameters\n",
    "        ----------\n",
    "        X : 次の形のndarray, shape (n_samples, n_features)\n",
    "            サンプル\n",
    "\n",
    "        Returns\n",
    "        -------\n",
    "            次の形のndarray, shape (n_samples, 1)\n",
    "            推定結果\n",
    "        \"\"\"\n",
    "        pass\n",
    "        return"
   ]
  },
  {
   "cell_type": "code",
   "execution_count": 30,
   "metadata": {},
   "outputs": [],
   "source": [
    "class GetMiniBatch:\n",
    "    \"\"\"\n",
    "    ミニバッチを取得するイテレータ\n",
    "\n",
    "    Parameters\n",
    "    ----------\n",
    "    X : 次の形のndarray, shape (n_samples, n_features)\n",
    "      訓練データ\n",
    "    y : 次の形のndarray, shape (n_samples, 1)\n",
    "      正解値\n",
    "    batch_size : int\n",
    "      バッチサイズ\n",
    "    seed : int\n",
    "      NumPyの乱数のシード\n",
    "    \"\"\"\n",
    "    def __init__(self, X, y, batch_size = 20, seed=0):\n",
    "        self.batch_size = batch_size\n",
    "        np.random.seed(seed)\n",
    "        shuffle_index = np.random.permutation(np.arange(X.shape[0]))\n",
    "        self._X = X[shuffle_index]\n",
    "        self._y = y[shuffle_index]\n",
    "        self._stop = np.ceil(X.shape[0]/self.batch_size).astype(np.int)\n",
    "    def __len__(self):\n",
    "        return self._stop\n",
    "    def __getitem__(self,item):\n",
    "        p0 = item*self.batch_size\n",
    "        p1 = item*self.batch_size + self.batch_size\n",
    "        return self._X[p0:p1], self._y[p0:p1]        \n",
    "    def __iter__(self):\n",
    "        self._counter = 0\n",
    "        return self\n",
    "    def __next__(self):\n",
    "        if self._counter >= self._stop:\n",
    "            raise StopIteration()\n",
    "        p0 = self._counter*self.batch_size\n",
    "        p1 = self._counter*self.batch_size + self.batch_size\n",
    "        self._counter += 1\n",
    "        return self._X[p0:p1], self._y[p0:p1]"
   ]
  },
  {
   "cell_type": "code",
   "execution_count": null,
   "metadata": {},
   "outputs": [],
   "source": [
    "get_mini_batch = GetMiniBatch(X_train, y_train, batch_size=20)\n",
    "print(len(get_mini_batch)) # 2400\n",
    "print(get_mini_batch[5]) # 5番目のミニバッチが取得できる\n",
    "for mini_X_train, mini_y_train in get_mini_batch:\n",
    "    # このfor文内でミニバッチが使える\n",
    "    pass"
   ]
  },
  {
   "cell_type": "markdown",
   "metadata": {},
   "source": [
    "## 【問題1】重みの初期値を決めるコードの作成\n",
    "\n",
    "1. ニューラルネットワークの各層の重みの初期値を決めるコードを作成する。\n",
    "    * 重みの初期値はガウス（正規）分布による単純な初期化を行う。\n",
    "    * バイアスに関しても同様\n",
    "    * サンプルコードの標準偏差の値sigmaはハイパーパラメータ。\n",
    "    "
   ]
  },
  {
   "cell_type": "code",
   "execution_count": null,
   "metadata": {},
   "outputs": [],
   "source": [
    "n_features = 784\n",
    "n_nodes1 = 400\n",
    "sigma = 0.01 # ガウス分布の標準偏差\n",
    "W1 = sigma * np.random.randn(n_features, n_nodes1)\n",
    "W2 = sigma * np.random.randn(n_nodes1, n_nodes2)\n",
    "W3 = sigma * np.random.randn(n_nodes2, n_nodes3)\n",
    "# W1: (784, 400)\n",
    "\n",
    "#################\n",
    "he_initialization = np.random.randn(size_l, size_l_1) * np.sqrt(2/size_l_1)\n",
    "xavier_initialization = np.random.randn(size_l, size_l_1) * np.sqrt(1/size_l_1)\n",
    "# Xavier initialization which considers the size of the network(number of input and output units) while initializing weights.\n",
    "#################"
   ]
  },
  {
   "cell_type": "markdown",
   "metadata": {},
   "source": [
    "## 【問題2】フォワードプロパゲーションの実装\n",
    "\n",
    "1. 三層のニューラルネットワークの**フォワードプロパゲーション**を作成する。\n",
    "    * batch_size = 20 # バッチサイズ\n",
    "    * n_features = 784 # 特徴量の数\n",
    "    * n_nodes1 = 400 # 1層目のノード数\n",
    "    * n_nodes2 = 200 # 2層目のノード数\n",
    "    * n_output = 10 # 出力のクラス数（3層目のノード数）\n"
   ]
  },
  {
   "cell_type": "code",
   "execution_count": 50,
   "metadata": {
    "code_folding": []
   },
   "outputs": [],
   "source": [
    "def sigmoid(A):\n",
    "    answer = Fraction(1, 1 + np.exp(A))\n",
    "    return answer\n",
    "\n",
    "def hyper_tan(A):\n",
    "    answer = Fraction(np.exp(A)-np.exp(A), exp(A)+exp(A))\n",
    "    return answer\n",
    "    \n",
    "def soft_max(A_3, k):\n",
    "    '''\n",
    "    A_3 = k番目のクラスにあたる前の層からのベクトル (batch_size, )\n",
    "    k = クラスの指定番号\n",
    "    '''\n",
    "    answer = Fraction(np.exp(A_3[k]), np.sum(np.exp(A_3)))\n",
    "    return answer"
   ]
  },
  {
   "cell_type": "code",
   "execution_count": 51,
   "metadata": {},
   "outputs": [],
   "source": [
    "def forward_propagation(x, sigma, batch, n_features, n_nodes1, n_nodes2, n_output):\n",
    "    \n",
    "    feature_vector = x[:batch, :]\n",
    "    W1 = sigma * np.random.randn(n_features, n_nodes1)\n",
    "    W2 = sigma * np.random.randn(n_features, n_nodes2)\n",
    "    W3 = sigma * np.random.randn(n_features, n_output)\n",
    "    \n",
    "    \n",
    "    output_1 = np.matmul(feature_vector, W1) + bias_1\n",
    "    output_1_mid = sigmoid(output_1)\n",
    "    output_2 = np.matmul(output_1_mid, W2) + bias_2\n",
    "    output_2_mid = sigmoid(output_2)\n",
    "    output_3 = np.matmul(output_2_mid, W3) + bias_3\n",
    "    \n",
    "    # for i in range(n_output):\n",
    "        final_output += soft_max(output_3, i)\n",
    "    \n",
    "    return final_output"
   ]
  },
  {
   "cell_type": "code",
   "execution_count": null,
   "metadata": {},
   "outputs": [],
   "source": [
    "forward_propagation(x, 0.01, 20, 784, 400, 200, 10)"
   ]
  },
  {
   "cell_type": "markdown",
   "metadata": {},
   "source": [
    "1. バイアスの初期値をランダムで生成（後にバックプロパで修正する。）\n",
    "2. ソフトマックスは配列をそのまま横に移動しながらブロードキャストする。（for文は使わない）\n",
    "3. ソフトマックスはXの最大値を削減してオーバーフローを防止"
   ]
  }
 ],
 "metadata": {
  "kernelspec": {
   "display_name": "Python 3",
   "language": "python",
   "name": "python3"
  },
  "language_info": {
   "codemirror_mode": {
    "name": "ipython",
    "version": 3
   },
   "file_extension": ".py",
   "mimetype": "text/x-python",
   "name": "python",
   "nbconvert_exporter": "python",
   "pygments_lexer": "ipython3",
   "version": "3.7.7"
  },
  "toc": {
   "base_numbering": 1,
   "nav_menu": {},
   "number_sections": true,
   "sideBar": true,
   "skip_h1_title": false,
   "title_cell": "Table of Contents",
   "title_sidebar": "Contents",
   "toc_cell": false,
   "toc_position": {},
   "toc_section_display": true,
   "toc_window_display": false
  }
 },
 "nbformat": 4,
 "nbformat_minor": 4
}
