{
 "cells": [
  {
   "cell_type": "markdown",
   "metadata": {},
   "source": [
    "# Sprint 機械学習スクラッチ　クラスタリング\n",
    "\n",
    "教師無し学習‐クラスタリング‐K-means（重心ベース）を理解して、NumPyなどを駆使してスクラッチする。\n",
    "\n",
    "* k個の重心を識別し、重心位置を最適化（平均値を最小化）する。\n",
    "* 上記を反復的に行い、すべてのデータ点を最も近接するクラスタに割り当てる。\n",
    "* クラスタ内の誤差平方和を削減することにより、すべてのデータ点が各クラスタに割り当てられる。"
   ]
  },
  {
   "cell_type": "code",
   "execution_count": 11,
   "metadata": {},
   "outputs": [],
   "source": [
    "import numpy as np\n",
    "import random"
   ]
  },
  {
   "cell_type": "code",
   "execution_count": 3,
   "metadata": {},
   "outputs": [],
   "source": [
    "class ScratchKMeans():\n",
    "    \"\"\"\n",
    "    K-meansのスクラッチ実装\n",
    "\n",
    "    Parameters\n",
    "    ----------\n",
    "    n_clusters : int\n",
    "      クラスタ数\n",
    "    n_init : int\n",
    "      中心点の初期値を何回変えて計算するか\n",
    "    max_iter : int\n",
    "      1回の計算で最大何イテレーションするか\n",
    "    tol : float\n",
    "      イテレーションを終了する基準となる中心点と重心の許容誤差\n",
    "    verbose : bool\n",
    "      学習過程を出力する場合はTrue\n",
    "    \"\"\"\n",
    "    def __init__(self, n_clusters, n_init, max_iter, tol, verbose=False):\n",
    "        # ハイパーパラメータを属性として記録\n",
    "        self.n_clusters = n_clusters\n",
    "        self.n_init = n_init\n",
    "        self.max_iter = max_iter\n",
    "        self.tol = tol\n",
    "        self.verbose = verbose\n",
    "    def fit(self, X):\n",
    "        \"\"\"\n",
    "        K-meansによるクラスタリングを計算\n",
    "        Parameters\n",
    "        ----------\n",
    "        X : 次の形のndarray, shape (n_samples, n_features)\n",
    "            訓練データの特徴量\n",
    "        \"\"\"\n",
    "        if self.verbose:\n",
    "            #verboseをTrueにした際は学習過程を出力\n",
    "            print()\n",
    "        pass\n",
    "    def predict(self, X):\n",
    "        \"\"\"\n",
    "        入力されたデータがどのクラスタに属するかを計算\n",
    "        \"\"\"\n",
    "        pass\n",
    "        return"
   ]
  },
  {
   "cell_type": "markdown",
   "metadata": {},
   "source": [
    "### 人口データセット"
   ]
  },
  {
   "cell_type": "code",
   "execution_count": 5,
   "metadata": {},
   "outputs": [],
   "source": [
    "from sklearn.datasets import make_blobs\n",
    "X, _ = make_blobs(n_samples=100, n_features=2, centers=4, cluster_std=0.5, shuffle=True, random_state=0)"
   ]
  },
  {
   "cell_type": "code",
   "execution_count": 22,
   "metadata": {},
   "outputs": [
    {
     "data": {
      "text/plain": [
       "(100, 2)"
      ]
     },
     "execution_count": 22,
     "metadata": {},
     "output_type": "execute_result"
    }
   ],
   "source": [
    "X.shape"
   ]
  },
  {
   "cell_type": "markdown",
   "metadata": {},
   "source": [
    "## 【問題1】中心点の初期値を決める\n",
    "\n",
    "* 入力されたデータ（特徴量行列X）からK個の中心点の$\\mu_1$から$\\mu_K$の初期値を決めるコードを作成せよ。\n",
    "    * Kは指定したクラスタ数でもあり、ハイパーパラメータとしての固定値kでもある。\n",
    "    * データ点$X_n$の中からランダムにK個選ぶこと。\n",
    "    * 中心点 $\\mu$ の初期値の重要性から鑑み、学習時は複数個の初期値で計算する。\n",
    "\n",
    "\n",
    "\n",
    "1. データからランダムサンプリングしたk個のデータ点をクラスタの重心とする。\n",
    "    * サンプル数のインデックスに対して、kクラス分のランダムな初期ラベルを割り当てる。\n",
    "    * データ点をグルーピングし、クラスタを作成する。\n",
    "        1. 各重心に対し、すべてのデータ点とのユークリッド距離を計算する。\n",
    "        2. 各重心との距離が最小となるデータ点群を、**その重心に帰属するクラスタとする。**\n",
    "2. 「k個のクラスタ毎にデータの平均となる点を求め、新しい重心とする。」\n",
    "    * 「クラスタ毎にデータ点の平均値を求め、そのクラスタの重心とする。」\n",
    "3. 各データ点から見て、距離が最小となる重心のクラスタにそのデータ点を割り当てる。\n",
    "4. ステップ2に戻る。\n",
    "5. 収束条件を満たしたら、終了。\n",
    "6. 初期値を変更しステップ1～7をn回繰り返し、SSEが最小のものを選ぶ。"
   ]
  },
  {
   "cell_type": "markdown",
   "metadata": {},
   "source": [
    "# 【疑問点】\n",
    "\n",
    "\n",
    "* 指定したクラスタ数Kはハイパーパラメータとしてのkなのか？\n",
    "* データからランダムサンプリングしたk個のkとは、ハイパーパラメータ扱いなのか？\n",
    "* 「k個のクラスタ毎にデータの平均となる点を求め、新しい重心とする。」とはどういう意味か？\n"
   ]
  },
  {
   "cell_type": "code",
   "execution_count": 7,
   "metadata": {},
   "outputs": [],
   "source": [
    "def mu_medium(X, k):\n",
    "    \"\"\"\"\"\n",
    "    入力されたデータを基に、k個の中心点をランダム抽出する。\n",
    "    \n",
    "    Parameters\n",
    "    ----------\n",
    "    X : 次の形のndarray, shape (n_samples, n_features)\n",
    "        \n",
    "    k : int\n",
    "        クラスタ数\n",
    "    return\n",
    "    ----------\n",
    "    k個分の中心点を行列で返す。\n",
    "    \n",
    "    \"\"\"\"\"    \n",
    "    # Xからランダムにk個、選別する。\n",
    "    random_choiced_k = np.random.sample(10, 3)\n",
    "    random_choiced_k"
   ]
  },
  {
   "cell_type": "code",
   "execution_count": 63,
   "metadata": {},
   "outputs": [
    {
     "ename": "AttributeError",
     "evalue": "'int' object has no attribute 'tolist'",
     "output_type": "error",
     "traceback": [
      "\u001b[1;31m---------------------------------------------------------------------------\u001b[0m",
      "\u001b[1;31mAttributeError\u001b[0m                            Traceback (most recent call last)",
      "\u001b[1;32m<ipython-input-63-e8ff7e79df03>\u001b[0m in \u001b[0;36m<module>\u001b[1;34m\u001b[0m\n\u001b[0;32m      2\u001b[0m \u001b[0mnp\u001b[0m\u001b[1;33m.\u001b[0m\u001b[0mrandom\u001b[0m\u001b[1;33m.\u001b[0m\u001b[0mseed\u001b[0m\u001b[1;33m(\u001b[0m\u001b[0mseed\u001b[0m\u001b[1;33m=\u001b[0m\u001b[1;36m1\u001b[0m\u001b[1;33m)\u001b[0m \u001b[1;31m# シード1に設定して乱数を出力\u001b[0m\u001b[1;33m\u001b[0m\u001b[1;33m\u001b[0m\u001b[0m\n\u001b[0;32m      3\u001b[0m \u001b[0mrandom_choiced_k_row\u001b[0m \u001b[1;33m=\u001b[0m \u001b[0mnp\u001b[0m\u001b[1;33m.\u001b[0m\u001b[0mrandom\u001b[0m\u001b[1;33m.\u001b[0m\u001b[0mrandint\u001b[0m\u001b[1;33m(\u001b[0m\u001b[1;36m100\u001b[0m\u001b[1;33m,\u001b[0m \u001b[0msize\u001b[0m\u001b[1;33m=\u001b[0m\u001b[0mk\u001b[0m\u001b[1;33m)\u001b[0m\u001b[1;33m.\u001b[0m\u001b[0mtolist\u001b[0m\u001b[1;33m(\u001b[0m\u001b[1;33m)\u001b[0m\u001b[1;33m\u001b[0m\u001b[1;33m\u001b[0m\u001b[0m\n\u001b[1;32m----> 4\u001b[1;33m \u001b[0mrandom_choiced_k_column\u001b[0m \u001b[1;33m=\u001b[0m \u001b[0mnp\u001b[0m\u001b[1;33m.\u001b[0m\u001b[0mrandom\u001b[0m\u001b[1;33m.\u001b[0m\u001b[0mrandint\u001b[0m\u001b[1;33m(\u001b[0m\u001b[1;36m2\u001b[0m\u001b[1;33m)\u001b[0m\u001b[1;33m.\u001b[0m\u001b[0mtolist\u001b[0m\u001b[1;33m(\u001b[0m\u001b[1;33m)\u001b[0m\u001b[1;33m\u001b[0m\u001b[1;33m\u001b[0m\u001b[0m\n\u001b[0m",
      "\u001b[1;31mAttributeError\u001b[0m: 'int' object has no attribute 'tolist'"
     ]
    }
   ],
   "source": [
    "k = 10\n",
    "np.random.seed(seed=1) # シード1に設定して乱数を出力\n",
    "random_choiced_k_row = np.random.randint(100, size=k).tolist()\n",
    "random_choiced_k_column = np.random.randint(2, size=k).tolist()"
   ]
  },
  {
   "cell_type": "code",
   "execution_count": 55,
   "metadata": {},
   "outputs": [
    {
     "data": {
      "text/plain": [
       "[37, 12, 72, 9, 75, 5, 79, 64, 16, 1]"
      ]
     },
     "execution_count": 55,
     "metadata": {},
     "output_type": "execute_result"
    }
   ],
   "source": [
    "random_choiced_k_row"
   ]
  },
  {
   "cell_type": "code",
   "execution_count": 56,
   "metadata": {},
   "outputs": [
    {
     "data": {
      "text/plain": [
       "[0, 1, 1, 0, 0, 1, 0, 0, 0, 1]"
      ]
     },
     "execution_count": 56,
     "metadata": {},
     "output_type": "execute_result"
    }
   ],
   "source": [
    "random_choiced_k_column"
   ]
  },
  {
   "cell_type": "code",
   "execution_count": 64,
   "metadata": {},
   "outputs": [
    {
     "data": {
      "text/plain": [
       "1"
      ]
     },
     "execution_count": 64,
     "metadata": {},
     "output_type": "execute_result"
    }
   ],
   "source": [
    "np.random.randint(2)"
   ]
  },
  {
   "cell_type": "code",
   "execution_count": 97,
   "metadata": {},
   "outputs": [
    {
     "name": "stdout",
     "output_type": "stream",
     "text": [
      "37 0\n",
      "12 0\n",
      "72 1\n",
      "9 1\n",
      "75 0\n",
      "5 1\n",
      "79 0\n",
      "64 0\n",
      "16 1\n",
      "1 1\n"
     ]
    }
   ],
   "source": [
    "k = 10\n",
    "for j in random_choiced_k_row:\n",
    "    unique_column = np.unique(random_choiced_k_column).tolist()\n",
    "    r = random.choices(unique_column)\n",
    "    print(j, random_choiced_k_column[r[0]])\n",
    "    "
   ]
  },
  {
   "cell_type": "code",
   "execution_count": 95,
   "metadata": {},
   "outputs": [
    {
     "data": {
      "text/plain": [
       "[1]"
      ]
     },
     "execution_count": 95,
     "metadata": {},
     "output_type": "execute_result"
    }
   ],
   "source": [
    "range(len(random_choiced_k_row))\n",
    "unique_column = np.unique(random_choiced_k_column).tolist()\n",
    "random.choices(unique_column)"
   ]
  },
  {
   "cell_type": "code",
   "execution_count": 93,
   "metadata": {},
   "outputs": [
    {
     "data": {
      "text/plain": [
       "0"
      ]
     },
     "execution_count": 93,
     "metadata": {},
     "output_type": "execute_result"
    }
   ],
   "source": [
    "l = range(0, 10)\n",
    "# r = random.choices(range(len(unique_column)))\n",
    "random_choiced_k_column[r[0]]\n"
   ]
  },
  {
   "cell_type": "code",
   "execution_count": null,
   "metadata": {},
   "outputs": [],
   "source": []
  }
 ],
 "metadata": {
  "kernelspec": {
   "display_name": "Python 3",
   "language": "python",
   "name": "python3"
  },
  "language_info": {
   "codemirror_mode": {
    "name": "ipython",
    "version": 3
   },
   "file_extension": ".py",
   "mimetype": "text/x-python",
   "name": "python",
   "nbconvert_exporter": "python",
   "pygments_lexer": "ipython3",
   "version": "3.7.7"
  }
 },
 "nbformat": 4,
 "nbformat_minor": 4
}
