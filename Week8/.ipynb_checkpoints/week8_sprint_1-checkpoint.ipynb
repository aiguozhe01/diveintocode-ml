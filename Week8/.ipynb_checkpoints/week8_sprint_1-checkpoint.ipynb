{
 "cells": [
  {
   "cell_type": "markdown",
   "metadata": {},
   "source": [
    "# Sprint 機械学習スクラッチ　クラスタリング\n",
    "\n",
    "教師無し学習‐クラスタリング‐K-means（重心ベース）を理解して、NumPyなどを駆使してスクラッチする。\n",
    "\n",
    "* k個の重心を識別し、重心位置を最適化（平均値を最小化）する。\n",
    "* 上記を反復的に行い、すべてのデータ点を最も近接するクラスタに割り当てる。\n",
    "* クラスタ内の誤差平方和を削減することにより、すべてのデータ点が各クラスタに割り当てられる。"
   ]
  },
  {
   "cell_type": "code",
   "execution_count": 3,
   "metadata": {},
   "outputs": [],
   "source": [
    "import numpy as np\n",
    "import random"
   ]
  },
  {
   "cell_type": "code",
   "execution_count": 3,
   "metadata": {},
   "outputs": [],
   "source": [
    "class ScratchKMeans():\n",
    "    \"\"\"\n",
    "    K-meansのスクラッチ実装\n",
    "\n",
    "    Parameters\n",
    "    ----------\n",
    "    n_clusters : int\n",
    "      クラスタ数\n",
    "    n_init : int\n",
    "      中心点の初期値を何回変えて計算するか\n",
    "    max_iter : int\n",
    "      1回の計算で最大何イテレーションするか\n",
    "    tol : float\n",
    "      イテレーションを終了する基準となる中心点と重心の許容誤差\n",
    "    verbose : bool\n",
    "      学習過程を出力する場合はTrue\n",
    "    \"\"\"\n",
    "    def __init__(self, n_clusters, n_init, max_iter, tol, verbose=False):\n",
    "        # ハイパーパラメータを属性として記録\n",
    "        self.n_clusters = n_clusters\n",
    "        self.n_init = n_init\n",
    "        self.max_iter = max_iter\n",
    "        self.tol = tol\n",
    "        self.verbose = verbose\n",
    "        \n",
    "    def fit(self, X):\n",
    "        \"\"\"\n",
    "        K-meansによるクラスタリングを計算\n",
    "        Parameters\n",
    "        ----------\n",
    "        X : 次の形のndarray, shape (n_samples, n_features)\n",
    "            訓練データの特徴量\n",
    "        \"\"\"\n",
    "        if self.verbose:\n",
    "            #verboseをTrueにした際は学習過程を出力\n",
    "            print()\n",
    "        pass\n",
    "    def predict(self, X):\n",
    "        \"\"\"\n",
    "        入力されたデータがどのクラスタに属するかを計算\n",
    "        \"\"\"\n",
    "        pass\n",
    "        return"
   ]
  },
  {
   "cell_type": "markdown",
   "metadata": {},
   "source": [
    "### 人口データセット"
   ]
  },
  {
   "cell_type": "code",
   "execution_count": 4,
   "metadata": {},
   "outputs": [],
   "source": [
    "from sklearn.datasets import make_blobs\n",
    "X, _ = make_blobs(n_samples=100, n_features=2, centers=4, cluster_std=0.5, shuffle=True, random_state=0)"
   ]
  },
  {
   "cell_type": "code",
   "execution_count": 10,
   "metadata": {},
   "outputs": [
    {
     "data": {
      "image/png": "[encoded data removed]",
      "text/plain": [
       "<Figure size 432x288 with 1 Axes>"
      ]
     },
     "metadata": {
      "needs_background": "light"
     },
     "output_type": "display_data"
    }
   ],
   "source": [
    "import matplotlib.pyplot as plt\n",
    "plt.scatter(X[:, 0], X[:, 1])\n",
    "plt.show()"
   ]
  },
  {
   "cell_type": "markdown",
   "metadata": {},
   "source": [
    "## 【問題1】中心点の初期値を決める\n",
    "\n",
    "* 入力されたデータ（特徴量行列X）からK個の中心点の$\\mu_1$から$\\mu_K$の初期値を決めるコードを作成せよ。\n",
    "    * Kは指定したクラスタ数でもあり、ハイパーパラメータとしての固定値kでもある。\n",
    "    * データ点$X_n$の中からランダムにK個選ぶこと。\n",
    "    * 中心点 $\\mu$ の初期値の重要性から鑑み、学習時は複数個の初期値で計算する。\n",
    "\n",
    "\n",
    "\n",
    "1. データからランダムサンプリングしたk個のデータ点をクラスタの重心とする。\n",
    "    * サンプル数のインデックスに対して、kクラス分のランダムな初期ラベルを割り当てる。\n",
    "    * データ点をグルーピングし、クラスタを作成する。\n",
    "        1. 各重心に対し、すべてのデータ点とのユークリッド距離を計算する。\n",
    "        2. 各重心との距離が最小となるデータ点群を、**その重心に帰属するクラスタとする。**\n",
    "2. 「k個のクラスタ毎にデータの平均となる点を求め、新しい重心とする。」\n",
    "    * 「クラスタ毎にデータ点の平均値を求め、そのクラスタの重心とする。」\n",
    "3. 各データ点から見て、距離が最小となる重心のクラスタにそのデータ点を割り当てる。\n",
    "4. ステップ2に戻る。\n",
    "5. 収束条件を満たしたら、終了。\n",
    "6. 初期値を変更しステップ1～7をn回繰り返し、SSEが最小のものを選ぶ。"
   ]
  },
  {
   "cell_type": "markdown",
   "metadata": {},
   "source": [
    "# 【疑問点】\n",
    "\n",
    "\n",
    "* \n"
   ]
  },
  {
   "cell_type": "code",
   "execution_count": 91,
   "metadata": {},
   "outputs": [],
   "source": [
    "def mu_medium(X, k, seed):\n",
    "    \"\"\"\"\"\n",
    "    入力されたデータを基に、k個の中心点をランダム抽出する。\n",
    "    \n",
    "    Parameters\n",
    "    ----------\n",
    "    X : 次の形のndarray, shape (n_samples, n_features)\n",
    "        入力データ\n",
    "    k : int\n",
    "        クラスタ数\n",
    "    return\n",
    "    ----------\n",
    "    k個分の中心点の座標を行列で返す。\n",
    "    \n",
    "    \"\"\"\"\"    \n",
    "\n",
    "    random.seed(seed) # シードを設定して乱数を固定\n",
    "    random_choiced_k_row = random.sample(range(X.shape[0]), k) #重複なしのrandom.sampleを使用\n",
    "\n",
    "    sample_plots = []\n",
    "    for i in random_choiced_k_row:\n",
    "        sample_plots = np.append(sample_plots, X[i])\n",
    "    \n",
    "    return sample_plots.reshape(k, X.shape[1])"
   ]
  },
  {
   "cell_type": "code",
   "execution_count": 93,
   "metadata": {},
   "outputs": [
    {
     "data": {
      "text/plain": [
       "array([[-0.33533163,  3.390122  ],\n",
       "       [ 0.92466065,  4.50908658],\n",
       "       [-1.56102482,  3.77455362],\n",
       "       [ 0.12313498,  5.27917503],\n",
       "       [ 2.14398059,  0.69677319],\n",
       "       [ 2.99684287,  0.22378413],\n",
       "       [ 1.74265969,  5.03846671],\n",
       "       [ 2.4198128 ,  0.96215512],\n",
       "       [-1.42525273,  7.14798437],\n",
       "       [14.39760714, 70.43903587]])"
      ]
     },
     "execution_count": 93,
     "metadata": {},
     "output_type": "execute_result"
    }
   ],
   "source": [
    "mu_medium(X, 10, 1)"
   ]
  },
  {
   "cell_type": "markdown",
   "metadata": {},
   "source": [
    "## 【問題2】SSEを求める関数の作成"
   ]
  },
  {
   "cell_type": "code",
   "execution_count": null,
   "metadata": {},
   "outputs": [],
   "source": [
    "sum_of_squared_errors = np.sum()np.sum()* binary * (testing_plots ** 2)\n"
   ]
  },
  {
   "cell_type": "markdown",
   "metadata": {},
   "source": [
    "## 【問題3】クラスタへの割り当て\n",
    "\n",
    "全てのプロット$X_n$を最も近い中心点 $\\mu_k$に割り当てるコードを作成せよ。\n",
    "\n",
    "1. 事前に選出した中心点以外の座標プロットから順番に一つずつ指定。\n",
    "2. 各中心点から、指定したプロットまでの距離を算出した後、最短距離を選出。\n",
    "    * np.linalg.normのL2ノルムを用いて、ユークリッド距離を算出。\n",
    "3. 以降、次の座標プロットで繰り返す。 "
   ]
  },
  {
   "cell_type": "code",
   "execution_count": 94,
   "metadata": {},
   "outputs": [
    {
     "data": {
      "text/plain": [
       "[17, 72, 97, 8, 32, 15, 63, 57, 60, 83]"
      ]
     },
     "execution_count": 94,
     "metadata": {},
     "output_type": "execute_result"
    }
   ],
   "source": [
    "random_choiced_k_row"
   ]
  },
  {
   "cell_type": "code",
   "execution_count": 191,
   "metadata": {},
   "outputs": [],
   "source": [
    "def filtering_plots(X, random_choiced_k_row):\n",
    "    \"\"\"\"\"\n",
    "    中心点以外の座標プロットを抽出する。\n",
    "    \n",
    "    Parameters\n",
    "    ----------\n",
    "    X : 次の形のndarray, shape (n_samples, n_features)\n",
    "        入力データ\n",
    "    random_choiced_k_row : list\n",
    "        事前に選定した中心点の座標\n",
    "    return\n",
    "    ----------\n",
    "    中心点以外の座標のインデックスリスト\n",
    "    \n",
    "    \"\"\"\"\"    \n",
    "    total_plot = []\n",
    "    for i in range(X.shape[0]):\n",
    "        total_plot.append(i)\n",
    "\n",
    "    for j in random_choiced_k_row:\n",
    "        total_plot.remove(j)\n",
    "    \n",
    "    return total_plot"
   ]
  },
  {
   "cell_type": "code",
   "execution_count": 219,
   "metadata": {},
   "outputs": [],
   "source": [
    "# def function():\n",
    "centroid_plots = mu_medium(X, 10, 1) # 中心座標のランダム作成\n",
    "non_centroid_index = filtering_plots(X, random_choiced_k_row) # 中心点以外の座標プロットのインデックスリストを作成\n",
    "array = np.zeros(180).reshape(90, 2) # 空の配列\n",
    "\n",
    "for i in non_centroid_index:\n",
    "    testing_plots = centroid_plots - X[i].reshape(1, 2) # X[i]の座標と中心座標との[x, y]の差異を算出\n",
    "    list_of_distance = np.linalg.norm(testing_plots, ord=2, axis=1) # X[i]の座標と中心座標とのユークリッド距離を算出\n",
    "    min_index = list_of_distance.argmin() # 算出したユークリッド距離の中から、最短距離のインデックスと要素を抽出\n",
    "    min_distance = list_of_distance.min()\n",
    "    # print(f'X[{i}]と最短の距離にある中心点は{min_index + 1}番目で距離は{min_distance :.2f}である。')\n",
    "    # print(f'{i}: {min_index}')\n",
    "    "
   ]
  },
  {
   "cell_type": "code",
   "execution_count": null,
   "metadata": {},
   "outputs": [],
   "source": []
  },
  {
   "cell_type": "code",
   "execution_count": null,
   "metadata": {},
   "outputs": [],
   "source": []
  },
  {
   "cell_type": "code",
   "execution_count": null,
   "metadata": {},
   "outputs": [],
   "source": []
  }
 ],
 "metadata": {
  "kernelspec": {
   "display_name": "Python 3",
   "language": "python",
   "name": "python3"
  },
  "language_info": {
   "codemirror_mode": {
    "name": "ipython",
    "version": 3
   },
   "file_extension": ".py",
   "mimetype": "text/x-python",
   "name": "python",
   "nbconvert_exporter": "python",
   "pygments_lexer": "ipython3",
   "version": "3.7.7"
  }
 },
 "nbformat": 4,
 "nbformat_minor": 4
}
