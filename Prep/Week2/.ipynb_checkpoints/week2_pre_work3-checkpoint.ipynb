{
 "cells": [
  {
   "cell_type": "markdown",
   "metadata": {},
   "source": [
    "## 【問題1】行列積を手計算する\n",
    "\n",
    "AとBの行列積を手計算で解いてください。\n",
    "\n",
    "計算過程もマークダウンテキストを用いて説明してください。"
   ]
  },
  {
   "cell_type": "markdown",
   "metadata": {},
   "source": [
    "## 【解答】\n",
    "\n",
    "$$\n",
    "\\begin{pmatrix}\n",
    "-1 & 2 & 3 \\\\\n",
    "4 & -5 & 6 \\\\\n",
    "7 & 8 & -9 \\\\\n",
    "\\end{pmatrix}\n",
    "\\cdot\n",
    "\\begin{pmatrix}\n",
    "0 & 2 & 1 \\\\\n",
    "0 & 2 & -8 \\\\\n",
    "2 & 9 & -1 \\\\\n",
    "\\end{pmatrix}\n",
    "$$\n",
    "\n",
    "\n",
    "1. 3x3の行列積の計算方法は以下の通り。\n",
    "\n",
    "$$\n",
    "\\begin{pmatrix}\n",
    "a & b & c \\\\\n",
    "d & e & f \\\\\n",
    "g & h & i \\\\\n",
    "\\end{pmatrix}\n",
    "\\cdot\n",
    "\\begin{pmatrix}\n",
    "j & k & l \\\\\n",
    "m & n & o \\\\\n",
    "p & q & r \\\\\n",
    "\\end{pmatrix}\n",
    "=\n",
    "\\begin{pmatrix}\n",
    "(aj + bm + cp) & (ak + nm + cq) & (al + bo + cr) \\\\\n",
    "(dj + em + fp) & (dk + en + fq) & (dl + eo + fr) \\\\\n",
    "(gj + hm + ip) & (gk + hn + iq) & (gl + ho + ir) \\\\\n",
    "\\end{pmatrix}\n",
    "$$\n",
    "\n",
    "2. 上記のA, Bを代入すると以下の通り。\n",
    "\n",
    "$$\n",
    "\\begin{pmatrix}\n",
    "-1 & 2 & 3 \\\\\n",
    "4 & -5 & 6 \\\\\n",
    "7 & 8 & -9 \\\\\n",
    "\\end{pmatrix}\n",
    "\\cdot\n",
    "\\begin{pmatrix}\n",
    "0 & 2 & 1 \\\\\n",
    "0 & 2 & -8 \\\\\n",
    "2 & 9 & -1 \\\\\n",
    "\\end{pmatrix}\n",
    "=\n",
    "\\begin{pmatrix}\n",
    "(0 + 0 + 6) & (-2 + 4 + 27) & (-1-16-3) \\\\\n",
    "(0 + 0 + 12) & (8 - 10 + 54) & (4 + 40 - 6) \\\\\n",
    "(0 + 0 - 18) & (14 + 16 - 81) & (7 -64 + 9) \\\\\n",
    "\\end{pmatrix}\n",
    "$$\n",
    "\n",
    "3. 計算を行うと、解は以下の通り。\n",
    "\n",
    "$$\n",
    "\\begin{pmatrix}\n",
    "6 & 29 & -20 \\\\\n",
    "12 & 52 & 38 \\\\\n",
    "-18 & -51 & -48 \\\\\n",
    "\\end{pmatrix}\n",
    "$$"
   ]
  },
  {
   "cell_type": "markdown",
   "metadata": {},
   "source": [
    "## 【問題2】NumPyの関数による計算\n",
    "\n",
    "この行列積はNumPyのnp.matmul()やnp.dot()、または@演算子を使うことで簡単に計算できます。\n",
    "\n",
    "これらを使い行列積を計算してください。"
   ]
  },
  {
   "cell_type": "code",
   "execution_count": 15,
   "metadata": {},
   "outputs": [
    {
     "name": "stdout",
     "output_type": "stream",
     "text": [
      "np.matumulの場合は、\n",
      "[[  6  29 -20]\n",
      " [ 12  52  38]\n",
      " [-18 -51 -48]]\n",
      "\n",
      "np.dotの場合は、\n",
      "[[  6  29 -20]\n",
      " [ 12  52  38]\n",
      " [-18 -51 -48]]\n",
      "\n",
      "＠演算子の場合は、\n",
      "[[  6  29 -20]\n",
      " [ 12  52  38]\n",
      " [-18 -51 -48]]\n"
     ]
    }
   ],
   "source": [
    "import numpy as np\n",
    "\n",
    "a_ndarray = np.array([[-1, 2, 3], [4, -5, 6], [7, 8, -9]])\n",
    "b_ndarray = np.array([[0, 2, 1], [0, 2, -8], [2, 9, -1]])\n",
    "\n",
    "\n",
    "# np.matmul()を用いた計算方法\n",
    "answer_array_00 = np.matmul(a_ndarray, b_ndarray)\n",
    "print(\"np.matumulの場合は、\\n{}\".format(answer_array_00))\n",
    "\n",
    "# np.dot()の場合\n",
    "answer_array_01 = np.dot(a_ndarray, b_ndarray)\n",
    "print(\"\\nnp.dotの場合は、\\n{}\".format(answer_array_01))\n",
    "\n",
    "# @演算子の場合\n",
    "answer_array_02 = a_ndarray @ b_ndarray\n",
    "print(\"\\n＠演算子の場合は、\\n{}\".format(answer_array_02))"
   ]
  },
  {
   "cell_type": "markdown",
   "metadata": {},
   "source": [
    "## 【問題3】ある要素の計算を実装\n",
    "\n",
    "手計算をする際はまず行列Aの0行目と行列Bの0列目に注目し、以下の計算を行ったかと思います。\n",
    "\n",
    "1. 行列Aの(0,0)の要素 a_0,0 と行列Bの(0,0)の要素 b_0,0 を掛け合わせる\n",
    "2. 行列Aの(0,1)の要素 a_0,1 と行列Bの(1,0)の要素 b_1,0 を掛け合わせる\n",
    "3. 行列Aの(0,2)の要素 a_0,2 と行列Bの(2,0)の要素 b_2,0 を掛け合わせる\n",
    "4. それらの値を全て足し合わせる\n",
    "\n",
    "数式で表すと\n",
    "\n",
    "2∑k=0_a_0,kbk,0\n",
    "\n",
    "です。\n",
    "\n",
    "この計算をnp.matmul()やnp.dot()、または@演算子を使わずに行うコードを書いてください。"
   ]
  },
  {
   "cell_type": "code",
   "execution_count": 5,
   "metadata": {},
   "outputs": [
    {
     "name": "stdout",
     "output_type": "stream",
     "text": [
      "行列Aの0列目の3つの数値は[-1  2  3]\n",
      "行列Bの0行目の3つの数値は[0 0 2]\n",
      "3つの数値を足し合わせた数は6\n"
     ]
    }
   ],
   "source": [
    "a_ndarray = np.array([[-1, 2, 3], [4, -5, 6], [7, 8, -9]])\n",
    "b_ndarray = np.array([[0, 2, 1], [0, 2, -8], [2, 9, -1]])\n",
    "\n",
    "# 行列Aの0列目\n",
    "print(\"行列Aの0列目の3つの数値は{}\".format(a_ndarray[0]))\n",
    "\n",
    "# 行列Bの0行目\n",
    "print(\"行列Bの0行目の3つの数値は{}\".format(b_ndarray[:, 0]))\n",
    "\n",
    "# 3つの数値を足し合わせた数\n",
    "answer_0_0 = 0\n",
    "\n",
    "for i in range(a_ndarray.shape[0]):\n",
    "    answer = a_ndarray[0][i] * b_ndarray[:, 0][i]\n",
    "    answer_0_0 += answer \n",
    "\n",
    "print(\"3つの数値を足し合わせた数は{}\".format(answer_0_0))"
   ]
  },
  {
   "cell_type": "markdown",
   "metadata": {},
   "source": [
    "## 【問題4】行列積を行う関数の作成\n",
    "\n",
    "問題3のコードを拡張し、行列積のスクラッチ実装を完成させてください。行列AとBを引数に受け取り、行列積を返す関数としてください。\n",
    "\n",
    "行列積を計算する場合は、問題3の計算を異なる行や列に対して繰り返していくことになります。"
   ]
  },
  {
   "cell_type": "code",
   "execution_count": 45,
   "metadata": {},
   "outputs": [
    {
     "name": "stdout",
     "output_type": "stream",
     "text": [
      "[  6.  29. -20.]\n",
      "[12. 52. 38.]\n",
      "[-18. -51. -48.]\n"
     ]
    }
   ],
   "source": [
    "a_ndarray = np.array([[-1, 2, 3], [4, -5, 6], [7, 8, -9]])\n",
    "b_ndarray = np.array([[0, 2, 1], [0, 2, -8], [2, 9, -1]])\n",
    "\n",
    "\"\"\"\n",
    "配列を逐次的に結合すると、その都度メモリを確保する必要があるため、実行速度が低下する。\n",
    "そのため、最終的な配列のサイズが分かっている場合には、\n",
    "初めに必要なサイズの配列を確保して、逐次的に配列を代入した方が速く実行できる。\n",
    "\n",
    "\"\"\"\n",
    "c_ndarray = np.empty([3, 3])\n",
    "\n",
    "\"\"\"\n",
    "以下の計算は当初、考案した式である。\n",
    "最終的に、ネットで解を得たが、自分の考案した式で何を勘違いしたかが不明のため、記録のためにここに残す。\n",
    "\n",
    "for i in range(a_ndarray.shape[0]):\n",
    "    for j in range(a_ndarray.shape[0]):\n",
    "        answer = a_ndarray[i][j] * b_ndarray[:, i][j]\n",
    "        print(\"answer = {}\".format(answer))\n",
    "        final_answer += answer\n",
    "    print(\"final_answer = {}\".format(final_answer))\n",
    "    c_ndarray = np.append(c_ndarray, final_answer)\n",
    "\n",
    "# print(a_ndarray[0][0])\n",
    "# print(b_ndarray[0][0])\n",
    "# print(c_ndarray)\n",
    "# print(empty_array)\n",
    "\"\"\"\n",
    "# iterate through rows of a_ndarray\n",
    "for i in range(len(a_ndarray)):\n",
    "   # iterate through columns of b_ndarray\n",
    "   for j in range(len(b_ndarray[0])):\n",
    "       # iterate through rows of b_ndarray\n",
    "       for k in range(len(b_ndarray)):\n",
    "            c_ndarray[i][j] += a_ndarray[i][k] * b_ndarray[k][j]\n",
    "\n",
    "for r in c_ndarray:\n",
    "    print(r)"
   ]
  },
  {
   "cell_type": "markdown",
   "metadata": {},
   "source": [
    "## 【問題5】計算が定義されない入力を判定する\n",
    "\n",
    "問題4で作成した関数は、実装方法によってはこのDとEの配列を入力しても動いてしまう可能性があります。この場合、不適切な計算が行われることになります。また、途中でエラーになる場合でも、なぜエラーになったかが直接的には分かりづらいメッセージが表示されます。\n",
    "\n",
    "\n",
    "if文などによってこれを防ぎ、入力される形に問題があることをprint()を使い表示するコードを書き加えてください。"
   ]
  },
  {
   "cell_type": "code",
   "execution_count": 77,
   "metadata": {},
   "outputs": [
    {
     "name": "stdout",
     "output_type": "stream",
     "text": [
      "左辺の列数と右辺の行数が等しくないので、行列積は不可能である。\n"
     ]
    }
   ],
   "source": [
    "d_ndarray_ = np.array([[-1, 2, 3], [4, -5, 6]])\n",
    "e_ndarray = np.array([[-9, 8, 7], [6, -5, 4]])\n",
    "g_ndarray = np.empty([3, 3])\n",
    "\n",
    "if d_ndarray_.shape[1] == e_ndarray.shape[0]:\n",
    "    print(\"左辺の列数と右辺の行数が等しいので、行列積は可能である。\")\n",
    "    # iterate through rows of a_ndarray\n",
    "    for i in range(len(d_ndarray_)):\n",
    "       # iterate through columns of b_ndarray\n",
    "       for j in range(len(e_ndarray[0])):\n",
    "           # iterate through rows of b_ndarray\n",
    "           for k in range(len(e_ndarray)):\n",
    "                g_ndarray[i][j] += d_ndarray_[i][k] * e_ndarray[k][j]\n",
    "\n",
    "    for r in g_ndarray:\n",
    "        print(r)\n",
    "else:\n",
    "    print(\"左辺の列数と右辺の行数が等しくないので、行列積は不可能である。\")"
   ]
  },
  {
   "cell_type": "markdown",
   "metadata": {},
   "source": [
    "## 【問題6】転置\n",
    "\n",
    "片方の行列を転置することで、行列積が計算できるようになります。"
   ]
  },
  {
   "cell_type": "code",
   "execution_count": 88,
   "metadata": {},
   "outputs": [
    {
     "name": "stdout",
     "output_type": "stream",
     "text": [
      "左辺の列数と右辺の行数が等しいので、行列積は可能である。\n",
      "[ 258. -117.   -4.]\n",
      "[-384.  516.   94.]\n",
      "[   0. -189.  126.]\n"
     ]
    }
   ],
   "source": [
    "d_ndarray_ = np.array([[-1, 2, 3], [4, -5, 6]])\n",
    "e_ndarray = np.array([[-9, 8, 7], [6, -5, 4]])\n",
    "g_ndarray = np.empty([3, 3])\n",
    "\n",
    "# 配列Dを転置する。\n",
    "d_ndarray_ = d_ndarray_.T\n",
    "\n",
    "if d_ndarray_.shape[1] == e_ndarray.shape[0]:\n",
    "    print(\"左辺の列数と右辺の行数が等しいので、行列積は可能である。\")\n",
    "    # iterate through rows of a_ndarray\n",
    "    for i in range(len(d_ndarray_)):\n",
    "       # iterate through columns of b_ndarray\n",
    "       for j in range(len(e_ndarray[0])):\n",
    "           # iterate through rows of b_ndarray\n",
    "           for k in range(len(e_ndarray)):\n",
    "                g_ndarray[i][j] += d_ndarray_[i][k] * e_ndarray[k][j]\n",
    "\n",
    "    for r in g_ndarray:\n",
    "        print(r)\n",
    "else:\n",
    "    print(\"左辺の列数と右辺の行数が等しくないので、行列積は不可能である。\")"
   ]
  },
  {
   "cell_type": "code",
   "execution_count": null,
   "metadata": {},
   "outputs": [],
   "source": []
  }
 ],
 "metadata": {
  "kernelspec": {
   "display_name": "Python 3",
   "language": "python",
   "name": "python3"
  },
  "language_info": {
   "codemirror_mode": {
    "name": "ipython",
    "version": 3
   },
   "file_extension": ".py",
   "mimetype": "text/x-python",
   "name": "python",
   "nbconvert_exporter": "python",
   "pygments_lexer": "ipython3",
   "version": "3.7.6"
  }
 },
 "nbformat": 4,
 "nbformat_minor": 4
}
