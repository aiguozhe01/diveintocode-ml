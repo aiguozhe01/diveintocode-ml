{
 "cells": [
  {
   "cell_type": "code",
   "execution_count": 40,
   "metadata": {},
   "outputs": [
    {
     "name": "stdout",
     "output_type": "stream",
     "text": [
      "太陽系の体積を3.82e+29 km^3とする\n",
      "栗まんじゅうの体積を1.15e-12 km^3とする\n"
     ]
    }
   ],
   "source": [
    "\"定義\"\n",
    "import numpy as np\n",
    "length_to_neptune = 4.5e+9\n",
    "volume_of_solar_system = (4 * (length_to_neptune ** 3) * np.pi) / 3\n",
    "kuri_manjuu = (3.5 ** 2) * np.pi * 3 * 10e-15\n",
    "\n",
    "print(\"太陽系の体積を{:.2e} km^3とする\".format(volume_of_solar_system))\n",
    "print(\"栗まんじゅうの体積を{:.2e} km^3とする\".format(kuri_manjuu))"
   ]
  },
  {
   "cell_type": "code",
   "execution_count": 48,
   "metadata": {},
   "outputs": [],
   "source": [
    "list_of_kuri_manjuu = []\n",
    "def bai_bainn(sample, volume):\n",
    "    cnt = 0\n",
    "    while sample < volume:\n",
    "        sample = sample * 2\n",
    "        list_of_kuri_manjuu.append(sample)\n",
    "        cnt += 1\n",
    "    return cnt * 5"
   ]
  },
  {
   "cell_type": "code",
   "execution_count": 51,
   "metadata": {},
   "outputs": [
    {
     "name": "stdout",
     "output_type": "stream",
     "text": [
      "690分後に太陽系は栗まんじゅう化する。（ﾋｨｯ!）\n"
     ]
    }
   ],
   "source": [
    "answer = bai_bainn(kuri_manjuu, volume_of_solar_system)\n",
    "print(\"{}分後に太陽系は栗まんじゅう化する。（ﾋｨｯ!）\".format(answer))"
   ]
  },
  {
   "cell_type": "code",
   "execution_count": 50,
   "metadata": {},
   "outputs": [
    {
     "data": {
      "image/png": "[encoded data removed]",
      "text/plain": [
       "<Figure size 432x288 with 1 Axes>"
      ]
     },
     "metadata": {
      "needs_background": "light"
     },
     "output_type": "display_data"
    }
   ],
   "source": [
    "import matplotlib.pyplot as plt\n",
    "%matplotlib inline\n",
    "plt.title(\"volume of kuri_manjuu\")\n",
    "plt.xlabel(\"time\")\n",
    "plt.ylabel(\"volume[km^3]\")\n",
    "plt.plot(list_of_kuri_manjuu)\n",
    "plt.show()"
   ]
  },
  {
   "cell_type": "code",
   "execution_count": null,
   "metadata": {},
   "outputs": [],
   "source": []
  }
 ],
 "metadata": {
  "kernelspec": {
   "display_name": "Python 3",
   "language": "python",
   "name": "python3"
  },
  "language_info": {
   "codemirror_mode": {
    "name": "ipython",
    "version": 3
   },
   "file_extension": ".py",
   "mimetype": "text/x-python",
   "name": "python",
   "nbconvert_exporter": "python",
   "pygments_lexer": "ipython3",
   "version": "3.7.7"
  }
 },
 "nbformat": 4,
 "nbformat_minor": 4
}
