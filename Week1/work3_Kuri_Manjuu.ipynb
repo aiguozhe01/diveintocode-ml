{
 "cells": [
  {
   "cell_type": "markdown",
   "metadata": {},
   "source": [
    "## 【問題】栗まんじゅうが太陽系を覆う日\n",
    "\n",
    "1個の栗まんじゅうにバイバインを振りかけた場合、太陽系が栗まんじゅうで覆われるのは何分後でしょうか。これを計算するプログラムを作成してください。\n",
    "\n",
    "栗まんじゅうや太陽系の体積を調査した上で仮定して計算してください。栗まんじゅうの隙間や重力などは考えず、問題を単純化して構いません。\n",
    "\n",
    "ボールにバイバインを振りかけた時、東京ドームが一杯になる時間など他の状況にも適用できるような汎用的なプログラムを作成してください。また、グラフを表示するなど分かりやすいノートブックを作成してください。"
   ]
  },
  {
   "cell_type": "code",
   "execution_count": 16,
   "metadata": {},
   "outputs": [
    {
     "name": "stdout",
     "output_type": "stream",
     "text": [
      "太陽系の体積を3.82e+29 km^3とする\n",
      "栗まんじゅうの体積を1.15e-12 km^3とする\n"
     ]
    }
   ],
   "source": [
    "import numpy as np\n",
    "\"\"\"\n",
    "定義\n",
    "--------------\n",
    "太陽系の体積：\n",
    "    太陽から海王星(neptune)までの直線距離を半径とした球体体積として仮定する。\n",
    "    太陽から海王星までの距離は約30au = 30 * 1.5e8\n",
    "    球体体積の求め方は4 * np.pi * r ** 3 * (1/3)\n",
    "栗まんじゅう：\n",
    "    半径3.5cm、高さ3.0cmの円柱型として仮定する。\n",
    "    （栗まんじゅうは円柱型が一般的ですよね？あれ？違う？）\n",
    "--------------\n",
    "\"\"\"\n",
    "# 太陽から海王星までの距離\n",
    "length_to_neptune = 4.5e+9\n",
    "# 太陽系の球体体積\n",
    "volume_of_solar_system = (4 * (length_to_neptune ** 3) * np.pi) / 3\n",
    "# 栗まんじゅうの体積\n",
    "kuri_manjuu = (3.5 ** 2) * np.pi * 3 * 10e-15\n",
    "\n",
    "print(\"太陽系の体積を{:.2e} km^3とする\".format(volume_of_solar_system))\n",
    "print(\"栗まんじゅうの体積を{:.2e} km^3とする\".format(kuri_manjuu))"
   ]
  },
  {
   "cell_type": "code",
   "execution_count": 14,
   "metadata": {},
   "outputs": [],
   "source": [
    "list_of_kuri_manjuu = []\n",
    "def bai_bainn(sample, volume):\n",
    "    \"\"\"\n",
    "    バイバインを汎用的に適応する関数。\n",
    "    \n",
    "\n",
    "    Parameteres\n",
    "    --------------\n",
    "    sample: int\n",
    "        バイバインを振りかける対象サンプルの初期体積\n",
    "    volume: int\n",
    "        上限体積\n",
    "    Returns\n",
    "    --------------\n",
    "    cnt: int\n",
    "        ５分毎に倍増する回数。５をかけることによって分数を算出する。\n",
    "    \"\"\"\n",
    "    cnt = 0\n",
    "    while sample < volume:\n",
    "        sample = sample * 2\n",
    "        list_of_kuri_manjuu.append(sample)\n",
    "        cnt += 1\n",
    "    return cnt * 5"
   ]
  },
  {
   "cell_type": "code",
   "execution_count": 6,
   "metadata": {},
   "outputs": [
    {
     "name": "stdout",
     "output_type": "stream",
     "text": [
      "690分後に太陽系は栗まんじゅう化する。（ﾋｨｯ!）\n"
     ]
    }
   ],
   "source": [
    "answer = bai_bainn(kuri_manjuu, volume_of_solar_system)\n",
    "print(\"{}分後に太陽系は栗まんじゅう化する。（ﾋｨｯ!）\".format(answer))"
   ]
  },
  {
   "cell_type": "code",
   "execution_count": 15,
   "metadata": {},
   "outputs": [
    {
     "data": {
      "image/png": "[encoded data removed]",
      "text/plain": [
       "<Figure size 432x288 with 1 Axes>"
      ]
     },
     "metadata": {
      "needs_background": "light"
     },
     "output_type": "display_data"
    }
   ],
   "source": [
    "\"\"\"\n",
    "上記関数の算出結果をグラフ化したものである。\n",
    "バイバインを振りかけて120回目のバイバインをもって、体積が指数関数的に増大している。\n",
    "尚、1回のバイバインは5分を要するので、120回目のバイバインは600分、10時間となる。\n",
    "\"\"\"\n",
    "import matplotlib.pyplot as plt\n",
    "%matplotlib inline\n",
    "plt.title(\"volume of kuri_manjuu\")\n",
    "plt.xlabel(\"time\")\n",
    "plt.ylabel(\"volume[km^3]\")\n",
    "plt.plot(list_of_kuri_manjuu)\n",
    "plt.show()"
   ]
  },
  {
   "cell_type": "code",
   "execution_count": null,
   "metadata": {},
   "outputs": [],
   "source": []
  }
 ],
 "metadata": {
  "kernelspec": {
   "display_name": "Python 3",
   "language": "python",
   "name": "python3"
  },
  "language_info": {
   "codemirror_mode": {
    "name": "ipython",
    "version": 3
   },
   "file_extension": ".py",
   "mimetype": "text/x-python",
   "name": "python",
   "nbconvert_exporter": "python",
   "pygments_lexer": "ipython3",
   "version": "3.7.7"
  }
 },
 "nbformat": 4,
 "nbformat_minor": 4
}
