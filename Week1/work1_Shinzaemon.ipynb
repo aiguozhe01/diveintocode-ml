{
 "cells": [
  {
   "cell_type": "markdown",
   "metadata": {},
   "source": [
    "## 【問題1】100日目の米粒の数\n",
    "\n",
    "100日目には合計で米粒をいくつもらっているのかを計算するコードを作成し、答えを出力してください。また、1日目から100日目までの「その日にもらう米の数」と「その日までに累計で貰う米の数」の推移を折れ線グラフで表現してください。（縦軸が米の数、横軸が日数）"
   ]
  },
  {
   "cell_type": "code",
   "execution_count": 3,
   "metadata": {},
   "outputs": [
    {
     "data": {
      "image/png": "[encoded data removed]",
      "text/plain": [
       "<Figure size 432x288 with 1 Axes>"
      ]
     },
     "metadata": {
      "needs_background": "light"
     },
     "output_type": "display_data"
    }
   ],
   "source": [
    "list_of_rice = [1]\n",
    "\n",
    "day = 100\n",
    "\n",
    "for i in range(1, day):\n",
    "    todays_rice = list_of_rice[-1] * 2\n",
    "    list_of_rice.append(todays_rice)\n",
    "\n",
    "import matplotlib.pyplot as plt\n",
    "%matplotlib inline\n",
    "plt.title(\"Acquired Rice in graph\")\n",
    "plt.xlabel(\"Days\")\n",
    "plt.ylabel(\"Amount of rice\")\n",
    "plt.plot(list_of_rice)\n",
    "plt.show()"
   ]
  },
  {
   "cell_type": "markdown",
   "metadata": {},
   "source": [
    "## 【問題2】\n",
    "\n",
    "この逸話は30日だったり81日だったりと日数が曖昧です。どの話にも対応できるように日数を引数とした 関数 を作成しましょう。関数を作成した上で、コースを受講する日数の間でいくつ米粒をもらえるかを答えてください。前の問題同様に折れ線グラフも出力してください。"
   ]
  },
  {
   "cell_type": "code",
   "execution_count": 34,
   "metadata": {},
   "outputs": [
    {
     "data": {
      "image/png": "[encoded data removed]",
      "text/plain": [
       "<Figure size 432x288 with 1 Axes>"
      ]
     },
     "metadata": {
      "needs_background": "light"
     },
     "output_type": "display_data"
    }
   ],
   "source": [
    "def compute_sorori_shinzaemon(day=100):\n",
    "    \"\"\"\n",
    "    曽呂利新左衛門の米の逸話を検証する関数。日にちごとの米の粒の数を計算する。\n",
    "\n",
    "    Parameteres\n",
    "    --------------\n",
    "    day: int\n",
    "        米を貰う日数 (default : 100)\n",
    "\n",
    "    Returns\n",
    "    --------------\n",
    "    list_n_grains : list\n",
    "        ある日に貰う米の数のリスト（リストの長さはdayに等しくなる）\n",
    "    list_total_grains : list\n",
    "        ある日までに累計で貰う米の数のリスト（リストの長さはdayに等しくなる）\n",
    "    \"\"\"\n",
    "    list_n_grains = [1]\n",
    "    list_total_grains = [1]\n",
    "    total_grains = 1\n",
    "    for i in range(1, day):\n",
    "        todays_grains = list_n_grains[-1] * 2\n",
    "        list_n_grains.append(todays_grains)\n",
    "        total_grains += todays_grains\n",
    "        list_total_grains.append(total_grains)\n",
    "    import matplotlib.pyplot as plt\n",
    "    %matplotlib inline\n",
    "    plt.title(\"Acquired Rice in graph\")\n",
    "    plt.xlabel(\"Days\")\n",
    "    plt.ylabel(\"Amount of rice\")\n",
    "    plt.plot(list_n_grains)\n",
    "    plt.plot(list_total_grains)\n",
    "    plt.show()\n",
    "    return list_n_grains, list_total_grains\n",
    "    \n",
    "list_n_grains, list_total_grains = compute_sorori_shinzaemon(day=10)\n",
    "\n"
   ]
  },
  {
   "cell_type": "markdown",
   "metadata": {},
   "source": [
    "## 【問題3】何人が何日生活できる米か\n",
    "\n",
    "この米があれば何人が何日生活できるか計算する関数を作成してください。コースを受講する期間に貰える米粒で、このクラスにいる人数であれば、何日間生活できるかを出力してみましょう。\n",
    "\n",
    "\n",
    "関数の最低限の入力は 米粒の数(int) と 人数(int) 、出力は 生活できる日数(int) です。関数名やコメントなどは分かりやすく考えて作成してください。\n",
    "\n",
    "\n",
    "ここでは1日に必要な米粒の数は提示しません。自分なりに調べて、計算式に落とし込んでください。どう調べ、何を根拠にしたかもコメントを残しておいてください。"
   ]
  },
  {
   "cell_type": "code",
   "execution_count": 122,
   "metadata": {},
   "outputs": [],
   "source": [
    "def date_to_survive(bowl_of_rice, number_of_classmates, days_of_course):\n",
    "    \"\"\"\n",
    "    曽呂利新左衛門の米の逸話を検証する関数。日にちごとの米の粒の数を計算する。\n",
    "\n",
    "    Parameteres\n",
    "    --------------\n",
    "    bowl_of_rice: int\n",
    "        お茶碗一杯分の米の数 (default : 4000)\n",
    "        お椀の米の数は以下のサイトを参照\n",
    "        https://www.ogatabeikoku.com/trivia-rice/how-many-grain-of-rice/\n",
    "    number_of_classmates: int\n",
    "        クラスメイトの人数（default : 14）\n",
    "    days_of_course: int\n",
    "        コースを受講する期間（default : 30）\n",
    "    Returns\n",
    "    --------------\n",
    "    count_date : int\n",
    "        米の残量から生活できる日数\n",
    "    \"\"\"\n",
    "    daily_consumption = 3 * 3 * bowl_of_rice * number_of_classmates\n",
    "    # daily_consumption : 一日に消費する米の量\n",
    "    count_date = 0\n",
    "    total_grains = 1\n",
    "    # 受講期間中に蓄積される米の数を算出\n",
    "    for i in range(1, days_of_course):\n",
    "        total_grains = total_grains*2\n",
    "    # 蓄積された米の数から人数分の消費量を減算した結果の日数\n",
    "    while total_grains > 0:\n",
    "        total_grains = total_grains - daily_consumption\n",
    "        count_date += 1\n",
    "    return print(\"このクラスにいる人数であれば、{}日間生活できる。\".format(count_date))"
   ]
  },
  {
   "cell_type": "code",
   "execution_count": 123,
   "metadata": {},
   "outputs": [
    {
     "name": "stdout",
     "output_type": "stream",
     "text": [
      "このクラスにいる人数であれば、1066日間生活できる。\n"
     ]
    }
   ],
   "source": [
    "\"\"\"\n",
    "Parameteres (default)\n",
    "bowl_of_rice = 4000\n",
    "number_of_classmates = 14\n",
    "days_of_course = 30\n",
    "\"\"\"\n",
    "date_to_survive(4000, 14, 30)"
   ]
  },
  {
   "cell_type": "code",
   "execution_count": null,
   "metadata": {},
   "outputs": [],
   "source": []
  },
  {
   "cell_type": "code",
   "execution_count": null,
   "metadata": {},
   "outputs": [],
   "source": []
  },
  {
   "cell_type": "code",
   "execution_count": null,
   "metadata": {},
   "outputs": [],
   "source": []
  },
  {
   "cell_type": "code",
   "execution_count": 81,
   "metadata": {},
   "outputs": [],
   "source": []
  },
  {
   "cell_type": "code",
   "execution_count": null,
   "metadata": {},
   "outputs": [],
   "source": []
  },
  {
   "cell_type": "code",
   "execution_count": null,
   "metadata": {},
   "outputs": [],
   "source": []
  }
 ],
 "metadata": {
  "kernelspec": {
   "display_name": "Python 3",
   "language": "python",
   "name": "python3"
  },
  "language_info": {
   "codemirror_mode": {
    "name": "ipython",
    "version": 3
   },
   "file_extension": ".py",
   "mimetype": "text/x-python",
   "name": "python",
   "nbconvert_exporter": "python",
   "pygments_lexer": "ipython3",
   "version": "3.7.7"
  }
 },
 "nbformat": 4,
 "nbformat_minor": 4
}
