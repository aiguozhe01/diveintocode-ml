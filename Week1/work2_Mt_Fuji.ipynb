{
 "cells": [
  {
   "cell_type": "markdown",
   "metadata": {},
   "source": [
    "## 【問題1】富士山を超える最小の折る回数\n",
    "\n",
    "厚さが「富士山(3776m)」を超えるのは何回紙を折った時か計算するプログラムを作成してください。"
   ]
  },
  {
   "cell_type": "code",
   "execution_count": 1,
   "metadata": {},
   "outputs": [
    {
     "name": "stdout",
     "output_type": "stream",
     "text": [
      "26\n"
     ]
    }
   ],
   "source": [
    "THICKNESS = 0.00008\n",
    "folded_paper = THICKNESS\n",
    "cnt = 0\n",
    "mt_fuji = 3776\n",
    "\n",
    "while folded_paper < mt_fuji:\n",
    "    folded_paper = folded_paper * 2\n",
    "    cnt += 1\n",
    "    \n",
    "print(cnt)"
   ]
  },
  {
   "cell_type": "markdown",
   "metadata": {},
   "source": [
    "## 【問題2】任意の厚さに対応した関数を作成\n",
    "\n",
    "距離を入力すると、何回折った時に超えるかを出力する関数を作成してください。引数として、折る前の厚さt_0も設定できるようにしましょう。\n",
    "\n",
    "この関数を利用して、「最も近い太陽以外の恒星」に到達するには紙を何回折る必要があるか計算してください。「最も近い太陽以外の恒星」の距離は調査してください。"
   ]
  },
  {
   "cell_type": "code",
   "execution_count": 3,
   "metadata": {},
   "outputs": [],
   "source": [
    "def lets_fold_paper(x, y):\n",
    "    THICKNESS = x\n",
    "    LENGTH = y\n",
    "    folded_paper = THICKNESS\n",
    "    cnt = 0\n",
    "\n",
    "    while folded_paper < LENGTH:\n",
    "        folded_paper = folded_paper * 2\n",
    "        cnt += 1\n",
    "    return cnt"
   ]
  },
  {
   "cell_type": "code",
   "execution_count": 4,
   "metadata": {},
   "outputs": [
    {
     "name": "stdout",
     "output_type": "stream",
     "text": [
      "最も近い太陽以外の恒星に到達するまで、69回折る必要がある\n"
     ]
    }
   ],
   "source": [
    "answer = lets_fold_paper(0.00008, 4.01 * (10 ** 16))\n",
    "print(\"最も近い太陽以外の恒星に到達するまで、{}回折る必要がある\".format(answer))"
   ]
  },
  {
   "cell_type": "markdown",
   "metadata": {},
   "source": [
    "## 【問題3】必要な紙の長さ\n",
    "\n",
    "実際のところ身近にある紙は43回はおろか10回も折れません。しかし、大きな紙ほどたくさん折ることができ、トイレットペーパーのような長い紙を一方向に折ることを考えた時の折れる回数を求める公式が存在します。\n",
    "\n",
    "厚さt0の紙をn回折るために必要な紙の長さLは以下の公式で求まります。\n",
    "\n",
    "L=(π * t_0(2n+4)(2n−1)) / 6\n",
    "\n",
    "この公式を利用して、実際に紙を折り任意の厚さに到達するために必要な紙の長さを求める関数を作成してください。\n",
    "そしてこれを使って「月」「富士山」「最も近い太陽以外の恒星」に届くために必要な紙の長さを求めてください。"
   ]
  },
  {
   "cell_type": "code",
   "execution_count": 5,
   "metadata": {},
   "outputs": [],
   "source": [
    "import numpy as np\n",
    "\n",
    "def length_of_paper(thickness, fold_cnt):\n",
    "    L = (np.pi * thickness) * ((2 ** fold_cnt) + 4) * ((2 ** fold_cnt) - 1) / 6\n",
    "    return L"
   ]
  },
  {
   "cell_type": "code",
   "execution_count": 6,
   "metadata": {},
   "outputs": [
    {
     "name": "stdout",
     "output_type": "stream",
     "text": [
      "必要な紙の長さは 3.24e+21メートル\n"
     ]
    }
   ],
   "source": [
    "\"月に届くために必要な紙の長さ\"\n",
    "fold_cnt = lets_fold_paper(0.00008, 384400000)\n",
    "answer = length_of_paper(0.00008, fold_cnt)\n",
    "print(\"必要な紙の長さは {:.2e}メートル\".format(answer))"
   ]
  },
  {
   "cell_type": "code",
   "execution_count": 7,
   "metadata": {},
   "outputs": [
    {
     "name": "stdout",
     "output_type": "stream",
     "text": [
      "必要な紙の長さは 1.89e+11メートル\n"
     ]
    }
   ],
   "source": [
    "\"富士山に届くために必要な紙の長さ\"\n",
    "fold_cnt = lets_fold_paper(0.00008, 3776)\n",
    "answer = length_of_paper(0.00008, fold_cnt)\n",
    "print(\"必要な紙の長さは {:.2e}メートル\".format(answer))"
   ]
  },
  {
   "cell_type": "code",
   "execution_count": 8,
   "metadata": {},
   "outputs": [
    {
     "name": "stdout",
     "output_type": "stream",
     "text": [
      "必要な紙の長さは 1.46e+37メートル\n"
     ]
    }
   ],
   "source": [
    "\"最も近い太陽以外の恒星に届くために必要な紙の長さ\"\n",
    "fold_cnt = lets_fold_paper(0.00008, 4.01 * (10 ** 16))\n",
    "answer = length_of_paper(0.00008, fold_cnt)\n",
    "print(\"必要な紙の長さは {:.2e}メートル\".format(answer))"
   ]
  },
  {
   "cell_type": "code",
   "execution_count": null,
   "metadata": {},
   "outputs": [],
   "source": []
  }
 ],
 "metadata": {
  "kernelspec": {
   "display_name": "Python 3",
   "language": "python",
   "name": "python3"
  },
  "language_info": {
   "codemirror_mode": {
    "name": "ipython",
    "version": 3
   },
   "file_extension": ".py",
   "mimetype": "text/x-python",
   "name": "python",
   "nbconvert_exporter": "python",
   "pygments_lexer": "ipython3",
   "version": "3.7.7"
  }
 },
 "nbformat": 4,
 "nbformat_minor": 4
}
