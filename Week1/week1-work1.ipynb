{
 "cells": [
  {
   "cell_type": "code",
   "execution_count": 1,
   "metadata": {
    "colab": {
     "base_uri": "https://localhost:8080/",
     "height": 34
    },
    "colab_type": "code",
    "id": "iKPCiUqnxImC",
    "outputId": "1a48160d-5898-4a07-a10a-1490b8ac7998"
   },
   "outputs": [
    {
     "name": "stdout",
     "output_type": "stream",
     "text": [
      "厚さ： 703687441.77664メートル\n"
     ]
    }
   ],
   "source": [
    "\"\"\"\n",
    "問題 1\n",
    "\"\"\"\n",
    "THICKNESS = 0.00008\n",
    "folded_thickness = THICKNESS * (2 ** 43)\n",
    "print(\"厚さ： {}メートル\".format(folded_thickness))\n",
    "\n",
    "### 単位をキロメートルからメートルに書き直しました。"
   ]
  },
  {
   "cell_type": "code",
   "execution_count": 20,
   "metadata": {
    "colab": {
     "base_uri": "https://localhost:8080/",
     "height": 34
    },
    "colab_type": "code",
    "id": "r7uGGfsMxcT5",
    "outputId": "42694ee8-9cb2-4d2e-a970-ea7adc0ac01e"
   },
   "outputs": [
    {
     "name": "stdout",
     "output_type": "stream",
     "text": [
      "厚さ： 70.37万キロメートル\n"
     ]
    }
   ],
   "source": [
    "\"\"\"\n",
    "問題 2\n",
    "\"\"\"\n",
    "def test_1():\n",
    "    THICKNESS = 0.00008\n",
    "    folded_thickness = THICKNESS * (2 ** 43)\n",
    "    folded_thickness_in_killo = folded_thickness / (10 ** 7)\n",
    "    print(\"厚さ： {:.2f}万キロメートル\".format(folded_thickness_in_killo))"
   ]
  },
  {
   "cell_type": "code",
   "execution_count": 3,
   "metadata": {
    "colab": {
     "base_uri": "https://localhost:8080/",
     "height": 34
    },
    "colab_type": "code",
    "id": "BYF8Lhbbzneh",
    "outputId": "b46ac1aa-6e11-4558-8017-26bb8bb2e00c"
   },
   "outputs": [
    {
     "name": "stdout",
     "output_type": "stream",
     "text": [
      "厚さ： 70.37万キロメートル\n"
     ]
    }
   ],
   "source": [
    "\"\"\"\n",
    "問題 3\n",
    "\"\"\"\n",
    "THICKNESS = 0.00008\n",
    "for i in range(43):\n",
    "    THICKNESS = THICKNESS * 2\n",
    "  \n",
    "total_THICKNESS = THICKNESS / (10 ** 7)\n",
    "\n",
    "print(\"厚さ： {:.2f}万キロメートル\".format(total_THICKNESS))\n",
    "\n",
    "### 関数化を解除して、for文を一つに作り直しました。"
   ]
  },
  {
   "cell_type": "code",
   "execution_count": 38,
   "metadata": {
    "colab": {
     "base_uri": "https://localhost:8080/",
     "height": 51
    },
    "colab_type": "code",
    "id": "emlwzUTHz6ZQ",
    "outputId": "ed1b1101-8e0c-4f77-84de-6797ace03750"
   },
   "outputs": [
    {
     "name": "stdout",
     "output_type": "stream",
     "text": [
      "1st_time : 0.006981372833251953[s]\n",
      "2nd_time : 0.0[s]\n"
     ]
    },
    {
     "data": {
      "text/plain": [
       "'結果：関数化されていると、されていない計算と比較して処理が遅くなる。'"
      ]
     },
     "execution_count": 38,
     "metadata": {},
     "output_type": "execute_result"
    }
   ],
   "source": [
    "\"\"\"\n",
    "問題 4\n",
    "\"\"\"\n",
    "import time\n",
    "start = time.time()\n",
    "#####\n",
    "for i in range (10000):\n",
    "    test_1()\n",
    "#####\n",
    "elapsed_time = time.time() - start\n",
    "print(\"1st_time : {}[s]\".format(elapsed_time))\n",
    "\n",
    "####################################\n",
    "\n",
    "start = time.time()\n",
    "#####\n",
    "THICKNESS = 0.00008\n",
    "for i in range(10000):\n",
    "        THICKNESS = THICKNESS * 2\n",
    "total_THICKNESS = THICKNESS / (10 ** 7)\n",
    "\"厚さ： {:.2f}万キロメートル\".format(total_THICKNESS)\n",
    "#####\n",
    "elapsed_time = time.time() - start\n",
    "print(\"2nd_time : {}[s]\".format(elapsed_time))\n",
    "\n",
    "\"結果：関数化されていると、されていない計算と比較して処理が遅くなる。\""
   ]
  },
  {
   "cell_type": "markdown",
   "metadata": {
    "colab_type": "text",
    "id": "osF4vHyLZdzf"
   },
   "source": [
    "## 結果\n",
    "べき乗の算術演算子は、for文と比較して、処理は5倍の速さだった。"
   ]
  },
  {
   "cell_type": "code",
   "execution_count": 8,
   "metadata": {
    "colab": {
     "base_uri": "https://localhost:8080/",
     "height": 34
    },
    "colab_type": "code",
    "id": "5Vv-jhUYBKgR",
    "outputId": "e7fcc9d9-4306-4e27-fef1-c54688074795"
   },
   "outputs": [
    {
     "name": "stdout",
     "output_type": "stream",
     "text": [
      "44\n"
     ]
    }
   ],
   "source": [
    "\"\"\"\n",
    "問題 5\n",
    "\"\"\"\n",
    "List_of_Thickness = []\n",
    "THICKNESS = 0.00008\n",
    "List_of_Thickness.append(THICKNESS)\n",
    "\n",
    "for i in range(43):\n",
    "   THICKNESS = THICKNESS * 2\n",
    "   List_of_Thickness.append(THICKNESS)\n",
    "\n",
    "print(len(List_of_Thickness))"
   ]
  },
  {
   "cell_type": "code",
   "execution_count": 3,
   "metadata": {
    "colab": {
     "base_uri": "https://localhost:8080/",
     "height": 295
    },
    "colab_type": "code",
    "id": "dZyyZYMDSxHK",
    "outputId": "dffd6109-9bbd-46fe-a3e6-32fe2f6f3e56"
   },
   "outputs": [
    {
     "data": {
      "image/png": "[encoded data removed]",
      "text/plain": [
       "<Figure size 432x288 with 1 Axes>"
      ]
     },
     "metadata": {
      "needs_background": "light"
     },
     "output_type": "display_data"
    }
   ],
   "source": [
    "\"\"\"\n",
    "問題 6\n",
    "\"\"\"\n",
    "import matplotlib.pyplot as plt\n",
    "%matplotlib inline\n",
    "plt.title(\"thickness of folded paper\")\n",
    "plt.xlabel(\"number of folds\")\n",
    "plt.ylabel(\"thickness[m]\")\n",
    "plt.plot(List_of_Thickness)\n",
    "plt.show()"
   ]
  },
  {
   "cell_type": "markdown",
   "metadata": {
    "colab_type": "text",
    "id": "gAbdY0rLUAFw"
   },
   "source": [
    "## 考察\n",
    "４０回目以降から急激に厚みが増した事が伺える。逆にそれまでの数値は相対的に微増と伺える。"
   ]
  },
  {
   "cell_type": "code",
   "execution_count": 5,
   "metadata": {
    "colab": {
     "base_uri": "https://localhost:8080/",
     "height": 295
    },
    "colab_type": "code",
    "id": "S9zlM5-5UkVv",
    "outputId": "423dbd5f-2451-4533-fe56-e595ae3a52f4"
   },
   "outputs": [
    {
     "data": {
      "image/png": "[encoded data removed]",
      "text/plain": [
       "<Figure size 432x288 with 1 Axes>"
      ]
     },
     "metadata": {
      "needs_background": "light"
     },
     "output_type": "display_data"
    }
   ],
   "source": [
    "\"\"\"\n",
    "問題 7-1\n",
    "\"\"\"\n",
    "import matplotlib.pyplot as plt\n",
    "%matplotlib inline\n",
    "plt.title(\"thickness of folded paper ver 2\")\n",
    "plt.xlabel(\"number of folds\")\n",
    "plt.ylabel(\"thickness[m]\")\n",
    "plt.plot(List_of_Thickness, '-.g')\n",
    "plt.show()"
   ]
  },
  {
   "cell_type": "code",
   "execution_count": 6,
   "metadata": {
    "colab": {
     "base_uri": "https://localhost:8080/",
     "height": 295
    },
    "colab_type": "code",
    "id": "g_l0OYSmU1R1",
    "outputId": "5e1e5118-0675-4fbb-e307-6d36ee0e8c82"
   },
   "outputs": [
    {
     "data": {
      "image/png": "[encoded data removed]",
      "text/plain": [
       "<Figure size 432x288 with 1 Axes>"
      ]
     },
     "metadata": {
      "needs_background": "light"
     },
     "output_type": "display_data"
    }
   ],
   "source": [
    "\"\"\"\n",
    "問題 7-2\n",
    "\"\"\"\n",
    "import matplotlib.pyplot as plt\n",
    "%matplotlib inline\n",
    "plt.title(\"thickness of folded paper ver 2\")\n",
    "plt.xlabel(\"number of folds\")\n",
    "plt.ylabel(\"thickness[m]\")\n",
    "plt.plot(List_of_Thickness, color='red')\n",
    "plt.grid(True)\n",
    "plt.show()"
   ]
  },
  {
   "cell_type": "code",
   "execution_count": 7,
   "metadata": {
    "colab": {
     "base_uri": "https://localhost:8080/",
     "height": 304
    },
    "colab_type": "code",
    "id": "_nsYSFH0VO0w",
    "outputId": "06e22f95-a284-4675-d3dd-8305b3275623"
   },
   "outputs": [
    {
     "data": {
      "image/png": "[encoded data removed]",
      "text/plain": [
       "<Figure size 432x288 with 1 Axes>"
      ]
     },
     "metadata": {
      "needs_background": "light"
     },
     "output_type": "display_data"
    }
   ],
   "source": [
    "\"\"\"\n",
    "問題 7-3\n",
    "\"\"\"\n",
    "import matplotlib.pyplot as plt\n",
    "%matplotlib inline\n",
    "plt.title(\"thickness of folded paper ver 2\")\n",
    "plt.xlabel(\"number of folds\", fontsize = 20)\n",
    "plt.ylabel(\"thickness[m]\", fontsize = 20)\n",
    "plt.plot(List_of_Thickness, 'g*')\n",
    "plt.grid(True)\n",
    "plt.plot([1, 2, 3, 4])\n",
    "plt.show()"
   ]
  },
  {
   "cell_type": "code",
   "execution_count": null,
   "metadata": {
    "colab": {},
    "colab_type": "code",
    "id": "4Wszh4AcV1GT"
   },
   "outputs": [],
   "source": []
  }
 ],
 "metadata": {
  "colab": {
   "collapsed_sections": [],
   "name": "齊藤弘篤_Python 1-1.ipynb",
   "provenance": []
  },
  "kernelspec": {
   "display_name": "Python 3",
   "language": "python",
   "name": "python3"
  },
  "language_info": {
   "codemirror_mode": {
    "name": "ipython",
    "version": 3
   },
   "file_extension": ".py",
   "mimetype": "text/x-python",
   "name": "python",
   "nbconvert_exporter": "python",
   "pygments_lexer": "ipython3",
   "version": "3.7.7"
  }
 },
 "nbformat": 4,
 "nbformat_minor": 1
}
