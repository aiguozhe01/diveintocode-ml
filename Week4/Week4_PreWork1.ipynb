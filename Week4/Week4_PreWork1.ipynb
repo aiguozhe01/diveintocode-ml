{
 "cells": [
  {
   "cell_type": "markdown",
   "metadata": {},
   "source": [
    "## 【前提条件】\n",
    "\n",
    "* 特徴量は4つの中で2つだけを使う\n",
    "    * \n",
    "* アヤメの種類を2つだけ使う\n",
    "    * 2値分類 (分類対象が2種類)"
   ]
  },
  {
   "cell_type": "markdown",
   "metadata": {},
   "source": [
    "## 【課題1】練習のために特徴量とカテゴリを選択\n",
    "\n",
    "irisデータセットをWeek3同様に取得した後、データフレームからこれらを抜き出してください。\n",
    "\n",
    "* virgicolorとvirginica\n",
    "* sepal_lengthとpetal_length\n"
   ]
  },
  {
   "cell_type": "code",
   "execution_count": 2,
   "metadata": {},
   "outputs": [
    {
     "data": {
      "text/html": [
       "<div>\n",
       "<style scoped>\n",
       "    .dataframe tbody tr th:only-of-type {\n",
       "        vertical-align: middle;\n",
       "    }\n",
       "\n",
       "    .dataframe tbody tr th {\n",
       "        vertical-align: top;\n",
       "    }\n",
       "\n",
       "    .dataframe thead th {\n",
       "        text-align: right;\n",
       "    }\n",
       "</style>\n",
       "<table border=\"1\" class=\"dataframe\">\n",
       "  <thead>\n",
       "    <tr style=\"text-align: right;\">\n",
       "      <th></th>\n",
       "      <th>sepal length (cm)</th>\n",
       "      <th>petal length (cm)</th>\n",
       "      <th>species</th>\n",
       "    </tr>\n",
       "  </thead>\n",
       "  <tbody>\n",
       "    <tr>\n",
       "      <th>50</th>\n",
       "      <td>7.0</td>\n",
       "      <td>4.7</td>\n",
       "      <td>1</td>\n",
       "    </tr>\n",
       "    <tr>\n",
       "      <th>51</th>\n",
       "      <td>6.4</td>\n",
       "      <td>4.5</td>\n",
       "      <td>1</td>\n",
       "    </tr>\n",
       "    <tr>\n",
       "      <th>52</th>\n",
       "      <td>6.9</td>\n",
       "      <td>4.9</td>\n",
       "      <td>1</td>\n",
       "    </tr>\n",
       "    <tr>\n",
       "      <th>53</th>\n",
       "      <td>5.5</td>\n",
       "      <td>4.0</td>\n",
       "      <td>1</td>\n",
       "    </tr>\n",
       "    <tr>\n",
       "      <th>54</th>\n",
       "      <td>6.5</td>\n",
       "      <td>4.6</td>\n",
       "      <td>1</td>\n",
       "    </tr>\n",
       "    <tr>\n",
       "      <th>...</th>\n",
       "      <td>...</td>\n",
       "      <td>...</td>\n",
       "      <td>...</td>\n",
       "    </tr>\n",
       "    <tr>\n",
       "      <th>145</th>\n",
       "      <td>6.7</td>\n",
       "      <td>5.2</td>\n",
       "      <td>2</td>\n",
       "    </tr>\n",
       "    <tr>\n",
       "      <th>146</th>\n",
       "      <td>6.3</td>\n",
       "      <td>5.0</td>\n",
       "      <td>2</td>\n",
       "    </tr>\n",
       "    <tr>\n",
       "      <th>147</th>\n",
       "      <td>6.5</td>\n",
       "      <td>5.2</td>\n",
       "      <td>2</td>\n",
       "    </tr>\n",
       "    <tr>\n",
       "      <th>148</th>\n",
       "      <td>6.2</td>\n",
       "      <td>5.4</td>\n",
       "      <td>2</td>\n",
       "    </tr>\n",
       "    <tr>\n",
       "      <th>149</th>\n",
       "      <td>5.9</td>\n",
       "      <td>5.1</td>\n",
       "      <td>2</td>\n",
       "    </tr>\n",
       "  </tbody>\n",
       "</table>\n",
       "<p>100 rows × 3 columns</p>\n",
       "</div>"
      ],
      "text/plain": [
       "     sepal length (cm)  petal length (cm)  species\n",
       "50                 7.0                4.7        1\n",
       "51                 6.4                4.5        1\n",
       "52                 6.9                4.9        1\n",
       "53                 5.5                4.0        1\n",
       "54                 6.5                4.6        1\n",
       "..                 ...                ...      ...\n",
       "145                6.7                5.2        2\n",
       "146                6.3                5.0        2\n",
       "147                6.5                5.2        2\n",
       "148                6.2                5.4        2\n",
       "149                5.9                5.1        2\n",
       "\n",
       "[100 rows x 3 columns]"
      ]
     },
     "execution_count": 2,
     "metadata": {},
     "output_type": "execute_result"
    }
   ],
   "source": [
    "from sklearn.datasets import load_iris\n",
    "import pandas as pd\n",
    "import numpy as np\n",
    "\n",
    "iris = load_iris()\n",
    "\n",
    "# 基データから特定の2種の特徴量を抽出。\n",
    "iris_raw_data = pd.DataFrame(iris.data, columns=iris.feature_names)\n",
    "iris_data = iris_raw_data[['sepal length (cm)', 'petal length (cm)']]\n",
    "\n",
    "# 基データから特定の2品種のみを抽出。\n",
    "iris_raw_species = pd.DataFrame(iris.target, columns=[\"species\"])\n",
    "iris_species = iris_raw_species[iris_raw_species['species'].isin([1, 2])]\n",
    "\n",
    "# 上記2つのデータを結合させる。\n",
    "iris_df = pd.concat([iris_data, iris_species], join='inner', axis=1)\n",
    "\n",
    "# iris_data\n",
    "# iris_species\n",
    "iris_df"
   ]
  },
  {
   "cell_type": "markdown",
   "metadata": {},
   "source": [
    "## 【問題2】データの分析\n",
    "\n",
    "抜き出したデータの散布図と箱ひげ図（boxplot）、バイオリン図（violinplot）を表示してください。"
   ]
  },
  {
   "cell_type": "code",
   "execution_count": 3,
   "metadata": {},
   "outputs": [
    {
     "data": {
      "text/plain": [
       "<seaborn.axisgrid.PairGrid at 0x19c46c38448>"
      ]
     },
     "execution_count": 3,
     "metadata": {},
     "output_type": "execute_result"
    },
    {
     "data": {
      "image/png": "[encoded data removed]",
      "text/plain": [
       "<Figure size 864x432 with 6 Axes>"
      ]
     },
     "metadata": {
      "needs_background": "light"
     },
     "output_type": "display_data"
    }
   ],
   "source": [
    "from matplotlib import pyplot as plt\n",
    "import seaborn as sns\n",
    "%matplotlib inline\n",
    "\n",
    "# iris_dfの散布図を描画する。\n",
    "\n",
    "pg = sns.pairplot(iris_df, hue='species')\n",
    "\n",
    "pg.fig.set_size_inches((12, 6))\n",
    "lg = pg.fig.legends[0]\n",
    "# lg.texts[0].set_text('setosa')\n",
    "lg.texts[0].set_text('virgicolor')\n",
    "lg.texts[1].set_text('virginica')\n",
    "\n",
    "pg\n",
    "\n",
    "# x = iris_df[['species']]\n",
    "# y = iris_data[[]]\n",
    "# fig, axes = plt.subplots(figsize = (12, 8))\n",
    "# plt.scatter(x, y)\n",
    "# axes.set_xticklabels(['setosa', 'virgiclor', 'virginica'])\n",
    "# plt.title('sepal_length')\n",
    "# plt.ylabel('length (cm)')\n",
    "# plt.show()"
   ]
  },
  {
   "cell_type": "code",
   "execution_count": 102,
   "metadata": {},
   "outputs": [],
   "source": [
    "import itertools\n",
    "\n",
    "# 2品種のsepal_lengthのリスト化\n",
    "# virgicolor\n",
    "iris_species_virgicolor = iris_raw_species[iris_raw_species['species'].isin([1])]\n",
    "iris_df_virgicolor = pd.concat([iris_data, iris_species_virgicolor], join='inner', axis=1)\n",
    "# virginica\n",
    "iris_species_virginica = iris_raw_species[iris_raw_species['species'].isin([2])]\n",
    "iris_df_virginica = pd.concat([iris_data, iris_species_virginica], join='inner', axis=1)\n",
    "\n",
    "sepal_length_virgicolor = iris_df_virgicolor[['sepal length (cm)']]\n",
    "sepal_length_virginica = iris_df_virginica[['sepal length (cm)']]\n",
    "\n",
    "petal_length_virgicolor = iris_df_virgicolor[['petal length (cm)']]\n",
    "petal_length_virginica = iris_df_virginica[['petal length (cm)']]\n",
    "\n",
    "sepal_length = [sepal_length_virgicolor, sepal_length_virginica]\n",
    "petal_length = [petal_length_virgicolor, petal_length_virginica]\n",
    "\n",
    "# sepal = list(itertools.chain.from_iterable(sepal_length))\n",
    "# sepal = sepal_length.flatten()\n",
    "\n",
    "# 上記方法だとグラフ化できなかったため、次のセルにてweek3の方法をcopy/pasteした。\n",
    "# グラフ化できなかった原因として、エラーは\"X must have 2 or fewer dimensions\"のため、\n",
    "# 平坦化を試みたが、うまくいかなかった。"
   ]
  },
  {
   "cell_type": "code",
   "execution_count": 4,
   "metadata": {},
   "outputs": [],
   "source": [
    "# 2品種のsepal_lengthのリスト化\n",
    "\n",
    "# virgicolor\n",
    "virgiclor_sepal_length = iris_df.iloc[0:50, 0]\n",
    "virgiclor_petal_length = iris_df.iloc[0:50, 1]\n",
    "\n",
    "# virginica\n",
    "virginica_sepal_length = iris_df.iloc[51:100, 0]\n",
    "virginica_petal_length = iris_df.iloc[51:100, 1]\n",
    "\n",
    "# 各ラベルごとの2要素を1Tupleに格納して、boxplot化する。\n",
    "virgiclor_data = (virgiclor_sepal_length, virgiclor_petal_length)\n",
    "virginica_data = (virginica_sepal_length, virginica_petal_length)\n",
    "\n",
    "# 2要素ごとでリスト化\n",
    "sepal_length = (virgiclor_data[0], virginica_data[0])\n",
    "petal_length = (virgiclor_data[1], virginica_data[1])"
   ]
  },
  {
   "cell_type": "code",
   "execution_count": 5,
   "metadata": {},
   "outputs": [
    {
     "data": {
      "image/png": "[encoded data removed]",
      "text/plain": [
       "<Figure size 864x576 with 1 Axes>"
      ]
     },
     "metadata": {
      "needs_background": "light"
     },
     "output_type": "display_data"
    },
    {
     "data": {
      "image/png": "[encoded data removed]",
      "text/plain": [
       "<Figure size 864x576 with 1 Axes>"
      ]
     },
     "metadata": {
      "needs_background": "light"
     },
     "output_type": "display_data"
    }
   ],
   "source": [
    "from matplotlib import pyplot as plt\n",
    "import seaborn as sns\n",
    "%matplotlib inline\n",
    "\n",
    "# iris_dfの箱ひげを描画する\n",
    "\n",
    "# sepal_lengthの箱ひげ化\n",
    "fig, axes = plt.subplots(figsize = (12, 8))\n",
    "plt.boxplot(sepal_length, patch_artist=True, boxprops=dict(facecolor='skyblue', color='black', linewidth=1))\n",
    "axes.set_xticklabels(['virgicolor', 'virginica'])\n",
    "\n",
    "plt.title('sepal_length')\n",
    "plt.ylabel('length (cm)')\n",
    "plt.show()\n",
    "\n",
    "\n",
    "# petal_lengthの箱ひげ化\n",
    "fig, axes = plt.subplots(figsize = (12, 8))\n",
    "plt.boxplot(petal_length, patch_artist=True, boxprops=dict(facecolor='green', color='black', linewidth=1))\n",
    "axes.set_xticklabels(['virgicolor', 'virginica'])\n",
    "\n",
    "plt.title('petal_length')\n",
    "plt.ylabel('length (cm)')\n",
    "plt.show()"
   ]
  },
  {
   "cell_type": "code",
   "execution_count": 5,
   "metadata": {},
   "outputs": [
    {
     "data": {
      "image/png": "[encoded data removed]",
      "text/plain": [
       "<Figure size 864x576 with 1 Axes>"
      ]
     },
     "metadata": {
      "needs_background": "light"
     },
     "output_type": "display_data"
    },
    {
     "data": {
      "image/png": "[encoded data removed]",
      "text/plain": [
       "<Figure size 864x576 with 1 Axes>"
      ]
     },
     "metadata": {
      "needs_background": "light"
     },
     "output_type": "display_data"
    }
   ],
   "source": [
    "# バイオリン図（violinplot）\n",
    "\n",
    "# Sepal_Length\n",
    "fig, axes = plt.subplots(figsize = (12, 8))\n",
    "\n",
    "axes.set_xticks([1, 2])\n",
    "axes.set_xticklabels(['virgicolor', 'virginica'])\n",
    "plt.title('sepal_length')\n",
    "plt.xlabel('features')\n",
    "plt.ylabel('length (cm)')\n",
    "\n",
    "plt.violinplot(sepal_length, showmedians=True)\n",
    "plt.show()\n",
    "\n",
    "# Petal_Length\n",
    "fig, axes = plt.subplots(figsize = (12, 8))\n",
    "\n",
    "axes.set_xticks([1, 2])\n",
    "axes.set_xticklabels(['virgicolor', 'virginica'])\n",
    "plt.title('petal_length')\n",
    "plt.xlabel('features')\n",
    "plt.ylabel('length (cm)')\n",
    "\n",
    "plt.violinplot(petal_length, showmedians=True)\n",
    "plt.show()"
   ]
  },
  {
   "cell_type": "markdown",
   "metadata": {},
   "source": [
    "## 【問題3】前処理・訓練データと検証データの分割\n",
    "\n",
    "前処理の一貫として、訓練データと検証データの分割を行います。今回は訓練データ75%、検証データ25%として分割してください。\n",
    "\n",
    "\n",
    "scikit-learnのtrain_test_splitが利用できます。公式ドキュメントのExamplesを参考に動かしてください。\n",
    "\n",
    "\n",
    "[sklearn.model_selection.train_test_split — scikit-learn 0.21.3 documentation](https://scikit-learn.org/stable/modules/generated/sklearn.model_selection.train_test_split.html)"
   ]
  },
  {
   "cell_type": "code",
   "execution_count": 63,
   "metadata": {},
   "outputs": [
    {
     "data": {
      "text/plain": [
       "((75, 2), (75, 1))"
      ]
     },
     "execution_count": 63,
     "metadata": {},
     "output_type": "execute_result"
    }
   ],
   "source": [
    "from sklearn.model_selection import train_test_split\n",
    "import numpy as np\n",
    "\n",
    "# ndarrayへの変換\n",
    "# 特徴量（説明変数）をX、正解（目的変数）をyというndarrayに格納する。\n",
    "\n",
    "# iris_dataから対象2品種のみに絞る。\n",
    "iris_data_selected = iris_data.loc[50:, ]\n",
    "\n",
    "X = np.array(iris_data_selected)\n",
    "y = np.array(iris_species)\n",
    "\n",
    "X_train, X_test, y_train, y_test = train_test_split(X, y, train_size=0.75, test_size=0.25, random_state=3)\n",
    "# X_train.shape, y_train.shape"
   ]
  },
  {
   "cell_type": "markdown",
   "metadata": {},
   "source": [
    "## 【問題4】前処理・標準化\n",
    "\n",
    "分類精度をあげるための加工（標準化）を行う。\n",
    "* 標準化は訓練用のデータでfitを行い\n",
    "* 訓練用、検証用双方のデータにtransformを行う。\n",
    "* 検証データを標準化してはならない。"
   ]
  },
  {
   "cell_type": "code",
   "execution_count": 72,
   "metadata": {},
   "outputs": [
    {
     "data": {
      "text/plain": [
       "array([[ 0.82901982,  1.19327495],\n",
       "       [ 2.15192378,  2.12917687],\n",
       "       [ 0.09407317, -0.21057793],\n",
       "       [-0.64087348,  0.25737303],\n",
       "       [ 0.09407317,  0.14038529],\n",
       "       [ 0.09407317,  0.25737303],\n",
       "       [-0.05291616,  0.60833625],\n",
       "       [-0.64087348, -1.02949211],\n",
       "       [ 0.53504116, -0.56154115],\n",
       "       [ 0.68203049, -0.56154115],\n",
       "       [-0.19990549,  0.02339755],\n",
       "       [-1.52280945, -1.14647986],\n",
       "       [-0.93485214,  0.02339755],\n",
       "       [ 0.38805183,  0.37436077],\n",
       "       [-1.22883079, -0.44455341],\n",
       "       [ 1.41697714,  1.31026269],\n",
       "       [ 0.2410625 ,  0.84231173],\n",
       "       [-0.19990549, -0.21057793],\n",
       "       [ 1.41697714,  1.42725043],\n",
       "       [-0.78786281, -0.79551663],\n",
       "       [ 0.09407317,  0.02339755],\n",
       "       [-0.34689482, -1.02949211],\n",
       "       [ 0.53504116, -0.32756567],\n",
       "       [ 0.38805183, -0.32756567],\n",
       "       [ 1.41697714,  1.07628721]])"
      ]
     },
     "execution_count": 72,
     "metadata": {},
     "output_type": "execute_result"
    }
   ],
   "source": [
    "from sklearn.preprocessing import StandardScaler\n",
    "\n",
    "#データを標準化\n",
    "scl = StandardScaler()\n",
    "\n",
    "#検証用データで標準化\n",
    "scl.fit(X_train) \n",
    "\n",
    "# 訓練用、検証用双方のデータにtransformを行う\n",
    "scl.transform(X_train)\n",
    "scl.transform(X_test)\n"
   ]
  },
  {
   "cell_type": "markdown",
   "metadata": {},
   "source": [
    "## 【問題5】学習と推定\n",
    "\n",
    "最近傍法（k-nearest neighbors, k-nn）で学習（fit）を行います。scikit-learnの公式ドキュメントのExamplesを参考に、k-nnの学習を行ってください。ここで入力するのは訓練データです。\n",
    "\n",
    "[sklearn.neighbors.KNeighborsClassifier — scikit-learn 0.21.3 documentation](https://scikit-learn.org/stable/modules/generated/sklearn.neighbors.KNeighborsClassifier.html#sklearn.neighbors.KNeighborsClassifier)\n",
    "\n",
    "学習が終わった後、検証データをpredictメソッドに入力し、推定を行ってください。\n",
    "\n",
    "## 最近傍法についての、自分なりの解釈\n",
    "\n",
    "[参照元](https://qiita.com/renesisu727/items/e5191a97d3f16a14ebd0)\n",
    "\n",
    "1. n次元数ベクトルの特殊空間があり、あるデータの特殊空間の位置はn個の説明変数で決定され、そのデータが属するクラスは目的変数により決定される。\n",
    "\n",
    "2. 分類において、ある目的変数が未知のデータが与えられた時、そのデータの目的変数を特殊空間上に近い他のデータの目的変数の多数決で決定するのが、k-近傍法。\n",
    "\n",
    "3. 多数決を行うとき、どれくらいの距離を近傍とするのかで分類が異なる。\n"
   ]
  },
  {
   "cell_type": "code",
   "execution_count": 73,
   "metadata": {},
   "outputs": [
    {
     "data": {
      "text/plain": [
       "KNeighborsClassifier(n_neighbors=3)"
      ]
     },
     "execution_count": 73,
     "metadata": {},
     "output_type": "execute_result"
    }
   ],
   "source": [
    "from sklearn.neighbors import KNeighborsClassifier\n",
    "from sklearn import metrics\n",
    "\n",
    "# 3種類のパラメータ設定を施した最近傍法をインスタンス化\n",
    "iris_knn_5 = KNeighborsClassifier(n_neighbors=5)\n",
    "iris_knn_1 = KNeighborsClassifier(n_neighbors=1)\n",
    "iris_knn_3 = KNeighborsClassifier(n_neighbors=3)\n",
    "\n",
    "# 訓練・検証用の両目的変数を1次元化\n",
    "y_train = np.reshape(y_train,(-1))\n",
    "y_test = np.reshape(y_test,(-1))\n",
    "\n",
    "# ---------------------------------------------------- #\n",
    "# 標準化された訓練データと訓練用の目的変数を用いてiris_knnを学習させる。\n",
    "\n",
    "# n_neighbors = default (5)の場合\n",
    "iris_knn_5.fit(X_train, y_train)\n",
    "\n",
    "# n_neighbors = 1-nn\n",
    "iris_knn_1.fit(X_train, y_train)\n",
    "\n",
    "# n_neighbors = 3-nn\n",
    "iris_knn_3.fit(X_train, y_train)"
   ]
  },
  {
   "cell_type": "code",
   "execution_count": 69,
   "metadata": {},
   "outputs": [
    {
     "name": "stdout",
     "output_type": "stream",
     "text": [
      "n_neighbors = default (5)の場合の推定値は\n",
      "[2 2 1 2 2 2 2 1 1 1 2 1 2 2 1 2 2 1 2 1 2 1 1 1 2]\n",
      "予測精度計測結果は1.0\n",
      "n_neighbors = 1-nnの場合の場合の推定値は\n",
      "[2 2 2 2 1 1 2 1 1 1 2 1 2 2 1 2 2 1 2 1 1 1 1 1 2]\n",
      "予測精度計測結果は0.84\n",
      "n_neighbors = 3-nnの場合の場合の推定値は\n",
      "[2 2 1 2 2 2 2 1 1 1 2 1 2 2 1 2 2 1 2 1 2 1 1 1 2]\n",
      "予測精度計測結果は1.0\n"
     ]
    }
   ],
   "source": [
    "# 説明変数の検証データ(X_test)をpredictメソッドに入力し、目的変数を予測し、一致率を算出する。\n",
    "\n",
    "# n_neighbors = default (5)の場合\n",
    "print(\"n_neighbors = default (5)の場合の推定値は\\n{}\".format(iris_knn_5.predict(X_test)))\n",
    "y_pred_5 = iris_knn_5.predict(X_test)\n",
    "print(\"予測精度計測結果は{}\".format(metrics.accuracy_score(y_test, y_pred_5)))\n",
    "\n",
    "# n_neighbors = 1-nn\n",
    "print(\"n_neighbors = 1-nnの場合の場合の推定値は\\n{}\".format(iris_knn_1.predict(X_test)))\n",
    "y_pred_1 = iris_knn_1.predict(X_test)\n",
    "print(\"予測精度計測結果は{}\".format(metrics.accuracy_score(y_test, y_pred_1)))\n",
    "\n",
    "# n_neighbors = 3-nn\n",
    "print(\"n_neighbors = 3-nnの場合の場合の推定値は\\n{}\".format(iris_knn_3.predict(X_test)))\n",
    "y_pred_3 = iris_knn_3.predict(X_test)\n",
    "print(\"予測精度計測結果は{}\".format(metrics.accuracy_score(y_test, y_pred_3)))"
   ]
  },
  {
   "cell_type": "markdown",
   "metadata": {},
   "source": [
    "## 【問題6】評価\n",
    "\n",
    "検証データの特徴量を入力して得られた推定値と、検証データの正解値の近さを計算し、学習したモデルを評価します。\n",
    "\n",
    "2値分類を評価するための指標値には Accuracy（正解率）、Precision（適合率）、Recall（再現率）、F値 があります。それぞれの意味を理解するには、 混同行列（confusion matrix） を見ることになります。\n",
    "\n",
    "* scikit-learnを使い4種類の指標を計算する\n",
    "* 混同行列をscikit-learnを使い表示する\n",
    "* 4種類の指標値の意味について簡単に調査して文章でまとめる"
   ]
  },
  {
   "cell_type": "code",
   "execution_count": 71,
   "metadata": {},
   "outputs": [
    {
     "name": "stdout",
     "output_type": "stream",
     "text": [
      "5-nnの正解率は100.00%\n",
      "5-nnの適合率は100.00%\n",
      "5-nnの再現率は100.00%\n",
      "5-nnのF1値は100.00%\n",
      "5-nnの混同行列は\n",
      "[[11  0]\n",
      " [ 0 14]]\n",
      "\n",
      "1-nnの正解率は100.00\n",
      "1-nnの適合率は100.00\n",
      "1-nnの再現率は100.00\n",
      "1-nnのF1値は100.00\n",
      "1-nnの混同行列は\n",
      "[[11  0]\n",
      " [ 0 14]]\n",
      "\n",
      "3-nnの正解率は100.00\n",
      "3-nnの適合率は100.00\n",
      "3-nnの再現率は100.00\n",
      "3-nnのF1値は100.00\n",
      "3-nnの混同行列は\n",
      "[[11  0]\n",
      " [ 0 14]]\n"
     ]
    }
   ],
   "source": [
    "from sklearn.neighbors import KNeighborsClassifier\n",
    "from sklearn import metrics\n",
    "from sklearn.metrics import confusion_matrix, accuracy_score, precision_score, recall_score, f1_score\n",
    "\n",
    "\n",
    "# n_neighbors = default (5)の場合\n",
    "y_pred_5 = iris_knn_5.predict(X_test)\n",
    "knn_5_accuracy = accuracy_score(y_test, y_pred_5) * 100\n",
    "print(\"5-nnの正解率は{:.2f}%\".format(knn_5_accuracy))\n",
    "\n",
    "knn_5_precision = precision_score(y_test, y_pred_5) * 100\n",
    "print(\"5-nnの適合率は{:.2f}%\".format(knn_5_precision))\n",
    "\n",
    "knn_5_recall = recall_score(y_test, y_pred_5) * 100\n",
    "print(\"5-nnの再現率は{:.2f}%\".format(knn_5_recall))\n",
    "\n",
    "knn_5_f1 = f1_score(y_test, y_pred_5) * 100\n",
    "print(\"5-nnのF1値は{:.2f}%\".format(knn_5_f1))\n",
    "\n",
    "knn_5_confusion = confusion_matrix(y_test, y_pred)\n",
    "print(\"5-nnの混同行列は\\n{}\".format(knn_5_confusion))\n",
    "\n",
    "# n_neighbors = 1-nn\n",
    "y_pred_1 = iris_knn_1.predict(X_test)\n",
    "knn_1_accuracy = accuracy_score(y_test, y_pred) * 100\n",
    "print(\"\\n1-nnの正解率は{:.2f}\".format(knn_1_accuracy))\n",
    "\n",
    "knn_1_precision = precision_score(y_test, y_pred) * 100\n",
    "print(\"1-nnの適合率は{:.2f}\".format(knn_1_precision))\n",
    "\n",
    "knn_1_recall = recall_score(y_test, y_pred) * 100\n",
    "print(\"1-nnの再現率は{:.2f}\".format(knn_1_recall))\n",
    "\n",
    "knn_1_f1 = f1_score(y_test, y_pred) * 100\n",
    "print(\"1-nnのF1値は{:.2f}\".format(knn_1_f1))\n",
    "\n",
    "knn_1_confusion = confusion_matrix(y_test, y_pred)\n",
    "print(\"1-nnの混同行列は\\n{}\".format(knn_1_confusion))\n",
    "\n",
    "\n",
    "# n_neighbors = 3-nn\n",
    "y_pred = iris_knn_3.predict(X_test)\n",
    "knn_3_accuracy = accuracy_score(y_test, y_pred) * 100\n",
    "print(\"\\n3-nnの正解率は{:.2f}\".format(knn_3_accuracy))\n",
    "\n",
    "knn_3_precision = precision_score(y_test, y_pred) * 100\n",
    "print(\"3-nnの適合率は{:.2f}\".format(knn_3_precision))\n",
    "\n",
    "knn_3_recall = recall_score(y_test, y_pred) * 100\n",
    "print(\"3-nnの再現率は{:.2f}\".format(knn_3_recall))\n",
    "\n",
    "knn_3_f1 = f1_score(y_test, y_pred) * 100\n",
    "print(\"3-nnのF1値は{:.2f}\".format(knn_3_f1))\n",
    "\n",
    "knn_3_confusion = confusion_matrix(y_test, y_pred)\n",
    "print(\"3-nnの混同行列は\\n{}\".format(knn_3_confusion))\n"
   ]
  },
  {
   "cell_type": "markdown",
   "metadata": {},
   "source": [
    "## 4種類の指標値の意味について\n",
    "\n",
    "まずは混同行列の各予測結果は以下の通り。\n",
    "1. 真陽性（True-Positive）：予測が陽性、結果も陽性\n",
    "2. 真陰性（True-Negative）：予測が陽性、結果が陰性\n",
    "3. 偽陽性（False-Positive）：予測が陰性、結果が陽性\n",
    "4. 偽陰性（False-Negative）：予測が陰性、結果も陰性\n",
    "\n",
    "\n",
    "* 正解率（accuracy）\n",
    "    * 全ての予測結果のうち真の値と一致した割合。\n",
    "    * つまり、正解した予測の数値と全体との割合。\n",
    "    * 正事例（陽性）と負事例（陰性）が不均衡な場合には正解率単独での指標は不適正。\n",
    "\n",
    "$\\begin{align}\n",
    "Accuracy = \\frac{TP + TN}{TP + TN + FP + FN}\n",
    "\\end{align}$\n",
    "\n",
    "* 適合率または精度（precision, PPV）\n",
    "    * 正事例（陽性）と予測された結果のうち、予測が正解した割合。\n",
    "    \n",
    "$\\begin{align}\n",
    "Precision = \\frac{TP}{TP + FP}\n",
    "\\end{align}$\n",
    "    \n",
    "* 再現率（recall, sensitivity, hit rate, TPR）\n",
    "    * 正事例（陽性）に分類すべき実際の結果から、予測が正解した割合。\n",
    "    \n",
    "$\\begin{align}\n",
    "Recall = \\frac{TP}{TP + FN}\n",
    "\\end{align}$\n",
    "    \n",
    "* F値（F-measure, F-score, F1-score ）\n",
    "    * 適合率と再現率の調和平均。\n",
    "    * 以下をaとbの調和平均と呼ぶ。\n",
    "\n",
    "$\\begin{align}\n",
    "\\frac{2}{\\frac{1}{a}+\\frac{1}{b}}\n",
    "\\end{align}$\n",
    "\n",
    "    * そのため、F1の式は以下の通り。\n",
    "    \n",
    "$\\begin{align}\n",
    "F1 = \\frac{2 * (precision * recall)}{precision + recall}\n",
    "\\end{align}$\n"
   ]
  },
  {
   "cell_type": "markdown",
   "metadata": {},
   "source": [
    "## 【問題7】可視化\n"
   ]
  },
  {
   "cell_type": "code",
   "execution_count": 74,
   "metadata": {},
   "outputs": [],
   "source": [
    "import matplotlib.pyplot as plt\n",
    "from matplotlib.colors import ListedColormap\n",
    "import matplotlib.patches as mpatches\n",
    "def decision_region(X, y, model, step=0.01, title='decision region', xlabel='xlabel', ylabel='ylabel', target_names=['virgicolor', 'virginica']):\n",
    "    \"\"\"\n",
    "    2値分類を2次元の特徴量で学習したモデルの決定領域を描く。\n",
    "    背景の色が学習したモデルによる推定値から描画される。\n",
    "    散布図の点は訓練データまたは検証データである。\n",
    "\n",
    "    Parameters\n",
    "    ----------------\n",
    "    X : ndarray, shape(n_samples, 2)\n",
    "        特徴量\n",
    "    y : ndarray, shape(n_samples,)\n",
    "        ラベル\n",
    "    model : object\n",
    "        学習したモデルのインスンタスを入れる\n",
    "    step : float, (default : 0.1)\n",
    "        推定値を計算する間隔を設定する\n",
    "    title : str\n",
    "        グラフのタイトルの文章を与える\n",
    "    xlabel, ylabel : str\n",
    "        軸ラベルの文章を与える\n",
    "    target_names= : list of str\n",
    "        凡例の一覧を与える\n",
    "    \"\"\"\n",
    "    # setting\n",
    "    scatter_color = ['red', 'blue']\n",
    "    contourf_color = ['pink', 'skyblue']\n",
    "    n_class = 2\n",
    "    # pred\n",
    "    mesh_f0, mesh_f1  = np.meshgrid(np.arange(np.min(X[:,0])-0.5, np.max(X[:,0])+0.5, step), np.arange(np.min(X[:,1])-0.5, np.max(X[:,1])+0.5, step))\n",
    "    mesh = np.c_[np.ravel(mesh_f0),np.ravel(mesh_f1)]\n",
    "    y_pred = model.predict(mesh).reshape(mesh_f0.shape)\n",
    "    # plot\n",
    "    plt.title(title)\n",
    "    plt.xlabel(xlabel)\n",
    "    plt.ylabel(ylabel)\n",
    "    plt.contourf(mesh_f0, mesh_f1, y_pred, n_class-1, cmap=ListedColormap(contourf_color))\n",
    "    plt.contour(mesh_f0, mesh_f1, y_pred, n_class-1, colors='y', linewidths=3, alpha=0.5)\n",
    "    for i, target in enumerate(set(y)):\n",
    "        plt.scatter(X[y==target][:, 0], X[y==target][:, 1], s=80, color=scatter_color[i], label=target_names[i], marker='o')\n",
    "    patches = [mpatches.Patch(color=scatter_color[i], label=target_names[i]) for i in range(n_class)]\n",
    "    plt.legend(handles=patches)\n",
    "    plt.legend()\n",
    "    plt.show()"
   ]
  },
  {
   "cell_type": "markdown",
   "metadata": {},
   "source": [
    "### 訓練データをプロット（3-nn）"
   ]
  },
  {
   "cell_type": "code",
   "execution_count": 76,
   "metadata": {},
   "outputs": [
    {
     "data": {
      "image/png": "[encoded data removed]",
      "text/plain": [
       "<Figure size 432x288 with 1 Axes>"
      ]
     },
     "metadata": {
      "needs_background": "light"
     },
     "output_type": "display_data"
    }
   ],
   "source": [
    "decision_region(X_train, y_train, iris_knn_3, title='decesion region of 3-nn',  xlabel='sepal_length', ylabel='petal_length')"
   ]
  },
  {
   "cell_type": "markdown",
   "metadata": {},
   "source": [
    "### 検証データをプロット（3-nn）"
   ]
  },
  {
   "cell_type": "code",
   "execution_count": 77,
   "metadata": {},
   "outputs": [
    {
     "data": {
      "image/png": "[encoded data removed]",
      "text/plain": [
       "<Figure size 432x288 with 1 Axes>"
      ]
     },
     "metadata": {
      "needs_background": "light"
     },
     "output_type": "display_data"
    }
   ],
   "source": [
    "decision_region(X_test, y_test, iris_knn_3, title='decesion region of 3-nn (test)', xlabel='sepal_length', ylabel='petal_length')"
   ]
  },
  {
   "cell_type": "markdown",
   "metadata": {},
   "source": [
    "## 【問題8】他の手法の学習\n",
    "\n",
    "1. 以下の全ての手法について学習・推定・評価・可視化を行ってください。\n",
    "  \n",
    "    * 最近傍法\n",
    "    * ロジスティック回帰\n",
    "    * SVM\n",
    "    * 決定木\n",
    "    * ランダムフォレスト\n",
    "    \n",
    "2. <u>指標値</u>を１つの表にまとめてください。\n",
    "3. その表と決定領域を利用して結果を簡単に考察してください。どの手法がどの指標値で良かったかや、どういった決定領域になっていたかを述べてください。"
   ]
  },
  {
   "cell_type": "markdown",
   "metadata": {},
   "source": [
    "### 【指標値】\n",
    "\n",
    "* 連続する数値の相対的な変化量を把握するために、ある時点の基準を100としたときの現在の値。\n",
    "* 単に指標ともいう。"
   ]
  },
  {
   "cell_type": "markdown",
   "metadata": {},
   "source": [
    "## 最近傍法"
   ]
  },
  {
   "cell_type": "markdown",
   "metadata": {},
   "source": [
    "### 1. 学習 - 最近傍法で学習を行う。"
   ]
  },
  {
   "cell_type": "code",
   "execution_count": 232,
   "metadata": {},
   "outputs": [
    {
     "data": {
      "text/plain": [
       "'%.3f'"
      ]
     },
     "execution_count": 232,
     "metadata": {},
     "output_type": "execute_result"
    }
   ],
   "source": [
    "from sklearn.neighbors import KNeighborsClassifier\n",
    "from sklearn import metrics\n",
    "import numpy as np\n",
    "\n",
    "X = np.array(iris_data_selected)\n",
    "y = np.array(iris_species)\n",
    "\n",
    "X_train, X_test, y_train, y_test = train_test_split(X, y, train_size=0.75, test_size=0.25, random_state=0)\n",
    "\n",
    "iris_knn_5 = KNeighborsClassifier(n_neighbors=5)\n",
    "iris_knn_1 = KNeighborsClassifier(n_neighbors=1)\n",
    "iris_knn_3 = KNeighborsClassifier(n_neighbors=3)\n",
    "y_train = np.reshape(y_train,(-1))\n",
    "y_test = np.reshape(y_test,(-1))\n",
    "\n",
    "# データを標準化\n",
    "scl = StandardScaler()\n",
    "scl.fit(X_train)\n",
    "x_train = scl.transform(X_train)\n",
    "x_test = scl.transform(X_test)\n",
    "\n",
    "# n_neighbors = default (5)の場合\n",
    "iris_knn_5.fit(X_train, y_train)\n",
    "\n",
    "# n_neighbors = 1-nn\n",
    "iris_knn_1.fit(X_train, y_train)\n",
    "\n",
    "# n_neighbors = 3-nn\n",
    "iris_knn_3.fit(X_train, y_train)\n",
    "\n",
    "%precision 3"
   ]
  },
  {
   "cell_type": "markdown",
   "metadata": {},
   "source": [
    "### 2. 推定 - 検証データをpredictメソッドに入力し、推定を行う。"
   ]
  },
  {
   "cell_type": "code",
   "execution_count": 233,
   "metadata": {},
   "outputs": [
    {
     "name": "stdout",
     "output_type": "stream",
     "text": [
      "n_neighbors = default (5)の場合、\n",
      "[1 2 1 2 2 2 1 2 2 2 2 2 2 1 1 1 2 1 2 1 1 2 1 2 1]\n",
      "n_neighbors = 1-nnの場合、\n",
      "[1 2 2 2 2 2 1 2 2 1 2 2 2 1 1 1 2 1 2 1 1 2 1 2 1]\n",
      "n_neighbors = 3-nnの場合、\n",
      "[1 2 1 2 2 2 1 2 2 2 2 2 2 1 1 1 2 1 2 1 1 2 1 2 1]\n"
     ]
    }
   ],
   "source": [
    "# 検証データ（X_test）をpredictメソッドに入力し、目的変数（y_pred）を予測し、一致率を算出する。\n",
    "# n_neighbors = default (5)の場合\n",
    "print(\"n_neighbors = default (5)の場合、\\n{}\".format(iris_knn_5.predict(X_test)))\n",
    "\n",
    "# n_neighbors = 1-nn\n",
    "print(\"n_neighbors = 1-nnの場合、\\n{}\".format(iris_knn_1.predict(X_test)))\n",
    "\n",
    "# n_neighbors = 3-nn\n",
    "print(\"n_neighbors = 3-nnの場合、\\n{}\".format(iris_knn_3.predict(X_test)))\n"
   ]
  },
  {
   "cell_type": "markdown",
   "metadata": {},
   "source": [
    "### 3. 評価 - 推定値と検証データの正解値の近さを算出。"
   ]
  },
  {
   "cell_type": "code",
   "execution_count": 234,
   "metadata": {},
   "outputs": [
    {
     "name": "stdout",
     "output_type": "stream",
     "text": [
      "Accuracy（正解率）: 92.0%\n",
      "Precision（適合率）: 100.0%\n",
      "Recall（再現率）: 84.6%\n",
      "F1値 : 91.7%\n",
      "5-nnの混同行列は\n",
      "[[11  2]\n",
      " [ 0 12]]\n"
     ]
    }
   ],
   "source": [
    "# 5-nn\n",
    "y_pred = iris_knn_5.predict(X_test)\n",
    "knn_5_accuracy = accuracy_score(y_test, y_pred) * 100\n",
    "print(\"Accuracy（正解率）: {:.1f}%\".format(knn_5_accuracy))\n",
    "\n",
    "knn_5_precision = precision_score(y_test, y_pred) * 100\n",
    "print(\"Precision（適合率）: {:.1f}%\".format(knn_5_precision))\n",
    "\n",
    "knn_5_recall = recall_score(y_test, y_pred) * 100\n",
    "print(\"Recall（再現率）: {:.1f}%\".format(knn_5_recall))\n",
    "\n",
    "knn_5_f1 = f1_score(y_test, y_pred) * 100\n",
    "print(\"F1値 : {:.1f}%\".format(knn_5_f1))\n",
    "\n",
    "knn_5_confusion = confusion_matrix(y_test, y_pred)\n",
    "print(\"5-nnの混同行列は\\n{}\".format(knn_5_confusion))"
   ]
  },
  {
   "cell_type": "markdown",
   "metadata": {},
   "source": [
    "### 4. 可視化 - 決定領域を描く関数を流用。"
   ]
  },
  {
   "cell_type": "code",
   "execution_count": 235,
   "metadata": {
    "scrolled": true
   },
   "outputs": [
    {
     "data": {
      "image/png": "[encoded data removed]",
      "text/plain": [
       "<Figure size 432x288 with 1 Axes>"
      ]
     },
     "metadata": {
      "needs_background": "light"
     },
     "output_type": "display_data"
    }
   ],
   "source": [
    "decision_region(X_test, y_test, iris_knn_5, title='decesion region of 5-nn (test)', xlabel='sepal_length', ylabel='petal_length')"
   ]
  },
  {
   "cell_type": "markdown",
   "metadata": {},
   "source": [
    "## ロジスティック回帰\n",
    "\n",
    "### ロジスティック回帰とは、\n",
    "   * 教師あり学習に属するモデル。\n",
    "   * クラス分類や確率の予測などに使われる分析手法。\n",
    "   * 目的変数が2値の時に利用。\n",
    "   * ロジスティック関数（シグモイド関数）を使って作成。\n",
    "   * 前処理（カテゴリー変数のダミー化、多重共線性の削除）を行う。\n",
    "   * 目的変数の１次元配列化も必要"
   ]
  },
  {
   "cell_type": "markdown",
   "metadata": {},
   "source": [
    "### 1. 前処理 - データセットを検証用と訓練用に分ける、標準化処理"
   ]
  },
  {
   "cell_type": "code",
   "execution_count": 236,
   "metadata": {},
   "outputs": [],
   "source": [
    "# ライブラリーのインポート。\n",
    "from sklearn.model_selection import train_test_split\n",
    "from sklearn.preprocessing import StandardScaler\n",
    "\n",
    "X = np.array(iris_data_selected)\n",
    "y = np.array(iris_species)\n",
    "\n",
    "X_train, X_test, y_train, y_test = train_test_split(X, y, train_size=0.75, test_size=0.25, random_state=0)\n",
    "\n",
    "# yの一次元化\n",
    "y_train = np.reshape(y_train,(-1))\n",
    "y_test = np.reshape(y_test,(-1))\n",
    "\n",
    "# データを標準化\n",
    "scl = StandardScaler()\n",
    "scl.fit(X_train)\n",
    "x_train = scl.transform(X_train)\n",
    "x_test = scl.transform(X_test)\n"
   ]
  },
  {
   "cell_type": "markdown",
   "metadata": {},
   "source": [
    "### 2. 学習 - LogisticRegressionを行う。"
   ]
  },
  {
   "cell_type": "code",
   "execution_count": 237,
   "metadata": {},
   "outputs": [
    {
     "data": {
      "text/plain": [
       "LogisticRegression(C=100000.0)"
      ]
     },
     "execution_count": 237,
     "metadata": {},
     "output_type": "execute_result"
    }
   ],
   "source": [
    "from sklearn.linear_model import LogisticRegression\n",
    "\n",
    "clf = LogisticRegression(C=1e5) #インスタンス化\n",
    "clf.fit(x_train, y_train) # clfを学習"
   ]
  },
  {
   "cell_type": "markdown",
   "metadata": {},
   "source": [
    "### 3. 推定 - predictを行う"
   ]
  },
  {
   "cell_type": "code",
   "execution_count": 238,
   "metadata": {},
   "outputs": [],
   "source": [
    "lr_pred = clf.predict(x_test)"
   ]
  },
  {
   "cell_type": "markdown",
   "metadata": {},
   "source": [
    "### 4. 評価 - Accuracy, Precision, Recall, F値, 混同行列を行う。"
   ]
  },
  {
   "cell_type": "code",
   "execution_count": 239,
   "metadata": {},
   "outputs": [
    {
     "name": "stdout",
     "output_type": "stream",
     "text": [
      "Accuracy（正解率）: 92.0%\n",
      "Precision（適合率）: 100.0%\n",
      "Recall（再現率）: 84.6%\n",
      "F1値 : 91.7%\n",
      "Confusion Matrix（混同行列） : \n",
      "[[11  2]\n",
      " [ 0 12]]\n"
     ]
    }
   ],
   "source": [
    "lr_accuracy = accuracy_score(y_test, lr_pred) * 100\n",
    "print(\"Accuracy（正解率）: {:.1f}%\".format(lr_accuracy))\n",
    "\n",
    "lr_precision = precision_score(y_test, lr_pred) * 100\n",
    "print(\"Precision（適合率）: {:.1f}%\".format(lr_precision))\n",
    "\n",
    "lr_recall = recall_score(y_test, lr_pred) * 100\n",
    "print(\"Recall（再現率）: {:.1f}%\".format(lr_recall))\n",
    "\n",
    "lr_f1 = f1_score(y_test, lr_pred) * 100\n",
    "print(\"F1値 : {:.1f}%\".format(lr_f1))\n",
    "\n",
    "lr_confusion = confusion_matrix(y_test, lr_pred)\n",
    "print(\"Confusion Matrix（混同行列） : \\n{}\".format(lr_confusion))\n",
    "\n",
    "# print(lr_pred)\n",
    "# print(y_test)"
   ]
  },
  {
   "cell_type": "markdown",
   "metadata": {},
   "source": [
    "### 5. 可視化 - 決定領域を描く関数を流用。"
   ]
  },
  {
   "cell_type": "code",
   "execution_count": 240,
   "metadata": {},
   "outputs": [
    {
     "name": "stderr",
     "output_type": "stream",
     "text": [
      "C:\\Users\\Nacho\\Anaconda3\\envs\\jupyter_DIC\\lib\\site-packages\\ipykernel_launcher.py:40: UserWarning: No contour levels were found within the data range.\n"
     ]
    },
    {
     "data": {
      "image/png": "[encoded data removed]",
      "text/plain": [
       "<Figure size 432x288 with 1 Axes>"
      ]
     },
     "metadata": {
      "needs_background": "light"
     },
     "output_type": "display_data"
    }
   ],
   "source": [
    "decision_region(X_test, y_test, clf, title='decesion region (lr)', xlabel='sepal_length', ylabel='petal_length')"
   ]
  },
  {
   "cell_type": "markdown",
   "metadata": {},
   "source": [
    "## SVM（サポートベクターマシン）\n",
    "\n",
    "### SVMとは\n",
    "* 分類または回帰分析を行うことができる。\n",
    "* 境界線から最も近いデータまでの距離を最大にするよう、パターン識別を行うモデル。\n"
   ]
  },
  {
   "cell_type": "markdown",
   "metadata": {},
   "source": [
    "### 1. 前処理 - データセットを検証用と訓練用に分ける、標準化処理"
   ]
  },
  {
   "cell_type": "code",
   "execution_count": 241,
   "metadata": {},
   "outputs": [],
   "source": [
    "# ライブラリーのインポート。\n",
    "from sklearn.model_selection import train_test_split\n",
    "from sklearn.preprocessing import StandardScaler\n",
    "\n",
    "X = np.array(iris_data_selected)\n",
    "y = np.array(iris_species)\n",
    "\n",
    "X_train, X_test, y_train, y_test = train_test_split(X, y, train_size=0.75, test_size=0.25, random_state=0)\n",
    "\n",
    "# yの一次元化\n",
    "y_train = np.reshape(y_train,(-1))\n",
    "y_test = np.reshape(y_test,(-1))\n",
    "\n",
    "# データを標準化\n",
    "scl = StandardScaler()\n",
    "scl.fit(X_train)\n",
    "x_train = scl.transform(X_train)\n",
    "x_test = scl.transform(X_test)"
   ]
  },
  {
   "cell_type": "markdown",
   "metadata": {},
   "source": [
    "### 2. 学習 - インポートしたSVCをインスタンス化し、fit()関数で学習させる。"
   ]
  },
  {
   "cell_type": "code",
   "execution_count": 242,
   "metadata": {},
   "outputs": [
    {
     "data": {
      "text/plain": [
       "SVC()"
      ]
     },
     "execution_count": 242,
     "metadata": {},
     "output_type": "execute_result"
    }
   ],
   "source": [
    "from sklearn.svm import SVC\n",
    "svc_model = SVC(gamma='scale')\n",
    "svc_model.fit(X_train, y_train)"
   ]
  },
  {
   "cell_type": "markdown",
   "metadata": {},
   "source": [
    "### 3. 推定 - 学習済のモデルとpredict()関数を用い、予測を行う。"
   ]
  },
  {
   "cell_type": "code",
   "execution_count": 243,
   "metadata": {},
   "outputs": [
    {
     "name": "stdout",
     "output_type": "stream",
     "text": [
      "[1 2 1 2 2 2 1 2 2 2]\n",
      "[1 2 1 2 2 2 1 2 2 2]\n"
     ]
    }
   ],
   "source": [
    "y_pred = svc_model.predict(X_test)\n",
    "\n",
    "print(y_test[:10])\n",
    "print(y_pred[:10])"
   ]
  },
  {
   "cell_type": "markdown",
   "metadata": {},
   "source": [
    "### 4. 評価 - Accuracy, Precision, Recall, F値, 混同行列を行う。"
   ]
  },
  {
   "cell_type": "code",
   "execution_count": 244,
   "metadata": {},
   "outputs": [
    {
     "name": "stdout",
     "output_type": "stream",
     "text": [
      "Accuracy（正解率）: 92.0%\n",
      "Precision（適合率）: 100.0%\n",
      "Recall（再現率）: 84.6%\n",
      "F1値 : 91.7%\n",
      "Confusion Matrix（混同行列） : \n",
      "[[11  2]\n",
      " [ 0 12]]\n"
     ]
    }
   ],
   "source": [
    "svc_accuracy = accuracy_score(y_test, y_pred) * 100\n",
    "print(\"Accuracy（正解率）: {:.1f}%\".format(svc_accuracy))\n",
    "\n",
    "svc_precision = precision_score(y_test, y_pred) * 100\n",
    "print(\"Precision（適合率）: {:.1f}%\".format(svc_precision))\n",
    "\n",
    "svc_recall = recall_score(y_test, y_pred) * 100\n",
    "print(\"Recall（再現率）: {:.1f}%\".format(svc_recall))\n",
    "\n",
    "svc_f1 = f1_score(y_test, y_pred) * 100\n",
    "print(\"F1値 : {:.1f}%\".format(svc_f1))\n",
    "\n",
    "svc_confusion = confusion_matrix(y_test, y_pred)\n",
    "print(\"Confusion Matrix（混同行列） : \\n{}\".format(svc_confusion))\n",
    "\n",
    "# print(y_test)\n",
    "# print(y_pred)"
   ]
  },
  {
   "cell_type": "markdown",
   "metadata": {},
   "source": [
    "### 5. 可視化 - 決定領域を描く関数を流用。"
   ]
  },
  {
   "cell_type": "code",
   "execution_count": 245,
   "metadata": {},
   "outputs": [
    {
     "data": {
      "image/png": "[encoded data removed]",
      "text/plain": [
       "<Figure size 432x288 with 1 Axes>"
      ]
     },
     "metadata": {
      "needs_background": "light"
     },
     "output_type": "display_data"
    }
   ],
   "source": [
    "decision_region(X_test, y_test, svc_model, title='decesion region (SVC)', xlabel='sepal_length', ylabel='petal_length')"
   ]
  },
  {
   "cell_type": "markdown",
   "metadata": {},
   "source": [
    "## 決定木\n",
    "\n",
    "### 決定木とは\n",
    "* 分類または回帰分析を行うことができる。\n",
    "* 木構造を用いて分類や回帰を行う機械学習の手法の一つ。\n",
    "* 名前の通り分類木は対象を分類する問題を解き，回帰木は対象の数値を推定する問題を解く。\n",
    "* 分類性能ではSVMがより有効\n",
    "* 過学習を起こしやすいため、パラメータの調整や枝の刈込が必要"
   ]
  },
  {
   "cell_type": "markdown",
   "metadata": {},
   "source": [
    "### 1. 前処理 - データセットを検証用と訓練用に分ける、標準化処理"
   ]
  },
  {
   "cell_type": "code",
   "execution_count": 246,
   "metadata": {},
   "outputs": [],
   "source": [
    "# ライブラリーのインポート。\n",
    "from sklearn.model_selection import train_test_split\n",
    "from sklearn.preprocessing import StandardScaler\n",
    "\n",
    "X = np.array(iris_data_selected)\n",
    "y = np.array(iris_species)\n",
    "\n",
    "X_train, X_test, y_train, y_test = train_test_split(X, y, train_size=0.75, test_size=0.25, random_state=0)\n",
    "\n",
    "# yの一次元化\n",
    "y_train = np.reshape(y_train,(-1))\n",
    "y_test = np.reshape(y_test,(-1))\n",
    "\n",
    "# データを標準化\n",
    "scl = StandardScaler()\n",
    "scl.fit(X_train)\n",
    "x_train = scl.transform(X_train)\n",
    "x_test = scl.transform(X_test)"
   ]
  },
  {
   "cell_type": "markdown",
   "metadata": {},
   "source": [
    "### 2. 学習 - インポートしたtreeをインスタンス化し、fit()関数で学習させる。"
   ]
  },
  {
   "cell_type": "code",
   "execution_count": 247,
   "metadata": {},
   "outputs": [],
   "source": [
    "from sklearn import tree\n",
    "\n",
    "iris = load_iris()\n",
    " \n",
    "clf = tree.DecisionTreeClassifier(max_depth = 3)\n",
    "clf = clf.fit(X_train, y_train)"
   ]
  },
  {
   "cell_type": "markdown",
   "metadata": {},
   "source": [
    "### 3. 推定 - 学習済のモデルとpredict()関数を用い、予測を行う。"
   ]
  },
  {
   "cell_type": "code",
   "execution_count": 248,
   "metadata": {},
   "outputs": [],
   "source": [
    "y_pred = clf.predict(X_test)"
   ]
  },
  {
   "cell_type": "markdown",
   "metadata": {},
   "source": [
    "### 4. 評価 - Accuracy, Precision, Recall, F値, 混同行列を行う。"
   ]
  },
  {
   "cell_type": "code",
   "execution_count": 249,
   "metadata": {},
   "outputs": [
    {
     "name": "stdout",
     "output_type": "stream",
     "text": [
      "Accuracy（正解率）: 88.0%\n",
      "Precision（適合率）: 100.0%\n",
      "Recall（再現率）: 76.9%\n",
      "F1値 : 87.0%\n",
      "Confusion Matrix（混同行列） : \n",
      "[[10  3]\n",
      " [ 0 12]]\n"
     ]
    }
   ],
   "source": [
    "tree_accuracy = accuracy_score(y_test, y_pred) * 100\n",
    "print(\"Accuracy（正解率）: {:.1f}%\".format(tree_accuracy))\n",
    "\n",
    "tree_precision = precision_score(y_test, y_pred) * 100\n",
    "print(\"Precision（適合率）: {:.1f}%\".format(tree_precision))\n",
    "\n",
    "tree_recall = recall_score(y_test, y_pred) * 100\n",
    "print(\"Recall（再現率）: {:.1f}%\".format(tree_recall))\n",
    "\n",
    "tree_f1 = f1_score(y_test, y_pred) * 100\n",
    "print(\"F1値 : {:.1f}%\".format(tree_f1))\n",
    "\n",
    "tree_confusion = confusion_matrix(y_test, y_pred)\n",
    "print(\"Confusion Matrix（混同行列） : \\n{}\".format(tree_confusion))"
   ]
  },
  {
   "cell_type": "markdown",
   "metadata": {},
   "source": [
    "### 5. 可視化 - 決定領域を描く関数を流用。"
   ]
  },
  {
   "cell_type": "code",
   "execution_count": 250,
   "metadata": {},
   "outputs": [
    {
     "data": {
      "image/png": "[encoded data removed]",
      "text/plain": [
       "<Figure size 432x288 with 1 Axes>"
      ]
     },
     "metadata": {
      "needs_background": "light"
     },
     "output_type": "display_data"
    }
   ],
   "source": [
    "decision_region(X_test, y_test, clf, title='decesion region (Tree)', xlabel='sepal_length', ylabel='petal_length')"
   ]
  },
  {
   "cell_type": "markdown",
   "metadata": {},
   "source": [
    "## ランダムフォレスト\n",
    "\n",
    "### ランダムフォレストとは\n",
    "* 決定木を沢山組み合わせたもの。\n",
    "* アンサンブル学習のひとつ。\n",
    "    * アンサンブル学習とは、複数の学習機を組み合わせてより良い予測を得ようとするテクニック。\n",
    "    * 単一のモデルを用いるよりも良い結果が得られる。\n",
    "    * アンサンブル学習においてよく用いられるテクニックとして、バギングやブースティング、スタッキングやバンピングなどがある。"
   ]
  },
  {
   "cell_type": "markdown",
   "metadata": {},
   "source": [
    "### 1. 前処理 - データセットを検証用と訓練用に分ける、標準化処理"
   ]
  },
  {
   "cell_type": "code",
   "execution_count": 251,
   "metadata": {},
   "outputs": [],
   "source": [
    "# ライブラリーのインポート。\n",
    "from sklearn.model_selection import train_test_split\n",
    "from sklearn.preprocessing import StandardScaler\n",
    "\n",
    "X = np.array(iris_data_selected)\n",
    "y = np.array(iris_species)\n",
    "\n",
    "X_train, X_test, y_train, y_test = train_test_split(X, y, train_size=0.75, test_size=0.25, random_state=0)\n",
    "\n",
    "# yの一次元化\n",
    "y_train = np.reshape(y_train,(-1))\n",
    "y_test = np.reshape(y_test,(-1))\n",
    "\n",
    "# データを標準化\n",
    "scl = StandardScaler()\n",
    "scl.fit(X_train)\n",
    "x_train = scl.transform(X_train)\n",
    "x_test = scl.transform(X_test)"
   ]
  },
  {
   "cell_type": "markdown",
   "metadata": {},
   "source": [
    "### 2. 学習 - インポートしたRandomForestClassifierをインスタンス化し、fit()関数で学習させる。"
   ]
  },
  {
   "cell_type": "code",
   "execution_count": 252,
   "metadata": {},
   "outputs": [
    {
     "data": {
      "text/plain": [
       "RandomForestClassifier()"
      ]
     },
     "execution_count": 252,
     "metadata": {},
     "output_type": "execute_result"
    }
   ],
   "source": [
    "from sklearn.ensemble import RandomForestClassifier\n",
    "\n",
    "random_clf = RandomForestClassifier()\n",
    "random_clf.fit(X_train, y_train)"
   ]
  },
  {
   "cell_type": "markdown",
   "metadata": {},
   "source": [
    "### 3. 推定 - 学習済のモデルとpredict()関数を用い、予測を行う。"
   ]
  },
  {
   "cell_type": "code",
   "execution_count": 253,
   "metadata": {},
   "outputs": [],
   "source": [
    "y_pred = random_clf.predict(X_test)"
   ]
  },
  {
   "cell_type": "markdown",
   "metadata": {},
   "source": [
    "### 4. 評価 - Accuracy, Precision, Recall, F値, 混同行列を行う。"
   ]
  },
  {
   "cell_type": "code",
   "execution_count": 254,
   "metadata": {},
   "outputs": [
    {
     "name": "stdout",
     "output_type": "stream",
     "text": [
      "Accuracy（正解率）: 84.0%\n",
      "Precision（適合率）: 100.0%\n",
      "Recall（再現率）: 69.2%\n",
      "F1値 : 81.8%\n",
      "Confusion Matrix（混同行列） : \n",
      "[[ 9  4]\n",
      " [ 0 12]]\n"
     ]
    }
   ],
   "source": [
    "random_accuracy = accuracy_score(y_test, y_pred) * 100\n",
    "print(\"Accuracy（正解率）: {:.1f}%\".format(random_accuracy))\n",
    "\n",
    "random_precision = precision_score(y_test, y_pred) * 100\n",
    "print(\"Precision（適合率）: {:.1f}%\".format(random_precision))\n",
    "\n",
    "random_recall = recall_score(y_test, y_pred) * 100\n",
    "print(\"Recall（再現率）: {:.1f}%\".format(random_recall))\n",
    "\n",
    "random_f1 = f1_score(y_test, y_pred) * 100\n",
    "print(\"F1値 : {:.1f}%\".format(random_f1))\n",
    "\n",
    "random_confusion = confusion_matrix(y_test, y_pred)\n",
    "print(\"Confusion Matrix（混同行列） : \\n{}\".format(random_confusion))"
   ]
  },
  {
   "cell_type": "markdown",
   "metadata": {},
   "source": [
    "### 5. 可視化 - 決定領域を描く関数を流用。"
   ]
  },
  {
   "cell_type": "code",
   "execution_count": 255,
   "metadata": {},
   "outputs": [
    {
     "data": {
      "image/png": "[encoded data removed]",
      "text/plain": [
       "<Figure size 432x288 with 1 Axes>"
      ]
     },
     "metadata": {
      "needs_background": "light"
     },
     "output_type": "display_data"
    }
   ],
   "source": [
    "decision_region(X_test, y_test, random_clf, title='decesion region (random_forest)', xlabel='sepal_length', ylabel='petal_length')"
   ]
  },
  {
   "cell_type": "markdown",
   "metadata": {},
   "source": [
    "## 全ての学習法からの指標値の評価"
   ]
  },
  {
   "cell_type": "code",
   "execution_count": 256,
   "metadata": {},
   "outputs": [
    {
     "data": {
      "text/html": [
       "<div>\n",
       "<style scoped>\n",
       "    .dataframe tbody tr th:only-of-type {\n",
       "        vertical-align: middle;\n",
       "    }\n",
       "\n",
       "    .dataframe tbody tr th {\n",
       "        vertical-align: top;\n",
       "    }\n",
       "\n",
       "    .dataframe thead th {\n",
       "        text-align: right;\n",
       "    }\n",
       "</style>\n",
       "<table border=\"1\" class=\"dataframe\">\n",
       "  <thead>\n",
       "    <tr style=\"text-align: right;\">\n",
       "      <th></th>\n",
       "      <th>Accuracy</th>\n",
       "      <th>Precision</th>\n",
       "      <th>Recall</th>\n",
       "      <th>F1</th>\n",
       "    </tr>\n",
       "  </thead>\n",
       "  <tbody>\n",
       "    <tr>\n",
       "      <th>KNeighbors</th>\n",
       "      <td>92.0</td>\n",
       "      <td>100.0</td>\n",
       "      <td>84.615385</td>\n",
       "      <td>91.666667</td>\n",
       "    </tr>\n",
       "    <tr>\n",
       "      <th>Logistic_reg</th>\n",
       "      <td>92.0</td>\n",
       "      <td>100.0</td>\n",
       "      <td>84.615385</td>\n",
       "      <td>91.666667</td>\n",
       "    </tr>\n",
       "    <tr>\n",
       "      <th>SVM</th>\n",
       "      <td>92.0</td>\n",
       "      <td>100.0</td>\n",
       "      <td>84.615385</td>\n",
       "      <td>91.666667</td>\n",
       "    </tr>\n",
       "    <tr>\n",
       "      <th>Tree</th>\n",
       "      <td>88.0</td>\n",
       "      <td>100.0</td>\n",
       "      <td>76.923077</td>\n",
       "      <td>86.956522</td>\n",
       "    </tr>\n",
       "    <tr>\n",
       "      <th>Random_Forest</th>\n",
       "      <td>84.0</td>\n",
       "      <td>100.0</td>\n",
       "      <td>69.230769</td>\n",
       "      <td>81.818182</td>\n",
       "    </tr>\n",
       "  </tbody>\n",
       "</table>\n",
       "</div>"
      ],
      "text/plain": [
       "               Accuracy  Precision     Recall         F1\n",
       "KNeighbors         92.0      100.0  84.615385  91.666667\n",
       "Logistic_reg       92.0      100.0  84.615385  91.666667\n",
       "SVM                92.0      100.0  84.615385  91.666667\n",
       "Tree               88.0      100.0  76.923077  86.956522\n",
       "Random_Forest      84.0      100.0  69.230769  81.818182"
      ]
     },
     "execution_count": 256,
     "metadata": {},
     "output_type": "execute_result"
    }
   ],
   "source": [
    "final_list = [knn_5_accuracy, knn_5_precision, knn_5_recall, knn_5_f1,\n",
    "             lr_accuracy, lr_precision, lr_recall, lr_f1,\n",
    "             svc_accuracy, svc_precision, svc_recall, svc_f1,\n",
    "             tree_accuracy, tree_precision, tree_recall, tree_f1,\n",
    "             random_accuracy, random_precision, random_recall, random_f1]\n",
    "\n",
    "df = pd.DataFrame(np.array(final_list).reshape(5, 4),\n",
    "                 columns=['Accuracy', 'Precision', 'Recall', 'F1'],\n",
    "                 index=['KNeighbors', 'Logistic_reg', 'SVM', 'Tree', 'Random_Forest'])\n",
    "\n",
    "df"
   ]
  },
  {
   "cell_type": "markdown",
   "metadata": {},
   "source": [
    "## 結果考察\n",
    "    \n",
    "    * 全ての学習ではrandom_seed=0で設定した。\n",
    "    * ロジスティック回帰の際、contour levels（輪郭）がデータ上見つからなかった。\n",
    "    * 全体的に最良な指標値を返したのは、最近傍法、ロジスティック回帰、SVMであった。\n",
    "    * データの数が少なかったせいか、適合率はどの学習法も100%であった。\n",
    "    * 意外にも、ランダムフォレストが決定木より、全ての評価で低かった。"
   ]
  }
 ],
 "metadata": {
  "kernelspec": {
   "display_name": "Python 3",
   "language": "python",
   "name": "python3"
  },
  "language_info": {
   "codemirror_mode": {
    "name": "ipython",
    "version": 3
   },
   "file_extension": ".py",
   "mimetype": "text/x-python",
   "name": "python",
   "nbconvert_exporter": "python",
   "pygments_lexer": "ipython3",
   "version": "3.7.7"
  }
 },
 "nbformat": 4,
 "nbformat_minor": 4
}
