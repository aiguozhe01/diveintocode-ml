{
 "cells": [
  {
   "cell_type": "markdown",
   "metadata": {},
   "source": [
    "# Week41授業前課題３ オブジェクト指向の活用"
   ]
  },
  {
   "cell_type": "code",
   "execution_count": 2,
   "metadata": {},
   "outputs": [
    {
     "name": "stdout",
     "output_type": "stream",
     "text": [
      "平均 : [4.86 3.31 1.45 0.22]\n",
      "分散 : [0.0764 0.0849 0.0105 0.0056]\n"
     ]
    }
   ],
   "source": [
    "# サンプルコード\n",
    "\n",
    "import numpy as np\n",
    "from sklearn.preprocessing import StandardScaler\n",
    "from sklearn.datasets import load_iris\n",
    "data = load_iris()\n",
    "X = data.data[:10]\n",
    "scaler = StandardScaler()\n",
    "scaler.fit(X)\n",
    "print(\"平均 :\", scaler.mean_)\n",
    "print(\"分散 :\", scaler.var_)\n",
    "X_std = scaler.transform(X)"
   ]
  },
  {
   "cell_type": "markdown",
   "metadata": {},
   "source": [
    "### classについて\n",
    "* インスタンス化ができる。\n",
    "* 命名法について（CapWords方式）\n",
    "    * 頭文字が大文字、他は小文字\n",
    "    * 単語間にアンダースコアは入れない。\n",
    "    "
   ]
  },
  {
   "cell_type": "markdown",
   "metadata": {},
   "source": [
    "## 【問題1】これまで利用してきたクラスの列挙\n",
    "\n",
    "1. Pandas、matplotlib、scikit-learnからそれぞれ1つ以上見つけてください。"
   ]
  },
  {
   "cell_type": "markdown",
   "metadata": {},
   "source": [
    "* pandas\n",
    "    * class DataFrame()：二次元配列の作成\n",
    "    * class Series()：１次元配列の作成\n",
    "    \n",
    "* matplotlib\n",
    "    * class legend：凡例を描画する\n",
    "    * class axis：目盛りとx及びy軸に関するクラス。\n",
    "    * class axes：AxisなどのFigure要素が含まれた座標の設定\n",
    "    \n",
    "* scikit-learn\n",
    "    * class sklearn.linear_model.LogisticRegression\n"
   ]
  },
  {
   "cell_type": "markdown",
   "metadata": {},
   "source": [
    "## 【問題2】これまで利用してきたメソッドやインスタンス変数の列挙\n",
    "\n",
    "これまでの課題で利用してきたコードの中でどのようなメソッドやインスタンス変数があったかを5つ以上答えること。"
   ]
  },
  {
   "cell_type": "markdown",
   "metadata": {},
   "source": [
    "1. method: .read_csv() \n",
    "    * csvファイルを読み込む    \n",
    "2. method: .corr() \n",
    "    * pd.DataFrameから相関係数を算出\n",
    "3. method: StandardScaler() \n",
    "    * データセットの標準化（特徴量の比率を揃える）\n",
    "    * scl = StandardScaler() そのインスタンス化\n",
    "4. method: .predict()\n",
    "    * fit()で学習させたアルゴリズムを基にpredict()で予想する。\n",
    "5. instance: .values \n",
    "    * DataFrameからnumpy.ndarrayへの変換"
   ]
  },
  {
   "cell_type": "markdown",
   "metadata": {},
   "source": [
    "## 【問題3】標準化クラスをスクラッチで作成\n",
    "\n",
    "1. StandardScalerをスクラッチで作成する。\n",
    "    * scikit-learnを使わず、NumPyで代用する。\n",
    "    * fitメソッドとtransformメソッドを作る。"
   ]
  },
  {
   "cell_type": "code",
   "execution_count": 16,
   "metadata": {},
   "outputs": [],
   "source": [
    "class ScratchStandardScaler():\n",
    "    \"\"\"\n",
    "    標準化のためのクラス\n",
    "\n",
    "    Attributes\n",
    "    ----------\n",
    "    mean_ : 次の形のndarray, shape(n_features,)\n",
    "        平均\n",
    "    var_ : 次の形のndarray, shape(n_features,)\n",
    "        分散\n",
    "    \"\"\"\n",
    "    def fit(self, X):\n",
    "        \"\"\"\n",
    "        標準化のために平均と標準偏差を計算する。\n",
    "\n",
    "        Parameters\n",
    "        ----------\n",
    "        X : 次の形のndarray, shape (n_samples, n_features)\n",
    "            訓練データ\n",
    "        \"\"\"\n",
    "        self.mean_ = np.average(X)\n",
    "        self.var_ = np.std(X)\n",
    "        pass\n",
    "    def transform(self, X):\n",
    "        \"\"\"\n",
    "        fitで求めた値を使い標準化を行う。\n",
    "        標準化の定義：\n",
    "            平均0、分散1に正規化（標準化）\n",
    "            mu = mean\n",
    "            sigma = std\n",
    "            x = (x-mu)/sigma\n",
    "\n",
    "        Parameters\n",
    "        ----------\n",
    "        X : 次の形のndarray, shape (n_samples, n_features)\n",
    "            特徴量\n",
    "\n",
    "        Returns\n",
    "        ----------\n",
    "        X_scaled : 次の形のndarray, shape (n_samples, n_features)\n",
    "            標準化された特緒量\n",
    "        \"\"\"\n",
    "        X_scaled = (X - self.mean_)/self.var_\n",
    "        \n",
    "        return X_scaled"
   ]
  },
  {
   "cell_type": "code",
   "execution_count": 18,
   "metadata": {},
   "outputs": [
    {
     "name": "stdout",
     "output_type": "stream",
     "text": [
      "平均 : 2.46\n",
      "分散 : 1.781684596105607\n",
      "[[ 1.48174374  0.58371723 -0.59494256 -1.26846245]\n",
      " [ 1.36949043  0.30308395 -0.59494256 -1.26846245]\n",
      " [ 1.25723711  0.41533726 -0.65106922 -1.26846245]\n",
      " [ 1.20111046  0.3592106  -0.53881591 -1.26846245]\n",
      " [ 1.42561708  0.63984389 -0.59494256 -1.26846245]\n",
      " [ 1.65012371  0.80822386 -0.42656259 -1.15620913]\n",
      " [ 1.20111046  0.52759057 -0.59494256 -1.21233579]\n",
      " [ 1.42561708  0.52759057 -0.53881591 -1.26846245]\n",
      " [ 1.08885714  0.24695729 -0.59494256 -1.26846245]\n",
      " [ 1.36949043  0.3592106  -0.53881591 -1.3245891 ]]\n"
     ]
    }
   ],
   "source": [
    "import numpy as np\n",
    "from sklearn.datasets import load_iris\n",
    "data = load_iris()\n",
    "X = data.data[:10]\n",
    "scratch_scaler = ScratchStandardScaler()\n",
    "scratch_scaler.fit(X)\n",
    "print(\"平均 : {}\".format(scratch_scaler.mean_))\n",
    "print(\"分散 : {}\".format(scratch_scaler.var_))\n",
    "X_std = scratch_scaler.transform(X)\n",
    "print(X_std)"
   ]
  },
  {
   "cell_type": "markdown",
   "metadata": {},
   "source": [
    "### 特殊メソッドを用いたサンプルコード"
   ]
  },
  {
   "cell_type": "code",
   "execution_count": 19,
   "metadata": {},
   "outputs": [
    {
     "name": "stdout",
     "output_type": "stream",
     "text": [
      "初期値5が設定されました\n",
      "value : 5\n",
      "value : 8\n"
     ]
    }
   ],
   "source": [
    "class ExampleClass():\n",
    "    \"\"\"\n",
    "    説明用の簡単なクラス\n",
    "\n",
    "    Parameters\n",
    "    ----------\n",
    "    value : float or int\n",
    "        初期値\n",
    "\n",
    "    Attributes\n",
    "    ----------\n",
    "    value : float or int\n",
    "        計算結果\n",
    "    \"\"\"\n",
    "    def __init__(self, value):\n",
    "        self.value = value\n",
    "        print(\"初期値{}が設定されました\".format(self.value))\n",
    "    def add(self, value2):\n",
    "        \"\"\"\n",
    "        受け取った引数をself.valueに加える\n",
    "        \"\"\"\n",
    "        self.value += value2\n",
    "example = ExampleClass(5)\n",
    "print(\"value : {}\".format(example.value))\n",
    "example.add(3)\n",
    "print(\"value : {}\".format(example.value))"
   ]
  },
  {
   "cell_type": "markdown",
   "metadata": {},
   "source": [
    "## 【問題4】 四則演算を行うクラスの作成\n",
    "\n",
    "1. ExampleClassに引き算、掛け算、割り算のメソッドを加えること。\n",
    "2. コンストラクタに入力されたvalueが文字列や配列など数値以外だった場合にはエラーを出すようにすること。\n",
    "3. クラス名や説明文も適切に書き換えてください。"
   ]
  },
  {
   "cell_type": "code",
   "execution_count": 146,
   "metadata": {},
   "outputs": [
    {
     "name": "stdout",
     "output_type": "stream",
     "text": [
      "初期値5が設定されました\n",
      "value : 5\n",
      "value : 1.0\n"
     ]
    }
   ],
   "source": [
    "class NameError(Exception):\n",
    "    pass\n",
    "\n",
    "\n",
    "class Arithmetic():\n",
    "    \"\"\"\n",
    "    コンストラクタを用いた四則演算を行うためのクラス\n",
    "\n",
    "    Parameters\n",
    "    ----------\n",
    "    value : float or int\n",
    "        初期値\n",
    "\n",
    "    Attributes\n",
    "    ----------\n",
    "    value : float or int\n",
    "        計算結果\n",
    "    \"\"\"\n",
    "    def __init__(self, value):\n",
    "        if isinstance(value, int):\n",
    "            pass\n",
    "        elif isinstance(value, float):\n",
    "            pass\n",
    "        else:\n",
    "            raise NameError(\"Only int or float.\")     \n",
    "        \n",
    "        self.value = value\n",
    "\n",
    "        print(\"初期値{}が設定されました\".format(self.value))\n",
    "    def add(self, value2):\n",
    "        \"\"\"\n",
    "        受け取った引数をself.valueに加える\n",
    "        \"\"\"\n",
    "        \n",
    "        self.value += value2\n",
    "    def substract(self, value2):\n",
    "        \"\"\"\n",
    "        受け取った引数をself.valueから減算する。\n",
    "        \"\"\"\n",
    "        self.value -= value2\n",
    "    def multiply(self, value2):\n",
    "        \"\"\"\n",
    "        受け取った引数をself.valueに乗算する。\n",
    "        \"\"\"\n",
    "        self.value = self.value* value2\n",
    "    def division(self, value2):\n",
    "        \"\"\"\n",
    "        受け取った引数をself.valueから徐算する。\n",
    "        \"\"\"\n",
    "        self.value = self.value / value2        \n",
    "example = Arithmetic(5)\n",
    "print(\"value : {}\".format(example.value))\n",
    "example.division(5)\n",
    "print(\"value : {}\".format(example.value))"
   ]
  },
  {
   "cell_type": "markdown",
   "metadata": {},
   "source": [
    "### 【解答説明】\n",
    "\n",
    "* 自作例外エラー用のクラスを創出\n",
    "* 四則演算に対応するメソッドを導入した。\n",
    "* if文を用いて、int or floatの条件付を付与。\n",
    "* elseに該当する引数はraiseで自作のエラーを呼び出し、進行をストップさせた。"
   ]
  },
  {
   "cell_type": "code",
   "execution_count": null,
   "metadata": {},
   "outputs": [],
   "source": []
  }
 ],
 "metadata": {
  "kernelspec": {
   "display_name": "Python 3",
   "language": "python",
   "name": "python3"
  },
  "language_info": {
   "codemirror_mode": {
    "name": "ipython",
    "version": 3
   },
   "file_extension": ".py",
   "mimetype": "text/x-python",
   "name": "python",
   "nbconvert_exporter": "python",
   "pygments_lexer": "ipython3",
   "version": "3.7.6"
  }
 },
 "nbformat": 4,
 "nbformat_minor": 4
}
