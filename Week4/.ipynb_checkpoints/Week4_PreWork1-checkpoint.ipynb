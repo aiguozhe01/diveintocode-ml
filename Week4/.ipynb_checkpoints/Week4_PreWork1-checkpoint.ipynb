{
 "cells": [
  {
   "cell_type": "markdown",
   "metadata": {},
   "source": [
    "## 【前提条件】\n",
    "\n",
    "* 特徴量は4つの中で2つだけを使う\n",
    "    * \n",
    "* ヤメの種類を2つだけ使う\n",
    "    * 2値分類 (分類対象が2種類)"
   ]
  },
  {
   "cell_type": "markdown",
   "metadata": {},
   "source": [
    "## 【課題1】練習のために特徴量とカテゴリを選択\n",
    "\n",
    "irisデータセットをWeek3同様に取得した後、データフレームからこれらを抜き出してください。\n",
    "\n",
    "* virgicolorとvirginica\n",
    "* sepal_lengthとpetal_length\n"
   ]
  },
  {
   "cell_type": "code",
   "execution_count": 100,
   "metadata": {},
   "outputs": [
    {
     "data": {
      "text/html": [
       "<div>\n",
       "<style scoped>\n",
       "    .dataframe tbody tr th:only-of-type {\n",
       "        vertical-align: middle;\n",
       "    }\n",
       "\n",
       "    .dataframe tbody tr th {\n",
       "        vertical-align: top;\n",
       "    }\n",
       "\n",
       "    .dataframe thead th {\n",
       "        text-align: right;\n",
       "    }\n",
       "</style>\n",
       "<table border=\"1\" class=\"dataframe\">\n",
       "  <thead>\n",
       "    <tr style=\"text-align: right;\">\n",
       "      <th></th>\n",
       "      <th>sepal length (cm)</th>\n",
       "      <th>petal length (cm)</th>\n",
       "      <th>species</th>\n",
       "    </tr>\n",
       "  </thead>\n",
       "  <tbody>\n",
       "    <tr>\n",
       "      <th>50</th>\n",
       "      <td>7.0</td>\n",
       "      <td>4.7</td>\n",
       "      <td>1</td>\n",
       "    </tr>\n",
       "    <tr>\n",
       "      <th>51</th>\n",
       "      <td>6.4</td>\n",
       "      <td>4.5</td>\n",
       "      <td>1</td>\n",
       "    </tr>\n",
       "    <tr>\n",
       "      <th>52</th>\n",
       "      <td>6.9</td>\n",
       "      <td>4.9</td>\n",
       "      <td>1</td>\n",
       "    </tr>\n",
       "    <tr>\n",
       "      <th>53</th>\n",
       "      <td>5.5</td>\n",
       "      <td>4.0</td>\n",
       "      <td>1</td>\n",
       "    </tr>\n",
       "    <tr>\n",
       "      <th>54</th>\n",
       "      <td>6.5</td>\n",
       "      <td>4.6</td>\n",
       "      <td>1</td>\n",
       "    </tr>\n",
       "    <tr>\n",
       "      <th>...</th>\n",
       "      <td>...</td>\n",
       "      <td>...</td>\n",
       "      <td>...</td>\n",
       "    </tr>\n",
       "    <tr>\n",
       "      <th>145</th>\n",
       "      <td>6.7</td>\n",
       "      <td>5.2</td>\n",
       "      <td>2</td>\n",
       "    </tr>\n",
       "    <tr>\n",
       "      <th>146</th>\n",
       "      <td>6.3</td>\n",
       "      <td>5.0</td>\n",
       "      <td>2</td>\n",
       "    </tr>\n",
       "    <tr>\n",
       "      <th>147</th>\n",
       "      <td>6.5</td>\n",
       "      <td>5.2</td>\n",
       "      <td>2</td>\n",
       "    </tr>\n",
       "    <tr>\n",
       "      <th>148</th>\n",
       "      <td>6.2</td>\n",
       "      <td>5.4</td>\n",
       "      <td>2</td>\n",
       "    </tr>\n",
       "    <tr>\n",
       "      <th>149</th>\n",
       "      <td>5.9</td>\n",
       "      <td>5.1</td>\n",
       "      <td>2</td>\n",
       "    </tr>\n",
       "  </tbody>\n",
       "</table>\n",
       "<p>100 rows × 3 columns</p>\n",
       "</div>"
      ],
      "text/plain": [
       "     sepal length (cm)  petal length (cm)  species\n",
       "50                 7.0                4.7        1\n",
       "51                 6.4                4.5        1\n",
       "52                 6.9                4.9        1\n",
       "53                 5.5                4.0        1\n",
       "54                 6.5                4.6        1\n",
       "..                 ...                ...      ...\n",
       "145                6.7                5.2        2\n",
       "146                6.3                5.0        2\n",
       "147                6.5                5.2        2\n",
       "148                6.2                5.4        2\n",
       "149                5.9                5.1        2\n",
       "\n",
       "[100 rows x 3 columns]"
      ]
     },
     "execution_count": 100,
     "metadata": {},
     "output_type": "execute_result"
    }
   ],
   "source": [
    "from sklearn.datasets import load_iris\n",
    "import pandas as pd\n",
    "import numpy as np\n",
    "\n",
    "iris = load_iris()\n",
    "\n",
    "# 基データから特定の2種の特徴量を抽出。\n",
    "iris_raw_data = pd.DataFrame(iris.data, columns=iris.feature_names)\n",
    "iris_data = iris_raw_data[['sepal length (cm)', 'petal length (cm)']]\n",
    "\n",
    "# 基データから特定の2品種のみを抽出。\n",
    "iris_raw_species = pd.DataFrame(iris.target, columns=[\"species\"])\n",
    "iris_species = iris_raw_species[iris_raw_species['species'].isin([1, 2])]\n",
    "\n",
    "# 上記2つのデータを結合させる。\n",
    "iris_df = pd.concat([iris_data, iris_species], join='inner', axis=1)\n",
    "\n",
    "# iris_data\n",
    "# iris_species\n",
    "iris_df"
   ]
  },
  {
   "cell_type": "markdown",
   "metadata": {},
   "source": [
    "## 【問題2】データの分析\n",
    "\n",
    "抜き出したデータの散布図と箱ひげ図（boxplot）、バイオリン図（violinplot）を表示してください。"
   ]
  },
  {
   "cell_type": "code",
   "execution_count": 101,
   "metadata": {},
   "outputs": [
    {
     "data": {
      "text/plain": [
       "<seaborn.axisgrid.PairGrid at 0x7fe6b9124910>"
      ]
     },
     "execution_count": 101,
     "metadata": {},
     "output_type": "execute_result"
    },
    {
     "data": {
      "image/png": "[encoded data removed]",
      "text/plain": [
       "<Figure size 864x432 with 6 Axes>"
      ]
     },
     "metadata": {
      "needs_background": "light"
     },
     "output_type": "display_data"
    }
   ],
   "source": [
    "from matplotlib import pyplot as plt\n",
    "import seaborn as sns\n",
    "%matplotlib inline\n",
    "\n",
    "# iris_dfの散布図を描画する。\n",
    "\n",
    "pg = sns.pairplot(iris_df, hue='species')\n",
    "\n",
    "pg.fig.set_size_inches((12, 6))\n",
    "lg = pg.fig.legends[0]\n",
    "# lg.texts[0].set_text('setosa')\n",
    "lg.texts[0].set_text('virgicolor')\n",
    "lg.texts[1].set_text('virginica')\n",
    "\n",
    "pg\n",
    "\n",
    "# x = iris_df[['species']]\n",
    "# y = iris_data[[]]\n",
    "# fig, axes = plt.subplots(figsize = (12, 8))\n",
    "# plt.scatter(x, y)\n",
    "# axes.set_xticklabels(['setosa', 'virgiclor', 'virginica'])\n",
    "# plt.title('sepal_length')\n",
    "# plt.ylabel('length (cm)')\n",
    "# plt.show()"
   ]
  },
  {
   "cell_type": "code",
   "execution_count": 102,
   "metadata": {},
   "outputs": [],
   "source": [
    "import itertools\n",
    "\n",
    "# 2品種のsepal_lengthのリスト化\n",
    "# virgicolor\n",
    "iris_species_virgicolor = iris_raw_species[iris_raw_species['species'].isin([1])]\n",
    "iris_df_virgicolor = pd.concat([iris_data, iris_species_virgicolor], join='inner', axis=1)\n",
    "# virginica\n",
    "iris_species_virginica = iris_raw_species[iris_raw_species['species'].isin([2])]\n",
    "iris_df_virginica = pd.concat([iris_data, iris_species_virginica], join='inner', axis=1)\n",
    "\n",
    "sepal_length_virgicolor = iris_df_virgicolor[['sepal length (cm)']]\n",
    "sepal_length_virginica = iris_df_virginica[['sepal length (cm)']]\n",
    "\n",
    "petal_length_virgicolor = iris_df_virgicolor[['petal length (cm)']]\n",
    "petal_length_virginica = iris_df_virginica[['petal length (cm)']]\n",
    "\n",
    "sepal_length = [sepal_length_virgicolor, sepal_length_virginica]\n",
    "petal_length = [petal_length_virgicolor, petal_length_virginica]\n",
    "\n",
    "# sepal = list(itertools.chain.from_iterable(sepal_length))\n",
    "# sepal = sepal_length.flatten()\n",
    "\n",
    "# 上記方法だとグラフ化できなかったため、次のセルにてweek3の方法をcopy/pasteした。\n",
    "# グラフ化できなかった原因として、エラーは\"X must have 2 or fewer dimensions\"のため、\n",
    "# 平坦化を試みたが、うまくいかなかった。"
   ]
  },
  {
   "cell_type": "code",
   "execution_count": 103,
   "metadata": {},
   "outputs": [],
   "source": [
    "# 2品種のsepal_lengthのリスト化\n",
    "\n",
    "# virgicolor\n",
    "virgiclor_sepal_length = iris_df.iloc[0:50, 0]\n",
    "virgiclor_petal_length = iris_df.iloc[0:50, 1]\n",
    "\n",
    "# virginica\n",
    "virginica_sepal_length = iris_df.iloc[51:100, 0]\n",
    "virginica_petal_length = iris_df.iloc[51:100, 1]\n",
    "\n",
    "# 各ラベルごとの2要素を1Tupleに格納して、boxplot化する。\n",
    "virgiclor_data = (virgiclor_sepal_length, virgiclor_petal_length)\n",
    "virginica_data = (virginica_sepal_length, virginica_petal_length)\n",
    "\n",
    "# 2要素ごとでリスト化\n",
    "sepal_length = (virgiclor_data[0], virginica_data[0])\n",
    "petal_length = (virgiclor_data[1], virginica_data[1])"
   ]
  },
  {
   "cell_type": "code",
   "execution_count": 104,
   "metadata": {},
   "outputs": [
    {
     "data": {
      "image/png": "[encoded data removed]",
      "text/plain": [
       "<Figure size 864x576 with 1 Axes>"
      ]
     },
     "metadata": {
      "needs_background": "light"
     },
     "output_type": "display_data"
    },
    {
     "data": {
      "image/png": "[encoded data removed]",
      "text/plain": [
       "<Figure size 864x576 with 1 Axes>"
      ]
     },
     "metadata": {
      "needs_background": "light"
     },
     "output_type": "display_data"
    }
   ],
   "source": [
    "from matplotlib import pyplot as plt\n",
    "import seaborn as sns\n",
    "%matplotlib inline\n",
    "\n",
    "# iris_dfの箱ひげを描画する\n",
    "\n",
    "# sepal_lengthの箱ひげ化\n",
    "fig, axes = plt.subplots(figsize = (12, 8))\n",
    "plt.boxplot(sepal_length, patch_artist=True, boxprops=dict(facecolor='skyblue', color='black', linewidth=1))\n",
    "axes.set_xticklabels(['virgicolor', 'virginica'])\n",
    "\n",
    "plt.title('sepal_length')\n",
    "plt.ylabel('length (cm)')\n",
    "plt.show()\n",
    "\n",
    "\n",
    "# petal_lengthの箱ひげ化\n",
    "fig, axes = plt.subplots(figsize = (12, 8))\n",
    "plt.boxplot(petal_length, patch_artist=True, boxprops=dict(facecolor='green', color='black', linewidth=1))\n",
    "axes.set_xticklabels(['virgicolor', 'virginica'])\n",
    "\n",
    "plt.title('petal_length')\n",
    "plt.ylabel('length (cm)')\n",
    "plt.show()"
   ]
  },
  {
   "cell_type": "code",
   "execution_count": 107,
   "metadata": {},
   "outputs": [
    {
     "data": {
      "text/plain": [
       "Text(0, 0.5, 'length (cm)')"
      ]
     },
     "execution_count": 107,
     "metadata": {},
     "output_type": "execute_result"
    },
    {
     "data": {
      "image/png": "[encoded data removed]",
      "text/plain": [
       "<Figure size 864x576 with 1 Axes>"
      ]
     },
     "metadata": {
      "needs_background": "light"
     },
     "output_type": "display_data"
    },
    {
     "data": {
      "image/png": "[encoded data removed]",
      "text/plain": [
       "<Figure size 864x576 with 1 Axes>"
      ]
     },
     "metadata": {
      "needs_background": "light"
     },
     "output_type": "display_data"
    }
   ],
   "source": [
    "# バイオリン図（violinplot）\n",
    "\n",
    "# Sepal_Length\n",
    "fig, axes = plt.subplots(figsize = (12, 8))\n",
    "\n",
    "axes.set_xticks([1, 2])\n",
    "axes.set_xticklabels(['virgicolor', 'virginica'])\n",
    "plt.title('sepal_length')\n",
    "plt.xlabel('features')\n",
    "plt.ylabel('length (cm)')\n",
    "\n",
    "#plt.violinplot(sepal_length, showmedians=True)\n",
    "#plt.show()\n",
    "\n",
    "# Petal_Length\n",
    "fig, axes = plt.subplots(figsize = (12, 8))\n",
    "\n",
    "axes.set_xticks([1, 2])\n",
    "axes.set_xticklabels(['virgicolor', 'virginica'])\n",
    "plt.title('petal_length')\n",
    "plt.xlabel('features')\n",
    "plt.ylabel('length (cm)')\n",
    "\n",
    "# plt.violinplot(petal_length, showmedians=True)\n",
    "# plt.show()"
   ]
  },
  {
   "cell_type": "markdown",
   "metadata": {},
   "source": [
    "## 【問題3】前処理・訓練データと検証データの分割\n",
    "\n",
    "前処理の一貫として、訓練データと検証データの分割を行います。今回は訓練データ75%、検証データ25%として分割してください。\n",
    "\n",
    "\n",
    "scikit-learnのtrain_test_splitが利用できます。公式ドキュメントのExamplesを参考に動かしてください。\n",
    "\n",
    "\n",
    "[sklearn.model_selection.train_test_split — scikit-learn 0.21.3 documentation](https://scikit-learn.org/stable/modules/generated/sklearn.model_selection.train_test_split.html)"
   ]
  },
  {
   "cell_type": "code",
   "execution_count": 108,
   "metadata": {},
   "outputs": [],
   "source": [
    "from sklearn.model_selection import train_test_split\n",
    "import numpy as np\n",
    "\n",
    "# ndarrayへの変換\n",
    "# 特徴量（説明変数）をX、正解（目的変数）をyというndarrayに格納する。\n",
    "\n",
    "# iris_dataから対象2品種のみに絞る。\n",
    "iris_data_selected = iris_data.loc[50:, ]\n",
    "\n",
    "X = np.array(iris_data_selected)\n",
    "y = np.array(iris_species)\n",
    "\n",
    "X_train, X_test, y_train, y_test = train_test_split(X, y, train_size=0.75, test_size=0.25)\n",
    "# X_train.shape, y_train.shape"
   ]
  },
  {
   "cell_type": "markdown",
   "metadata": {},
   "source": [
    "## 【問題4】前処理・標準化\n",
    "\n",
    "分類精度をあげるための加工（標準化）を行う。\n",
    "* 標準化は訓練用のデータでfitを行い\n",
    "* 訓練用、検証用双方のデータにtransformを行う。\n",
    "* 検証データを標準化してはならない。"
   ]
  },
  {
   "cell_type": "code",
   "execution_count": 127,
   "metadata": {},
   "outputs": [],
   "source": [
    "from sklearn.preprocessing import StandardScaler\n",
    "\n",
    "#データを標準化\n",
    "scl = StandardScaler()\n",
    "scl.fit(X_train) #学習用データで標準化\n",
    "X_train_std = scl.transform(X_train)\n",
    "X_test_std = scl.transform(X_test)"
   ]
  },
  {
   "cell_type": "markdown",
   "metadata": {},
   "source": [
    "## 【問題5】学習と推定\n",
    "\n",
    "最近傍法（k-nearest neighbors, k-nn）で学習を行います。scikit-learnの公式ドキュメントのExamplesを参考に、k-nnの学習を行ってください。ここで入力するのは訓練データです。\n",
    "\n",
    "[sklearn.neighbors.KNeighborsClassifier — scikit-learn 0.21.3 documentation](https://scikit-learn.org/stable/modules/generated/sklearn.neighbors.KNeighborsClassifier.html#sklearn.neighbors.KNeighborsClassifier)\n",
    "\n",
    "学習が終わった後、検証データをpredictメソッドに入力し、推定を行ってください。\n",
    "\n",
    "## 最近傍法についての、自分なりの解釈\n",
    "\n",
    "[参照元](https://qiita.com/renesisu727/items/e5191a97d3f16a14ebd0)\n",
    "\n",
    "1. n次元数ベクトルの特殊空間があり、あるデータの特殊空間の位置はn個の説明変数で決定され、そのデータが属するクラスは目的変数により決定される。\n",
    "\n",
    "2. 分類において、ある目的変数が未知のデータが与えられた時、そのデータの目的変数を特殊空間上に近い他のデータの目的変数の多数決で決定するのが、k-近傍法。\n",
    "\n",
    "3. 多数決を行うとき、どれくらいの距離を近傍とするのかで分類が異なる。\n"
   ]
  },
  {
   "cell_type": "code",
   "execution_count": 129,
   "metadata": {},
   "outputs": [
    {
     "name": "stdout",
     "output_type": "stream",
     "text": [
      "n_neighbors = default (5)の場合、\n",
      "[1 2 1 2 1 1 1 1 2 2 2 2 2 2 2 1 2 1 2 2 1 1 2 1 2]\n",
      "n_neighbors = 1-nnの場合、\n",
      "[1 2 1 2 1 1 1 1 2 2 2 2 2 2 2 1 2 1 2 2 1 1 2 1 2]\n",
      "n_neighbors = 3-nnの場合、\n",
      "[1 2 1 2 1 1 1 1 2 2 2 2 2 2 2 1 2 1 2 2 1 1 2 1 2]\n"
     ]
    }
   ],
   "source": [
    "from sklearn.neighbors import KNeighborsClassifier\n",
    "from sklearn import metrics\n",
    "\n",
    "iris_knn_5 = KNeighborsClassifier(n_neighbors=5)\n",
    "iris_knn_1 = KNeighborsClassifier(n_neighbors=1)\n",
    "iris_knn_3 = KNeighborsClassifier(n_neighbors=3)\n",
    "y_train = np.reshape(y_train,(-1))\n",
    "y_test = np.reshape(y_test,(-1))\n",
    "\n",
    "# n_neighbors = default (5)の場合\n",
    "iris_knn_5.fit(X_train_std, y_train)\n",
    "\n",
    "# n_neighbors = 1-nn\n",
    "iris_knn_1.fit(X_train_std, y_train)\n",
    "\n",
    "# n_neighbors = 3-nn\n",
    "iris_knn_3.fit(X_train_std, y_train)\n",
    "\n",
    "\n",
    "# 検証データ(test)をpredictメソッドに入力し、目的変数を予測し、一致率を算出する。\n",
    "# n_neighbors = default (5)の場合\n",
    "print(\"n_neighbors = default (5)の場合、\\n{}\".format(iris_knn_5.predict(X_test_std)))\n",
    "# y_pred = iris_knn_5.predict(X_test)\n",
    "# print(metrics.accuracy_score(y_test, y_pred))\n",
    "\n",
    "# n_neighbors = 1-nn\n",
    "print(\"n_neighbors = 1-nnの場合、\\n{}\".format(iris_knn_1.predict(X_test_std)))\n",
    "# y_pred = iris_knn_1.predict(X_test)\n",
    "# print(metrics.accuracy_score(y_test, y_pred))\n",
    "\n",
    "# n_neighbors = 3-nn\n",
    "print(\"n_neighbors = 3-nnの場合、\\n{}\".format(iris_knn_3.predict(X_test_std)))\n",
    "# y_pred = iris_knn_3.predict(X_test)\n",
    "# print(metrics.accuracy_score(y_test, y_pred))"
   ]
  },
  {
   "cell_type": "markdown",
   "metadata": {},
   "source": [
    "## 【問題6】評価\n",
    "\n",
    "検証データの特徴量を入力して得られた推定値と、検証データの正解値の近さを計算し、学習したモデルを評価します。\n",
    "\n",
    "2値分類を評価するための指標値には Accuracy（正解率）、Precision（適合率）、Recall（再現率）、F値 があります。それぞれの意味を理解するには、 混同行列（confusion matrix） を見ることになります。\n",
    "\n",
    "* scikit-learnを使い4種類の指標を計算する\n",
    "* 混同行列をscikit-learnを使い表示する\n",
    "* 4種類の指標値の意味について簡単に調査して文章でまとめる"
   ]
  },
  {
   "cell_type": "code",
   "execution_count": 135,
   "metadata": {},
   "outputs": [
    {
     "name": "stdout",
     "output_type": "stream",
     "text": [
      "5-nnの正解率は88.0%\n",
      "5-nnの適合率は90.9%\n",
      "5-nnの再現率は83.3%\n",
      "5-nnのF1値は87.0%\n",
      "5-nnの混同行列は\n",
      "[[10  2]\n",
      " [ 1 12]]\n",
      "\n",
      "1-nnの正解率は88.0\n",
      "1-nnの適合率は90.9\n",
      "1-nnの再現率は83.3\n",
      "1-nnのF1値は87.0\n",
      "1-nnの混同行列は\n",
      "[[10  2]\n",
      " [ 1 12]]\n",
      "\n",
      "3-nnの正解率は88.0\n",
      "3-nnの適合率は90.9\n",
      "3-nnの再現率は83.3\n",
      "3-nnのF1値は87.0\n",
      "3-nnの混同行列は\n",
      "[[10  2]\n",
      " [ 1 12]]\n"
     ]
    }
   ],
   "source": [
    "from sklearn.neighbors import KNeighborsClassifier\n",
    "from sklearn import metrics\n",
    "from sklearn.metrics import confusion_matrix, accuracy_score, precision_score, recall_score, f1_score\n",
    "\n",
    "\n",
    "# n_neighbors = default (5)の場合\n",
    "y_pred = iris_knn_5.predict(X_test_std)\n",
    "knn_5_accuracy = accuracy_score(y_test, y_pred) * 100\n",
    "print(\"5-nnの正解率は{:.1f}%\".format(knn_5_accuracy))\n",
    "\n",
    "knn_5_precision = precision_score(y_test, y_pred) * 100\n",
    "print(\"5-nnの適合率は{:.1f}%\".format(knn_5_precision))\n",
    "\n",
    "knn_5_recall = recall_score(y_test, y_pred) * 100\n",
    "print(\"5-nnの再現率は{:.1f}%\".format(knn_5_recall))\n",
    "\n",
    "knn_5_f1 = f1_score(y_test, y_pred) * 100\n",
    "print(\"5-nnのF1値は{:.1f}%\".format(knn_5_f1))\n",
    "\n",
    "knn_5_confusion = confusion_matrix(y_test, y_pred)\n",
    "print(\"5-nnの混同行列は\\n{}\".format(knn_5_confusion))\n",
    "\n",
    "# n_neighbors = 1-nn\n",
    "y_pred = iris_knn_1.predict(X_test_std)\n",
    "knn_1_accuracy = accuracy_score(y_test, y_pred) * 100\n",
    "print(\"\\n1-nnの正解率は{:.1f}\".format(knn_1_accuracy))\n",
    "\n",
    "knn_1_precision = precision_score(y_test, y_pred) * 100\n",
    "print(\"1-nnの適合率は{:.1f}\".format(knn_1_precision))\n",
    "\n",
    "knn_1_recall = recall_score(y_test, y_pred) * 100\n",
    "print(\"1-nnの再現率は{:.1f}\".format(knn_1_recall))\n",
    "\n",
    "knn_1_f1 = f1_score(y_test, y_pred) * 100\n",
    "print(\"1-nnのF1値は{:.1f}\".format(knn_1_f1))\n",
    "\n",
    "knn_1_confusion = confusion_matrix(y_test, y_pred)\n",
    "print(\"1-nnの混同行列は\\n{}\".format(knn_1_confusion))\n",
    "\n",
    "\n",
    "# n_neighbors = 3-nn\n",
    "y_pred = iris_knn_3.predict(X_test_std)\n",
    "knn_3_accuracy = accuracy_score(y_test, y_pred) * 100\n",
    "print(\"\\n3-nnの正解率は{:.1f}\".format(knn_3_accuracy))\n",
    "\n",
    "knn_3_precision = precision_score(y_test, y_pred) * 100\n",
    "print(\"3-nnの適合率は{:.1f}\".format(knn_3_precision))\n",
    "\n",
    "knn_3_recall = recall_score(y_test, y_pred) * 100\n",
    "print(\"3-nnの再現率は{:.1f}\".format(knn_3_recall))\n",
    "\n",
    "knn_3_f1 = f1_score(y_test, y_pred) * 100\n",
    "print(\"3-nnのF1値は{:.1f}\".format(knn_3_f1))\n",
    "\n",
    "knn_3_confusion = confusion_matrix(y_test, y_pred)\n",
    "print(\"3-nnの混同行列は\\n{}\".format(knn_3_confusion))\n"
   ]
  },
  {
   "cell_type": "markdown",
   "metadata": {},
   "source": [
    "## 4種類の指標値の意味について\n",
    "\n",
    "* 正解率（accuracy）\n",
    "    * 全ての予測結果のうち正解した割合。\n",
    "    * 正事例と負事例が不均衡な場合には正解率単独での指標は不適正のため、以下の指標も重要。\n",
    "* 適合率（precision, PPV）\n",
    "    * 正事例（陽性）と予測された予測結果のうち正解した予測結果の割合。\n",
    "* 再現率（recall, sensitivity, hit rate, TPR）\n",
    "    * 正事例（陽性）の予測結果のうち正解した割合。\n",
    "* F値（F-measure, F-score, F1-score ）\n",
    "    * 適合率と再現率の調和平均。\n",
    "        * 調和平均\n",
    "        $$\n",
    "        \\frac{2}{\\frac{1}{a}+\\frac{1}{b}}をaとbの調和平均と呼ぶ。\n",
    "        $$"
   ]
  },
  {
   "cell_type": "markdown",
   "metadata": {},
   "source": [
    "## 【問題7】可視化\n"
   ]
  },
  {
   "cell_type": "code",
   "execution_count": 111,
   "metadata": {},
   "outputs": [],
   "source": [
    "import matplotlib.pyplot as plt\n",
    "from matplotlib.colors import ListedColormap\n",
    "import matplotlib.patches as mpatches\n",
    "def decision_region(X, y, model, step=0.01, title='decision region', xlabel='xlabel', ylabel='ylabel', target_names=['virgicolor', 'virginica']):\n",
    "    \"\"\"\n",
    "    2値分類を2次元の特徴量で学習したモデルの決定領域を描く。\n",
    "    背景の色が学習したモデルによる推定値から描画される。\n",
    "    散布図の点は訓練データまたは検証データである。\n",
    "\n",
    "    Parameters\n",
    "    ----------------\n",
    "    X : ndarray, shape(n_samples, 2)\n",
    "        特徴量\n",
    "    y : ndarray, shape(n_samples,)\n",
    "        ラベル\n",
    "    model : object\n",
    "        学習したモデルのインスンタスを入れる\n",
    "    step : float, (default : 0.1)\n",
    "        推定値を計算する間隔を設定する\n",
    "    title : str\n",
    "        グラフのタイトルの文章を与える\n",
    "    xlabel, ylabel : str\n",
    "        軸ラベルの文章を与える\n",
    "    target_names= : list of str\n",
    "        凡例の一覧を与える\n",
    "    \"\"\"\n",
    "    # setting\n",
    "    scatter_color = ['red', 'blue']\n",
    "    contourf_color = ['pink', 'skyblue']\n",
    "    n_class = 2\n",
    "    # pred\n",
    "    mesh_f0, mesh_f1  = np.meshgrid(np.arange(np.min(X[:,0])-0.5, np.max(X[:,0])+0.5, step), np.arange(np.min(X[:,1])-0.5, np.max(X[:,1])+0.5, step))\n",
    "    mesh = np.c_[np.ravel(mesh_f0),np.ravel(mesh_f1)]\n",
    "    y_pred = model.predict(mesh).reshape(mesh_f0.shape)\n",
    "    # plot\n",
    "    plt.title(title)\n",
    "    plt.xlabel(xlabel)\n",
    "    plt.ylabel(ylabel)\n",
    "    plt.contourf(mesh_f0, mesh_f1, y_pred, n_class-1, cmap=ListedColormap(contourf_color))\n",
    "    plt.contour(mesh_f0, mesh_f1, y_pred, n_class-1, colors='y', linewidths=3, alpha=0.5)\n",
    "    for i, target in enumerate(set(y)):\n",
    "        plt.scatter(X[y==target][:, 0], X[y==target][:, 1], s=80, color=scatter_color[i], label=target_names[i], marker='o')\n",
    "    patches = [mpatches.Patch(color=scatter_color[i], label=target_names[i]) for i in range(n_class)]\n",
    "    plt.legend(handles=patches)\n",
    "    plt.legend()\n",
    "    plt.show()"
   ]
  },
  {
   "cell_type": "markdown",
   "metadata": {},
   "source": [
    "### 訓練データをプロット（3-nn）"
   ]
  },
  {
   "cell_type": "code",
   "execution_count": 136,
   "metadata": {},
   "outputs": [
    {
     "data": {
      "image/png": "[encoded data removed]",
      "text/plain": [
       "<Figure size 432x288 with 1 Axes>"
      ]
     },
     "metadata": {
      "needs_background": "light"
     },
     "output_type": "display_data"
    }
   ],
   "source": [
    "decision_region(X_train_std, y_train, iris_knn_3, title='decesion region of 3-nn',  xlabel='sepal_length', ylabel='petal_length')"
   ]
  },
  {
   "cell_type": "markdown",
   "metadata": {},
   "source": [
    "### 検証データをプロット（3-nn）"
   ]
  },
  {
   "cell_type": "code",
   "execution_count": 137,
   "metadata": {},
   "outputs": [
    {
     "data": {
      "image/png": "[encoded data removed]",
      "text/plain": [
       "<Figure size 432x288 with 1 Axes>"
      ]
     },
     "metadata": {
      "needs_background": "light"
     },
     "output_type": "display_data"
    }
   ],
   "source": [
    "decision_region(X_test_std, y_test, iris_knn_3, title='decesion region of 3-nn (test)', xlabel='sepal_length', ylabel='petal_length')"
   ]
  },
  {
   "cell_type": "markdown",
   "metadata": {},
   "source": [
    "## 【問題8】他の手法の学習\n",
    "\n",
    "1. 以下の全ての手法について学習・推定・評価・可視化を行ってください。\n",
    "  \n",
    "    * 最近傍法\n",
    "    * ロジスティック回帰\n",
    "    * SVM\n",
    "    * 決定木\n",
    "    * ランダムフォレスト\n",
    "    \n",
    "2. 指標値を１つの表にまとめてください。\n",
    "3. その表と決定領域を利用して結果を簡単に考察してください。どの手法がどの指標値で良かったかや、どういった決定領域になっていたかを述べてください。"
   ]
  },
  {
   "cell_type": "markdown",
   "metadata": {},
   "source": [
    "## 最近傍法"
   ]
  },
  {
   "cell_type": "markdown",
   "metadata": {},
   "source": [
    "1. 学習 - 最近傍法で学習を行う。"
   ]
  },
  {
   "cell_type": "code",
   "execution_count": 113,
   "metadata": {},
   "outputs": [
    {
     "data": {
      "text/plain": [
       "KNeighborsClassifier(algorithm='auto', leaf_size=30, metric='minkowski',\n",
       "                     metric_params=None, n_jobs=None, n_neighbors=3, p=2,\n",
       "                     weights='uniform')"
      ]
     },
     "execution_count": 113,
     "metadata": {},
     "output_type": "execute_result"
    }
   ],
   "source": [
    "from sklearn.neighbors import KNeighborsClassifier\n",
    "from sklearn import metrics\n",
    "import numpy as np\n",
    "\n",
    "X = np.array(iris_data_selected)\n",
    "y = np.array(iris_species)\n",
    "\n",
    "X_train, X_test, y_train, y_test = train_test_split(X, y, train_size=0.75, test_size=0.25)\n",
    "\n",
    "iris_knn_5 = KNeighborsClassifier(n_neighbors=5)\n",
    "iris_knn_1 = KNeighborsClassifier(n_neighbors=1)\n",
    "iris_knn_3 = KNeighborsClassifier(n_neighbors=3)\n",
    "y_train = np.reshape(y_train,(-1))\n",
    "y_test = np.reshape(y_test,(-1))\n",
    "\n",
    "# n_neighbors = default (5)の場合\n",
    "iris_knn_5.fit(X_train, y_train)\n",
    "\n",
    "# n_neighbors = 1-nn\n",
    "iris_knn_1.fit(X_train, y_train)\n",
    "\n",
    "# n_neighbors = 3-nn\n",
    "iris_knn_3.fit(X_train, y_train)\n"
   ]
  },
  {
   "cell_type": "markdown",
   "metadata": {},
   "source": [
    "2. 推定 - 検証データをpredictメソッドに入力し、推定を行う。"
   ]
  },
  {
   "cell_type": "code",
   "execution_count": 114,
   "metadata": {},
   "outputs": [
    {
     "name": "stdout",
     "output_type": "stream",
     "text": [
      "n_neighbors = default (5)の場合、\n",
      "[2 1 2 1 1 1 2 1 2 1 1 1 1 1 2 1 2 1 2 1 2 2 1 1 1]\n",
      "n_neighbors = 1-nnの場合、\n",
      "[2 1 2 1 1 1 1 1 2 1 1 1 1 1 2 1 2 1 2 1 2 2 1 1 1]\n",
      "n_neighbors = 3-nnの場合、\n",
      "[2 1 2 1 1 1 2 1 2 1 1 1 1 1 2 1 2 1 2 1 2 2 1 1 1]\n"
     ]
    }
   ],
   "source": [
    "# 検証データ(test)をpredictメソッドに入力し、目的変数を予測し、一致率を算出する。\n",
    "# n_neighbors = default (5)の場合\n",
    "print(\"n_neighbors = default (5)の場合、\\n{}\".format(iris_knn_5.predict(X_test)))\n",
    "\n",
    "# n_neighbors = 1-nn\n",
    "print(\"n_neighbors = 1-nnの場合、\\n{}\".format(iris_knn_1.predict(X_test)))\n",
    "\n",
    "# n_neighbors = 3-nn\n",
    "print(\"n_neighbors = 3-nnの場合、\\n{}\".format(iris_knn_3.predict(X_test)))\n"
   ]
  },
  {
   "cell_type": "markdown",
   "metadata": {},
   "source": [
    "3. 評価 - 推定値と検証データの正解値の近さを算出。"
   ]
  },
  {
   "cell_type": "code",
   "execution_count": 142,
   "metadata": {},
   "outputs": [
    {
     "name": "stdout",
     "output_type": "stream",
     "text": [
      "Accuracy（正解率）: 88.0%\n",
      "Precision（適合率）: 90.9%\n",
      "Recall（再現率）: 83.3%\n",
      "F1値 : 87.0%\n",
      "5-nnの混同行列は\n",
      "[[10  2]\n",
      " [ 1 12]]\n"
     ]
    }
   ],
   "source": [
    "# 5-nn\n",
    "y_pred = iris_knn_5.predict(X_test_std)\n",
    "print(\"Accuracy（正解率）: {:.1f}%\".format(accuracy_score(y_test, y_pred) * 100))\n",
    "\n",
    "knn_5_precision = precision_score(y_test, y_pred)\n",
    "print(\"Precision（適合率）: {:.1f}%\".format((knn_5_precision) * 100))\n",
    "\n",
    "knn_5_recall = recall_score(y_test, y_pred)\n",
    "print(\"Recall（再現率）: {:.1f}%\".format((knn_5_recall) * 100))\n",
    "\n",
    "knn_5_f1 = f1_score(y_test, y_pred)\n",
    "print(\"F1値 : {:.1f}%\".format((knn_5_f1) * 100))\n",
    "\n",
    "knn_5_confusion = confusion_matrix(y_test, y_pred)\n",
    "print(\"5-nnの混同行列は\\n{}\".format(knn_5_confusion))"
   ]
  },
  {
   "cell_type": "markdown",
   "metadata": {},
   "source": [
    "4. 可視化 - 決定領域を描く関数を流用。"
   ]
  },
  {
   "cell_type": "code",
   "execution_count": 138,
   "metadata": {
    "scrolled": true
   },
   "outputs": [
    {
     "data": {
      "image/png": "[encoded data removed]",
      "text/plain": [
       "<Figure size 432x288 with 1 Axes>"
      ]
     },
     "metadata": {
      "needs_background": "light"
     },
     "output_type": "display_data"
    }
   ],
   "source": [
    "decision_region(X_test_std, y_test, iris_knn_5, title='decesion region of 5-nn (test)', xlabel='sepal_length', ylabel='petal_length')"
   ]
  },
  {
   "cell_type": "markdown",
   "metadata": {},
   "source": [
    "5. 考察\n",
    "    * 5-nnでの最近某法\n",
    "    * "
   ]
  },
  {
   "cell_type": "markdown",
   "metadata": {},
   "source": [
    "## ロジスティック回帰\n",
    "\n",
    "ロジスティック回帰とは、\n",
    "   * 教師あり学習に属するモデル。\n",
    "   * クラス分類や確率の予測などに使われる分析手法。\n",
    "   * 目的変数が2値の時に利用。\n",
    "   * ロジスティック関数（シグモイド関数）を使って作成。\n",
    "   * 前処理（カテゴリー変数のダミー化、多重共線性の削除）を行う。\n",
    "   * 目的変数の１次元配列化も必要\n",
    "\n",
    "0. 前処理 - ライブラリーのインポート、データセットをテスト用と訓練用に分ける、データを標準化"
   ]
  },
  {
   "cell_type": "code",
   "execution_count": 143,
   "metadata": {},
   "outputs": [],
   "source": [
    "# ライブラリーのインポート。\n",
    "\n",
    "from sklearn.model_selection import train_test_split\n",
    "from sklearn.preprocessing import StandardScaler\n",
    "\n",
    "from sklearn import metrics\n",
    "import numpy as np\n",
    "\n",
    "X = np.array(iris_data_selected)\n",
    "y = np.array(iris_species)\n",
    "\n",
    "\n",
    "# データセットをテスト用と訓練用に分ける。\n",
    "X_train, X_test, y_train, y_test = train_test_split(\n",
    "    X, y, train_size=0.75, test_size=0.25)\n",
    "\n",
    "# yの一次元化\n",
    "y_train = np.reshape(y_train,(-1))\n",
    "y_test = np.reshape(y_test,(-1))\n",
    "\n",
    "# データを標準化\n",
    "scl = StandardScaler()\n",
    "scl.fit(X_train)\n",
    "x_train_std = scl.transform(X_train)\n",
    "x_test_std = scl.transform(X_test)\n"
   ]
  },
  {
   "cell_type": "markdown",
   "metadata": {},
   "source": [
    "1. 学習 - LogisticRegressionを行う。"
   ]
  },
  {
   "cell_type": "code",
   "execution_count": 144,
   "metadata": {},
   "outputs": [
    {
     "data": {
      "text/plain": [
       "LogisticRegression(C=100000.0, class_weight=None, dual=False,\n",
       "                   fit_intercept=True, intercept_scaling=1, l1_ratio=None,\n",
       "                   max_iter=100, multi_class='auto', n_jobs=None, penalty='l2',\n",
       "                   random_state=None, solver='lbfgs', tol=0.0001, verbose=0,\n",
       "                   warm_start=False)"
      ]
     },
     "execution_count": 144,
     "metadata": {},
     "output_type": "execute_result"
    }
   ],
   "source": [
    "from sklearn.linear_model import LogisticRegression\n",
    "\n",
    "clf = LogisticRegression(C=1e5)\n",
    "clf.fit(x_train_std, y_train)"
   ]
  },
  {
   "cell_type": "markdown",
   "metadata": {},
   "source": [
    "2. 推定 - predictを行う"
   ]
  },
  {
   "cell_type": "code",
   "execution_count": 145,
   "metadata": {},
   "outputs": [],
   "source": [
    "lr_predicted = clf.predict(x_test_std)"
   ]
  },
  {
   "cell_type": "markdown",
   "metadata": {},
   "source": [
    "3. 評価 - Accuracy, Precision, Recall, F値, 混同行列を行う。"
   ]
  },
  {
   "cell_type": "code",
   "execution_count": 175,
   "metadata": {},
   "outputs": [
    {
     "name": "stdout",
     "output_type": "stream",
     "text": [
      "Accuracy（正解率）: 84.0%\n",
      "Precision（適合率）: 81.8%\n",
      "recall（再現率）: 81.8%\n",
      "F1値 : 81.8%\n",
      "Confusion Matrix（混同行列） : \n",
      "[[ 9  2]\n",
      " [ 2 12]]\n",
      "[2 1 2 2 2 1 2 2 1 2 1 2 2 2 2 1 2 2 1 1 1 2 1 1 1]\n",
      "[1 2 2 2 2 1 2 2 1 2 1 1 2 2 2 1 2 2 1 1 1 2 1 2 1]\n"
     ]
    }
   ],
   "source": [
    "lr_accuracy = accuracy_score(y_test, lr_predicted) * 100\n",
    "print(\"Accuracy（正解率）: {:.1f}%\".format(lr_accuracy))\n",
    "\n",
    "lr_precision = precision_score(y_test, lr_predicted) * 100\n",
    "print(\"Precision（適合率）: {:.1f}%\".format(lr_precision))\n",
    "\n",
    "lr_recall = recall_score(y_test, lr_predicted) * 100\n",
    "print(\"recall（再現率）: {:.1f}%\".format(lr_recall))\n",
    "\n",
    "lr_f1 = f1_score(y_test, lr_predicted) * 100\n",
    "print(\"F1値 : {:.1f}%\".format(lr_f1))\n",
    "\n",
    "lr_confusion = confusion_matrix(y_test, lr_predicted)\n",
    "print(\"Confusion Matrix（混同行列） : \\n{}\".format(lr_confusion))\n",
    "\n",
    "print(lr_predicted)\n",
    "print(y_test)\n"
   ]
  },
  {
   "cell_type": "markdown",
   "metadata": {},
   "source": [
    "4. 可視化 - 決定領域を描く関数を流用。"
   ]
  },
  {
   "cell_type": "code",
   "execution_count": 147,
   "metadata": {},
   "outputs": [
    {
     "name": "stderr",
     "output_type": "stream",
     "text": [
      "/Users/hiro_saito/.pyenv/versions/anaconda3-2020.02/lib/python3.7/site-packages/ipykernel_launcher.py:40: UserWarning: No contour levels were found within the data range.\n"
     ]
    },
    {
     "data": {
      "image/png": "[encoded data removed]",
      "text/plain": [
       "<Figure size 432x288 with 1 Axes>"
      ]
     },
     "metadata": {
      "needs_background": "light"
     },
     "output_type": "display_data"
    }
   ],
   "source": [
    "decision_region(X_test, y_test, clf, title='decesion region (lr)', xlabel='sepal_length', ylabel='petal_length')"
   ]
  },
  {
   "cell_type": "markdown",
   "metadata": {},
   "source": [
    "5. 考察\n",
    "    * contour levels（輪郭）がデータ上見つからなかった。\n",
    "    * \n",
    "    "
   ]
  },
  {
   "cell_type": "markdown",
   "metadata": {},
   "source": [
    "## SVM（サポートベクターマシン）\n",
    "\n",
    "SVMとは\n",
    "* 分類または回帰分析を行うことができる。\n",
    "* 「境界線から最も近いデータまでの距離を最大にするよう、パターン識別を行うモデル。\n",
    "* \n",
    "* \n",
    "\n"
   ]
  },
  {
   "cell_type": "markdown",
   "metadata": {},
   "source": [
    "0. 前処理 - ライブラリーのインポート、データセットをテスト用と訓練用に分ける、データを標準化"
   ]
  },
  {
   "cell_type": "code",
   "execution_count": 185,
   "metadata": {},
   "outputs": [],
   "source": [
    "import numpy as np\n",
    "import pandas as pd\n",
    "from sklearn.datasets import load_iris\n",
    "from sklearn.model_selection import train_test_split\n",
    "\n",
    "from sklearn.preprocessing import StandardScaler \n",
    "\n",
    "\n",
    "iris = load_iris()\n",
    "\n",
    "dataset = pd.DataFrame(data = iris['data'], columns = iris['feature_names'])\n",
    "dataset['species'] = iris['target']\n",
    "dataset.head()\n",
    "\n",
    "# 目的変数(Y)、説明変数(X)\n",
    "Y = np.array(dataset['species'])\n",
    "X = np.array(dataset[iris['feature_names']])\n",
    "\n",
    "# データの分割\n",
    "X_train, X_test, Y_train, Y_test = train_test_split(X, Y, test_size=0.3, random_state=0)\n",
    "\n",
    "# yの一次元化\n",
    "# Y_train = np.reshape(Y_train,(-1))\n",
    "# Y_test = np.reshape(Y_test,(-1))\n",
    "\n",
    "# データを標準化\n",
    "scl = StandardScaler()\n",
    "scl.fit(X_train)\n",
    "X_train_std = scl.transform(X_train)\n",
    "X_test_std = scl.transform(X_test)\n",
    "\n"
   ]
  },
  {
   "cell_type": "markdown",
   "metadata": {},
   "source": [
    "1. 学習 - インポートしたSVCをインスタンス化し、fit()関数で学習させる。"
   ]
  },
  {
   "cell_type": "code",
   "execution_count": 187,
   "metadata": {},
   "outputs": [
    {
     "data": {
      "text/plain": [
       "SVC(C=1.0, break_ties=False, cache_size=200, class_weight=None, coef0=0.0,\n",
       "    decision_function_shape='ovr', degree=3, gamma='scale', kernel='rbf',\n",
       "    max_iter=-1, probability=False, random_state=None, shrinking=True,\n",
       "    tol=0.001, verbose=False)"
      ]
     },
     "execution_count": 187,
     "metadata": {},
     "output_type": "execute_result"
    }
   ],
   "source": [
    "from sklearn.svm import SVC\n",
    "model = SVC(gamma='scale')\n",
    "model.fit(X_train_std, Y_train)"
   ]
  },
  {
   "cell_type": "markdown",
   "metadata": {},
   "source": [
    "2. 推定 - 学習済のモデルとpredict()関数を用い、予測を行う。"
   ]
  },
  {
   "cell_type": "code",
   "execution_count": 179,
   "metadata": {},
   "outputs": [
    {
     "name": "stdout",
     "output_type": "stream",
     "text": [
      "[2 1 0 2 0 2 0 1 1 1]\n",
      "[2 1 0 2 0 2 0 1 1 1]\n"
     ]
    }
   ],
   "source": [
    "Y_pred = model.predict(X_test)\n",
    "\n",
    "print(Y_test[:10])\n",
    "print(Y_pred[:10])"
   ]
  },
  {
   "cell_type": "markdown",
   "metadata": {},
   "source": [
    "3. 評価 - Accuracy, Precision, Recall, F値, 混同行列を行う。"
   ]
  },
  {
   "cell_type": "code",
   "execution_count": 180,
   "metadata": {},
   "outputs": [
    {
     "name": "stdout",
     "output_type": "stream",
     "text": [
      "Accuracy（正解率）: 97.8%\n"
     ]
    },
    {
     "ename": "ValueError",
     "evalue": "Target is multiclass but average='binary'. Please choose another average setting, one of [None, 'micro', 'macro', 'weighted'].",
     "output_type": "error",
     "traceback": [
      "\u001b[0;31m---------------------------------------------------------------------------\u001b[0m",
      "\u001b[0;31mValueError\u001b[0m                                Traceback (most recent call last)",
      "\u001b[0;32m<ipython-input-180-1a7ab484edd0>\u001b[0m in \u001b[0;36m<module>\u001b[0;34m\u001b[0m\n\u001b[1;32m      2\u001b[0m \u001b[0mprint\u001b[0m\u001b[0;34m(\u001b[0m\u001b[0;34m\"Accuracy（正解率）: {:.1f}%\"\u001b[0m\u001b[0;34m.\u001b[0m\u001b[0mformat\u001b[0m\u001b[0;34m(\u001b[0m\u001b[0msvc_accuracy\u001b[0m\u001b[0;34m)\u001b[0m\u001b[0;34m)\u001b[0m\u001b[0;34m\u001b[0m\u001b[0;34m\u001b[0m\u001b[0m\n\u001b[1;32m      3\u001b[0m \u001b[0;34m\u001b[0m\u001b[0m\n\u001b[0;32m----> 4\u001b[0;31m \u001b[0msvc_precision\u001b[0m \u001b[0;34m=\u001b[0m \u001b[0mprecision_score\u001b[0m\u001b[0;34m(\u001b[0m\u001b[0mY_test\u001b[0m\u001b[0;34m,\u001b[0m \u001b[0mY_pred\u001b[0m\u001b[0;34m)\u001b[0m\u001b[0;34m\u001b[0m\u001b[0;34m\u001b[0m\u001b[0m\n\u001b[0m\u001b[1;32m      5\u001b[0m \u001b[0;31m#print(\"Precision（適合率）: {:.1f}%\".format(svc_precision))\u001b[0m\u001b[0;34m\u001b[0m\u001b[0;34m\u001b[0m\u001b[0;34m\u001b[0m\u001b[0m\n\u001b[1;32m      6\u001b[0m \u001b[0;34m\u001b[0m\u001b[0m\n",
      "\u001b[0;32m~/.pyenv/versions/anaconda3-2020.02/lib/python3.7/site-packages/sklearn/metrics/_classification.py\u001b[0m in \u001b[0;36mprecision_score\u001b[0;34m(y_true, y_pred, labels, pos_label, average, sample_weight, zero_division)\u001b[0m\n\u001b[1;32m   1670\u001b[0m                                                  \u001b[0mwarn_for\u001b[0m\u001b[0;34m=\u001b[0m\u001b[0;34m(\u001b[0m\u001b[0;34m'precision'\u001b[0m\u001b[0;34m,\u001b[0m\u001b[0;34m)\u001b[0m\u001b[0;34m,\u001b[0m\u001b[0;34m\u001b[0m\u001b[0;34m\u001b[0m\u001b[0m\n\u001b[1;32m   1671\u001b[0m                                                  \u001b[0msample_weight\u001b[0m\u001b[0;34m=\u001b[0m\u001b[0msample_weight\u001b[0m\u001b[0;34m,\u001b[0m\u001b[0;34m\u001b[0m\u001b[0;34m\u001b[0m\u001b[0m\n\u001b[0;32m-> 1672\u001b[0;31m                                                  zero_division=zero_division)\n\u001b[0m\u001b[1;32m   1673\u001b[0m     \u001b[0;32mreturn\u001b[0m \u001b[0mp\u001b[0m\u001b[0;34m\u001b[0m\u001b[0;34m\u001b[0m\u001b[0m\n\u001b[1;32m   1674\u001b[0m \u001b[0;34m\u001b[0m\u001b[0m\n",
      "\u001b[0;32m~/.pyenv/versions/anaconda3-2020.02/lib/python3.7/site-packages/sklearn/metrics/_classification.py\u001b[0m in \u001b[0;36mprecision_recall_fscore_support\u001b[0;34m(y_true, y_pred, beta, labels, pos_label, average, warn_for, sample_weight, zero_division)\u001b[0m\n\u001b[1;32m   1482\u001b[0m         \u001b[0;32mraise\u001b[0m \u001b[0mValueError\u001b[0m\u001b[0;34m(\u001b[0m\u001b[0;34m\"beta should be >=0 in the F-beta score\"\u001b[0m\u001b[0;34m)\u001b[0m\u001b[0;34m\u001b[0m\u001b[0;34m\u001b[0m\u001b[0m\n\u001b[1;32m   1483\u001b[0m     labels = _check_set_wise_labels(y_true, y_pred, average, labels,\n\u001b[0;32m-> 1484\u001b[0;31m                                     pos_label)\n\u001b[0m\u001b[1;32m   1485\u001b[0m \u001b[0;34m\u001b[0m\u001b[0m\n\u001b[1;32m   1486\u001b[0m     \u001b[0;31m# Calculate tp_sum, pred_sum, true_sum ###\u001b[0m\u001b[0;34m\u001b[0m\u001b[0;34m\u001b[0m\u001b[0;34m\u001b[0m\u001b[0m\n",
      "\u001b[0;32m~/.pyenv/versions/anaconda3-2020.02/lib/python3.7/site-packages/sklearn/metrics/_classification.py\u001b[0m in \u001b[0;36m_check_set_wise_labels\u001b[0;34m(y_true, y_pred, average, labels, pos_label)\u001b[0m\n\u001b[1;32m   1314\u001b[0m             raise ValueError(\"Target is %s but average='binary'. Please \"\n\u001b[1;32m   1315\u001b[0m                              \u001b[0;34m\"choose another average setting, one of %r.\"\u001b[0m\u001b[0;34m\u001b[0m\u001b[0;34m\u001b[0m\u001b[0m\n\u001b[0;32m-> 1316\u001b[0;31m                              % (y_type, average_options))\n\u001b[0m\u001b[1;32m   1317\u001b[0m     \u001b[0;32melif\u001b[0m \u001b[0mpos_label\u001b[0m \u001b[0;32mnot\u001b[0m \u001b[0;32min\u001b[0m \u001b[0;34m(\u001b[0m\u001b[0;32mNone\u001b[0m\u001b[0;34m,\u001b[0m \u001b[0;36m1\u001b[0m\u001b[0;34m)\u001b[0m\u001b[0;34m:\u001b[0m\u001b[0;34m\u001b[0m\u001b[0;34m\u001b[0m\u001b[0m\n\u001b[1;32m   1318\u001b[0m         warnings.warn(\"Note that pos_label (set to %r) is ignored when \"\n",
      "\u001b[0;31mValueError\u001b[0m: Target is multiclass but average='binary'. Please choose another average setting, one of [None, 'micro', 'macro', 'weighted']."
     ]
    }
   ],
   "source": [
    "svc_accuracy = accuracy_score(Y_test, Y_pred) * 100\n",
    "print(\"Accuracy（正解率）: {:.1f}%\".format(svc_accuracy))\n",
    "\n",
    "svc_precision = precision_score(Y_test, Y_pred)\n",
    "#print(\"Precision（適合率）: {:.1f}%\".format(svc_precision))\n",
    "\n",
    "#svc_recall = recall_score(Y_test, Y_pred) * 100\n",
    "#print(\"recall（再現率）: {:.1f}%\".format(svc_recall))\n",
    "\n",
    "#svc_f1 = f1_score(Y_test, Y_pred) * 100\n",
    "#print(\"F1値 : {:.1f}%\".format(svc_f1))\n",
    "\n",
    "svc_confusion = confusion_matrix(Y_test, Y_pred)\n",
    "print(\"Confusion Matrix（混同行列） : \\n{}\".format(svc_confusion))\n",
    "\n",
    "# print(Y_test.shape, Y_pred.shape)\n"
   ]
  },
  {
   "cell_type": "code",
   "execution_count": null,
   "metadata": {},
   "outputs": [],
   "source": []
  }
 ],
 "metadata": {
  "kernelspec": {
   "display_name": "Python 3",
   "language": "python",
   "name": "python3"
  },
  "language_info": {
   "codemirror_mode": {
    "name": "ipython",
    "version": 3
   },
   "file_extension": ".py",
   "mimetype": "text/x-python",
   "name": "python",
   "nbconvert_exporter": "python",
   "pygments_lexer": "ipython3",
   "version": "3.7.6"
  }
 },
 "nbformat": 4,
 "nbformat_minor": 4
}
